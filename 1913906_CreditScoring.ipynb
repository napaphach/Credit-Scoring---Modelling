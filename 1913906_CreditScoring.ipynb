{
  "nbformat": 4,
  "nbformat_minor": 0,
  "metadata": {
    "colab": {
      "name": "1913906_CreditScoring.ipynb",
      "provenance": [],
      "collapsed_sections": [],
      "authorship_tag": "ABX9TyN+vXXzFLa+iaFZxb2Qfj0Y",
      "include_colab_link": true
    },
    "kernelspec": {
      "name": "python3",
      "display_name": "Python 3"
    }
  },
  "cells": [
    {
      "cell_type": "markdown",
      "metadata": {
        "id": "view-in-github",
        "colab_type": "text"
      },
      "source": [
        "<a href=\"https://colab.research.google.com/github/napaphach/credit-scoring/blob/main/1913906_CreditScoring.ipynb\" target=\"_parent\"><img src=\"https://colab.research.google.com/assets/colab-badge.svg\" alt=\"Open In Colab\"/></a>"
      ]
    },
    {
      "cell_type": "code",
      "metadata": {
        "id": "C3EyQTNE1pLp"
      },
      "source": [
        "import pandas as pd\r\n",
        "import matplotlib.pyplot as plt\r\n",
        "import seaborn as sns\r\n",
        "import numpy as np\r\n",
        "from sklearn.linear_model import LogisticRegression\r\n",
        "from sklearn.metrics import roc_curve, roc_auc_score #AUC score\r\n",
        "from sklearn.preprocessing import StandardScaler\r\n",
        "from sklearn.model_selection import train_test_split, cross_validate, RandomizedSearchCV, GridSearchCV\r\n",
        "from sklearn.metrics import classification_report, mean_squared_error, plot_confusion_matrix, plot_precision_recall_curve\r\n",
        "from imblearn.under_sampling import RandomUnderSampler\r\n",
        "from collections import Counter\r\n",
        "from sklearn.model_selection import train_test_split\r\n",
        "from sklearn.metrics import classification_report, mean_squared_error, plot_confusion_matrix, plot_precision_recall_curve\r\n",
        "\r\n",
        "from imblearn.over_sampling import SMOTE\r\n",
        "from collections import Counter\r\n",
        "from imblearn.pipeline import make_pipeline\r\n",
        "from imblearn.under_sampling import RandomUnderSampler\r\n",
        "from imblearn.over_sampling import RandomOverSampler, SMOTE\r\n",
        "from scipy.stats import randint\r\n",
        "from sklearn.decomposition import PCA\r\n",
        "from sklearn.metrics import make_scorer, f1_score\r\n",
        "from sklearn.ensemble import RandomForestClassifier\r\n",
        "from sklearn.compose import make_column_transformer\r\n",
        "from sklearn.model_selection import train_test_split, cross_validate, RandomizedSearchCV, GridSearchCV\r\n",
        "from sklearn.preprocessing import MinMaxScaler, StandardScaler, OrdinalEncoder, OneHotEncoder\r\n",
        "\r\n",
        "from sklearn import model_selection\r\n",
        "import lightgbm as lgb\r\n",
        "from sklearn import metrics"
      ],
      "execution_count": 98,
      "outputs": []
    },
    {
      "cell_type": "code",
      "metadata": {
        "id": "MALEm2tRC58r"
      },
      "source": [
        "Data = pd.read_csv(\"https://raw.githubusercontent.com/napaphach/credit-scoring/main/credit-scoring.csv\")"
      ],
      "execution_count": null,
      "outputs": []
    },
    {
      "cell_type": "code",
      "metadata": {
        "colab": {
          "base_uri": "https://localhost:8080/"
        },
        "id": "JIcMcxwJDE90",
        "outputId": "15b371e4-a09f-4f07-85df-9730aab5fe12"
      },
      "source": [
        "Data.info()"
      ],
      "execution_count": null,
      "outputs": [
        {
          "output_type": "stream",
          "text": [
            "<class 'pandas.core.frame.DataFrame'>\n",
            "RangeIndex: 150000 entries, 0 to 149999\n",
            "Data columns (total 12 columns):\n",
            " #   Column                                Non-Null Count   Dtype  \n",
            "---  ------                                --------------   -----  \n",
            " 0   Unnamed: 0                            150000 non-null  int64  \n",
            " 1   SeriousDlqin2yrs                      150000 non-null  int64  \n",
            " 2   RevolvingUtilizationOfUnsecuredLines  150000 non-null  float64\n",
            " 3   age                                   150000 non-null  int64  \n",
            " 4   NumberOfTime30-59DaysPastDueNotWorse  150000 non-null  int64  \n",
            " 5   DebtRatio                             150000 non-null  float64\n",
            " 6   MonthlyIncome                         120269 non-null  float64\n",
            " 7   NumberOfOpenCreditLinesAndLoans       150000 non-null  int64  \n",
            " 8   NumberOfTimes90DaysLate               150000 non-null  int64  \n",
            " 9   NumberRealEstateLoansOrLines          150000 non-null  int64  \n",
            " 10  NumberOfTime60-89DaysPastDueNotWorse  150000 non-null  int64  \n",
            " 11  NumberOfDependents                    146076 non-null  float64\n",
            "dtypes: float64(4), int64(8)\n",
            "memory usage: 13.7 MB\n"
          ],
          "name": "stdout"
        }
      ]
    },
    {
      "cell_type": "markdown",
      "metadata": {
        "id": "cBTxeDn5DK0g"
      },
      "source": [
        "Here shows that variable MonthlyIncome and Number of Dependents have some missing value"
      ]
    },
    {
      "cell_type": "code",
      "metadata": {
        "colab": {
          "base_uri": "https://localhost:8080/",
          "height": 232
        },
        "id": "KPfF9gnhE0D5",
        "outputId": "6f749488-f9ad-49a9-ae26-deec475af123"
      },
      "source": [
        "Data.head()"
      ],
      "execution_count": null,
      "outputs": [
        {
          "output_type": "execute_result",
          "data": {
            "text/html": [
              "<div>\n",
              "<style scoped>\n",
              "    .dataframe tbody tr th:only-of-type {\n",
              "        vertical-align: middle;\n",
              "    }\n",
              "\n",
              "    .dataframe tbody tr th {\n",
              "        vertical-align: top;\n",
              "    }\n",
              "\n",
              "    .dataframe thead th {\n",
              "        text-align: right;\n",
              "    }\n",
              "</style>\n",
              "<table border=\"1\" class=\"dataframe\">\n",
              "  <thead>\n",
              "    <tr style=\"text-align: right;\">\n",
              "      <th></th>\n",
              "      <th>Unnamed: 0</th>\n",
              "      <th>SeriousDlqin2yrs</th>\n",
              "      <th>RevolvingUtilizationOfUnsecuredLines</th>\n",
              "      <th>age</th>\n",
              "      <th>NumberOfTime30-59DaysPastDueNotWorse</th>\n",
              "      <th>DebtRatio</th>\n",
              "      <th>MonthlyIncome</th>\n",
              "      <th>NumberOfOpenCreditLinesAndLoans</th>\n",
              "      <th>NumberOfTimes90DaysLate</th>\n",
              "      <th>NumberRealEstateLoansOrLines</th>\n",
              "      <th>NumberOfTime60-89DaysPastDueNotWorse</th>\n",
              "      <th>NumberOfDependents</th>\n",
              "    </tr>\n",
              "  </thead>\n",
              "  <tbody>\n",
              "    <tr>\n",
              "      <th>0</th>\n",
              "      <td>1</td>\n",
              "      <td>1</td>\n",
              "      <td>0.766127</td>\n",
              "      <td>45</td>\n",
              "      <td>2</td>\n",
              "      <td>0.802982</td>\n",
              "      <td>9120.0</td>\n",
              "      <td>13</td>\n",
              "      <td>0</td>\n",
              "      <td>6</td>\n",
              "      <td>0</td>\n",
              "      <td>2.0</td>\n",
              "    </tr>\n",
              "    <tr>\n",
              "      <th>1</th>\n",
              "      <td>2</td>\n",
              "      <td>0</td>\n",
              "      <td>0.957151</td>\n",
              "      <td>40</td>\n",
              "      <td>0</td>\n",
              "      <td>0.121876</td>\n",
              "      <td>2600.0</td>\n",
              "      <td>4</td>\n",
              "      <td>0</td>\n",
              "      <td>0</td>\n",
              "      <td>0</td>\n",
              "      <td>1.0</td>\n",
              "    </tr>\n",
              "    <tr>\n",
              "      <th>2</th>\n",
              "      <td>3</td>\n",
              "      <td>0</td>\n",
              "      <td>0.658180</td>\n",
              "      <td>38</td>\n",
              "      <td>1</td>\n",
              "      <td>0.085113</td>\n",
              "      <td>3042.0</td>\n",
              "      <td>2</td>\n",
              "      <td>1</td>\n",
              "      <td>0</td>\n",
              "      <td>0</td>\n",
              "      <td>0.0</td>\n",
              "    </tr>\n",
              "    <tr>\n",
              "      <th>3</th>\n",
              "      <td>4</td>\n",
              "      <td>0</td>\n",
              "      <td>0.233810</td>\n",
              "      <td>30</td>\n",
              "      <td>0</td>\n",
              "      <td>0.036050</td>\n",
              "      <td>3300.0</td>\n",
              "      <td>5</td>\n",
              "      <td>0</td>\n",
              "      <td>0</td>\n",
              "      <td>0</td>\n",
              "      <td>0.0</td>\n",
              "    </tr>\n",
              "    <tr>\n",
              "      <th>4</th>\n",
              "      <td>5</td>\n",
              "      <td>0</td>\n",
              "      <td>0.907239</td>\n",
              "      <td>49</td>\n",
              "      <td>1</td>\n",
              "      <td>0.024926</td>\n",
              "      <td>63588.0</td>\n",
              "      <td>7</td>\n",
              "      <td>0</td>\n",
              "      <td>1</td>\n",
              "      <td>0</td>\n",
              "      <td>0.0</td>\n",
              "    </tr>\n",
              "  </tbody>\n",
              "</table>\n",
              "</div>"
            ],
            "text/plain": [
              "   Unnamed: 0  ...  NumberOfDependents\n",
              "0           1  ...                 2.0\n",
              "1           2  ...                 1.0\n",
              "2           3  ...                 0.0\n",
              "3           4  ...                 0.0\n",
              "4           5  ...                 0.0\n",
              "\n",
              "[5 rows x 12 columns]"
            ]
          },
          "metadata": {
            "tags": []
          },
          "execution_count": 4
        }
      ]
    },
    {
      "cell_type": "markdown",
      "metadata": {
        "id": "hrPQVxLvDlwZ"
      },
      "source": [
        "**Step 1:Data Preprocessing**\r\n"
      ]
    },
    {
      "cell_type": "code",
      "metadata": {
        "id": "YKN8UGf4Dwak"
      },
      "source": [
        "df = Data.copy()"
      ],
      "execution_count": null,
      "outputs": []
    },
    {
      "cell_type": "code",
      "metadata": {
        "colab": {
          "base_uri": "https://localhost:8080/",
          "height": 458
        },
        "id": "7Yb1HzFvEiaL",
        "outputId": "df9c4e7e-9735-4f88-f5e7-81d62f729c12"
      },
      "source": [
        "# Discover imbalance classification\r\n",
        "fig, axes = plt.subplots(1,2,figsize=(12,6))\r\n",
        "df['SeriousDlqin2yrs'].value_counts().plot.pie(explode=[0,0.1],autopct='%1.1f%%',ax=axes[0])\r\n",
        "axes[0].set_title('SeriousDlqin2yrs')\r\n",
        "\r\n",
        "sns.countplot('SeriousDlqin2yrs',data=df,ax=axes[1])\r\n",
        "axes[1].set_title('SeriousDlqin2yrs')\r\n",
        "plt.show()\r\n"
      ],
      "execution_count": null,
      "outputs": [
        {
          "output_type": "stream",
          "text": [
            "/usr/local/lib/python3.7/dist-packages/seaborn/_decorators.py:43: FutureWarning: Pass the following variable as a keyword arg: x. From version 0.12, the only valid positional argument will be `data`, and passing other arguments without an explicit keyword will result in an error or misinterpretation.\n",
            "  FutureWarning\n"
          ],
          "name": "stderr"
        },
        {
          "output_type": "display_data",
          "data": {
            "image/png": "[encoded data removed]",
            "text/plain": [
              "<Figure size 864x432 with 2 Axes>"
            ]
          },
          "metadata": {
            "tags": [],
            "needs_background": "light"
          }
        }
      ]
    },
    {
      "cell_type": "code",
      "metadata": {
        "colab": {
          "base_uri": "https://localhost:8080/",
          "height": 1000
        },
        "id": "LZsPn3hoF2Ax",
        "outputId": "b660f275-f5c4-45f4-a924-9bd492f04653"
      },
      "source": [
        "#Discover outlier\r\n",
        "fig = plt.figure(figsize=[30,30])\r\n",
        "for col,i in zip(df.columns,range(1,13)):\r\n",
        "    axes = fig.add_subplot(7,2,i)\r\n",
        "    sns.regplot(df[col],df.SeriousDlqin2yrs,ax=axes)\r\n",
        "plt.show()"
      ],
      "execution_count": null,
      "outputs": [
        {
          "output_type": "stream",
          "text": [
            "/usr/local/lib/python3.7/dist-packages/seaborn/_decorators.py:43: FutureWarning: Pass the following variables as keyword args: x, y. From version 0.12, the only valid positional argument will be `data`, and passing other arguments without an explicit keyword will result in an error or misinterpretation.\n",
            "  FutureWarning\n",
            "/usr/local/lib/python3.7/dist-packages/seaborn/_decorators.py:43: FutureWarning: Pass the following variables as keyword args: x, y. From version 0.12, the only valid positional argument will be `data`, and passing other arguments without an explicit keyword will result in an error or misinterpretation.\n",
            "  FutureWarning\n",
            "/usr/local/lib/python3.7/dist-packages/seaborn/_decorators.py:43: FutureWarning: Pass the following variables as keyword args: x, y. From version 0.12, the only valid positional argument will be `data`, and passing other arguments without an explicit keyword will result in an error or misinterpretation.\n",
            "  FutureWarning\n",
            "/usr/local/lib/python3.7/dist-packages/seaborn/_decorators.py:43: FutureWarning: Pass the following variables as keyword args: x, y. From version 0.12, the only valid positional argument will be `data`, and passing other arguments without an explicit keyword will result in an error or misinterpretation.\n",
            "  FutureWarning\n",
            "/usr/local/lib/python3.7/dist-packages/seaborn/_decorators.py:43: FutureWarning: Pass the following variables as keyword args: x, y. From version 0.12, the only valid positional argument will be `data`, and passing other arguments without an explicit keyword will result in an error or misinterpretation.\n",
            "  FutureWarning\n",
            "/usr/local/lib/python3.7/dist-packages/seaborn/_decorators.py:43: FutureWarning: Pass the following variables as keyword args: x, y. From version 0.12, the only valid positional argument will be `data`, and passing other arguments without an explicit keyword will result in an error or misinterpretation.\n",
            "  FutureWarning\n",
            "/usr/local/lib/python3.7/dist-packages/seaborn/_decorators.py:43: FutureWarning: Pass the following variables as keyword args: x, y. From version 0.12, the only valid positional argument will be `data`, and passing other arguments without an explicit keyword will result in an error or misinterpretation.\n",
            "  FutureWarning\n",
            "/usr/local/lib/python3.7/dist-packages/seaborn/_decorators.py:43: FutureWarning: Pass the following variables as keyword args: x, y. From version 0.12, the only valid positional argument will be `data`, and passing other arguments without an explicit keyword will result in an error or misinterpretation.\n",
            "  FutureWarning\n",
            "/usr/local/lib/python3.7/dist-packages/seaborn/_decorators.py:43: FutureWarning: Pass the following variables as keyword args: x, y. From version 0.12, the only valid positional argument will be `data`, and passing other arguments without an explicit keyword will result in an error or misinterpretation.\n",
            "  FutureWarning\n",
            "/usr/local/lib/python3.7/dist-packages/seaborn/_decorators.py:43: FutureWarning: Pass the following variables as keyword args: x, y. From version 0.12, the only valid positional argument will be `data`, and passing other arguments without an explicit keyword will result in an error or misinterpretation.\n",
            "  FutureWarning\n",
            "/usr/local/lib/python3.7/dist-packages/seaborn/_decorators.py:43: FutureWarning: Pass the following variables as keyword args: x, y. From version 0.12, the only valid positional argument will be `data`, and passing other arguments without an explicit keyword will result in an error or misinterpretation.\n",
            "  FutureWarning\n",
            "/usr/local/lib/python3.7/dist-packages/seaborn/_decorators.py:43: FutureWarning: Pass the following variables as keyword args: x, y. From version 0.12, the only valid positional argument will be `data`, and passing other arguments without an explicit keyword will result in an error or misinterpretation.\n",
            "  FutureWarning\n"
          ],
          "name": "stderr"
        },
        {
          "output_type": "display_data",
          "data": {
            "image/png": "[encoded data removed]",
            "text/plain": [
              "<Figure size 2160x2160 with 12 Axes>"
            ]
          },
          "metadata": {
            "tags": [],
            "needs_background": "light"
          }
        }
      ]
    },
    {
      "cell_type": "markdown",
      "metadata": {
        "id": "Zcm7eph2HG18"
      },
      "source": [
        "**Ourlier Problem solving:**\r\n",
        "For **NumberOfTime30-59DaysPastDueNotWorse , NumberOfTime60-89DaysPastDueNotWorse and NumberOfTimes90DaysLate**"
      ]
    },
    {
      "cell_type": "code",
      "metadata": {
        "colab": {
          "base_uri": "https://localhost:8080/"
        },
        "id": "5duWvlUEHsGK",
        "outputId": "9d7d9668-8fed-4d0e-d541-1e2103d23cee"
      },
      "source": [
        "# Checking potential outlier that may caused from value error\r\n",
        "print(\"Unique values in '30-59 Days' values that are more than or equal to 90:\",np.unique(df[df['NumberOfTime30-59DaysPastDueNotWorse']>=90]\r\n",
        "                                                                                          ['NumberOfTime30-59DaysPastDueNotWorse']))\r\n",
        "\r\n",
        "print(\"Unique values in '60-89 Days' when '30-59 Days' values are more than or equal to 90:\",np.unique(df[df['NumberOfTime30-59DaysPastDueNotWorse']>=90]\r\n",
        "                                                                                                       ['NumberOfTime60-89DaysPastDueNotWorse']))\r\n",
        "\r\n",
        "print(\"Unique values in '90 Days' when '30-59 Days' values are more than or equal to 90:\",np.unique(df[df['NumberOfTime30-59DaysPastDueNotWorse']>=90]\r\n",
        "                                                                                                    ['NumberOfTimes90DaysLate']))\r\n",
        "\r\n",
        "print(\"Unique values in '60-89 Days' when '30-59 Days' values are less than 90:\",np.unique(df[df['NumberOfTime30-59DaysPastDueNotWorse']<90]\r\n",
        "                                                                                           ['NumberOfTime30-59DaysPastDueNotWorse']))\r\n",
        "\r\n",
        "print(\"Unique values in '60-89 Days' when '30-59 Days' values are less than 90:\",np.unique(df[df['NumberOfTime30-59DaysPastDueNotWorse']<90]\r\n",
        "                                                                                           ['NumberOfTime60-89DaysPastDueNotWorse']))\r\n",
        "\r\n",
        "print(\"Unique values in '90 Days' when '30-59 Days' values are less than 90:\",np.unique(df[df['NumberOfTime30-59DaysPastDueNotWorse']<90]\r\n",
        "                                                                                        ['NumberOfTimes90DaysLate']))"
      ],
      "execution_count": null,
      "outputs": [
        {
          "output_type": "stream",
          "text": [
            "Unique values in '30-59 Days' values that are more than or equal to 90: [96 98]\n",
            "Unique values in '60-89 Days' when '30-59 Days' values are more than or equal to 90: [96 98]\n",
            "Unique values in '90 Days' when '30-59 Days' values are more than or equal to 90: [96 98]\n",
            "Unique values in '60-89 Days' when '30-59 Days' values are less than 90: [ 0  1  2  3  4  5  6  7  8  9 10 11 12 13]\n",
            "Unique values in '60-89 Days' when '30-59 Days' values are less than 90: [ 0  1  2  3  4  5  6  7  8  9 11]\n",
            "Unique values in '90 Days' when '30-59 Days' values are less than 90: [ 0  1  2  3  4  5  6  7  8  9 10 11 12 13 14 15 17]\n"
          ],
          "name": "stdout"
        }
      ]
    },
    {
      "cell_type": "code",
      "metadata": {
        "id": "Da0_xsiWIPsS"
      },
      "source": [
        "# Replace all potential outlier by a reasonable value from the variables\r\n",
        "df.loc[df['NumberOfTime30-59DaysPastDueNotWorse'] >= 90, 'NumberOfTime30-59DaysPastDueNotWorse'] = 13\r\n",
        "df.loc[df['NumberOfTime60-89DaysPastDueNotWorse'] >= 90, 'NumberOfTime60-89DaysPastDueNotWorse'] = 11\r\n",
        "df.loc[df['NumberOfTimes90DaysLate'] >= 90, 'NumberOfTimes90DaysLate'] = 17"
      ],
      "execution_count": null,
      "outputs": []
    },
    {
      "cell_type": "code",
      "metadata": {
        "colab": {
          "base_uri": "https://localhost:8080/"
        },
        "id": "_roZlqF7IZlx",
        "outputId": "1fc54a57-e246-412a-84d9-eace2717cdb7"
      },
      "source": [
        "print(\"Unique values in 30-59Days\", np.unique(df['NumberOfTime30-59DaysPastDueNotWorse']))\r\n",
        "print(\"Unique values in 60-89Days\", np.unique(df['NumberOfTime60-89DaysPastDueNotWorse']))\r\n",
        "print(\"Unique values in 90Days\", np.unique(df['NumberOfTimes90DaysLate']))"
      ],
      "execution_count": null,
      "outputs": [
        {
          "output_type": "stream",
          "text": [
            "Unique values in 30-59Days [ 0  1  2  3  4  5  6  7  8  9 10 11 12 13]\n",
            "Unique values in 60-89Days [ 0  1  2  3  4  5  6  7  8  9 11]\n",
            "Unique values in 90Days [ 0  1  2  3  4  5  6  7  8  9 10 11 12 13 14 15 17]\n"
          ],
          "name": "stdout"
        }
      ]
    },
    {
      "cell_type": "markdown",
      "metadata": {
        "id": "t9c7UDFNJsSy"
      },
      "source": [
        "**For DebtRatio and RevolvingUtilizationOfUnsecuredLines variables**\r\n"
      ]
    },
    {
      "cell_type": "code",
      "metadata": {
        "colab": {
          "base_uri": "https://localhost:8080/"
        },
        "id": "XEOlWLGIJnu6",
        "outputId": "b4a2e05f-431d-4f37-eed2-9f9539329ac3"
      },
      "source": [
        "#Check for potential error value\r\n",
        "print('Debt Ratio: \\n',df['DebtRatio'].describe())\r\n",
        "print('\\nRevolving Utilization of Unsecured Lines: \\n',df['RevolvingUtilizationOfUnsecuredLines'].describe())"
      ],
      "execution_count": null,
      "outputs": [
        {
          "output_type": "stream",
          "text": [
            "Debt Ratio: \n",
            " count    150000.000000\n",
            "mean        353.005076\n",
            "std        2037.818523\n",
            "min           0.000000\n",
            "25%           0.175074\n",
            "50%           0.366508\n",
            "75%           0.868254\n",
            "max      329664.000000\n",
            "Name: DebtRatio, dtype: float64\n",
            "\n",
            "Revolving Utilization of Unsecured Lines: \n",
            " count    150000.000000\n",
            "mean          6.048438\n",
            "std         249.755371\n",
            "min           0.000000\n",
            "25%           0.029867\n",
            "50%           0.154181\n",
            "75%           0.559046\n",
            "max       50708.000000\n",
            "Name: RevolvingUtilizationOfUnsecuredLines, dtype: float64\n"
          ],
          "name": "stdout"
        }
      ]
    },
    {
      "cell_type": "markdown",
      "metadata": {
        "id": "Xw36Lzn9KUeA"
      },
      "source": [
        "Data shows a huge differecne between 75th Quantile and the max value of those variables"
      ]
    },
    {
      "cell_type": "code",
      "metadata": {
        "colab": {
          "base_uri": "https://localhost:8080/"
        },
        "id": "QSB1AkvoKYp9",
        "outputId": "70fbc93d-db34-4c24-85ca-b28ed28c734f"
      },
      "source": [
        "quantiles = [0.75,0.8,0.81,0.85,0.9,0.95,0.975,0.99,1]\r\n",
        "\r\n",
        "for i in quantiles:\r\n",
        "    print(i*100,'% quantile of debt ratio is: ',df.DebtRatio.quantile(i))"
      ],
      "execution_count": null,
      "outputs": [
        {
          "output_type": "stream",
          "text": [
            "75.0 % quantile of debt ratio is:  0.86825377325\n",
            "80.0 % quantile of debt ratio is:  4.0\n",
            "81.0 % quantile of debt ratio is:  14.0\n",
            "85.0 % quantile of debt ratio is:  269.1499999999942\n",
            "90.0 % quantile of debt ratio is:  1267.0\n",
            "95.0 % quantile of debt ratio is:  2449.0\n",
            "97.5 % quantile of debt ratio is:  3489.024999999994\n",
            "99.0 % quantile of debt ratio is:  4979.040000000037\n",
            "100 % quantile of debt ratio is:  329664.0\n"
          ],
          "name": "stdout"
        }
      ]
    },
    {
      "cell_type": "code",
      "metadata": {
        "colab": {
          "base_uri": "https://localhost:8080/",
          "height": 284
        },
        "id": "6gtjac4CKgna",
        "outputId": "1035d151-3ea8-459e-d536-c6f57dc972d3"
      },
      "source": [
        "df[df['DebtRatio'] >= df['DebtRatio'].quantile(0.95)][['SeriousDlqin2yrs','MonthlyIncome']].describe()"
      ],
      "execution_count": null,
      "outputs": [
        {
          "output_type": "execute_result",
          "data": {
            "text/html": [
              "<div>\n",
              "<style scoped>\n",
              "    .dataframe tbody tr th:only-of-type {\n",
              "        vertical-align: middle;\n",
              "    }\n",
              "\n",
              "    .dataframe tbody tr th {\n",
              "        vertical-align: top;\n",
              "    }\n",
              "\n",
              "    .dataframe thead th {\n",
              "        text-align: right;\n",
              "    }\n",
              "</style>\n",
              "<table border=\"1\" class=\"dataframe\">\n",
              "  <thead>\n",
              "    <tr style=\"text-align: right;\">\n",
              "      <th></th>\n",
              "      <th>SeriousDlqin2yrs</th>\n",
              "      <th>MonthlyIncome</th>\n",
              "    </tr>\n",
              "  </thead>\n",
              "  <tbody>\n",
              "    <tr>\n",
              "      <th>count</th>\n",
              "      <td>7501.000000</td>\n",
              "      <td>379.000000</td>\n",
              "    </tr>\n",
              "    <tr>\n",
              "      <th>mean</th>\n",
              "      <td>0.055193</td>\n",
              "      <td>0.084433</td>\n",
              "    </tr>\n",
              "    <tr>\n",
              "      <th>std</th>\n",
              "      <td>0.228371</td>\n",
              "      <td>0.278403</td>\n",
              "    </tr>\n",
              "    <tr>\n",
              "      <th>min</th>\n",
              "      <td>0.000000</td>\n",
              "      <td>0.000000</td>\n",
              "    </tr>\n",
              "    <tr>\n",
              "      <th>25%</th>\n",
              "      <td>0.000000</td>\n",
              "      <td>0.000000</td>\n",
              "    </tr>\n",
              "    <tr>\n",
              "      <th>50%</th>\n",
              "      <td>0.000000</td>\n",
              "      <td>0.000000</td>\n",
              "    </tr>\n",
              "    <tr>\n",
              "      <th>75%</th>\n",
              "      <td>0.000000</td>\n",
              "      <td>0.000000</td>\n",
              "    </tr>\n",
              "    <tr>\n",
              "      <th>max</th>\n",
              "      <td>1.000000</td>\n",
              "      <td>1.000000</td>\n",
              "    </tr>\n",
              "  </tbody>\n",
              "</table>\n",
              "</div>"
            ],
            "text/plain": [
              "       SeriousDlqin2yrs  MonthlyIncome\n",
              "count       7501.000000     379.000000\n",
              "mean           0.055193       0.084433\n",
              "std            0.228371       0.278403\n",
              "min            0.000000       0.000000\n",
              "25%            0.000000       0.000000\n",
              "50%            0.000000       0.000000\n",
              "75%            0.000000       0.000000\n",
              "max            1.000000       1.000000"
            ]
          },
          "metadata": {
            "tags": []
          },
          "execution_count": 12
        }
      ]
    },
    {
      "cell_type": "markdown",
      "metadata": {
        "id": "XvzbLz6DKqZY"
      },
      "source": [
        "Here we can observe:\r\n",
        "\r\n",
        "Out of 7501 customers who have debt ratio greater than 95% i.e. the number of times their debt is higher than their income, only 379 have Monthly Income values. The Max for Monthly Income is 1 and Min is 0 which makes us wonder that are data entry errors. Let's check whether the Serious Delinquency in 2 years and Monthly Income values are equal."
      ]
    },
    {
      "cell_type": "code",
      "metadata": {
        "colab": {
          "base_uri": "https://localhost:8080/",
          "height": 438
        },
        "id": "fBoZUyYtKzXG",
        "outputId": "61d0598f-f22d-4097-82ed-d9d4b00bbdf8"
      },
      "source": [
        "df[(df[\"DebtRatio\"] > df[\"DebtRatio\"].quantile(0.95)) & (df['SeriousDlqin2yrs'] == df['MonthlyIncome'])]"
      ],
      "execution_count": null,
      "outputs": [
        {
          "output_type": "execute_result",
          "data": {
            "text/html": [
              "<div>\n",
              "<style scoped>\n",
              "    .dataframe tbody tr th:only-of-type {\n",
              "        vertical-align: middle;\n",
              "    }\n",
              "\n",
              "    .dataframe tbody tr th {\n",
              "        vertical-align: top;\n",
              "    }\n",
              "\n",
              "    .dataframe thead th {\n",
              "        text-align: right;\n",
              "    }\n",
              "</style>\n",
              "<table border=\"1\" class=\"dataframe\">\n",
              "  <thead>\n",
              "    <tr style=\"text-align: right;\">\n",
              "      <th></th>\n",
              "      <th>Unnamed: 0</th>\n",
              "      <th>SeriousDlqin2yrs</th>\n",
              "      <th>RevolvingUtilizationOfUnsecuredLines</th>\n",
              "      <th>age</th>\n",
              "      <th>NumberOfTime30-59DaysPastDueNotWorse</th>\n",
              "      <th>DebtRatio</th>\n",
              "      <th>MonthlyIncome</th>\n",
              "      <th>NumberOfOpenCreditLinesAndLoans</th>\n",
              "      <th>NumberOfTimes90DaysLate</th>\n",
              "      <th>NumberRealEstateLoansOrLines</th>\n",
              "      <th>NumberOfTime60-89DaysPastDueNotWorse</th>\n",
              "      <th>NumberOfDependents</th>\n",
              "    </tr>\n",
              "  </thead>\n",
              "  <tbody>\n",
              "    <tr>\n",
              "      <th>50</th>\n",
              "      <td>51</td>\n",
              "      <td>0</td>\n",
              "      <td>0.818978</td>\n",
              "      <td>73</td>\n",
              "      <td>0</td>\n",
              "      <td>3095.0</td>\n",
              "      <td>0.0</td>\n",
              "      <td>9</td>\n",
              "      <td>0</td>\n",
              "      <td>1</td>\n",
              "      <td>1</td>\n",
              "      <td>0.0</td>\n",
              "    </tr>\n",
              "    <tr>\n",
              "      <th>73</th>\n",
              "      <td>74</td>\n",
              "      <td>0</td>\n",
              "      <td>0.059669</td>\n",
              "      <td>31</td>\n",
              "      <td>0</td>\n",
              "      <td>3162.0</td>\n",
              "      <td>0.0</td>\n",
              "      <td>11</td>\n",
              "      <td>0</td>\n",
              "      <td>2</td>\n",
              "      <td>0</td>\n",
              "      <td>1.0</td>\n",
              "    </tr>\n",
              "    <tr>\n",
              "      <th>90</th>\n",
              "      <td>91</td>\n",
              "      <td>0</td>\n",
              "      <td>0.039388</td>\n",
              "      <td>51</td>\n",
              "      <td>0</td>\n",
              "      <td>15466.0</td>\n",
              "      <td>0.0</td>\n",
              "      <td>7</td>\n",
              "      <td>0</td>\n",
              "      <td>0</td>\n",
              "      <td>0</td>\n",
              "      <td>0.0</td>\n",
              "    </tr>\n",
              "    <tr>\n",
              "      <th>326</th>\n",
              "      <td>327</td>\n",
              "      <td>0</td>\n",
              "      <td>0.013115</td>\n",
              "      <td>43</td>\n",
              "      <td>0</td>\n",
              "      <td>4211.0</td>\n",
              "      <td>0.0</td>\n",
              "      <td>21</td>\n",
              "      <td>0</td>\n",
              "      <td>2</td>\n",
              "      <td>0</td>\n",
              "      <td>2.0</td>\n",
              "    </tr>\n",
              "    <tr>\n",
              "      <th>508</th>\n",
              "      <td>509</td>\n",
              "      <td>0</td>\n",
              "      <td>1.000000</td>\n",
              "      <td>73</td>\n",
              "      <td>0</td>\n",
              "      <td>8500.0</td>\n",
              "      <td>0.0</td>\n",
              "      <td>2</td>\n",
              "      <td>0</td>\n",
              "      <td>0</td>\n",
              "      <td>0</td>\n",
              "      <td>0.0</td>\n",
              "    </tr>\n",
              "    <tr>\n",
              "      <th>...</th>\n",
              "      <td>...</td>\n",
              "      <td>...</td>\n",
              "      <td>...</td>\n",
              "      <td>...</td>\n",
              "      <td>...</td>\n",
              "      <td>...</td>\n",
              "      <td>...</td>\n",
              "      <td>...</td>\n",
              "      <td>...</td>\n",
              "      <td>...</td>\n",
              "      <td>...</td>\n",
              "      <td>...</td>\n",
              "    </tr>\n",
              "    <tr>\n",
              "      <th>147523</th>\n",
              "      <td>147524</td>\n",
              "      <td>0</td>\n",
              "      <td>0.666509</td>\n",
              "      <td>50</td>\n",
              "      <td>0</td>\n",
              "      <td>4351.0</td>\n",
              "      <td>0.0</td>\n",
              "      <td>12</td>\n",
              "      <td>0</td>\n",
              "      <td>2</td>\n",
              "      <td>0</td>\n",
              "      <td>2.0</td>\n",
              "    </tr>\n",
              "    <tr>\n",
              "      <th>148258</th>\n",
              "      <td>148259</td>\n",
              "      <td>0</td>\n",
              "      <td>0.211955</td>\n",
              "      <td>31</td>\n",
              "      <td>0</td>\n",
              "      <td>2734.0</td>\n",
              "      <td>0.0</td>\n",
              "      <td>9</td>\n",
              "      <td>0</td>\n",
              "      <td>1</td>\n",
              "      <td>0</td>\n",
              "      <td>1.0</td>\n",
              "    </tr>\n",
              "    <tr>\n",
              "      <th>148432</th>\n",
              "      <td>148433</td>\n",
              "      <td>0</td>\n",
              "      <td>0.091785</td>\n",
              "      <td>37</td>\n",
              "      <td>0</td>\n",
              "      <td>2752.0</td>\n",
              "      <td>0.0</td>\n",
              "      <td>7</td>\n",
              "      <td>0</td>\n",
              "      <td>2</td>\n",
              "      <td>0</td>\n",
              "      <td>3.0</td>\n",
              "    </tr>\n",
              "    <tr>\n",
              "      <th>149383</th>\n",
              "      <td>149384</td>\n",
              "      <td>0</td>\n",
              "      <td>0.239302</td>\n",
              "      <td>63</td>\n",
              "      <td>0</td>\n",
              "      <td>3153.0</td>\n",
              "      <td>0.0</td>\n",
              "      <td>29</td>\n",
              "      <td>0</td>\n",
              "      <td>1</td>\n",
              "      <td>0</td>\n",
              "      <td>0.0</td>\n",
              "    </tr>\n",
              "    <tr>\n",
              "      <th>149673</th>\n",
              "      <td>149674</td>\n",
              "      <td>0</td>\n",
              "      <td>0.132362</td>\n",
              "      <td>82</td>\n",
              "      <td>0</td>\n",
              "      <td>4123.0</td>\n",
              "      <td>0.0</td>\n",
              "      <td>14</td>\n",
              "      <td>0</td>\n",
              "      <td>2</td>\n",
              "      <td>0</td>\n",
              "      <td>0.0</td>\n",
              "    </tr>\n",
              "  </tbody>\n",
              "</table>\n",
              "<p>331 rows × 12 columns</p>\n",
              "</div>"
            ],
            "text/plain": [
              "        Unnamed: 0  ...  NumberOfDependents\n",
              "50              51  ...                 0.0\n",
              "73              74  ...                 1.0\n",
              "90              91  ...                 0.0\n",
              "326            327  ...                 2.0\n",
              "508            509  ...                 0.0\n",
              "...            ...  ...                 ...\n",
              "147523      147524  ...                 2.0\n",
              "148258      148259  ...                 1.0\n",
              "148432      148433  ...                 3.0\n",
              "149383      149384  ...                 0.0\n",
              "149673      149674  ...                 0.0\n",
              "\n",
              "[331 rows x 12 columns]"
            ]
          },
          "metadata": {
            "tags": []
          },
          "execution_count": 13
        }
      ]
    },
    {
      "cell_type": "markdown",
      "metadata": {
        "id": "KohwMt_sK90p"
      },
      "source": [
        "Hence, our suspects are true and there are 331 out of 379 rows where Monthly Income is equal to the Serious Delinquencies in 2 years. Hence we will remove these 331 outliers from our analysis as their current values aren't useful for our predictive modelling and will add to the bias and variance.\r\n",
        "\r\n",
        "The reason behind this, is we have 331 rows where the debt ratio is massive compared to the customer's income and they arent't scrutinized for defaulting which is nothing but a data entry error."
      ]
    },
    {
      "cell_type": "code",
      "metadata": {
        "colab": {
          "base_uri": "https://localhost:8080/",
          "height": 438
        },
        "id": "8ot359WfLJ0Z",
        "outputId": "2c27048d-cbac-4bc8-96dc-c4c9d3782d92"
      },
      "source": [
        "df = df[-((df[\"DebtRatio\"] > df[\"DebtRatio\"].quantile(0.95)) & (df['SeriousDlqin2yrs'] == df['MonthlyIncome']))]\r\n",
        "df"
      ],
      "execution_count": null,
      "outputs": [
        {
          "output_type": "execute_result",
          "data": {
            "text/html": [
              "<div>\n",
              "<style scoped>\n",
              "    .dataframe tbody tr th:only-of-type {\n",
              "        vertical-align: middle;\n",
              "    }\n",
              "\n",
              "    .dataframe tbody tr th {\n",
              "        vertical-align: top;\n",
              "    }\n",
              "\n",
              "    .dataframe thead th {\n",
              "        text-align: right;\n",
              "    }\n",
              "</style>\n",
              "<table border=\"1\" class=\"dataframe\">\n",
              "  <thead>\n",
              "    <tr style=\"text-align: right;\">\n",
              "      <th></th>\n",
              "      <th>Unnamed: 0</th>\n",
              "      <th>SeriousDlqin2yrs</th>\n",
              "      <th>RevolvingUtilizationOfUnsecuredLines</th>\n",
              "      <th>age</th>\n",
              "      <th>NumberOfTime30-59DaysPastDueNotWorse</th>\n",
              "      <th>DebtRatio</th>\n",
              "      <th>MonthlyIncome</th>\n",
              "      <th>NumberOfOpenCreditLinesAndLoans</th>\n",
              "      <th>NumberOfTimes90DaysLate</th>\n",
              "      <th>NumberRealEstateLoansOrLines</th>\n",
              "      <th>NumberOfTime60-89DaysPastDueNotWorse</th>\n",
              "      <th>NumberOfDependents</th>\n",
              "    </tr>\n",
              "  </thead>\n",
              "  <tbody>\n",
              "    <tr>\n",
              "      <th>0</th>\n",
              "      <td>1</td>\n",
              "      <td>1</td>\n",
              "      <td>0.766127</td>\n",
              "      <td>45</td>\n",
              "      <td>2</td>\n",
              "      <td>0.802982</td>\n",
              "      <td>9120.0</td>\n",
              "      <td>13</td>\n",
              "      <td>0</td>\n",
              "      <td>6</td>\n",
              "      <td>0</td>\n",
              "      <td>2.0</td>\n",
              "    </tr>\n",
              "    <tr>\n",
              "      <th>1</th>\n",
              "      <td>2</td>\n",
              "      <td>0</td>\n",
              "      <td>0.957151</td>\n",
              "      <td>40</td>\n",
              "      <td>0</td>\n",
              "      <td>0.121876</td>\n",
              "      <td>2600.0</td>\n",
              "      <td>4</td>\n",
              "      <td>0</td>\n",
              "      <td>0</td>\n",
              "      <td>0</td>\n",
              "      <td>1.0</td>\n",
              "    </tr>\n",
              "    <tr>\n",
              "      <th>2</th>\n",
              "      <td>3</td>\n",
              "      <td>0</td>\n",
              "      <td>0.658180</td>\n",
              "      <td>38</td>\n",
              "      <td>1</td>\n",
              "      <td>0.085113</td>\n",
              "      <td>3042.0</td>\n",
              "      <td>2</td>\n",
              "      <td>1</td>\n",
              "      <td>0</td>\n",
              "      <td>0</td>\n",
              "      <td>0.0</td>\n",
              "    </tr>\n",
              "    <tr>\n",
              "      <th>3</th>\n",
              "      <td>4</td>\n",
              "      <td>0</td>\n",
              "      <td>0.233810</td>\n",
              "      <td>30</td>\n",
              "      <td>0</td>\n",
              "      <td>0.036050</td>\n",
              "      <td>3300.0</td>\n",
              "      <td>5</td>\n",
              "      <td>0</td>\n",
              "      <td>0</td>\n",
              "      <td>0</td>\n",
              "      <td>0.0</td>\n",
              "    </tr>\n",
              "    <tr>\n",
              "      <th>4</th>\n",
              "      <td>5</td>\n",
              "      <td>0</td>\n",
              "      <td>0.907239</td>\n",
              "      <td>49</td>\n",
              "      <td>1</td>\n",
              "      <td>0.024926</td>\n",
              "      <td>63588.0</td>\n",
              "      <td>7</td>\n",
              "      <td>0</td>\n",
              "      <td>1</td>\n",
              "      <td>0</td>\n",
              "      <td>0.0</td>\n",
              "    </tr>\n",
              "    <tr>\n",
              "      <th>...</th>\n",
              "      <td>...</td>\n",
              "      <td>...</td>\n",
              "      <td>...</td>\n",
              "      <td>...</td>\n",
              "      <td>...</td>\n",
              "      <td>...</td>\n",
              "      <td>...</td>\n",
              "      <td>...</td>\n",
              "      <td>...</td>\n",
              "      <td>...</td>\n",
              "      <td>...</td>\n",
              "      <td>...</td>\n",
              "    </tr>\n",
              "    <tr>\n",
              "      <th>149995</th>\n",
              "      <td>149996</td>\n",
              "      <td>0</td>\n",
              "      <td>0.040674</td>\n",
              "      <td>74</td>\n",
              "      <td>0</td>\n",
              "      <td>0.225131</td>\n",
              "      <td>2100.0</td>\n",
              "      <td>4</td>\n",
              "      <td>0</td>\n",
              "      <td>1</td>\n",
              "      <td>0</td>\n",
              "      <td>0.0</td>\n",
              "    </tr>\n",
              "    <tr>\n",
              "      <th>149996</th>\n",
              "      <td>149997</td>\n",
              "      <td>0</td>\n",
              "      <td>0.299745</td>\n",
              "      <td>44</td>\n",
              "      <td>0</td>\n",
              "      <td>0.716562</td>\n",
              "      <td>5584.0</td>\n",
              "      <td>4</td>\n",
              "      <td>0</td>\n",
              "      <td>1</td>\n",
              "      <td>0</td>\n",
              "      <td>2.0</td>\n",
              "    </tr>\n",
              "    <tr>\n",
              "      <th>149997</th>\n",
              "      <td>149998</td>\n",
              "      <td>0</td>\n",
              "      <td>0.246044</td>\n",
              "      <td>58</td>\n",
              "      <td>0</td>\n",
              "      <td>3870.000000</td>\n",
              "      <td>NaN</td>\n",
              "      <td>18</td>\n",
              "      <td>0</td>\n",
              "      <td>1</td>\n",
              "      <td>0</td>\n",
              "      <td>0.0</td>\n",
              "    </tr>\n",
              "    <tr>\n",
              "      <th>149998</th>\n",
              "      <td>149999</td>\n",
              "      <td>0</td>\n",
              "      <td>0.000000</td>\n",
              "      <td>30</td>\n",
              "      <td>0</td>\n",
              "      <td>0.000000</td>\n",
              "      <td>5716.0</td>\n",
              "      <td>4</td>\n",
              "      <td>0</td>\n",
              "      <td>0</td>\n",
              "      <td>0</td>\n",
              "      <td>0.0</td>\n",
              "    </tr>\n",
              "    <tr>\n",
              "      <th>149999</th>\n",
              "      <td>150000</td>\n",
              "      <td>0</td>\n",
              "      <td>0.850283</td>\n",
              "      <td>64</td>\n",
              "      <td>0</td>\n",
              "      <td>0.249908</td>\n",
              "      <td>8158.0</td>\n",
              "      <td>8</td>\n",
              "      <td>0</td>\n",
              "      <td>2</td>\n",
              "      <td>0</td>\n",
              "      <td>0.0</td>\n",
              "    </tr>\n",
              "  </tbody>\n",
              "</table>\n",
              "<p>149669 rows × 12 columns</p>\n",
              "</div>"
            ],
            "text/plain": [
              "        Unnamed: 0  ...  NumberOfDependents\n",
              "0                1  ...                 2.0\n",
              "1                2  ...                 1.0\n",
              "2                3  ...                 0.0\n",
              "3                4  ...                 0.0\n",
              "4                5  ...                 0.0\n",
              "...            ...  ...                 ...\n",
              "149995      149996  ...                 0.0\n",
              "149996      149997  ...                 2.0\n",
              "149997      149998  ...                 0.0\n",
              "149998      149999  ...                 0.0\n",
              "149999      150000  ...                 0.0\n",
              "\n",
              "[149669 rows x 12 columns]"
            ]
          },
          "metadata": {
            "tags": []
          },
          "execution_count": 14
        }
      ]
    },
    {
      "cell_type": "markdown",
      "metadata": {
        "id": "fzw7gwNxLeN6"
      },
      "source": [
        "Now obtain training set with 149,669 rows with 12 features\r\n",
        "\r\n",
        "Next, checking for Revolving Utilization of Unsecured Lines. This field basically represents the ratio of the amount owed by the credit limit of a customer. A ratio higher than 1 is considered to be a serious defaulter. A Ratio of 10 functionally also seems possible, let's see how many of these customers have the Revolving Utilization of Unsecured Lines greater than 10."
      ]
    },
    {
      "cell_type": "code",
      "metadata": {
        "colab": {
          "base_uri": "https://localhost:8080/",
          "height": 321
        },
        "id": "Vykc7ZoDLoFp",
        "outputId": "938a6b23-ecf4-4336-ed45-a51721d8a0bb"
      },
      "source": [
        "df[df['RevolvingUtilizationOfUnsecuredLines']>10].describe()"
      ],
      "execution_count": null,
      "outputs": [
        {
          "output_type": "execute_result",
          "data": {
            "text/html": [
              "<div>\n",
              "<style scoped>\n",
              "    .dataframe tbody tr th:only-of-type {\n",
              "        vertical-align: middle;\n",
              "    }\n",
              "\n",
              "    .dataframe tbody tr th {\n",
              "        vertical-align: top;\n",
              "    }\n",
              "\n",
              "    .dataframe thead th {\n",
              "        text-align: right;\n",
              "    }\n",
              "</style>\n",
              "<table border=\"1\" class=\"dataframe\">\n",
              "  <thead>\n",
              "    <tr style=\"text-align: right;\">\n",
              "      <th></th>\n",
              "      <th>Unnamed: 0</th>\n",
              "      <th>SeriousDlqin2yrs</th>\n",
              "      <th>RevolvingUtilizationOfUnsecuredLines</th>\n",
              "      <th>age</th>\n",
              "      <th>NumberOfTime30-59DaysPastDueNotWorse</th>\n",
              "      <th>DebtRatio</th>\n",
              "      <th>MonthlyIncome</th>\n",
              "      <th>NumberOfOpenCreditLinesAndLoans</th>\n",
              "      <th>NumberOfTimes90DaysLate</th>\n",
              "      <th>NumberRealEstateLoansOrLines</th>\n",
              "      <th>NumberOfTime60-89DaysPastDueNotWorse</th>\n",
              "      <th>NumberOfDependents</th>\n",
              "    </tr>\n",
              "  </thead>\n",
              "  <tbody>\n",
              "    <tr>\n",
              "      <th>count</th>\n",
              "      <td>241.000000</td>\n",
              "      <td>241.000000</td>\n",
              "      <td>241.000000</td>\n",
              "      <td>241.000000</td>\n",
              "      <td>241.000000</td>\n",
              "      <td>241.000000</td>\n",
              "      <td>173.00000</td>\n",
              "      <td>241.000000</td>\n",
              "      <td>241.000000</td>\n",
              "      <td>241.000000</td>\n",
              "      <td>241.000000</td>\n",
              "      <td>228.000000</td>\n",
              "    </tr>\n",
              "    <tr>\n",
              "      <th>mean</th>\n",
              "      <td>77655.004149</td>\n",
              "      <td>0.070539</td>\n",
              "      <td>3564.023932</td>\n",
              "      <td>50.630705</td>\n",
              "      <td>0.186722</td>\n",
              "      <td>571.918644</td>\n",
              "      <td>8467.67052</td>\n",
              "      <td>5.763485</td>\n",
              "      <td>0.074689</td>\n",
              "      <td>1.186722</td>\n",
              "      <td>0.087137</td>\n",
              "      <td>0.688596</td>\n",
              "    </tr>\n",
              "    <tr>\n",
              "      <th>std</th>\n",
              "      <td>41010.846073</td>\n",
              "      <td>0.256587</td>\n",
              "      <td>5123.802683</td>\n",
              "      <td>14.565389</td>\n",
              "      <td>0.579502</td>\n",
              "      <td>1772.948412</td>\n",
              "      <td>6564.06825</td>\n",
              "      <td>3.114160</td>\n",
              "      <td>0.579711</td>\n",
              "      <td>1.065750</td>\n",
              "      <td>0.559651</td>\n",
              "      <td>1.038659</td>\n",
              "    </tr>\n",
              "    <tr>\n",
              "      <th>min</th>\n",
              "      <td>294.000000</td>\n",
              "      <td>0.000000</td>\n",
              "      <td>11.385230</td>\n",
              "      <td>24.000000</td>\n",
              "      <td>0.000000</td>\n",
              "      <td>0.000800</td>\n",
              "      <td>0.00000</td>\n",
              "      <td>1.000000</td>\n",
              "      <td>0.000000</td>\n",
              "      <td>0.000000</td>\n",
              "      <td>0.000000</td>\n",
              "      <td>0.000000</td>\n",
              "    </tr>\n",
              "    <tr>\n",
              "      <th>25%</th>\n",
              "      <td>44564.000000</td>\n",
              "      <td>0.000000</td>\n",
              "      <td>941.000000</td>\n",
              "      <td>39.000000</td>\n",
              "      <td>0.000000</td>\n",
              "      <td>0.217813</td>\n",
              "      <td>4500.00000</td>\n",
              "      <td>4.000000</td>\n",
              "      <td>0.000000</td>\n",
              "      <td>0.000000</td>\n",
              "      <td>0.000000</td>\n",
              "      <td>0.000000</td>\n",
              "    </tr>\n",
              "    <tr>\n",
              "      <th>50%</th>\n",
              "      <td>80200.000000</td>\n",
              "      <td>0.000000</td>\n",
              "      <td>2012.000000</td>\n",
              "      <td>48.000000</td>\n",
              "      <td>0.000000</td>\n",
              "      <td>0.402560</td>\n",
              "      <td>7000.00000</td>\n",
              "      <td>5.000000</td>\n",
              "      <td>0.000000</td>\n",
              "      <td>1.000000</td>\n",
              "      <td>0.000000</td>\n",
              "      <td>0.000000</td>\n",
              "    </tr>\n",
              "    <tr>\n",
              "      <th>75%</th>\n",
              "      <td>111663.000000</td>\n",
              "      <td>0.000000</td>\n",
              "      <td>4116.000000</td>\n",
              "      <td>62.000000</td>\n",
              "      <td>0.000000</td>\n",
              "      <td>59.000000</td>\n",
              "      <td>10091.00000</td>\n",
              "      <td>7.000000</td>\n",
              "      <td>0.000000</td>\n",
              "      <td>2.000000</td>\n",
              "      <td>0.000000</td>\n",
              "      <td>1.000000</td>\n",
              "    </tr>\n",
              "    <tr>\n",
              "      <th>max</th>\n",
              "      <td>149280.000000</td>\n",
              "      <td>1.000000</td>\n",
              "      <td>50708.000000</td>\n",
              "      <td>87.000000</td>\n",
              "      <td>3.000000</td>\n",
              "      <td>21395.000000</td>\n",
              "      <td>44472.00000</td>\n",
              "      <td>21.000000</td>\n",
              "      <td>8.000000</td>\n",
              "      <td>9.000000</td>\n",
              "      <td>7.000000</td>\n",
              "      <td>4.000000</td>\n",
              "    </tr>\n",
              "  </tbody>\n",
              "</table>\n",
              "</div>"
            ],
            "text/plain": [
              "          Unnamed: 0  ...  NumberOfDependents\n",
              "count     241.000000  ...          228.000000\n",
              "mean    77655.004149  ...            0.688596\n",
              "std     41010.846073  ...            1.038659\n",
              "min       294.000000  ...            0.000000\n",
              "25%     44564.000000  ...            0.000000\n",
              "50%     80200.000000  ...            0.000000\n",
              "75%    111663.000000  ...            1.000000\n",
              "max    149280.000000  ...            4.000000\n",
              "\n",
              "[8 rows x 12 columns]"
            ]
          },
          "metadata": {
            "tags": []
          },
          "execution_count": 15
        }
      ]
    },
    {
      "cell_type": "markdown",
      "metadata": {
        "id": "4rfwHh0-LwYh"
      },
      "source": [
        "Here the difference between the 50th and 75 quantile for Revolving Utilization of Unsecured Lines, you'll observe that there is a massive increase from 13 to 1891.25. Since 13 seems like a reasonable ratio too (but way too high), let's check how many of these counts lie above 13."
      ]
    },
    {
      "cell_type": "code",
      "metadata": {
        "colab": {
          "base_uri": "https://localhost:8080/",
          "height": 438
        },
        "id": "c5Qq8G2GLkml",
        "outputId": "a5f4ab1a-743c-4c3d-8190-4138776863b6"
      },
      "source": [
        "df[df['RevolvingUtilizationOfUnsecuredLines']>13]"
      ],
      "execution_count": null,
      "outputs": [
        {
          "output_type": "execute_result",
          "data": {
            "text/html": [
              "<div>\n",
              "<style scoped>\n",
              "    .dataframe tbody tr th:only-of-type {\n",
              "        vertical-align: middle;\n",
              "    }\n",
              "\n",
              "    .dataframe tbody tr th {\n",
              "        vertical-align: top;\n",
              "    }\n",
              "\n",
              "    .dataframe thead th {\n",
              "        text-align: right;\n",
              "    }\n",
              "</style>\n",
              "<table border=\"1\" class=\"dataframe\">\n",
              "  <thead>\n",
              "    <tr style=\"text-align: right;\">\n",
              "      <th></th>\n",
              "      <th>Unnamed: 0</th>\n",
              "      <th>SeriousDlqin2yrs</th>\n",
              "      <th>RevolvingUtilizationOfUnsecuredLines</th>\n",
              "      <th>age</th>\n",
              "      <th>NumberOfTime30-59DaysPastDueNotWorse</th>\n",
              "      <th>DebtRatio</th>\n",
              "      <th>MonthlyIncome</th>\n",
              "      <th>NumberOfOpenCreditLinesAndLoans</th>\n",
              "      <th>NumberOfTimes90DaysLate</th>\n",
              "      <th>NumberRealEstateLoansOrLines</th>\n",
              "      <th>NumberOfTime60-89DaysPastDueNotWorse</th>\n",
              "      <th>NumberOfDependents</th>\n",
              "    </tr>\n",
              "  </thead>\n",
              "  <tbody>\n",
              "    <tr>\n",
              "      <th>293</th>\n",
              "      <td>294</td>\n",
              "      <td>0</td>\n",
              "      <td>2340.000000</td>\n",
              "      <td>45</td>\n",
              "      <td>0</td>\n",
              "      <td>0.339333</td>\n",
              "      <td>8333.0</td>\n",
              "      <td>7</td>\n",
              "      <td>0</td>\n",
              "      <td>2</td>\n",
              "      <td>0</td>\n",
              "      <td>2.0</td>\n",
              "    </tr>\n",
              "    <tr>\n",
              "      <th>697</th>\n",
              "      <td>698</td>\n",
              "      <td>1</td>\n",
              "      <td>2066.000000</td>\n",
              "      <td>58</td>\n",
              "      <td>0</td>\n",
              "      <td>0.271121</td>\n",
              "      <td>6000.0</td>\n",
              "      <td>8</td>\n",
              "      <td>1</td>\n",
              "      <td>1</td>\n",
              "      <td>0</td>\n",
              "      <td>1.0</td>\n",
              "    </tr>\n",
              "    <tr>\n",
              "      <th>1991</th>\n",
              "      <td>1992</td>\n",
              "      <td>1</td>\n",
              "      <td>1143.000000</td>\n",
              "      <td>44</td>\n",
              "      <td>2</td>\n",
              "      <td>0.547762</td>\n",
              "      <td>6500.0</td>\n",
              "      <td>13</td>\n",
              "      <td>0</td>\n",
              "      <td>4</td>\n",
              "      <td>0</td>\n",
              "      <td>2.0</td>\n",
              "    </tr>\n",
              "    <tr>\n",
              "      <th>2331</th>\n",
              "      <td>2332</td>\n",
              "      <td>0</td>\n",
              "      <td>6324.000000</td>\n",
              "      <td>59</td>\n",
              "      <td>0</td>\n",
              "      <td>0.136673</td>\n",
              "      <td>11318.0</td>\n",
              "      <td>4</td>\n",
              "      <td>0</td>\n",
              "      <td>1</td>\n",
              "      <td>0</td>\n",
              "      <td>1.0</td>\n",
              "    </tr>\n",
              "    <tr>\n",
              "      <th>4278</th>\n",
              "      <td>4279</td>\n",
              "      <td>0</td>\n",
              "      <td>1982.000000</td>\n",
              "      <td>33</td>\n",
              "      <td>0</td>\n",
              "      <td>0.144982</td>\n",
              "      <td>8000.0</td>\n",
              "      <td>4</td>\n",
              "      <td>0</td>\n",
              "      <td>0</td>\n",
              "      <td>0</td>\n",
              "      <td>0.0</td>\n",
              "    </tr>\n",
              "    <tr>\n",
              "      <th>...</th>\n",
              "      <td>...</td>\n",
              "      <td>...</td>\n",
              "      <td>...</td>\n",
              "      <td>...</td>\n",
              "      <td>...</td>\n",
              "      <td>...</td>\n",
              "      <td>...</td>\n",
              "      <td>...</td>\n",
              "      <td>...</td>\n",
              "      <td>...</td>\n",
              "      <td>...</td>\n",
              "      <td>...</td>\n",
              "    </tr>\n",
              "    <tr>\n",
              "      <th>148828</th>\n",
              "      <td>148829</td>\n",
              "      <td>1</td>\n",
              "      <td>73.846154</td>\n",
              "      <td>53</td>\n",
              "      <td>2</td>\n",
              "      <td>0.513355</td>\n",
              "      <td>7000.0</td>\n",
              "      <td>5</td>\n",
              "      <td>8</td>\n",
              "      <td>2</td>\n",
              "      <td>0</td>\n",
              "      <td>4.0</td>\n",
              "    </tr>\n",
              "    <tr>\n",
              "      <th>149102</th>\n",
              "      <td>149103</td>\n",
              "      <td>0</td>\n",
              "      <td>6109.000000</td>\n",
              "      <td>43</td>\n",
              "      <td>0</td>\n",
              "      <td>0.229902</td>\n",
              "      <td>12500.0</td>\n",
              "      <td>9</td>\n",
              "      <td>0</td>\n",
              "      <td>2</td>\n",
              "      <td>0</td>\n",
              "      <td>0.0</td>\n",
              "    </tr>\n",
              "    <tr>\n",
              "      <th>149160</th>\n",
              "      <td>149161</td>\n",
              "      <td>0</td>\n",
              "      <td>22000.000000</td>\n",
              "      <td>38</td>\n",
              "      <td>0</td>\n",
              "      <td>1.080020</td>\n",
              "      <td>3973.0</td>\n",
              "      <td>7</td>\n",
              "      <td>0</td>\n",
              "      <td>2</td>\n",
              "      <td>0</td>\n",
              "      <td>3.0</td>\n",
              "    </tr>\n",
              "    <tr>\n",
              "      <th>149245</th>\n",
              "      <td>149246</td>\n",
              "      <td>0</td>\n",
              "      <td>771.000000</td>\n",
              "      <td>52</td>\n",
              "      <td>0</td>\n",
              "      <td>0.832021</td>\n",
              "      <td>8000.0</td>\n",
              "      <td>13</td>\n",
              "      <td>0</td>\n",
              "      <td>3</td>\n",
              "      <td>0</td>\n",
              "      <td>0.0</td>\n",
              "    </tr>\n",
              "    <tr>\n",
              "      <th>149279</th>\n",
              "      <td>149280</td>\n",
              "      <td>0</td>\n",
              "      <td>20514.000000</td>\n",
              "      <td>42</td>\n",
              "      <td>0</td>\n",
              "      <td>0.062102</td>\n",
              "      <td>9902.0</td>\n",
              "      <td>1</td>\n",
              "      <td>1</td>\n",
              "      <td>0</td>\n",
              "      <td>0</td>\n",
              "      <td>2.0</td>\n",
              "    </tr>\n",
              "  </tbody>\n",
              "</table>\n",
              "<p>238 rows × 12 columns</p>\n",
              "</div>"
            ],
            "text/plain": [
              "        Unnamed: 0  ...  NumberOfDependents\n",
              "293            294  ...                 2.0\n",
              "697            698  ...                 1.0\n",
              "1991          1992  ...                 2.0\n",
              "2331          2332  ...                 1.0\n",
              "4278          4279  ...                 0.0\n",
              "...            ...  ...                 ...\n",
              "148828      148829  ...                 4.0\n",
              "149102      149103  ...                 0.0\n",
              "149160      149161  ...                 3.0\n",
              "149245      149246  ...                 0.0\n",
              "149279      149280  ...                 2.0\n",
              "\n",
              "[238 rows x 12 columns]"
            ]
          },
          "metadata": {
            "tags": []
          },
          "execution_count": 16
        }
      ]
    },
    {
      "cell_type": "code",
      "metadata": {
        "colab": {
          "base_uri": "https://localhost:8080/",
          "height": 472
        },
        "id": "z0lDxZz1Dw-H",
        "outputId": "0638388e-77f2-40a9-a642-68f2235cb7a7"
      },
      "source": [
        "df[df['RevolvingUtilizationOfUnsecuredLines']>13] [(df['SeriousDlqin2yrs']==0)]"
      ],
      "execution_count": null,
      "outputs": [
        {
          "output_type": "stream",
          "text": [
            "/usr/local/lib/python3.7/dist-packages/ipykernel_launcher.py:1: UserWarning: Boolean Series key will be reindexed to match DataFrame index.\n",
            "  \"\"\"Entry point for launching an IPython kernel.\n"
          ],
          "name": "stderr"
        },
        {
          "output_type": "execute_result",
          "data": {
            "text/html": [
              "<div>\n",
              "<style scoped>\n",
              "    .dataframe tbody tr th:only-of-type {\n",
              "        vertical-align: middle;\n",
              "    }\n",
              "\n",
              "    .dataframe tbody tr th {\n",
              "        vertical-align: top;\n",
              "    }\n",
              "\n",
              "    .dataframe thead th {\n",
              "        text-align: right;\n",
              "    }\n",
              "</style>\n",
              "<table border=\"1\" class=\"dataframe\">\n",
              "  <thead>\n",
              "    <tr style=\"text-align: right;\">\n",
              "      <th></th>\n",
              "      <th>Unnamed: 0</th>\n",
              "      <th>SeriousDlqin2yrs</th>\n",
              "      <th>RevolvingUtilizationOfUnsecuredLines</th>\n",
              "      <th>age</th>\n",
              "      <th>NumberOfTime30-59DaysPastDueNotWorse</th>\n",
              "      <th>DebtRatio</th>\n",
              "      <th>MonthlyIncome</th>\n",
              "      <th>NumberOfOpenCreditLinesAndLoans</th>\n",
              "      <th>NumberOfTimes90DaysLate</th>\n",
              "      <th>NumberRealEstateLoansOrLines</th>\n",
              "      <th>NumberOfTime60-89DaysPastDueNotWorse</th>\n",
              "      <th>NumberOfDependents</th>\n",
              "    </tr>\n",
              "  </thead>\n",
              "  <tbody>\n",
              "    <tr>\n",
              "      <th>293</th>\n",
              "      <td>294</td>\n",
              "      <td>0</td>\n",
              "      <td>2340.0</td>\n",
              "      <td>45</td>\n",
              "      <td>0</td>\n",
              "      <td>0.339333</td>\n",
              "      <td>8333.0</td>\n",
              "      <td>7</td>\n",
              "      <td>0</td>\n",
              "      <td>2</td>\n",
              "      <td>0</td>\n",
              "      <td>2.0</td>\n",
              "    </tr>\n",
              "    <tr>\n",
              "      <th>2331</th>\n",
              "      <td>2332</td>\n",
              "      <td>0</td>\n",
              "      <td>6324.0</td>\n",
              "      <td>59</td>\n",
              "      <td>0</td>\n",
              "      <td>0.136673</td>\n",
              "      <td>11318.0</td>\n",
              "      <td>4</td>\n",
              "      <td>0</td>\n",
              "      <td>1</td>\n",
              "      <td>0</td>\n",
              "      <td>1.0</td>\n",
              "    </tr>\n",
              "    <tr>\n",
              "      <th>4278</th>\n",
              "      <td>4279</td>\n",
              "      <td>0</td>\n",
              "      <td>1982.0</td>\n",
              "      <td>33</td>\n",
              "      <td>0</td>\n",
              "      <td>0.144982</td>\n",
              "      <td>8000.0</td>\n",
              "      <td>4</td>\n",
              "      <td>0</td>\n",
              "      <td>0</td>\n",
              "      <td>0</td>\n",
              "      <td>0.0</td>\n",
              "    </tr>\n",
              "    <tr>\n",
              "      <th>4793</th>\n",
              "      <td>4794</td>\n",
              "      <td>0</td>\n",
              "      <td>3746.0</td>\n",
              "      <td>52</td>\n",
              "      <td>2</td>\n",
              "      <td>0.481353</td>\n",
              "      <td>2600.0</td>\n",
              "      <td>5</td>\n",
              "      <td>0</td>\n",
              "      <td>1</td>\n",
              "      <td>0</td>\n",
              "      <td>3.0</td>\n",
              "    </tr>\n",
              "    <tr>\n",
              "      <th>6760</th>\n",
              "      <td>6761</td>\n",
              "      <td>0</td>\n",
              "      <td>941.0</td>\n",
              "      <td>37</td>\n",
              "      <td>0</td>\n",
              "      <td>0.085183</td>\n",
              "      <td>5000.0</td>\n",
              "      <td>6</td>\n",
              "      <td>0</td>\n",
              "      <td>0</td>\n",
              "      <td>0</td>\n",
              "      <td>1.0</td>\n",
              "    </tr>\n",
              "    <tr>\n",
              "      <th>...</th>\n",
              "      <td>...</td>\n",
              "      <td>...</td>\n",
              "      <td>...</td>\n",
              "      <td>...</td>\n",
              "      <td>...</td>\n",
              "      <td>...</td>\n",
              "      <td>...</td>\n",
              "      <td>...</td>\n",
              "      <td>...</td>\n",
              "      <td>...</td>\n",
              "      <td>...</td>\n",
              "      <td>...</td>\n",
              "    </tr>\n",
              "    <tr>\n",
              "      <th>145587</th>\n",
              "      <td>145588</td>\n",
              "      <td>0</td>\n",
              "      <td>7452.0</td>\n",
              "      <td>52</td>\n",
              "      <td>0</td>\n",
              "      <td>0.351365</td>\n",
              "      <td>10000.0</td>\n",
              "      <td>5</td>\n",
              "      <td>0</td>\n",
              "      <td>2</td>\n",
              "      <td>0</td>\n",
              "      <td>3.0</td>\n",
              "    </tr>\n",
              "    <tr>\n",
              "      <th>149102</th>\n",
              "      <td>149103</td>\n",
              "      <td>0</td>\n",
              "      <td>6109.0</td>\n",
              "      <td>43</td>\n",
              "      <td>0</td>\n",
              "      <td>0.229902</td>\n",
              "      <td>12500.0</td>\n",
              "      <td>9</td>\n",
              "      <td>0</td>\n",
              "      <td>2</td>\n",
              "      <td>0</td>\n",
              "      <td>0.0</td>\n",
              "    </tr>\n",
              "    <tr>\n",
              "      <th>149160</th>\n",
              "      <td>149161</td>\n",
              "      <td>0</td>\n",
              "      <td>22000.0</td>\n",
              "      <td>38</td>\n",
              "      <td>0</td>\n",
              "      <td>1.080020</td>\n",
              "      <td>3973.0</td>\n",
              "      <td>7</td>\n",
              "      <td>0</td>\n",
              "      <td>2</td>\n",
              "      <td>0</td>\n",
              "      <td>3.0</td>\n",
              "    </tr>\n",
              "    <tr>\n",
              "      <th>149245</th>\n",
              "      <td>149246</td>\n",
              "      <td>0</td>\n",
              "      <td>771.0</td>\n",
              "      <td>52</td>\n",
              "      <td>0</td>\n",
              "      <td>0.832021</td>\n",
              "      <td>8000.0</td>\n",
              "      <td>13</td>\n",
              "      <td>0</td>\n",
              "      <td>3</td>\n",
              "      <td>0</td>\n",
              "      <td>0.0</td>\n",
              "    </tr>\n",
              "    <tr>\n",
              "      <th>149279</th>\n",
              "      <td>149280</td>\n",
              "      <td>0</td>\n",
              "      <td>20514.0</td>\n",
              "      <td>42</td>\n",
              "      <td>0</td>\n",
              "      <td>0.062102</td>\n",
              "      <td>9902.0</td>\n",
              "      <td>1</td>\n",
              "      <td>1</td>\n",
              "      <td>0</td>\n",
              "      <td>0</td>\n",
              "      <td>2.0</td>\n",
              "    </tr>\n",
              "  </tbody>\n",
              "</table>\n",
              "<p>224 rows × 12 columns</p>\n",
              "</div>"
            ],
            "text/plain": [
              "        Unnamed: 0  ...  NumberOfDependents\n",
              "293            294  ...                 2.0\n",
              "2331          2332  ...                 1.0\n",
              "4278          4279  ...                 0.0\n",
              "4793          4794  ...                 3.0\n",
              "6760          6761  ...                 1.0\n",
              "...            ...  ...                 ...\n",
              "145587      145588  ...                 3.0\n",
              "149102      149103  ...                 0.0\n",
              "149160      149161  ...                 3.0\n",
              "149245      149246  ...                 0.0\n",
              "149279      149280  ...                 2.0\n",
              "\n",
              "[224 rows x 12 columns]"
            ]
          },
          "metadata": {
            "tags": []
          },
          "execution_count": 17
        }
      ]
    },
    {
      "cell_type": "markdown",
      "metadata": {
        "id": "6prE0v4tMH9p"
      },
      "source": [
        "Despite owing thousands, these 224 people do not show any default which means this might be another error. Even if it is not an error, these numbers will add huge bias and variance to our final predictions. Therefore, the best decision is to remove these values."
      ]
    },
    {
      "cell_type": "code",
      "metadata": {
        "colab": {
          "base_uri": "https://localhost:8080/",
          "height": 438
        },
        "id": "9saHtGFnMMs2",
        "outputId": "37bcbd44-0b97-42ef-8ee3-72fb46023c4a"
      },
      "source": [
        "df = df[df['RevolvingUtilizationOfUnsecuredLines']<13]\r\n",
        "df"
      ],
      "execution_count": null,
      "outputs": [
        {
          "output_type": "execute_result",
          "data": {
            "text/html": [
              "<div>\n",
              "<style scoped>\n",
              "    .dataframe tbody tr th:only-of-type {\n",
              "        vertical-align: middle;\n",
              "    }\n",
              "\n",
              "    .dataframe tbody tr th {\n",
              "        vertical-align: top;\n",
              "    }\n",
              "\n",
              "    .dataframe thead th {\n",
              "        text-align: right;\n",
              "    }\n",
              "</style>\n",
              "<table border=\"1\" class=\"dataframe\">\n",
              "  <thead>\n",
              "    <tr style=\"text-align: right;\">\n",
              "      <th></th>\n",
              "      <th>Unnamed: 0</th>\n",
              "      <th>SeriousDlqin2yrs</th>\n",
              "      <th>RevolvingUtilizationOfUnsecuredLines</th>\n",
              "      <th>age</th>\n",
              "      <th>NumberOfTime30-59DaysPastDueNotWorse</th>\n",
              "      <th>DebtRatio</th>\n",
              "      <th>MonthlyIncome</th>\n",
              "      <th>NumberOfOpenCreditLinesAndLoans</th>\n",
              "      <th>NumberOfTimes90DaysLate</th>\n",
              "      <th>NumberRealEstateLoansOrLines</th>\n",
              "      <th>NumberOfTime60-89DaysPastDueNotWorse</th>\n",
              "      <th>NumberOfDependents</th>\n",
              "    </tr>\n",
              "  </thead>\n",
              "  <tbody>\n",
              "    <tr>\n",
              "      <th>0</th>\n",
              "      <td>1</td>\n",
              "      <td>1</td>\n",
              "      <td>0.766127</td>\n",
              "      <td>45</td>\n",
              "      <td>2</td>\n",
              "      <td>0.802982</td>\n",
              "      <td>9120.0</td>\n",
              "      <td>13</td>\n",
              "      <td>0</td>\n",
              "      <td>6</td>\n",
              "      <td>0</td>\n",
              "      <td>2.0</td>\n",
              "    </tr>\n",
              "    <tr>\n",
              "      <th>1</th>\n",
              "      <td>2</td>\n",
              "      <td>0</td>\n",
              "      <td>0.957151</td>\n",
              "      <td>40</td>\n",
              "      <td>0</td>\n",
              "      <td>0.121876</td>\n",
              "      <td>2600.0</td>\n",
              "      <td>4</td>\n",
              "      <td>0</td>\n",
              "      <td>0</td>\n",
              "      <td>0</td>\n",
              "      <td>1.0</td>\n",
              "    </tr>\n",
              "    <tr>\n",
              "      <th>2</th>\n",
              "      <td>3</td>\n",
              "      <td>0</td>\n",
              "      <td>0.658180</td>\n",
              "      <td>38</td>\n",
              "      <td>1</td>\n",
              "      <td>0.085113</td>\n",
              "      <td>3042.0</td>\n",
              "      <td>2</td>\n",
              "      <td>1</td>\n",
              "      <td>0</td>\n",
              "      <td>0</td>\n",
              "      <td>0.0</td>\n",
              "    </tr>\n",
              "    <tr>\n",
              "      <th>3</th>\n",
              "      <td>4</td>\n",
              "      <td>0</td>\n",
              "      <td>0.233810</td>\n",
              "      <td>30</td>\n",
              "      <td>0</td>\n",
              "      <td>0.036050</td>\n",
              "      <td>3300.0</td>\n",
              "      <td>5</td>\n",
              "      <td>0</td>\n",
              "      <td>0</td>\n",
              "      <td>0</td>\n",
              "      <td>0.0</td>\n",
              "    </tr>\n",
              "    <tr>\n",
              "      <th>4</th>\n",
              "      <td>5</td>\n",
              "      <td>0</td>\n",
              "      <td>0.907239</td>\n",
              "      <td>49</td>\n",
              "      <td>1</td>\n",
              "      <td>0.024926</td>\n",
              "      <td>63588.0</td>\n",
              "      <td>7</td>\n",
              "      <td>0</td>\n",
              "      <td>1</td>\n",
              "      <td>0</td>\n",
              "      <td>0.0</td>\n",
              "    </tr>\n",
              "    <tr>\n",
              "      <th>...</th>\n",
              "      <td>...</td>\n",
              "      <td>...</td>\n",
              "      <td>...</td>\n",
              "      <td>...</td>\n",
              "      <td>...</td>\n",
              "      <td>...</td>\n",
              "      <td>...</td>\n",
              "      <td>...</td>\n",
              "      <td>...</td>\n",
              "      <td>...</td>\n",
              "      <td>...</td>\n",
              "      <td>...</td>\n",
              "    </tr>\n",
              "    <tr>\n",
              "      <th>149995</th>\n",
              "      <td>149996</td>\n",
              "      <td>0</td>\n",
              "      <td>0.040674</td>\n",
              "      <td>74</td>\n",
              "      <td>0</td>\n",
              "      <td>0.225131</td>\n",
              "      <td>2100.0</td>\n",
              "      <td>4</td>\n",
              "      <td>0</td>\n",
              "      <td>1</td>\n",
              "      <td>0</td>\n",
              "      <td>0.0</td>\n",
              "    </tr>\n",
              "    <tr>\n",
              "      <th>149996</th>\n",
              "      <td>149997</td>\n",
              "      <td>0</td>\n",
              "      <td>0.299745</td>\n",
              "      <td>44</td>\n",
              "      <td>0</td>\n",
              "      <td>0.716562</td>\n",
              "      <td>5584.0</td>\n",
              "      <td>4</td>\n",
              "      <td>0</td>\n",
              "      <td>1</td>\n",
              "      <td>0</td>\n",
              "      <td>2.0</td>\n",
              "    </tr>\n",
              "    <tr>\n",
              "      <th>149997</th>\n",
              "      <td>149998</td>\n",
              "      <td>0</td>\n",
              "      <td>0.246044</td>\n",
              "      <td>58</td>\n",
              "      <td>0</td>\n",
              "      <td>3870.000000</td>\n",
              "      <td>NaN</td>\n",
              "      <td>18</td>\n",
              "      <td>0</td>\n",
              "      <td>1</td>\n",
              "      <td>0</td>\n",
              "      <td>0.0</td>\n",
              "    </tr>\n",
              "    <tr>\n",
              "      <th>149998</th>\n",
              "      <td>149999</td>\n",
              "      <td>0</td>\n",
              "      <td>0.000000</td>\n",
              "      <td>30</td>\n",
              "      <td>0</td>\n",
              "      <td>0.000000</td>\n",
              "      <td>5716.0</td>\n",
              "      <td>4</td>\n",
              "      <td>0</td>\n",
              "      <td>0</td>\n",
              "      <td>0</td>\n",
              "      <td>0.0</td>\n",
              "    </tr>\n",
              "    <tr>\n",
              "      <th>149999</th>\n",
              "      <td>150000</td>\n",
              "      <td>0</td>\n",
              "      <td>0.850283</td>\n",
              "      <td>64</td>\n",
              "      <td>0</td>\n",
              "      <td>0.249908</td>\n",
              "      <td>8158.0</td>\n",
              "      <td>8</td>\n",
              "      <td>0</td>\n",
              "      <td>2</td>\n",
              "      <td>0</td>\n",
              "      <td>0.0</td>\n",
              "    </tr>\n",
              "  </tbody>\n",
              "</table>\n",
              "<p>149431 rows × 12 columns</p>\n",
              "</div>"
            ],
            "text/plain": [
              "        Unnamed: 0  ...  NumberOfDependents\n",
              "0                1  ...                 2.0\n",
              "1                2  ...                 1.0\n",
              "2                3  ...                 0.0\n",
              "3                4  ...                 0.0\n",
              "4                5  ...                 0.0\n",
              "...            ...  ...                 ...\n",
              "149995      149996  ...                 0.0\n",
              "149996      149997  ...                 2.0\n",
              "149997      149998  ...                 0.0\n",
              "149998      149999  ...                 0.0\n",
              "149999      150000  ...                 0.0\n",
              "\n",
              "[149431 rows x 12 columns]"
            ]
          },
          "metadata": {
            "tags": []
          },
          "execution_count": 18
        }
      ]
    },
    {
      "cell_type": "code",
      "metadata": {
        "colab": {
          "base_uri": "https://localhost:8080/"
        },
        "id": "MrukX8cWNDuq",
        "outputId": "2d8242f3-5b64-4d09-fda3-292330880e0e"
      },
      "source": [
        "df.shape"
      ],
      "execution_count": null,
      "outputs": [
        {
          "output_type": "execute_result",
          "data": {
            "text/plain": [
              "(149431, 12)"
            ]
          },
          "metadata": {
            "tags": []
          },
          "execution_count": 19
        }
      ]
    },
    {
      "cell_type": "markdown",
      "metadata": {
        "id": "Z4i2BmISMg7k"
      },
      "source": [
        "For variable **age, and MonthlyIncome**"
      ]
    },
    {
      "cell_type": "code",
      "metadata": {
        "colab": {
          "base_uri": "https://localhost:8080/",
          "height": 321
        },
        "id": "xi8N-qs7MmsB",
        "outputId": "5868d75f-00db-48d9-cd24-72446e6236c0"
      },
      "source": [
        "# Another type of error is for example here as a person with age equal to zero\r\n",
        "df[df['age']==0].describe()"
      ],
      "execution_count": null,
      "outputs": [
        {
          "output_type": "execute_result",
          "data": {
            "text/html": [
              "<div>\n",
              "<style scoped>\n",
              "    .dataframe tbody tr th:only-of-type {\n",
              "        vertical-align: middle;\n",
              "    }\n",
              "\n",
              "    .dataframe tbody tr th {\n",
              "        vertical-align: top;\n",
              "    }\n",
              "\n",
              "    .dataframe thead th {\n",
              "        text-align: right;\n",
              "    }\n",
              "</style>\n",
              "<table border=\"1\" class=\"dataframe\">\n",
              "  <thead>\n",
              "    <tr style=\"text-align: right;\">\n",
              "      <th></th>\n",
              "      <th>Unnamed: 0</th>\n",
              "      <th>SeriousDlqin2yrs</th>\n",
              "      <th>RevolvingUtilizationOfUnsecuredLines</th>\n",
              "      <th>age</th>\n",
              "      <th>NumberOfTime30-59DaysPastDueNotWorse</th>\n",
              "      <th>DebtRatio</th>\n",
              "      <th>MonthlyIncome</th>\n",
              "      <th>NumberOfOpenCreditLinesAndLoans</th>\n",
              "      <th>NumberOfTimes90DaysLate</th>\n",
              "      <th>NumberRealEstateLoansOrLines</th>\n",
              "      <th>NumberOfTime60-89DaysPastDueNotWorse</th>\n",
              "      <th>NumberOfDependents</th>\n",
              "    </tr>\n",
              "  </thead>\n",
              "  <tbody>\n",
              "    <tr>\n",
              "      <th>count</th>\n",
              "      <td>1.0</td>\n",
              "      <td>1.0</td>\n",
              "      <td>1.0</td>\n",
              "      <td>1.0</td>\n",
              "      <td>1.0</td>\n",
              "      <td>1.000000</td>\n",
              "      <td>1.0</td>\n",
              "      <td>1.0</td>\n",
              "      <td>1.0</td>\n",
              "      <td>1.0</td>\n",
              "      <td>1.0</td>\n",
              "      <td>1.0</td>\n",
              "    </tr>\n",
              "    <tr>\n",
              "      <th>mean</th>\n",
              "      <td>65696.0</td>\n",
              "      <td>0.0</td>\n",
              "      <td>1.0</td>\n",
              "      <td>0.0</td>\n",
              "      <td>1.0</td>\n",
              "      <td>0.436927</td>\n",
              "      <td>6000.0</td>\n",
              "      <td>6.0</td>\n",
              "      <td>0.0</td>\n",
              "      <td>2.0</td>\n",
              "      <td>0.0</td>\n",
              "      <td>2.0</td>\n",
              "    </tr>\n",
              "    <tr>\n",
              "      <th>std</th>\n",
              "      <td>NaN</td>\n",
              "      <td>NaN</td>\n",
              "      <td>NaN</td>\n",
              "      <td>NaN</td>\n",
              "      <td>NaN</td>\n",
              "      <td>NaN</td>\n",
              "      <td>NaN</td>\n",
              "      <td>NaN</td>\n",
              "      <td>NaN</td>\n",
              "      <td>NaN</td>\n",
              "      <td>NaN</td>\n",
              "      <td>NaN</td>\n",
              "    </tr>\n",
              "    <tr>\n",
              "      <th>min</th>\n",
              "      <td>65696.0</td>\n",
              "      <td>0.0</td>\n",
              "      <td>1.0</td>\n",
              "      <td>0.0</td>\n",
              "      <td>1.0</td>\n",
              "      <td>0.436927</td>\n",
              "      <td>6000.0</td>\n",
              "      <td>6.0</td>\n",
              "      <td>0.0</td>\n",
              "      <td>2.0</td>\n",
              "      <td>0.0</td>\n",
              "      <td>2.0</td>\n",
              "    </tr>\n",
              "    <tr>\n",
              "      <th>25%</th>\n",
              "      <td>65696.0</td>\n",
              "      <td>0.0</td>\n",
              "      <td>1.0</td>\n",
              "      <td>0.0</td>\n",
              "      <td>1.0</td>\n",
              "      <td>0.436927</td>\n",
              "      <td>6000.0</td>\n",
              "      <td>6.0</td>\n",
              "      <td>0.0</td>\n",
              "      <td>2.0</td>\n",
              "      <td>0.0</td>\n",
              "      <td>2.0</td>\n",
              "    </tr>\n",
              "    <tr>\n",
              "      <th>50%</th>\n",
              "      <td>65696.0</td>\n",
              "      <td>0.0</td>\n",
              "      <td>1.0</td>\n",
              "      <td>0.0</td>\n",
              "      <td>1.0</td>\n",
              "      <td>0.436927</td>\n",
              "      <td>6000.0</td>\n",
              "      <td>6.0</td>\n",
              "      <td>0.0</td>\n",
              "      <td>2.0</td>\n",
              "      <td>0.0</td>\n",
              "      <td>2.0</td>\n",
              "    </tr>\n",
              "    <tr>\n",
              "      <th>75%</th>\n",
              "      <td>65696.0</td>\n",
              "      <td>0.0</td>\n",
              "      <td>1.0</td>\n",
              "      <td>0.0</td>\n",
              "      <td>1.0</td>\n",
              "      <td>0.436927</td>\n",
              "      <td>6000.0</td>\n",
              "      <td>6.0</td>\n",
              "      <td>0.0</td>\n",
              "      <td>2.0</td>\n",
              "      <td>0.0</td>\n",
              "      <td>2.0</td>\n",
              "    </tr>\n",
              "    <tr>\n",
              "      <th>max</th>\n",
              "      <td>65696.0</td>\n",
              "      <td>0.0</td>\n",
              "      <td>1.0</td>\n",
              "      <td>0.0</td>\n",
              "      <td>1.0</td>\n",
              "      <td>0.436927</td>\n",
              "      <td>6000.0</td>\n",
              "      <td>6.0</td>\n",
              "      <td>0.0</td>\n",
              "      <td>2.0</td>\n",
              "      <td>0.0</td>\n",
              "      <td>2.0</td>\n",
              "    </tr>\n",
              "  </tbody>\n",
              "</table>\n",
              "</div>"
            ],
            "text/plain": [
              "       Unnamed: 0  ...  NumberOfDependents\n",
              "count         1.0  ...                 1.0\n",
              "mean      65696.0  ...                 2.0\n",
              "std           NaN  ...                 NaN\n",
              "min       65696.0  ...                 2.0\n",
              "25%       65696.0  ...                 2.0\n",
              "50%       65696.0  ...                 2.0\n",
              "75%       65696.0  ...                 2.0\n",
              "max       65696.0  ...                 2.0\n",
              "\n",
              "[8 rows x 12 columns]"
            ]
          },
          "metadata": {
            "tags": []
          },
          "execution_count": 20
        }
      ]
    },
    {
      "cell_type": "code",
      "metadata": {
        "colab": {
          "base_uri": "https://localhost:8080/",
          "height": 438
        },
        "id": "1GG2Fa5cMuwY",
        "outputId": "dd987ba7-459a-428f-a4c4-57f81de3b198"
      },
      "source": [
        "#eliminate this row as it is only one observation\r\n",
        "df = df[df['age']>0]\r\n",
        "df"
      ],
      "execution_count": null,
      "outputs": [
        {
          "output_type": "execute_result",
          "data": {
            "text/html": [
              "<div>\n",
              "<style scoped>\n",
              "    .dataframe tbody tr th:only-of-type {\n",
              "        vertical-align: middle;\n",
              "    }\n",
              "\n",
              "    .dataframe tbody tr th {\n",
              "        vertical-align: top;\n",
              "    }\n",
              "\n",
              "    .dataframe thead th {\n",
              "        text-align: right;\n",
              "    }\n",
              "</style>\n",
              "<table border=\"1\" class=\"dataframe\">\n",
              "  <thead>\n",
              "    <tr style=\"text-align: right;\">\n",
              "      <th></th>\n",
              "      <th>Unnamed: 0</th>\n",
              "      <th>SeriousDlqin2yrs</th>\n",
              "      <th>RevolvingUtilizationOfUnsecuredLines</th>\n",
              "      <th>age</th>\n",
              "      <th>NumberOfTime30-59DaysPastDueNotWorse</th>\n",
              "      <th>DebtRatio</th>\n",
              "      <th>MonthlyIncome</th>\n",
              "      <th>NumberOfOpenCreditLinesAndLoans</th>\n",
              "      <th>NumberOfTimes90DaysLate</th>\n",
              "      <th>NumberRealEstateLoansOrLines</th>\n",
              "      <th>NumberOfTime60-89DaysPastDueNotWorse</th>\n",
              "      <th>NumberOfDependents</th>\n",
              "    </tr>\n",
              "  </thead>\n",
              "  <tbody>\n",
              "    <tr>\n",
              "      <th>0</th>\n",
              "      <td>1</td>\n",
              "      <td>1</td>\n",
              "      <td>0.766127</td>\n",
              "      <td>45</td>\n",
              "      <td>2</td>\n",
              "      <td>0.802982</td>\n",
              "      <td>9120.0</td>\n",
              "      <td>13</td>\n",
              "      <td>0</td>\n",
              "      <td>6</td>\n",
              "      <td>0</td>\n",
              "      <td>2.0</td>\n",
              "    </tr>\n",
              "    <tr>\n",
              "      <th>1</th>\n",
              "      <td>2</td>\n",
              "      <td>0</td>\n",
              "      <td>0.957151</td>\n",
              "      <td>40</td>\n",
              "      <td>0</td>\n",
              "      <td>0.121876</td>\n",
              "      <td>2600.0</td>\n",
              "      <td>4</td>\n",
              "      <td>0</td>\n",
              "      <td>0</td>\n",
              "      <td>0</td>\n",
              "      <td>1.0</td>\n",
              "    </tr>\n",
              "    <tr>\n",
              "      <th>2</th>\n",
              "      <td>3</td>\n",
              "      <td>0</td>\n",
              "      <td>0.658180</td>\n",
              "      <td>38</td>\n",
              "      <td>1</td>\n",
              "      <td>0.085113</td>\n",
              "      <td>3042.0</td>\n",
              "      <td>2</td>\n",
              "      <td>1</td>\n",
              "      <td>0</td>\n",
              "      <td>0</td>\n",
              "      <td>0.0</td>\n",
              "    </tr>\n",
              "    <tr>\n",
              "      <th>3</th>\n",
              "      <td>4</td>\n",
              "      <td>0</td>\n",
              "      <td>0.233810</td>\n",
              "      <td>30</td>\n",
              "      <td>0</td>\n",
              "      <td>0.036050</td>\n",
              "      <td>3300.0</td>\n",
              "      <td>5</td>\n",
              "      <td>0</td>\n",
              "      <td>0</td>\n",
              "      <td>0</td>\n",
              "      <td>0.0</td>\n",
              "    </tr>\n",
              "    <tr>\n",
              "      <th>4</th>\n",
              "      <td>5</td>\n",
              "      <td>0</td>\n",
              "      <td>0.907239</td>\n",
              "      <td>49</td>\n",
              "      <td>1</td>\n",
              "      <td>0.024926</td>\n",
              "      <td>63588.0</td>\n",
              "      <td>7</td>\n",
              "      <td>0</td>\n",
              "      <td>1</td>\n",
              "      <td>0</td>\n",
              "      <td>0.0</td>\n",
              "    </tr>\n",
              "    <tr>\n",
              "      <th>...</th>\n",
              "      <td>...</td>\n",
              "      <td>...</td>\n",
              "      <td>...</td>\n",
              "      <td>...</td>\n",
              "      <td>...</td>\n",
              "      <td>...</td>\n",
              "      <td>...</td>\n",
              "      <td>...</td>\n",
              "      <td>...</td>\n",
              "      <td>...</td>\n",
              "      <td>...</td>\n",
              "      <td>...</td>\n",
              "    </tr>\n",
              "    <tr>\n",
              "      <th>149995</th>\n",
              "      <td>149996</td>\n",
              "      <td>0</td>\n",
              "      <td>0.040674</td>\n",
              "      <td>74</td>\n",
              "      <td>0</td>\n",
              "      <td>0.225131</td>\n",
              "      <td>2100.0</td>\n",
              "      <td>4</td>\n",
              "      <td>0</td>\n",
              "      <td>1</td>\n",
              "      <td>0</td>\n",
              "      <td>0.0</td>\n",
              "    </tr>\n",
              "    <tr>\n",
              "      <th>149996</th>\n",
              "      <td>149997</td>\n",
              "      <td>0</td>\n",
              "      <td>0.299745</td>\n",
              "      <td>44</td>\n",
              "      <td>0</td>\n",
              "      <td>0.716562</td>\n",
              "      <td>5584.0</td>\n",
              "      <td>4</td>\n",
              "      <td>0</td>\n",
              "      <td>1</td>\n",
              "      <td>0</td>\n",
              "      <td>2.0</td>\n",
              "    </tr>\n",
              "    <tr>\n",
              "      <th>149997</th>\n",
              "      <td>149998</td>\n",
              "      <td>0</td>\n",
              "      <td>0.246044</td>\n",
              "      <td>58</td>\n",
              "      <td>0</td>\n",
              "      <td>3870.000000</td>\n",
              "      <td>NaN</td>\n",
              "      <td>18</td>\n",
              "      <td>0</td>\n",
              "      <td>1</td>\n",
              "      <td>0</td>\n",
              "      <td>0.0</td>\n",
              "    </tr>\n",
              "    <tr>\n",
              "      <th>149998</th>\n",
              "      <td>149999</td>\n",
              "      <td>0</td>\n",
              "      <td>0.000000</td>\n",
              "      <td>30</td>\n",
              "      <td>0</td>\n",
              "      <td>0.000000</td>\n",
              "      <td>5716.0</td>\n",
              "      <td>4</td>\n",
              "      <td>0</td>\n",
              "      <td>0</td>\n",
              "      <td>0</td>\n",
              "      <td>0.0</td>\n",
              "    </tr>\n",
              "    <tr>\n",
              "      <th>149999</th>\n",
              "      <td>150000</td>\n",
              "      <td>0</td>\n",
              "      <td>0.850283</td>\n",
              "      <td>64</td>\n",
              "      <td>0</td>\n",
              "      <td>0.249908</td>\n",
              "      <td>8158.0</td>\n",
              "      <td>8</td>\n",
              "      <td>0</td>\n",
              "      <td>2</td>\n",
              "      <td>0</td>\n",
              "      <td>0.0</td>\n",
              "    </tr>\n",
              "  </tbody>\n",
              "</table>\n",
              "<p>149430 rows × 12 columns</p>\n",
              "</div>"
            ],
            "text/plain": [
              "        Unnamed: 0  ...  NumberOfDependents\n",
              "0                1  ...                 2.0\n",
              "1                2  ...                 1.0\n",
              "2                3  ...                 0.0\n",
              "3                4  ...                 0.0\n",
              "4                5  ...                 0.0\n",
              "...            ...  ...                 ...\n",
              "149995      149996  ...                 0.0\n",
              "149996      149997  ...                 2.0\n",
              "149997      149998  ...                 0.0\n",
              "149998      149999  ...                 0.0\n",
              "149999      150000  ...                 0.0\n",
              "\n",
              "[149430 rows x 12 columns]"
            ]
          },
          "metadata": {
            "tags": []
          },
          "execution_count": 21
        }
      ]
    },
    {
      "cell_type": "markdown",
      "metadata": {
        "id": "tu3vJOR1MSur"
      },
      "source": [
        "Now a bit cleaner dataset contains 149430 rows × 11 columns"
      ]
    },
    {
      "cell_type": "code",
      "metadata": {
        "colab": {
          "base_uri": "https://localhost:8080/"
        },
        "id": "gMiAoZkDOZqN",
        "outputId": "fc13afd4-77f7-4563-df8e-0de6fc5501a4"
      },
      "source": [
        "df.shape"
      ],
      "execution_count": null,
      "outputs": [
        {
          "output_type": "execute_result",
          "data": {
            "text/plain": [
              "(149430, 12)"
            ]
          },
          "metadata": {
            "tags": []
          },
          "execution_count": 22
        }
      ]
    },
    {
      "cell_type": "markdown",
      "metadata": {
        "id": "thL6QewuOzAF"
      },
      "source": [
        "**Dealing with missing value as seen in the begining**"
      ]
    },
    {
      "cell_type": "code",
      "metadata": {
        "colab": {
          "base_uri": "https://localhost:8080/",
          "height": 106
        },
        "id": "YRcoyuf4O3qe",
        "outputId": "22b2a66e-3544-4d01-83d7-24a3f7615ad1"
      },
      "source": [
        "def MissingHandler(df):\r\n",
        "    DataMissing = df.isnull().sum()*100/len(df)\r\n",
        "    DataMissingByColumn = pd.DataFrame({'Percentage Nulls':DataMissing})\r\n",
        "    DataMissingByColumn.sort_values(by='Percentage Nulls',ascending=False,inplace=True)\r\n",
        "    return DataMissingByColumn[DataMissingByColumn['Percentage Nulls']>0]\r\n",
        "\r\n",
        "MissingHandler(df)"
      ],
      "execution_count": null,
      "outputs": [
        {
          "output_type": "execute_result",
          "data": {
            "text/html": [
              "<div>\n",
              "<style scoped>\n",
              "    .dataframe tbody tr th:only-of-type {\n",
              "        vertical-align: middle;\n",
              "    }\n",
              "\n",
              "    .dataframe tbody tr th {\n",
              "        vertical-align: top;\n",
              "    }\n",
              "\n",
              "    .dataframe thead th {\n",
              "        text-align: right;\n",
              "    }\n",
              "</style>\n",
              "<table border=\"1\" class=\"dataframe\">\n",
              "  <thead>\n",
              "    <tr style=\"text-align: right;\">\n",
              "      <th></th>\n",
              "      <th>Percentage Nulls</th>\n",
              "    </tr>\n",
              "  </thead>\n",
              "  <tbody>\n",
              "    <tr>\n",
              "      <th>MonthlyIncome</th>\n",
              "      <td>19.850766</td>\n",
              "    </tr>\n",
              "    <tr>\n",
              "      <th>NumberOfDependents</th>\n",
              "      <td>2.617279</td>\n",
              "    </tr>\n",
              "  </tbody>\n",
              "</table>\n",
              "</div>"
            ],
            "text/plain": [
              "                    Percentage Nulls\n",
              "MonthlyIncome              19.850766\n",
              "NumberOfDependents          2.617279"
            ]
          },
          "metadata": {
            "tags": []
          },
          "execution_count": 23
        }
      ]
    },
    {
      "cell_type": "markdown",
      "metadata": {
        "id": "OxyJCIPbO_wW"
      },
      "source": [
        "There are 19.85% and 2.62% Nulls for MonthlyIncome and NumberOfDependents respectively."
      ]
    },
    {
      "cell_type": "code",
      "metadata": {
        "colab": {
          "base_uri": "https://localhost:8080/"
        },
        "id": "K5_0jhccPVoR",
        "outputId": "a6886430-c705-42b4-b19c-60f3e71774cd"
      },
      "source": [
        "df['MonthlyIncome'].fillna(df['MonthlyIncome'].median(), inplace=True)\r\n",
        "df['NumberOfDependents'].fillna(0, inplace = True)"
      ],
      "execution_count": null,
      "outputs": [
        {
          "output_type": "stream",
          "text": [
            "/usr/local/lib/python3.7/dist-packages/pandas/core/series.py:4536: SettingWithCopyWarning: \n",
            "A value is trying to be set on a copy of a slice from a DataFrame\n",
            "\n",
            "See the caveats in the documentation: https://pandas.pydata.org/pandas-docs/stable/user_guide/indexing.html#returning-a-view-versus-a-copy\n",
            "  downcast=downcast,\n"
          ],
          "name": "stderr"
        }
      ]
    },
    {
      "cell_type": "code",
      "metadata": {
        "colab": {
          "base_uri": "https://localhost:8080/",
          "height": 47
        },
        "id": "5qoFQUgiPa7z",
        "outputId": "f3f64c22-6f81-423a-cfcf-30aefd23440c"
      },
      "source": [
        "#checking for missing data\r\n",
        "MissingHandler(df)"
      ],
      "execution_count": null,
      "outputs": [
        {
          "output_type": "execute_result",
          "data": {
            "text/html": [
              "<div>\n",
              "<style scoped>\n",
              "    .dataframe tbody tr th:only-of-type {\n",
              "        vertical-align: middle;\n",
              "    }\n",
              "\n",
              "    .dataframe tbody tr th {\n",
              "        vertical-align: top;\n",
              "    }\n",
              "\n",
              "    .dataframe thead th {\n",
              "        text-align: right;\n",
              "    }\n",
              "</style>\n",
              "<table border=\"1\" class=\"dataframe\">\n",
              "  <thead>\n",
              "    <tr style=\"text-align: right;\">\n",
              "      <th></th>\n",
              "      <th>Percentage Nulls</th>\n",
              "    </tr>\n",
              "  </thead>\n",
              "  <tbody>\n",
              "  </tbody>\n",
              "</table>\n",
              "</div>"
            ],
            "text/plain": [
              "Empty DataFrame\n",
              "Columns: [Percentage Nulls]\n",
              "Index: []"
            ]
          },
          "metadata": {
            "tags": []
          },
          "execution_count": 25
        }
      ]
    },
    {
      "cell_type": "code",
      "metadata": {
        "colab": {
          "base_uri": "https://localhost:8080/"
        },
        "id": "AC1UM0siPhbp",
        "outputId": "b22b7d5b-a23b-4295-cb2f-d6bdf009d85a"
      },
      "source": [
        "print(df.shape)"
      ],
      "execution_count": null,
      "outputs": [
        {
          "output_type": "stream",
          "text": [
            "(149430, 12)\n"
          ],
          "name": "stdout"
        }
      ]
    },
    {
      "cell_type": "markdown",
      "metadata": {
        "id": "zQE6KZqCPm0K"
      },
      "source": [
        "**Step 2: Staistical Describtive**"
      ]
    },
    {
      "cell_type": "code",
      "metadata": {
        "colab": {
          "base_uri": "https://localhost:8080/",
          "height": 835
        },
        "id": "RN1DRoNkP38h",
        "outputId": "8b38401b-204c-40bd-b8ed-dac4337868a6"
      },
      "source": [
        "fig = plt.figure(figsize = [15,10])\r\n",
        "mask = np.zeros_like(df.corr(), dtype=np.bool)\r\n",
        "mask[np.triu_indices_from(mask)] = True\r\n",
        "sns.heatmap(df.corr(), cmap=sns.diverging_palette(150, 275, s=80, l=55, n=9), mask = mask, annot=True, center = 0)\r\n",
        "plt.title(\"Correlation Matrix (HeatMap)\", fontsize = 15)"
      ],
      "execution_count": null,
      "outputs": [
        {
          "output_type": "execute_result",
          "data": {
            "text/plain": [
              "Text(0.5, 1.0, 'Correlation Matrix (HeatMap)')"
            ]
          },
          "metadata": {
            "tags": []
          },
          "execution_count": 27
        },
        {
          "output_type": "display_data",
          "data": {
            "image/png": "[encoded data removed]",
            "text/plain": [
              "<Figure size 1080x720 with 2 Axes>"
            ]
          },
          "metadata": {
            "tags": [],
            "needs_background": "light"
          }
        }
      ]
    },
    {
      "cell_type": "markdown",
      "metadata": {
        "id": "OqX-Bt8jP-ZR"
      },
      "source": [
        "From the correlation heatmap above, we can see the most correlated values to SeriousDlqin2yrs are NumberOfTime30-59DaysPastDueNotWorse , NumberOfTime60-89DaysPastDueNotWorse and NumberOfTimes90DaysLate."
      ]
    },
    {
      "cell_type": "markdown",
      "metadata": {
        "id": "50cv1UrgQGmZ"
      },
      "source": [
        "**Step 3: Feature Engineering**"
      ]
    },
    {
      "cell_type": "code",
      "metadata": {
        "colab": {
          "base_uri": "https://localhost:8080/",
          "height": 321
        },
        "id": "xVWKgteWRsFU",
        "outputId": "893f115e-025f-484c-e4e7-332d15462a66"
      },
      "source": [
        "df.describe()"
      ],
      "execution_count": null,
      "outputs": [
        {
          "output_type": "execute_result",
          "data": {
            "text/html": [
              "<div>\n",
              "<style scoped>\n",
              "    .dataframe tbody tr th:only-of-type {\n",
              "        vertical-align: middle;\n",
              "    }\n",
              "\n",
              "    .dataframe tbody tr th {\n",
              "        vertical-align: top;\n",
              "    }\n",
              "\n",
              "    .dataframe thead th {\n",
              "        text-align: right;\n",
              "    }\n",
              "</style>\n",
              "<table border=\"1\" class=\"dataframe\">\n",
              "  <thead>\n",
              "    <tr style=\"text-align: right;\">\n",
              "      <th></th>\n",
              "      <th>Unnamed: 0</th>\n",
              "      <th>SeriousDlqin2yrs</th>\n",
              "      <th>RevolvingUtilizationOfUnsecuredLines</th>\n",
              "      <th>age</th>\n",
              "      <th>NumberOfTime30-59DaysPastDueNotWorse</th>\n",
              "      <th>DebtRatio</th>\n",
              "      <th>MonthlyIncome</th>\n",
              "      <th>NumberOfOpenCreditLinesAndLoans</th>\n",
              "      <th>NumberOfTimes90DaysLate</th>\n",
              "      <th>NumberRealEstateLoansOrLines</th>\n",
              "      <th>NumberOfTime60-89DaysPastDueNotWorse</th>\n",
              "      <th>NumberOfDependents</th>\n",
              "    </tr>\n",
              "  </thead>\n",
              "  <tbody>\n",
              "    <tr>\n",
              "      <th>count</th>\n",
              "      <td>149430.000000</td>\n",
              "      <td>149430.000000</td>\n",
              "      <td>149430.000000</td>\n",
              "      <td>149430.000000</td>\n",
              "      <td>149430.000000</td>\n",
              "      <td>149430.000000</td>\n",
              "      <td>1.494300e+05</td>\n",
              "      <td>149430.000000</td>\n",
              "      <td>149430.000000</td>\n",
              "      <td>149430.000000</td>\n",
              "      <td>149430.000000</td>\n",
              "      <td>149430.000000</td>\n",
              "    </tr>\n",
              "    <tr>\n",
              "      <th>mean</th>\n",
              "      <td>75005.875547</td>\n",
              "      <td>0.066981</td>\n",
              "      <td>0.322934</td>\n",
              "      <td>52.302891</td>\n",
              "      <td>0.268909</td>\n",
              "      <td>343.194528</td>\n",
              "      <td>6.430748e+03</td>\n",
              "      <td>8.453021</td>\n",
              "      <td>0.121080</td>\n",
              "      <td>1.016516</td>\n",
              "      <td>0.084541</td>\n",
              "      <td>0.736492</td>\n",
              "    </tr>\n",
              "    <tr>\n",
              "      <th>std</th>\n",
              "      <td>43305.390572</td>\n",
              "      <td>0.249990</td>\n",
              "      <td>0.370479</td>\n",
              "      <td>14.778205</td>\n",
              "      <td>0.882467</td>\n",
              "      <td>2017.963229</td>\n",
              "      <td>1.290929e+04</td>\n",
              "      <td>5.147064</td>\n",
              "      <td>0.865687</td>\n",
              "      <td>1.129874</td>\n",
              "      <td>0.568716</td>\n",
              "      <td>1.106125</td>\n",
              "    </tr>\n",
              "    <tr>\n",
              "      <th>min</th>\n",
              "      <td>1.000000</td>\n",
              "      <td>0.000000</td>\n",
              "      <td>0.000000</td>\n",
              "      <td>21.000000</td>\n",
              "      <td>0.000000</td>\n",
              "      <td>0.000000</td>\n",
              "      <td>0.000000e+00</td>\n",
              "      <td>0.000000</td>\n",
              "      <td>0.000000</td>\n",
              "      <td>0.000000</td>\n",
              "      <td>0.000000</td>\n",
              "      <td>0.000000</td>\n",
              "    </tr>\n",
              "    <tr>\n",
              "      <th>25%</th>\n",
              "      <td>37502.250000</td>\n",
              "      <td>0.000000</td>\n",
              "      <td>0.029746</td>\n",
              "      <td>41.000000</td>\n",
              "      <td>0.000000</td>\n",
              "      <td>0.174474</td>\n",
              "      <td>3.925000e+03</td>\n",
              "      <td>5.000000</td>\n",
              "      <td>0.000000</td>\n",
              "      <td>0.000000</td>\n",
              "      <td>0.000000</td>\n",
              "      <td>0.000000</td>\n",
              "    </tr>\n",
              "    <tr>\n",
              "      <th>50%</th>\n",
              "      <td>75009.500000</td>\n",
              "      <td>0.000000</td>\n",
              "      <td>0.153441</td>\n",
              "      <td>52.000000</td>\n",
              "      <td>0.000000</td>\n",
              "      <td>0.365473</td>\n",
              "      <td>5.400000e+03</td>\n",
              "      <td>8.000000</td>\n",
              "      <td>0.000000</td>\n",
              "      <td>1.000000</td>\n",
              "      <td>0.000000</td>\n",
              "      <td>0.000000</td>\n",
              "    </tr>\n",
              "    <tr>\n",
              "      <th>75%</th>\n",
              "      <td>112514.750000</td>\n",
              "      <td>0.000000</td>\n",
              "      <td>0.555937</td>\n",
              "      <td>63.000000</td>\n",
              "      <td>0.000000</td>\n",
              "      <td>0.856049</td>\n",
              "      <td>7.400000e+03</td>\n",
              "      <td>11.000000</td>\n",
              "      <td>0.000000</td>\n",
              "      <td>2.000000</td>\n",
              "      <td>0.000000</td>\n",
              "      <td>1.000000</td>\n",
              "    </tr>\n",
              "    <tr>\n",
              "      <th>max</th>\n",
              "      <td>150000.000000</td>\n",
              "      <td>1.000000</td>\n",
              "      <td>12.462747</td>\n",
              "      <td>109.000000</td>\n",
              "      <td>13.000000</td>\n",
              "      <td>329664.000000</td>\n",
              "      <td>3.008750e+06</td>\n",
              "      <td>58.000000</td>\n",
              "      <td>17.000000</td>\n",
              "      <td>54.000000</td>\n",
              "      <td>11.000000</td>\n",
              "      <td>20.000000</td>\n",
              "    </tr>\n",
              "  </tbody>\n",
              "</table>\n",
              "</div>"
            ],
            "text/plain": [
              "          Unnamed: 0  ...  NumberOfDependents\n",
              "count  149430.000000  ...       149430.000000\n",
              "mean    75005.875547  ...            0.736492\n",
              "std     43305.390572  ...            1.106125\n",
              "min         1.000000  ...            0.000000\n",
              "25%     37502.250000  ...            0.000000\n",
              "50%     75009.500000  ...            0.000000\n",
              "75%    112514.750000  ...            1.000000\n",
              "max    150000.000000  ...           20.000000\n",
              "\n",
              "[8 rows x 12 columns]"
            ]
          },
          "metadata": {
            "tags": []
          },
          "execution_count": 28
        }
      ]
    },
    {
      "cell_type": "code",
      "metadata": {
        "colab": {
          "base_uri": "https://localhost:8080/"
        },
        "id": "R1DFsVwjZIII",
        "outputId": "2bcc576b-3061-4851-ec81-e787852f870e"
      },
      "source": [
        "SeriousDlqIn2Yrs = df['SeriousDlqin2yrs']\r\n",
        "CustomerID = df['Unnamed: 0']\r\n",
        "df.drop(['SeriousDlqin2yrs','Unnamed: 0'], axis = 1 , inplace = True)"
      ],
      "execution_count": null,
      "outputs": [
        {
          "output_type": "stream",
          "text": [
            "/usr/local/lib/python3.7/dist-packages/pandas/core/frame.py:4174: SettingWithCopyWarning: \n",
            "A value is trying to be set on a copy of a slice from a DataFrame\n",
            "\n",
            "See the caveats in the documentation: https://pandas.pydata.org/pandas-docs/stable/user_guide/indexing.html#returning-a-view-versus-a-copy\n",
            "  errors=errors,\n"
          ],
          "name": "stderr"
        }
      ]
    },
    {
      "cell_type": "code",
      "metadata": {
        "colab": {
          "base_uri": "https://localhost:8080/"
        },
        "id": "S-72tSq5ZOXR",
        "outputId": "2169058b-d67c-497d-e72c-9a81f7cb1026"
      },
      "source": [
        "df.info()"
      ],
      "execution_count": null,
      "outputs": [
        {
          "output_type": "stream",
          "text": [
            "<class 'pandas.core.frame.DataFrame'>\n",
            "Int64Index: 149430 entries, 0 to 149999\n",
            "Data columns (total 15 columns):\n",
            " #   Column                                Non-Null Count   Dtype  \n",
            "---  ------                                --------------   -----  \n",
            " 0   RevolvingUtilizationOfUnsecuredLines  149430 non-null  float64\n",
            " 1   age                                   149430 non-null  int64  \n",
            " 2   NumberOfTime30-59DaysPastDueNotWorse  149430 non-null  int64  \n",
            " 3   DebtRatio                             149430 non-null  float64\n",
            " 4   MonthlyIncome                         149430 non-null  float64\n",
            " 5   NumberOfOpenCreditLinesAndLoans       149430 non-null  int64  \n",
            " 6   NumberOfTimes90DaysLate               149430 non-null  int64  \n",
            " 7   NumberRealEstateLoansOrLines          149430 non-null  int64  \n",
            " 8   NumberOfTime60-89DaysPastDueNotWorse  149430 non-null  int64  \n",
            " 9   NumberOfDependents                    149430 non-null  float64\n",
            " 10  MonthlyDebt                           149430 non-null  float64\n",
            " 11  Retired                               149430 non-null  int64  \n",
            " 12  hasMultipleRealEstates                149430 non-null  int64  \n",
            " 13  RevolvingLines                        149430 non-null  int64  \n",
            " 14  hasRevolvingLines                     149430 non-null  int64  \n",
            "dtypes: float64(5), int64(10)\n",
            "memory usage: 18.2 MB\n"
          ],
          "name": "stdout"
        }
      ]
    },
    {
      "cell_type": "markdown",
      "metadata": {
        "id": "bkpP3Rvva9Bq"
      },
      "source": [
        "Now the dataset contains 149430 entries and without missing value "
      ]
    },
    {
      "cell_type": "markdown",
      "metadata": {
        "id": "2albklqLbwIG"
      },
      "source": [
        "**Adding some new features:**\r\n",
        "1. MonthlyDebt: Monthly Income multiplied by the Debt Ratio\r\n",
        "2. Retired: Person whose monthly income is 0 and age is greater than 65 (Assumed Retirement Age)\r\n",
        "3. MultipleRealEstates: If the Number of Real Estates is greater than 2\r\n",
        "4. Revolving lines : shows how manythe left over credit lines haven't been used\r\n",
        "5. has revolving lines is a dummy variable, 1 if some open credit lines haven't been used and 0 otherwise. "
      ]
    },
    {
      "cell_type": "code",
      "metadata": {
        "colab": {
          "base_uri": "https://localhost:8080/"
        },
        "id": "GPgGoIoEbUKl",
        "outputId": "d79d19f8-78eb-4b00-9791-8feed9b961dc"
      },
      "source": [
        "df['MonthlyDebt'] = df['MonthlyIncome']*df['DebtRatio']\r\n",
        "df['MonthlyDebt'].fillna(df['DebtRatio'],inplace=True)\r\n",
        "df['MonthlyDebt'] = np.where(df['MonthlyDebt']==0, df['DebtRatio'],df['MonthlyDebt'])\r\n",
        "\r\n",
        "df['Retired'] = np.where((df['age'] > 65), 1, 0)\r\n",
        "\r\n",
        "df['hasMultipleRealEstates'] = np.where((df['NumberRealEstateLoansOrLines']>=2),1,0)\r\n",
        "\r\n",
        "df['RevolvingLines'] = df['NumberOfOpenCreditLinesAndLoans']-df['NumberRealEstateLoansOrLines']\r\n",
        "df['hasRevolvingLines']=np.where((df['RevolvingLines']>0),1,0)\r\n"
      ],
      "execution_count": null,
      "outputs": [
        {
          "output_type": "stream",
          "text": [
            "/usr/local/lib/python3.7/dist-packages/ipykernel_launcher.py:1: SettingWithCopyWarning: \n",
            "A value is trying to be set on a copy of a slice from a DataFrame.\n",
            "Try using .loc[row_indexer,col_indexer] = value instead\n",
            "\n",
            "See the caveats in the documentation: https://pandas.pydata.org/pandas-docs/stable/user_guide/indexing.html#returning-a-view-versus-a-copy\n",
            "  \"\"\"Entry point for launching an IPython kernel.\n",
            "/usr/local/lib/python3.7/dist-packages/pandas/core/series.py:4536: SettingWithCopyWarning: \n",
            "A value is trying to be set on a copy of a slice from a DataFrame\n",
            "\n",
            "See the caveats in the documentation: https://pandas.pydata.org/pandas-docs/stable/user_guide/indexing.html#returning-a-view-versus-a-copy\n",
            "  downcast=downcast,\n",
            "/usr/local/lib/python3.7/dist-packages/ipykernel_launcher.py:3: SettingWithCopyWarning: \n",
            "A value is trying to be set on a copy of a slice from a DataFrame.\n",
            "Try using .loc[row_indexer,col_indexer] = value instead\n",
            "\n",
            "See the caveats in the documentation: https://pandas.pydata.org/pandas-docs/stable/user_guide/indexing.html#returning-a-view-versus-a-copy\n",
            "  This is separate from the ipykernel package so we can avoid doing imports until\n",
            "/usr/local/lib/python3.7/dist-packages/ipykernel_launcher.py:5: SettingWithCopyWarning: \n",
            "A value is trying to be set on a copy of a slice from a DataFrame.\n",
            "Try using .loc[row_indexer,col_indexer] = value instead\n",
            "\n",
            "See the caveats in the documentation: https://pandas.pydata.org/pandas-docs/stable/user_guide/indexing.html#returning-a-view-versus-a-copy\n",
            "  \"\"\"\n",
            "/usr/local/lib/python3.7/dist-packages/ipykernel_launcher.py:7: SettingWithCopyWarning: \n",
            "A value is trying to be set on a copy of a slice from a DataFrame.\n",
            "Try using .loc[row_indexer,col_indexer] = value instead\n",
            "\n",
            "See the caveats in the documentation: https://pandas.pydata.org/pandas-docs/stable/user_guide/indexing.html#returning-a-view-versus-a-copy\n",
            "  import sys\n",
            "/usr/local/lib/python3.7/dist-packages/ipykernel_launcher.py:9: SettingWithCopyWarning: \n",
            "A value is trying to be set on a copy of a slice from a DataFrame.\n",
            "Try using .loc[row_indexer,col_indexer] = value instead\n",
            "\n",
            "See the caveats in the documentation: https://pandas.pydata.org/pandas-docs/stable/user_guide/indexing.html#returning-a-view-versus-a-copy\n",
            "  if __name__ == '__main__':\n",
            "/usr/local/lib/python3.7/dist-packages/ipykernel_launcher.py:10: SettingWithCopyWarning: \n",
            "A value is trying to be set on a copy of a slice from a DataFrame.\n",
            "Try using .loc[row_indexer,col_indexer] = value instead\n",
            "\n",
            "See the caveats in the documentation: https://pandas.pydata.org/pandas-docs/stable/user_guide/indexing.html#returning-a-view-versus-a-copy\n",
            "  # Remove the CWD from sys.path while we load stuff.\n"
          ],
          "name": "stderr"
        }
      ]
    },
    {
      "cell_type": "code",
      "metadata": {
        "colab": {
          "base_uri": "https://localhost:8080/"
        },
        "id": "K9vFg9YEjfhx",
        "outputId": "0e06d027-06f1-46da-be0b-1fcd122f29f7"
      },
      "source": [
        "df.info()"
      ],
      "execution_count": null,
      "outputs": [
        {
          "output_type": "stream",
          "text": [
            "<class 'pandas.core.frame.DataFrame'>\n",
            "Int64Index: 149430 entries, 0 to 149999\n",
            "Data columns (total 15 columns):\n",
            " #   Column                                Non-Null Count   Dtype  \n",
            "---  ------                                --------------   -----  \n",
            " 0   RevolvingUtilizationOfUnsecuredLines  149430 non-null  float64\n",
            " 1   age                                   149430 non-null  int64  \n",
            " 2   NumberOfTime30-59DaysPastDueNotWorse  149430 non-null  int64  \n",
            " 3   DebtRatio                             149430 non-null  float64\n",
            " 4   MonthlyIncome                         149430 non-null  float64\n",
            " 5   NumberOfOpenCreditLinesAndLoans       149430 non-null  int64  \n",
            " 6   NumberOfTimes90DaysLate               149430 non-null  int64  \n",
            " 7   NumberRealEstateLoansOrLines          149430 non-null  int64  \n",
            " 8   NumberOfTime60-89DaysPastDueNotWorse  149430 non-null  int64  \n",
            " 9   NumberOfDependents                    149430 non-null  float64\n",
            " 10  MonthlyDebt                           149430 non-null  float64\n",
            " 11  Retired                               149430 non-null  int64  \n",
            " 12  hasMultipleRealEstates                149430 non-null  int64  \n",
            " 13  RevolvingLines                        149430 non-null  int64  \n",
            " 14  hasRevolvingLines                     149430 non-null  int64  \n",
            "dtypes: float64(5), int64(10)\n",
            "memory usage: 18.2 MB\n"
          ],
          "name": "stdout"
        }
      ]
    },
    {
      "cell_type": "code",
      "metadata": {
        "colab": {
          "base_uri": "https://localhost:8080/"
        },
        "id": "YxUB8KRMNlDP",
        "outputId": "42f80bbb-c365-4d5e-b346-676d76e11915"
      },
      "source": [
        "df.shape"
      ],
      "execution_count": null,
      "outputs": [
        {
          "output_type": "execute_result",
          "data": {
            "text/plain": [
              "(149430, 15)"
            ]
          },
          "metadata": {
            "tags": []
          },
          "execution_count": 39
        }
      ]
    },
    {
      "cell_type": "code",
      "metadata": {
        "colab": {
          "base_uri": "https://localhost:8080/"
        },
        "id": "jprTqcc0gaar",
        "outputId": "9179b9b2-0f77-49d9-b819-34ef40468a6e"
      },
      "source": [
        "SeriousDlqIn2Yrs.value_counts()"
      ],
      "execution_count": null,
      "outputs": [
        {
          "output_type": "execute_result",
          "data": {
            "text/plain": [
              "0    139421\n",
              "1     10009\n",
              "Name: SeriousDlqin2yrs, dtype: int64"
            ]
          },
          "metadata": {
            "tags": []
          },
          "execution_count": 40
        }
      ]
    },
    {
      "cell_type": "code",
      "metadata": {
        "colab": {
          "base_uri": "https://localhost:8080/",
          "height": 47
        },
        "id": "NnwdH1GOd50D",
        "outputId": "8bccdadf-aeda-4f37-d9f8-8b2c097232d2"
      },
      "source": [
        "MissingHandler(df)"
      ],
      "execution_count": null,
      "outputs": [
        {
          "output_type": "execute_result",
          "data": {
            "text/html": [
              "<div>\n",
              "<style scoped>\n",
              "    .dataframe tbody tr th:only-of-type {\n",
              "        vertical-align: middle;\n",
              "    }\n",
              "\n",
              "    .dataframe tbody tr th {\n",
              "        vertical-align: top;\n",
              "    }\n",
              "\n",
              "    .dataframe thead th {\n",
              "        text-align: right;\n",
              "    }\n",
              "</style>\n",
              "<table border=\"1\" class=\"dataframe\">\n",
              "  <thead>\n",
              "    <tr style=\"text-align: right;\">\n",
              "      <th></th>\n",
              "      <th>Percentage Nulls</th>\n",
              "    </tr>\n",
              "  </thead>\n",
              "  <tbody>\n",
              "  </tbody>\n",
              "</table>\n",
              "</div>"
            ],
            "text/plain": [
              "Empty DataFrame\n",
              "Columns: [Percentage Nulls]\n",
              "Index: []"
            ]
          },
          "metadata": {
            "tags": []
          },
          "execution_count": 42
        }
      ]
    },
    {
      "cell_type": "code",
      "metadata": {
        "colab": {
          "base_uri": "https://localhost:8080/"
        },
        "id": "XajYvW0hXLPZ",
        "outputId": "88de718f-6f9b-46ca-fde8-82e31eb9f90b"
      },
      "source": [
        "X = df\r\n",
        "y = SeriousDlqIn2Yrs\r\n",
        "X.shape, y.shape"
      ],
      "execution_count": null,
      "outputs": [
        {
          "output_type": "execute_result",
          "data": {
            "text/plain": [
              "((149430, 15), (149430,))"
            ]
          },
          "metadata": {
            "tags": []
          },
          "execution_count": 43
        }
      ]
    },
    {
      "cell_type": "markdown",
      "metadata": {
        "id": "dwQ-QF1vfMcK"
      },
      "source": [
        "**Step 4: Model Training**\r\n",
        "\r\n"
      ]
    },
    {
      "cell_type": "markdown",
      "metadata": {
        "id": "dPTLkwHTjlwf"
      },
      "source": [
        "**4.1 Logistic regression**"
      ]
    },
    {
      "cell_type": "code",
      "metadata": {
        "id": "nQShKOZXsEzg"
      },
      "source": [
        "X_train, X_test, y_train, y_test = train_test_split(X, y, test_size=0.30, shuffle=True, random_state=11, stratify=y)\r\n",
        "logit = LogisticRegression(random_state=11, solver=\"saga\", penalty=\"l1\", class_weight=\"balanced\", C=1.0, max_iter=500)\r\n",
        "scaler = StandardScaler().fit(X_train)\r\n",
        "\r\n"
      ],
      "execution_count": null,
      "outputs": []
    },
    {
      "cell_type": "code",
      "metadata": {
        "id": "yjeacB7Ys7Rj"
      },
      "source": [
        "X_train_scaled = scaler.transform(X_train) #scaling features!\r\n",
        "X_test_scaled = scaler.transform(X_test)"
      ],
      "execution_count": null,
      "outputs": []
    },
    {
      "cell_type": "code",
      "metadata": {
        "colab": {
          "base_uri": "https://localhost:8080/"
        },
        "id": "jB5fh9EntERU",
        "outputId": "fd605be7-5161-4902-b54a-06b33211c7ff"
      },
      "source": [
        "logit.fit(X_train_scaled, y_train)\r\n",
        "logit_scores_proba = logit.predict_proba(X_train_scaled)\r\n",
        "logit_scores = logit_scores_proba[:,1]"
      ],
      "execution_count": 131,
      "outputs": [
        {
          "output_type": "stream",
          "text": [
            "/usr/local/lib/python3.7/dist-packages/sklearn/linear_model/_sag.py:330: ConvergenceWarning: The max_iter was reached which means the coef_ did not converge\n",
            "  \"the coef_ did not converge\", ConvergenceWarning)\n"
          ],
          "name": "stderr"
        }
      ]
    },
    {
      "cell_type": "code",
      "metadata": {
        "id": "exWiLFoJlhm2"
      },
      "source": [
        "yPredlogit = logit.predict(X_test)"
      ],
      "execution_count": 132,
      "outputs": []
    },
    {
      "cell_type": "code",
      "metadata": {
        "colab": {
          "base_uri": "https://localhost:8080/"
        },
        "id": "7xmD3AAUuucf",
        "outputId": "8e12c157-8e1b-490f-e9ca-9a568e780939"
      },
      "source": [
        "cv = cross_validate(estimator=logit, X=X_train_scaled, y=y_train, scoring=[\"f1\", \"recall\", \"precision\", \"accuracy\"], cv=10, n_jobs=-1, return_train_score=True, verbose=1)"
      ],
      "execution_count": null,
      "outputs": [
        {
          "output_type": "stream",
          "text": [
            "[Parallel(n_jobs=-1)]: Using backend LokyBackend with 2 concurrent workers.\n",
            "[Parallel(n_jobs=-1)]: Done  10 out of  10 | elapsed:  2.5min finished\n"
          ],
          "name": "stderr"
        }
      ]
    },
    {
      "cell_type": "code",
      "metadata": {
        "colab": {
          "base_uri": "https://localhost:8080/"
        },
        "id": "Wo5zHXRSwIUz",
        "outputId": "6d42a646-8121-42b4-d64d-ad76c62bcdbc"
      },
      "source": [
        "cv"
      ],
      "execution_count": null,
      "outputs": [
        {
          "output_type": "execute_result",
          "data": {
            "text/plain": [
              "{'fit_time': array([30.13099742, 30.19736862, 30.22932625, 30.52537394, 28.14227676,\n",
              "        30.41282034, 30.52726245, 25.24095345, 30.07955217, 29.25396681]),\n",
              " 'score_time': array([0.02550912, 0.02721691, 0.02380395, 0.02319479, 0.02390122,\n",
              "        0.0243845 , 0.02361465, 0.0236876 , 0.02371287, 0.01437187]),\n",
              " 'test_accuracy': array([0.80097505, 0.79655832, 0.79674952, 0.79282983, 0.79359465,\n",
              "        0.7998088 , 0.80516252, 0.80248566, 0.79913958, 0.79646272]),\n",
              " 'test_f1': array([0.33397313, 0.32229299, 0.33312422, 0.3200502 , 0.32720474,\n",
              "        0.33734177, 0.34553629, 0.3403576 , 0.31719207, 0.32605255]),\n",
              " 'test_precision': array([0.21525773, 0.20746207, 0.21351025, 0.20514883, 0.20933014,\n",
              "        0.21675478, 0.22286661, 0.21916118, 0.2053008 , 0.20943473]),\n",
              " 'test_recall': array([0.7446505 , 0.72182596, 0.7574893 , 0.7275321 , 0.7489301 ,\n",
              "        0.76034237, 0.76857143, 0.76142857, 0.69714286, 0.73571429]),\n",
              " 'train_accuracy': array([0.79890588, 0.79984279, 0.79717658, 0.79852562, 0.79697475,\n",
              "        0.79886553, 0.79744213, 0.79745276, 0.79952412, 0.79770769]),\n",
              " 'train_f1': array([0.33079996, 0.33221108, 0.32899916, 0.33132381, 0.32915658,\n",
              "        0.33027977, 0.32862726, 0.32873337, 0.33289739, 0.32962546]),\n",
              " 'train_precision': array([0.21283661, 0.21390106, 0.21132229, 0.21300997, 0.2113495 ,\n",
              "        0.21253642, 0.21120514, 0.21126697, 0.21419149, 0.21183603]),\n",
              " 'train_recall': array([0.74210944, 0.74337827, 0.74242665, 0.74528152, 0.74369548,\n",
              "        0.74052339, 0.7400888 , 0.74040596, 0.74674913, 0.74246749])}"
            ]
          },
          "metadata": {
            "tags": []
          },
          "execution_count": 48
        }
      ]
    },
    {
      "cell_type": "code",
      "metadata": {
        "colab": {
          "base_uri": "https://localhost:8080/"
        },
        "id": "KY-mdKxjwNr2",
        "outputId": "96420de7-cf61-4c0e-c994-505cc5cccabf"
      },
      "source": [
        "print(f\"Accuracy (Tr/Te): {np.mean(cv['train_accuracy']) * 100:.2f}%/{np.mean(cv['test_accuracy']) * 100:.2f}%\")\r\n",
        "print(f\"Recall (Tr/Te): {np.mean(cv['train_recall']) * 100:.2f}%/{np.mean(cv['test_recall']) * 100:.2f}%\")\r\n",
        "print(f\"Precision (Tr/Te): {np.mean(cv['train_precision']) * 100:.2f}%/{np.mean(cv['test_precision']) * 100:.2f}%\")\r\n",
        "print(f\"F1 (Tr/Te): {np.mean(cv['train_f1']) * 100:.2f}%/{np.mean(cv['test_f1']) * 100:.2f}%\")"
      ],
      "execution_count": null,
      "outputs": [
        {
          "output_type": "stream",
          "text": [
            "Accuracy (Tr/Te): 79.82%/79.84%\n",
            "Recall (Tr/Te): 74.27%/74.24%\n",
            "Precision (Tr/Te): 21.23%/21.24%\n",
            "F1 (Tr/Te): 33.03%/33.03%\n"
          ],
          "name": "stdout"
        }
      ]
    },
    {
      "cell_type": "code",
      "metadata": {
        "colab": {
          "base_uri": "https://localhost:8080/",
          "height": 293
        },
        "id": "AU2PkILCwl3R",
        "outputId": "0d0614a7-5992-453a-9b00-feb1698b1cde"
      },
      "source": [
        "fig, ax = plt.subplots(1, 1)\r\n",
        "disp = plot_confusion_matrix(\r\n",
        "    logit, X_test, y_test,\r\n",
        "    normalize='true', \r\n",
        "    display_labels=['1', '0'], \r\n",
        "    values_format='.4f', \r\n",
        "    ax=ax)\r\n",
        "ax.set_title('Confusion matrix, normalized')\r\n",
        "ax.xaxis.tick_top()\r\n",
        "ax.xaxis.set_label_position('top')"
      ],
      "execution_count": 149,
      "outputs": [
        {
          "output_type": "display_data",
          "data": {
            "image/png": "[encoded data removed]",
            "text/plain": [
              "<Figure size 432x288 with 2 Axes>"
            ]
          },
          "metadata": {
            "tags": [],
            "needs_background": "light"
          }
        }
      ]
    },
    {
      "cell_type": "markdown",
      "metadata": {
        "id": "tsGjd4Fux4mW"
      },
      "source": [
        "**4.2 Random Forest**"
      ]
    },
    {
      "cell_type": "code",
      "metadata": {
        "id": "Qi-TVRk_4-Ee"
      },
      "source": [
        "X_trainFR, X_testFR, y_trainFR, y_testFR = train_test_split(X, y, test_size=0.30, shuffle=True, random_state=11, stratify=y)"
      ],
      "execution_count": null,
      "outputs": []
    },
    {
      "cell_type": "code",
      "metadata": {
        "id": "Cz9NOyvrQ5yb",
        "colab": {
          "base_uri": "https://localhost:8080/"
        },
        "outputId": "6027260c-1144-4b2e-9b3c-e42647f009dc"
      },
      "source": [
        "X_trainFR.shape, y_trainFR.shape"
      ],
      "execution_count": null,
      "outputs": [
        {
          "output_type": "execute_result",
          "data": {
            "text/plain": [
              "((104601, 15), (104601,))"
            ]
          },
          "metadata": {
            "tags": []
          },
          "execution_count": 79
        }
      ]
    },
    {
      "cell_type": "code",
      "metadata": {
        "colab": {
          "base_uri": "https://localhost:8080/"
        },
        "id": "qxjDhFG3iYwc",
        "outputId": "33d66ae6-07e8-4322-8f27-4711c9fa9dea"
      },
      "source": [
        "X_testFR.shape, y_testFR.shape"
      ],
      "execution_count": null,
      "outputs": [
        {
          "output_type": "execute_result",
          "data": {
            "text/plain": [
              "((44829, 15), (44829,))"
            ]
          },
          "metadata": {
            "tags": []
          },
          "execution_count": 80
        }
      ]
    },
    {
      "cell_type": "code",
      "metadata": {
        "colab": {
          "base_uri": "https://localhost:8080/"
        },
        "id": "PFrsGhocOso4",
        "outputId": "bf507c24-0a3d-438a-9a06-c670a2c5cc0d"
      },
      "source": [
        "pipeline = make_pipeline(\r\n",
        "    make_column_transformer(\r\n",
        "        (make_pipeline(\r\n",
        "            MinMaxScaler(),\r\n",
        "        ), [\"RevolvingUtilizationOfUnsecuredLines\", \"age\",\t\"NumberOfTime30-59DaysPastDueNotWorse\",\t\"DebtRatio\",\r\n",
        "            \"MonthlyIncome\",\t\"NumberOfOpenCreditLinesAndLoans\",\t\"NumberOfTimes90DaysLate\",\t\"NumberRealEstateLoansOrLines\",\t\r\n",
        "            \"NumberOfTime60-89DaysPastDueNotWorse\", \"NumberOfDependents\", \"MonthlyDebt\",\"RevolvingLines\"]),\r\n",
        "    remainder=\"passthrough\"),\r\n",
        "    #SMOTE(),\r\n",
        "    RandomUnderSampler(),\r\n",
        "    RandomForestClassifier(random_state=11, n_jobs=-1)\r\n",
        ")\r\n",
        "pipeline = pipeline.fit(X_trainFR, y_trainFR)"
      ],
      "execution_count": null,
      "outputs": [
        {
          "output_type": "stream",
          "text": [
            "/usr/local/lib/python3.7/dist-packages/sklearn/utils/deprecation.py:87: FutureWarning: Function safe_indexing is deprecated; safe_indexing is deprecated in version 0.22 and will be removed in version 0.24.\n",
            "  warnings.warn(msg, category=FutureWarning)\n"
          ],
          "name": "stderr"
        }
      ]
    },
    {
      "cell_type": "code",
      "metadata": {
        "id": "IiuM1w4aPykd"
      },
      "source": [
        "cv = cross_validate(pipeline, X_trainFR, y_trainFR, cv=10, scoring=[\"f1\"], n_jobs=-1, return_train_score=True)"
      ],
      "execution_count": null,
      "outputs": []
    },
    {
      "cell_type": "code",
      "metadata": {
        "id": "5KAkM04il2Eq"
      },
      "source": [
        "cv"
      ],
      "execution_count": null,
      "outputs": []
    },
    {
      "cell_type": "code",
      "metadata": {
        "colab": {
          "base_uri": "https://localhost:8080/"
        },
        "id": "5oYddGOQoCrm",
        "outputId": "2bd46f1a-d719-4db9-c426-aac90c365926"
      },
      "source": [
        "#UnderSampler\r\n",
        "print(f\"F1 score on the training set: {cv['train_f1'].mean() * 100:.2f}%\")\r\n",
        "print(f\"F1 score on the test set: {cv['test_f1'].mean() * 100:.2f}%\")"
      ],
      "execution_count": null,
      "outputs": [
        {
          "output_type": "stream",
          "text": [
            "F1 score on the training set: 41.85%\n",
            "F1 score on the test set: 32.36%\n"
          ],
          "name": "stdout"
        }
      ]
    },
    {
      "cell_type": "code",
      "metadata": {
        "colab": {
          "base_uri": "https://localhost:8080/"
        },
        "id": "Bg7RflKlnKbB",
        "outputId": "cab57e03-ffa2-4fd6-e95a-dc0a7b930d9c"
      },
      "source": [
        "#With over sampler (SMOTE) \r\n",
        "print(f\"F1 score on the training set: {cv['train_f1'].mean() * 100:.2f}%\")\r\n",
        "print(f\"F1 score on the test set: {cv['test_f1'].mean() * 100:.2f}%\")"
      ],
      "execution_count": null,
      "outputs": [
        {
          "output_type": "stream",
          "text": [
            "F1 score on the training set: 98.31%\n",
            "F1 score on the test set: 37.00%\n"
          ],
          "name": "stdout"
        }
      ]
    },
    {
      "cell_type": "markdown",
      "metadata": {
        "id": "PBQ0nZgP4K9N"
      },
      "source": [
        "It is clear that that over sampler method induce overfitting of the model, therfore, parameter tuning will be based on model with undersampling"
      ]
    },
    {
      "cell_type": "code",
      "metadata": {
        "colab": {
          "base_uri": "https://localhost:8080/",
          "height": 293
        },
        "id": "Sr26TWEbolt3",
        "outputId": "6780e358-ab75-4e10-dee7-a6de8e0277ea"
      },
      "source": [
        "fig, ax = plt.subplots(1, 1)\r\n",
        "disp = plot_confusion_matrix(pipeline\r\n",
        "    , X_testFR, y_testFR,\r\n",
        "    normalize='true', \r\n",
        "    display_labels=['1', '0'], \r\n",
        "    values_format='.4f',\r\n",
        "    ax=ax)\r\n",
        "ax.set_title('Confusion matrix, normalized')\r\n",
        "ax.xaxis.tick_top()\r\n",
        "ax.xaxis.set_label_position('top')"
      ],
      "execution_count": null,
      "outputs": [
        {
          "output_type": "display_data",
          "data": {
            "image/png": "[encoded data removed]",
            "text/plain": [
              "<Figure size 432x288 with 2 Axes>"
            ]
          },
          "metadata": {
            "tags": [],
            "needs_background": "light"
          }
        }
      ]
    },
    {
      "cell_type": "markdown",
      "metadata": {
        "id": "7SpP1xjDocsH"
      },
      "source": [
        "**Random forest Hyperparameter tuning**"
      ]
    },
    {
      "cell_type": "code",
      "metadata": {
        "id": "EER26HKcmYSs"
      },
      "source": [
        "from scipy.stats import uniform, truncnorm, randint\r\n",
        "distributions = {\r\n",
        "    \"randomforestclassifier__n_estimators\": randint(low=100, high=500),\r\n",
        "    \"randomforestclassifier__max_depth\": randint(low=50, high=200),\r\n",
        "    \"randomforestclassifier__max_features\": truncnorm(a=0, b=1, loc=0.25, scale=0.1), \r\n",
        "    \"randomforestclassifier__min_samples_split\": uniform(0.01, 0.199),\r\n",
        "    \"randomforestclassifier__min_samples_leaf\" : randint(low=1, high=4)\r\n",
        "}"
      ],
      "execution_count": 173,
      "outputs": []
    },
    {
      "cell_type": "code",
      "metadata": {
        "colab": {
          "base_uri": "https://localhost:8080/"
        },
        "id": "pAE9L2dWmaR0",
        "outputId": "70387837-0f60-41f8-8303-ff8adfe506fc"
      },
      "source": [
        "model = RandomizedSearchCV(pipeline, distributions, n_iter=3, \r\n",
        "                           scoring=None, n_jobs=-1, random_state=11, cv=5, verbose=1,\r\n",
        "                           return_train_score=True, refit=True)\r\n",
        "model = model.fit(X_trainFR, y_trainFR)"
      ],
      "execution_count": 174,
      "outputs": [
        {
          "output_type": "stream",
          "text": [
            "Fitting 5 folds for each of 3 candidates, totalling 15 fits\n"
          ],
          "name": "stdout"
        },
        {
          "output_type": "stream",
          "text": [
            "[Parallel(n_jobs=-1)]: Using backend LokyBackend with 2 concurrent workers.\n",
            "[Parallel(n_jobs=-1)]: Done  15 out of  15 | elapsed:  6.2min finished\n",
            "/usr/local/lib/python3.7/dist-packages/sklearn/utils/deprecation.py:87: FutureWarning: Function safe_indexing is deprecated; safe_indexing is deprecated in version 0.22 and will be removed in version 0.24.\n",
            "  warnings.warn(msg, category=FutureWarning)\n"
          ],
          "name": "stderr"
        }
      ]
    },
    {
      "cell_type": "code",
      "metadata": {
        "colab": {
          "base_uri": "https://localhost:8080/"
        },
        "id": "JRGUt6uq36Ae",
        "outputId": "cb732ff3-7813-4159-f485-c706c6b3ae95"
      },
      "source": [
        "print(f\"F1 score on the training set: {model.cv_results_['mean_train_score'][model.best_index_] * 100:.2f}%\")\r\n",
        "print(f\"F1 score on the test set: {model.cv_results_['mean_test_score'][model.best_index_] * 100:.2f}%\")"
      ],
      "execution_count": 175,
      "outputs": [
        {
          "output_type": "stream",
          "text": [
            "F1 score on the training set: 80.40%\n",
            "F1 score on the test set: 80.33%\n"
          ],
          "name": "stdout"
        }
      ]
    },
    {
      "cell_type": "code",
      "metadata": {
        "id": "RYEep_4141-J",
        "colab": {
          "base_uri": "https://localhost:8080/"
        },
        "outputId": "43908019-e4ca-4105-c91e-0615501db8d3"
      },
      "source": [
        "model.best_params_"
      ],
      "execution_count": 176,
      "outputs": [
        {
          "output_type": "execute_result",
          "data": {
            "text/plain": [
              "{'randomforestclassifier__max_depth': 132,\n",
              " 'randomforestclassifier__max_features': 0.2694341746045786,\n",
              " 'randomforestclassifier__min_samples_leaf': 1,\n",
              " 'randomforestclassifier__min_samples_split': 0.10698694985665445,\n",
              " 'randomforestclassifier__n_estimators': 401}"
            ]
          },
          "metadata": {
            "tags": []
          },
          "execution_count": 176
        }
      ]
    },
    {
      "cell_type": "code",
      "metadata": {
        "id": "RSsMaLqq3F0B"
      },
      "source": [
        "model.cv_results_"
      ],
      "execution_count": null,
      "outputs": []
    },
    {
      "cell_type": "code",
      "metadata": {
        "id": "e77h8BkE5d-q"
      },
      "source": [
        "y_predFR =model.predict(X_testFR)"
      ],
      "execution_count": 177,
      "outputs": []
    },
    {
      "cell_type": "code",
      "metadata": {
        "colab": {
          "base_uri": "https://localhost:8080/"
        },
        "id": "K3Aec8EI5n2B",
        "outputId": "f70bc267-fdb1-4342-cbb3-ec765b3b764f"
      },
      "source": [
        "y_predFR"
      ],
      "execution_count": 178,
      "outputs": [
        {
          "output_type": "execute_result",
          "data": {
            "text/plain": [
              "array([0, 0, 0, ..., 0, 1, 0], dtype=int64)"
            ]
          },
          "metadata": {
            "tags": []
          },
          "execution_count": 178
        }
      ]
    },
    {
      "cell_type": "code",
      "metadata": {
        "colab": {
          "base_uri": "https://localhost:8080/",
          "height": 35
        },
        "id": "wYYIrh7A5uTX",
        "outputId": "3a2ec6df-4b45-487f-fb23-ba80a74b4047"
      },
      "source": [
        "f\"F1 score on final test set: {f1_score(y_testFR, y_predFR) *100:.2f}%\""
      ],
      "execution_count": 179,
      "outputs": [
        {
          "output_type": "execute_result",
          "data": {
            "application/vnd.google.colaboratory.intrinsic+json": {
              "type": "string"
            },
            "text/plain": [
              "'F1 score on final test set: 33.39%'"
            ]
          },
          "metadata": {
            "tags": []
          },
          "execution_count": 179
        }
      ]
    },
    {
      "cell_type": "code",
      "metadata": {
        "colab": {
          "base_uri": "https://localhost:8080/",
          "height": 294
        },
        "id": "H8GmnIuEANZb",
        "outputId": "3051f633-297a-46ad-920c-e3fcdae210e2"
      },
      "source": [
        "fig, ax = plt.subplots(1, 1)\r\n",
        "disp = plot_confusion_matrix(\r\n",
        "    model, X_testFR, y_testFR,\r\n",
        "    normalize='true', \r\n",
        "    display_labels=['1', '0'], \r\n",
        "    values_format='.4f',\r\n",
        "    ax=ax)\r\n",
        "ax.set_title('Confusion matrix, normalized')\r\n",
        "ax.xaxis.tick_top()\r\n",
        "ax.xaxis.set_label_position('top')"
      ],
      "execution_count": 112,
      "outputs": [
        {
          "output_type": "display_data",
          "data": {
            "image/png": "[encoded data removed]",
            "text/plain": [
              "<Figure size 432x288 with 2 Axes>"
            ]
          },
          "metadata": {
            "tags": [],
            "needs_background": "light"
          }
        }
      ]
    },
    {
      "cell_type": "code",
      "metadata": {
        "id": "cV_IF54GzziN"
      },
      "source": [
        "model_probs = model.predict_proba(df)\r\n",
        "modelDF = pd.DataFrame({'ID': CustomerID, 'Probability': model_probs[:,1]})\r\n",
        "modelDF.to_csv('Predicted.csv', index=False)"
      ],
      "execution_count": 113,
      "outputs": []
    },
    {
      "cell_type": "code",
      "metadata": {
        "colab": {
          "base_uri": "https://localhost:8080/",
          "height": 402
        },
        "id": "RYKNN2K8_qmj",
        "outputId": "1b517c68-f684-47ec-89b0-343347f24757"
      },
      "source": [
        "modelDF"
      ],
      "execution_count": 114,
      "outputs": [
        {
          "output_type": "execute_result",
          "data": {
            "text/html": [
              "<div>\n",
              "<style scoped>\n",
              "    .dataframe tbody tr th:only-of-type {\n",
              "        vertical-align: middle;\n",
              "    }\n",
              "\n",
              "    .dataframe tbody tr th {\n",
              "        vertical-align: top;\n",
              "    }\n",
              "\n",
              "    .dataframe thead th {\n",
              "        text-align: right;\n",
              "    }\n",
              "</style>\n",
              "<table border=\"1\" class=\"dataframe\">\n",
              "  <thead>\n",
              "    <tr style=\"text-align: right;\">\n",
              "      <th></th>\n",
              "      <th>ID</th>\n",
              "      <th>Probability</th>\n",
              "    </tr>\n",
              "  </thead>\n",
              "  <tbody>\n",
              "    <tr>\n",
              "      <th>0</th>\n",
              "      <td>1</td>\n",
              "      <td>0.667688</td>\n",
              "    </tr>\n",
              "    <tr>\n",
              "      <th>1</th>\n",
              "      <td>2</td>\n",
              "      <td>0.563193</td>\n",
              "    </tr>\n",
              "    <tr>\n",
              "      <th>2</th>\n",
              "      <td>3</td>\n",
              "      <td>0.820011</td>\n",
              "    </tr>\n",
              "    <tr>\n",
              "      <th>3</th>\n",
              "      <td>4</td>\n",
              "      <td>0.310380</td>\n",
              "    </tr>\n",
              "    <tr>\n",
              "      <th>4</th>\n",
              "      <td>5</td>\n",
              "      <td>0.637241</td>\n",
              "    </tr>\n",
              "    <tr>\n",
              "      <th>...</th>\n",
              "      <td>...</td>\n",
              "      <td>...</td>\n",
              "    </tr>\n",
              "    <tr>\n",
              "      <th>149995</th>\n",
              "      <td>149996</td>\n",
              "      <td>0.180733</td>\n",
              "    </tr>\n",
              "    <tr>\n",
              "      <th>149996</th>\n",
              "      <td>149997</td>\n",
              "      <td>0.261216</td>\n",
              "    </tr>\n",
              "    <tr>\n",
              "      <th>149997</th>\n",
              "      <td>149998</td>\n",
              "      <td>0.250957</td>\n",
              "    </tr>\n",
              "    <tr>\n",
              "      <th>149998</th>\n",
              "      <td>149999</td>\n",
              "      <td>0.230995</td>\n",
              "    </tr>\n",
              "    <tr>\n",
              "      <th>149999</th>\n",
              "      <td>150000</td>\n",
              "      <td>0.400717</td>\n",
              "    </tr>\n",
              "  </tbody>\n",
              "</table>\n",
              "<p>149430 rows × 2 columns</p>\n",
              "</div>"
            ],
            "text/plain": [
              "            ID  Probability\n",
              "0            1     0.667688\n",
              "1            2     0.563193\n",
              "2            3     0.820011\n",
              "3            4     0.310380\n",
              "4            5     0.637241\n",
              "...        ...          ...\n",
              "149995  149996     0.180733\n",
              "149996  149997     0.261216\n",
              "149997  149998     0.250957\n",
              "149998  149999     0.230995\n",
              "149999  150000     0.400717\n",
              "\n",
              "[149430 rows x 2 columns]"
            ]
          },
          "metadata": {
            "tags": []
          },
          "execution_count": 114
        }
      ]
    },
    {
      "cell_type": "markdown",
      "metadata": {
        "id": "_DtmAoBQxL9F"
      },
      "source": [
        "**4.3 LightGBM**"
      ]
    },
    {
      "cell_type": "code",
      "metadata": {
        "id": "CoKImm8G7_-M"
      },
      "source": [
        "X_trainLG, X_testLG, y_trainLG, y_testLG = train_test_split(X, y, test_size=0.30, shuffle=True, random_state=11, stratify=y)\r\n",
        "logit = LogisticRegression(random_state=11, solver=\"saga\", penalty=\"l1\", class_weight=\"balanced\", C=1.0, max_iter=500)\r\n",
        "scaler = StandardScaler().fit(X_trainLG)"
      ],
      "execution_count": 115,
      "outputs": []
    },
    {
      "cell_type": "code",
      "metadata": {
        "colab": {
          "base_uri": "https://localhost:8080/"
        },
        "id": "cvRbBR4xy7OW",
        "outputId": "26b72713-27ab-4231-ab82-f5581cd8b0c2"
      },
      "source": [
        "X_trainLG.shape, y_trainLG.shape"
      ],
      "execution_count": 116,
      "outputs": [
        {
          "output_type": "execute_result",
          "data": {
            "text/plain": [
              "((104601, 15), (104601,))"
            ]
          },
          "metadata": {
            "tags": []
          },
          "execution_count": 116
        }
      ]
    },
    {
      "cell_type": "code",
      "metadata": {
        "colab": {
          "base_uri": "https://localhost:8080/"
        },
        "id": "Hyy2P8UjzRxK",
        "outputId": "9e155a26-9c74-487b-93ea-3e8988ca8b9a"
      },
      "source": [
        "X_testLG.shape, y_testLG.shape"
      ],
      "execution_count": 117,
      "outputs": [
        {
          "output_type": "execute_result",
          "data": {
            "text/plain": [
              "((44829, 15), (44829,))"
            ]
          },
          "metadata": {
            "tags": []
          },
          "execution_count": 117
        }
      ]
    },
    {
      "cell_type": "code",
      "metadata": {
        "colab": {
          "base_uri": "https://localhost:8080/"
        },
        "id": "nN3ippsEqaIe",
        "outputId": "34666151-1ba4-417e-ae5a-590a619cf1a0"
      },
      "source": [
        "lgbAttributes = lgb.LGBMClassifier(objective='binary', n_jobs=-1, random_state=11, importance_type='gain')\r\n",
        "lgbParameters = {\r\n",
        "    'n_estimators' :randint(low=100, high=900),\r\n",
        "    'max_depth' : randint(low=2, high=10),\r\n",
        "    'learning_rate': uniform(0.01, 0.15),\r\n",
        "    'colsample_bytree' : uniform(0.2, 1),  \r\n",
        "    'min_split_gain' : uniform(0.15, 0.35),\r\n",
        "    'subsample': uniform(0.5, 1),\r\n",
        "    'min_child_weight':  randint(low=6, high=10),\r\n",
        "    'scale_pos_weight': randint(low=10, high=20),\r\n",
        "    'min_data_in_leaf' : randint(low=100, high=900),\r\n",
        "    'num_leaves' : randint(low=20, high=80),\r\n",
        "}\r\n",
        "\r\n",
        "lgbModel = model_selection.RandomizedSearchCV(lgbAttributes, param_distributions = lgbParameters, cv = 5, random_state=11)\r\n",
        "\r\n",
        "lgbModel.fit(X_trainLG, y_trainLG,feature_name=df.columns.to_list())"
      ],
      "execution_count": 187,
      "outputs": [
        {
          "output_type": "stream",
          "text": [
            "/usr/local/lib/python3.7/dist-packages/sklearn/model_selection/_validation.py:536: FitFailedWarning: Estimator fit failed. The score on this train-test partition for these parameters will be set to nan. Details: \n",
            "lightgbm.basic.LightGBMError: Check failed: bagging_fraction <=1.0 at /__w/1/s/python-package/compile/src/io/config_auto.cpp, line 295 .\n",
            "\n",
            "\n",
            "  FitFailedWarning)\n",
            "/usr/local/lib/python3.7/dist-packages/sklearn/model_selection/_validation.py:536: FitFailedWarning: Estimator fit failed. The score on this train-test partition for these parameters will be set to nan. Details: \n",
            "lightgbm.basic.LightGBMError: Check failed: feature_fraction <=1.0 at /__w/1/s/python-package/compile/src/io/config_auto.cpp, line 303 .\n",
            "\n",
            "\n",
            "  FitFailedWarning)\n"
          ],
          "name": "stderr"
        },
        {
          "output_type": "execute_result",
          "data": {
            "text/plain": [
              "RandomizedSearchCV(cv=5, error_score=nan,\n",
              "                   estimator=LGBMClassifier(boosting_type='gbdt',\n",
              "                                            class_weight=None,\n",
              "                                            colsample_bytree=1.0,\n",
              "                                            importance_type='gain',\n",
              "                                            learning_rate=0.1, max_depth=-1,\n",
              "                                            min_child_samples=20,\n",
              "                                            min_child_weight=0.001,\n",
              "                                            min_split_gain=0.0,\n",
              "                                            n_estimators=100, n_jobs=-1,\n",
              "                                            num_leaves=31, objective='binary',\n",
              "                                            random_state=11, reg_alpha=0.0,\n",
              "                                            reg_lambda=0.0, sil...\n",
              "                                        'n_estimators': <scipy.stats._distn_infrastructure.rv_frozen object at 0x7f6ecb76db90>,\n",
              "                                        'num_leaves': <scipy.stats._distn_infrastructure.rv_frozen object at 0x7f6ecb7fb410>,\n",
              "                                        'scale_pos_weight': <scipy.stats._distn_infrastructure.rv_frozen object at 0x7f6ecb9b9810>,\n",
              "                                        'subsample': <scipy.stats._distn_infrastructure.rv_frozen object at 0x7f6ecab02f10>},\n",
              "                   pre_dispatch='2*n_jobs', random_state=11, refit=True,\n",
              "                   return_train_score=False, scoring=None, verbose=0)"
            ]
          },
          "metadata": {
            "tags": []
          },
          "execution_count": 187
        }
      ]
    },
    {
      "cell_type": "code",
      "metadata": {
        "colab": {
          "base_uri": "https://localhost:8080/"
        },
        "id": "7aVEcOYs1vz3",
        "outputId": "8a1287be-5b25-45ce-d020-613aeec0c155"
      },
      "source": [
        "bestEstimatorLGB = lgbModel.best_estimator_\r\n",
        "bestEstimatorLGB"
      ],
      "execution_count": 188,
      "outputs": [
        {
          "output_type": "execute_result",
          "data": {
            "text/plain": [
              "LGBMClassifier(boosting_type='gbdt', class_weight=None,\n",
              "               colsample_bytree=0.3897027069240719, importance_type='gain',\n",
              "               learning_rate=0.040601406594732284, max_depth=3,\n",
              "               min_child_samples=20, min_child_weight=9, min_data_in_leaf=345,\n",
              "               min_split_gain=0.4211907149094357, n_estimators=539, n_jobs=-1,\n",
              "               num_leaves=35, objective='binary', random_state=11,\n",
              "               reg_alpha=0.0, reg_lambda=0.0, scale_pos_weight=10, silent=True,\n",
              "               subsample=0.9797972816594304, subsample_for_bin=200000,\n",
              "               subsample_freq=0)"
            ]
          },
          "metadata": {
            "tags": []
          },
          "execution_count": 188
        }
      ]
    },
    {
      "cell_type": "code",
      "metadata": {
        "id": "nb12QwU_13re"
      },
      "source": [
        "bestEstimatorLGB = lgb.LGBMClassifier(boosting_type='gbdt', class_weight=None,\r\n",
        "               colsample_bytree=0.3897027069240719, importance_type='gain',\r\n",
        "               learning_rate=0.040601406594732284, max_depth=3,\r\n",
        "               min_child_samples=20, min_child_weight=9, min_data_in_leaf=345,\r\n",
        "               min_split_gain=0.4211907149094357, n_estimators=539, n_jobs=-1,\r\n",
        "               num_leaves=35, objective='binary', random_state=11,\r\n",
        "               reg_alpha=0.0, reg_lambda=0.0, scale_pos_weight=10, silent=True,\r\n",
        "               subsample=0.9797972816594304, subsample_for_bin=200000,\r\n",
        "               subsample_freq=0)"
      ],
      "execution_count": 189,
      "outputs": []
    },
    {
      "cell_type": "code",
      "metadata": {
        "id": "xAcILBJl2JW4"
      },
      "source": [
        "bestEstimatorLGB.fit(X_trainLG, y_trainLG,feature_name=df.columns.to_list())\r\n",
        "yPredLGB = bestEstimatorLGB.predict_proba(X_testLG)\r\n",
        "yPredLGB = yPredLGB[:,1]"
      ],
      "execution_count": 190,
      "outputs": []
    },
    {
      "cell_type": "code",
      "metadata": {
        "colab": {
          "base_uri": "https://localhost:8080/",
          "height": 293
        },
        "id": "nM6tMb0W3kGt",
        "outputId": "4884f8b1-6ffa-41d6-9c1e-b31f3736dfea"
      },
      "source": [
        "fig, ax = plt.subplots(1, 1)\r\n",
        "disp = plot_confusion_matrix(\r\n",
        "    bestEstimatorLGB, X_testLG, y_testLG,\r\n",
        "    normalize='true', \r\n",
        "    display_labels=['1', '0'], \r\n",
        "    values_format='.4f', \r\n",
        "    ax=ax)\r\n",
        "ax.set_title('Confusion matrix, normalized')\r\n",
        "ax.xaxis.tick_top()\r\n",
        "ax.xaxis.set_label_position('top')"
      ],
      "execution_count": 191,
      "outputs": [
        {
          "output_type": "display_data",
          "data": {
            "image/png": "[encoded data removed]",
            "text/plain": [
              "<Figure size 432x288 with 2 Axes>"
            ]
          },
          "metadata": {
            "tags": [],
            "needs_background": "light"
          }
        }
      ]
    },
    {
      "cell_type": "markdown",
      "metadata": {
        "id": "-SqlvSibnDPV"
      },
      "source": [
        "**5. Evaluation Metrics**"
      ]
    },
    {
      "cell_type": "code",
      "metadata": {
        "colab": {
          "base_uri": "https://localhost:8080/",
          "height": 77
        },
        "id": "1hK8GaPRrBNM",
        "outputId": "65d7b3b2-4ab9-4d74-f6db-5b7cf8214702"
      },
      "source": [
        "LGBMMetrics = pd.DataFrame({'Model': 'LightGBM',\r\n",
        "                            'MSE': round(metrics.mean_squared_error(y_testLG, yTestPredLGB)*100,2), \r\n",
        "                            'RMSE' : round(np.sqrt(metrics.mean_squared_error(y_testLG, yTestPredLGB)*100),2),\r\n",
        "                            'MAE' : round(metrics.mean_absolute_error(y_testLG, yTestPredLGB)*100,2),\r\n",
        "                            'MSLE' : round(metrics.mean_squared_log_error(y_testLG, yTestPredLGB)*100,2), \r\n",
        "                            'RMSLE' : round(np.sqrt(metrics.mean_squared_log_error(y_testLG, yTestPredLGB)*100),2),\r\n",
        "                            'Accuracy Train' : round(bestEstimatorLGB.score(X_trainLG, y_trainLG) * 100,2),\r\n",
        "                            'Accuracy Test' : round(bestEstimatorLGB.score(X_testLG, y_testLG) * 100,2),\r\n",
        "                            'F-Beta Score (β=2)' : round(metrics.fbeta_score(y_testLG, yTestPredLGB, beta=2)*100,2)},index=[1])\r\n",
        "\r\n",
        "LGBMMetrics"
      ],
      "execution_count": 194,
      "outputs": [
        {
          "output_type": "execute_result",
          "data": {
            "text/html": [
              "<div>\n",
              "<style scoped>\n",
              "    .dataframe tbody tr th:only-of-type {\n",
              "        vertical-align: middle;\n",
              "    }\n",
              "\n",
              "    .dataframe tbody tr th {\n",
              "        vertical-align: top;\n",
              "    }\n",
              "\n",
              "    .dataframe thead th {\n",
              "        text-align: right;\n",
              "    }\n",
              "</style>\n",
              "<table border=\"1\" class=\"dataframe\">\n",
              "  <thead>\n",
              "    <tr style=\"text-align: right;\">\n",
              "      <th></th>\n",
              "      <th>Model</th>\n",
              "      <th>MSE</th>\n",
              "      <th>RMSE</th>\n",
              "      <th>MAE</th>\n",
              "      <th>MSLE</th>\n",
              "      <th>RMSLE</th>\n",
              "      <th>Accuracy Train</th>\n",
              "      <th>Accuracy Test</th>\n",
              "      <th>F-Beta Score (β=2)</th>\n",
              "    </tr>\n",
              "  </thead>\n",
              "  <tbody>\n",
              "    <tr>\n",
              "      <th>1</th>\n",
              "      <td>LightGBM</td>\n",
              "      <td>16.66</td>\n",
              "      <td>4.08</td>\n",
              "      <td>16.66</td>\n",
              "      <td>8.01</td>\n",
              "      <td>2.83</td>\n",
              "      <td>85.34</td>\n",
              "      <td>85.36</td>\n",
              "      <td>52.02</td>\n",
              "    </tr>\n",
              "  </tbody>\n",
              "</table>\n",
              "</div>"
            ],
            "text/plain": [
              "      Model    MSE  RMSE  ...  Accuracy Train  Accuracy Test  F-Beta Score (β=2)\n",
              "1  LightGBM  16.66  4.08  ...           85.34          85.36               52.02\n",
              "\n",
              "[1 rows x 9 columns]"
            ]
          },
          "metadata": {
            "tags": []
          },
          "execution_count": 194
        }
      ]
    },
    {
      "cell_type": "code",
      "metadata": {
        "colab": {
          "base_uri": "https://localhost:8080/",
          "height": 77
        },
        "id": "Nb1NNmPv9IPn",
        "outputId": "504d1643-c199-4d35-aa14-b5f08891aeb4"
      },
      "source": [
        "RFMetrics = pd.DataFrame({'Model': 'RandomForest', \r\n",
        "                             'MSE': round(metrics.mean_squared_error(y_testFR, y_predFR)*100,2),\r\n",
        "                            'RMSE' : round(np.sqrt(metrics.mean_squared_error(y_testFR, y_predFR)*100),2),\r\n",
        "                            'MAE' : round(metrics.mean_absolute_error(y_testFR, y_predFR)*100,2),\r\n",
        "                            'MSLE' : round(metrics.mean_squared_log_error(y_testFR, y_predFR)*100,2), \r\n",
        "                            'RMSLE' : round(np.sqrt(metrics.mean_squared_log_error(y_testFR, y_predFR)*100),2),\r\n",
        "                            'Accuracy Train' : round(model.score(X_trainFR, y_trainFR) * 100,2),\r\n",
        "                            'Accuracy Test' : round(model.score(X_testFR, y_testFR) * 100,2),\r\n",
        "                            'F-Beta Score (β=2)' : round(metrics.fbeta_score(y_testFR, y_predFR, beta=2)*100,2)},index=[1])\r\n",
        "\r\n",
        "RFMetrics"
      ],
      "execution_count": 195,
      "outputs": [
        {
          "output_type": "execute_result",
          "data": {
            "text/html": [
              "<div>\n",
              "<style scoped>\n",
              "    .dataframe tbody tr th:only-of-type {\n",
              "        vertical-align: middle;\n",
              "    }\n",
              "\n",
              "    .dataframe tbody tr th {\n",
              "        vertical-align: top;\n",
              "    }\n",
              "\n",
              "    .dataframe thead th {\n",
              "        text-align: right;\n",
              "    }\n",
              "</style>\n",
              "<table border=\"1\" class=\"dataframe\">\n",
              "  <thead>\n",
              "    <tr style=\"text-align: right;\">\n",
              "      <th></th>\n",
              "      <th>Model</th>\n",
              "      <th>MSE</th>\n",
              "      <th>RMSE</th>\n",
              "      <th>MAE</th>\n",
              "      <th>MSLE</th>\n",
              "      <th>RMSLE</th>\n",
              "      <th>Accuracy Train</th>\n",
              "      <th>Accuracy Test</th>\n",
              "      <th>F-Beta Score (β=2)</th>\n",
              "    </tr>\n",
              "  </thead>\n",
              "  <tbody>\n",
              "    <tr>\n",
              "      <th>1</th>\n",
              "      <td>RandomForest</td>\n",
              "      <td>19.46</td>\n",
              "      <td>4.41</td>\n",
              "      <td>19.46</td>\n",
              "      <td>9.35</td>\n",
              "      <td>3.06</td>\n",
              "      <td>80.08</td>\n",
              "      <td>80.54</td>\n",
              "      <td>49.45</td>\n",
              "    </tr>\n",
              "  </tbody>\n",
              "</table>\n",
              "</div>"
            ],
            "text/plain": [
              "          Model    MSE  RMSE  ...  Accuracy Train  Accuracy Test  F-Beta Score (β=2)\n",
              "1  RandomForest  19.46  4.41  ...           80.08          80.54               49.45\n",
              "\n",
              "[1 rows x 9 columns]"
            ]
          },
          "metadata": {
            "tags": []
          },
          "execution_count": 195
        }
      ]
    },
    {
      "cell_type": "code",
      "metadata": {
        "colab": {
          "base_uri": "https://localhost:8080/",
          "height": 77
        },
        "id": "Ca6QMs6yjgUB",
        "outputId": "7c6d7144-a86b-420d-bfb2-e3a173878f4c"
      },
      "source": [
        "LogitMetrics = pd.DataFrame({'Model': 'LogisticRegression', \r\n",
        "                            'MSE': round(metrics.mean_squared_error(y_test, yPredlogit)*100,2),\r\n",
        "                            'RMSE' : round(np.sqrt(metrics.mean_squared_error(y_test, yPredlogit)*100),2),\r\n",
        "                            'MAE' : round(metrics.mean_absolute_error(y_test, yPredlogit)*100,2),\r\n",
        "                            'MSLE' : round(metrics.mean_squared_log_error(y_test, yPredlogit)*100,2), \r\n",
        "                            'RMSLE' : round(np.sqrt(metrics.mean_squared_log_error(y_test, yPredlogit)*100),2),\r\n",
        "                            'Accuracy Train' : round(logit.score(X_train, y_train) * 100,2),\r\n",
        "                            'Accuracy Test' : round(logit.score(X_test, y_test) * 100,2),\r\n",
        "                            'F-Beta Score (β=2)' : round(metrics.fbeta_score(y_test, yPredlogit, beta=2)*100,2)},index=[1])\r\n",
        "\r\n",
        "LogitMetrics"
      ],
      "execution_count": 196,
      "outputs": [
        {
          "output_type": "execute_result",
          "data": {
            "text/html": [
              "<div>\n",
              "<style scoped>\n",
              "    .dataframe tbody tr th:only-of-type {\n",
              "        vertical-align: middle;\n",
              "    }\n",
              "\n",
              "    .dataframe tbody tr th {\n",
              "        vertical-align: top;\n",
              "    }\n",
              "\n",
              "    .dataframe thead th {\n",
              "        text-align: right;\n",
              "    }\n",
              "</style>\n",
              "<table border=\"1\" class=\"dataframe\">\n",
              "  <thead>\n",
              "    <tr style=\"text-align: right;\">\n",
              "      <th></th>\n",
              "      <th>Model</th>\n",
              "      <th>MSE</th>\n",
              "      <th>RMSE</th>\n",
              "      <th>MAE</th>\n",
              "      <th>MSLE</th>\n",
              "      <th>RMSLE</th>\n",
              "      <th>Accuracy Train</th>\n",
              "      <th>Accuracy Test</th>\n",
              "      <th>F-Beta Score (β=2)</th>\n",
              "    </tr>\n",
              "  </thead>\n",
              "  <tbody>\n",
              "    <tr>\n",
              "      <th>1</th>\n",
              "      <td>LogisticRegression</td>\n",
              "      <td>22.9</td>\n",
              "      <td>4.79</td>\n",
              "      <td>22.9</td>\n",
              "      <td>11.0</td>\n",
              "      <td>3.32</td>\n",
              "      <td>76.95</td>\n",
              "      <td>77.1</td>\n",
              "      <td>11.72</td>\n",
              "    </tr>\n",
              "  </tbody>\n",
              "</table>\n",
              "</div>"
            ],
            "text/plain": [
              "                Model   MSE  ...  Accuracy Test  F-Beta Score (β=2)\n",
              "1  LogisticRegression  22.9  ...           77.1               11.72\n",
              "\n",
              "[1 rows x 9 columns]"
            ]
          },
          "metadata": {
            "tags": []
          },
          "execution_count": 196
        }
      ]
    },
    {
      "cell_type": "code",
      "metadata": {
        "colab": {
          "base_uri": "https://localhost:8080/",
          "height": 314
        },
        "id": "6mHuYdLW90-F",
        "outputId": "eff8f407-18a7-4cc0-8796-010f4b9bed9b"
      },
      "source": [
        "frames = [LGBMMetrics, RFMetrics, LogitMetrics]\r\n",
        "TrainingResult = pd.concat(frames)\r\n",
        "TrainingResult.T"
      ],
      "execution_count": 197,
      "outputs": [
        {
          "output_type": "execute_result",
          "data": {
            "text/html": [
              "<div>\n",
              "<style scoped>\n",
              "    .dataframe tbody tr th:only-of-type {\n",
              "        vertical-align: middle;\n",
              "    }\n",
              "\n",
              "    .dataframe tbody tr th {\n",
              "        vertical-align: top;\n",
              "    }\n",
              "\n",
              "    .dataframe thead th {\n",
              "        text-align: right;\n",
              "    }\n",
              "</style>\n",
              "<table border=\"1\" class=\"dataframe\">\n",
              "  <thead>\n",
              "    <tr style=\"text-align: right;\">\n",
              "      <th></th>\n",
              "      <th>1</th>\n",
              "      <th>1</th>\n",
              "      <th>1</th>\n",
              "    </tr>\n",
              "  </thead>\n",
              "  <tbody>\n",
              "    <tr>\n",
              "      <th>Model</th>\n",
              "      <td>LightGBM</td>\n",
              "      <td>RandomForest</td>\n",
              "      <td>LogisticRegression</td>\n",
              "    </tr>\n",
              "    <tr>\n",
              "      <th>MSE</th>\n",
              "      <td>16.66</td>\n",
              "      <td>19.46</td>\n",
              "      <td>22.9</td>\n",
              "    </tr>\n",
              "    <tr>\n",
              "      <th>RMSE</th>\n",
              "      <td>4.08</td>\n",
              "      <td>4.41</td>\n",
              "      <td>4.79</td>\n",
              "    </tr>\n",
              "    <tr>\n",
              "      <th>MAE</th>\n",
              "      <td>16.66</td>\n",
              "      <td>19.46</td>\n",
              "      <td>22.9</td>\n",
              "    </tr>\n",
              "    <tr>\n",
              "      <th>MSLE</th>\n",
              "      <td>8.01</td>\n",
              "      <td>9.35</td>\n",
              "      <td>11</td>\n",
              "    </tr>\n",
              "    <tr>\n",
              "      <th>RMSLE</th>\n",
              "      <td>2.83</td>\n",
              "      <td>3.06</td>\n",
              "      <td>3.32</td>\n",
              "    </tr>\n",
              "    <tr>\n",
              "      <th>Accuracy Train</th>\n",
              "      <td>85.34</td>\n",
              "      <td>80.08</td>\n",
              "      <td>76.95</td>\n",
              "    </tr>\n",
              "    <tr>\n",
              "      <th>Accuracy Test</th>\n",
              "      <td>85.36</td>\n",
              "      <td>80.54</td>\n",
              "      <td>77.1</td>\n",
              "    </tr>\n",
              "    <tr>\n",
              "      <th>F-Beta Score (β=2)</th>\n",
              "      <td>52.02</td>\n",
              "      <td>49.45</td>\n",
              "      <td>11.72</td>\n",
              "    </tr>\n",
              "  </tbody>\n",
              "</table>\n",
              "</div>"
            ],
            "text/plain": [
              "                           1             1                   1\n",
              "Model               LightGBM  RandomForest  LogisticRegression\n",
              "MSE                    16.66         19.46                22.9\n",
              "RMSE                    4.08          4.41                4.79\n",
              "MAE                    16.66         19.46                22.9\n",
              "MSLE                    8.01          9.35                  11\n",
              "RMSLE                   2.83          3.06                3.32\n",
              "Accuracy Train         85.34         80.08               76.95\n",
              "Accuracy Test          85.36         80.54                77.1\n",
              "F-Beta Score (β=2)     52.02         49.45               11.72"
            ]
          },
          "metadata": {
            "tags": []
          },
          "execution_count": 197
        }
      ]
    },
    {
      "cell_type": "markdown",
      "metadata": {
        "id": "NbKF2bddmxSG"
      },
      "source": [
        "**6. Final prediction using LightGBM**"
      ]
    },
    {
      "cell_type": "code",
      "metadata": {
        "colab": {
          "base_uri": "https://localhost:8080/",
          "height": 402
        },
        "id": "68IfBD-7mwss",
        "outputId": "0cd0749f-947e-4dc4-e30c-04a61d6c79fd"
      },
      "source": [
        "lgb_probs = bestEstimatorLGB.predict_proba(df)\r\n",
        "model_lgbm = pd.DataFrame({'ID': CustomerID, 'Probability': lgb_probs[:,1]})\r\n",
        "model_lgbm.to_csv('LGBMPredicted.csv', index=False)\r\n",
        "model_lgbm\r\n"
      ],
      "execution_count": 210,
      "outputs": [
        {
          "output_type": "execute_result",
          "data": {
            "text/html": [
              "<div>\n",
              "<style scoped>\n",
              "    .dataframe tbody tr th:only-of-type {\n",
              "        vertical-align: middle;\n",
              "    }\n",
              "\n",
              "    .dataframe tbody tr th {\n",
              "        vertical-align: top;\n",
              "    }\n",
              "\n",
              "    .dataframe thead th {\n",
              "        text-align: right;\n",
              "    }\n",
              "</style>\n",
              "<table border=\"1\" class=\"dataframe\">\n",
              "  <thead>\n",
              "    <tr style=\"text-align: right;\">\n",
              "      <th></th>\n",
              "      <th>ID</th>\n",
              "      <th>Probability</th>\n",
              "    </tr>\n",
              "  </thead>\n",
              "  <tbody>\n",
              "    <tr>\n",
              "      <th>0</th>\n",
              "      <td>1</td>\n",
              "      <td>0.865253</td>\n",
              "    </tr>\n",
              "    <tr>\n",
              "      <th>1</th>\n",
              "      <td>2</td>\n",
              "      <td>0.487650</td>\n",
              "    </tr>\n",
              "    <tr>\n",
              "      <th>2</th>\n",
              "      <td>3</td>\n",
              "      <td>0.799620</td>\n",
              "    </tr>\n",
              "    <tr>\n",
              "      <th>3</th>\n",
              "      <td>4</td>\n",
              "      <td>0.226369</td>\n",
              "    </tr>\n",
              "    <tr>\n",
              "      <th>4</th>\n",
              "      <td>5</td>\n",
              "      <td>0.592977</td>\n",
              "    </tr>\n",
              "    <tr>\n",
              "      <th>...</th>\n",
              "      <td>...</td>\n",
              "      <td>...</td>\n",
              "    </tr>\n",
              "    <tr>\n",
              "      <th>149995</th>\n",
              "      <td>149996</td>\n",
              "      <td>0.044900</td>\n",
              "    </tr>\n",
              "    <tr>\n",
              "      <th>149996</th>\n",
              "      <td>149997</td>\n",
              "      <td>0.199991</td>\n",
              "    </tr>\n",
              "    <tr>\n",
              "      <th>149997</th>\n",
              "      <td>149998</td>\n",
              "      <td>0.160817</td>\n",
              "    </tr>\n",
              "    <tr>\n",
              "      <th>149998</th>\n",
              "      <td>149999</td>\n",
              "      <td>0.080863</td>\n",
              "    </tr>\n",
              "    <tr>\n",
              "      <th>149999</th>\n",
              "      <td>150000</td>\n",
              "      <td>0.228698</td>\n",
              "    </tr>\n",
              "  </tbody>\n",
              "</table>\n",
              "<p>149430 rows × 2 columns</p>\n",
              "</div>"
            ],
            "text/plain": [
              "            ID  Probability\n",
              "0            1     0.865253\n",
              "1            2     0.487650\n",
              "2            3     0.799620\n",
              "3            4     0.226369\n",
              "4            5     0.592977\n",
              "...        ...          ...\n",
              "149995  149996     0.044900\n",
              "149996  149997     0.199991\n",
              "149997  149998     0.160817\n",
              "149998  149999     0.080863\n",
              "149999  150000     0.228698\n",
              "\n",
              "[149430 rows x 2 columns]"
            ]
          },
          "metadata": {
            "tags": []
          },
          "execution_count": 210
        }
      ]
    }
  ]
}