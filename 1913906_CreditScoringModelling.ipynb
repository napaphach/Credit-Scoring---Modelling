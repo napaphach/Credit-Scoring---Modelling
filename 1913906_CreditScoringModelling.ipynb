{
  "nbformat": 4,
  "nbformat_minor": 0,
  "metadata": {
    "colab": {
      "name": "1913906_CreditScoringModelling.ipynb",
      "provenance": [],
      "collapsed_sections": [],
      "authorship_tag": "ABX9TyNdQ4YNKAwTPTDw7uRDBDkn",
      "include_colab_link": true
    },
    "kernelspec": {
      "name": "python3",
      "display_name": "Python 3"
    }
  },
  "cells": [
    {
      "cell_type": "markdown",
      "metadata": {
        "id": "view-in-github",
        "colab_type": "text"
      },
      "source": [
        "<a href=\"https://colab.research.google.com/github/napaphach/credit-scoring/blob/main/1913906_CreditScoringModelling.ipynb\" target=\"_parent\"><img src=\"https://colab.research.google.com/assets/colab-badge.svg\" alt=\"Open In Colab\"/></a>"
      ]
    },
    {
      "cell_type": "code",
      "metadata": {
        "id": "C3EyQTNE1pLp",
        "colab": {
          "base_uri": "https://localhost:8080/"
        },
        "outputId": "01d5154e-caf0-4985-8b41-fd3d58e2de9a"
      },
      "source": [
        "import pandas as pd\r\n",
        "import matplotlib.pyplot as plt\r\n",
        "import seaborn as sns\r\n",
        "import numpy as np\r\n",
        "from sklearn.linear_model import LogisticRegression\r\n",
        "from sklearn.metrics import roc_curve, roc_auc_score\r\n",
        "from sklearn.preprocessing import StandardScaler\r\n",
        "from sklearn.model_selection import train_test_split, cross_validate, RandomizedSearchCV, GridSearchCV\r\n",
        "from sklearn.metrics import classification_report, mean_squared_error, plot_confusion_matrix, plot_precision_recall_curve\r\n",
        "from imblearn.under_sampling import RandomUnderSampler\r\n",
        "from collections import Counter\r\n",
        "from sklearn.model_selection import train_test_split\r\n",
        "from sklearn.metrics import classification_report, mean_squared_error, plot_confusion_matrix, plot_precision_recall_curve\r\n",
        "\r\n",
        "from imblearn.over_sampling import SMOTE\r\n",
        "from collections import Counter\r\n",
        "from imblearn.pipeline import make_pipeline\r\n",
        "from imblearn.under_sampling import RandomUnderSampler\r\n",
        "from imblearn.over_sampling import RandomOverSampler, SMOTE\r\n",
        "from scipy.stats import randint\r\n",
        "from sklearn.decomposition import PCA\r\n",
        "from sklearn.metrics import make_scorer, f1_score\r\n",
        "from sklearn.ensemble import RandomForestClassifier\r\n",
        "from sklearn.compose import make_column_transformer\r\n",
        "from sklearn.model_selection import train_test_split, cross_validate, RandomizedSearchCV, GridSearchCV\r\n",
        "from sklearn.preprocessing import MinMaxScaler, StandardScaler, OrdinalEncoder, OneHotEncoder\r\n",
        "\r\n",
        "from sklearn import model_selection\r\n",
        "import lightgbm as lgb\r\n",
        "from sklearn import metrics\r\n",
        "from scipy.stats import uniform, truncnorm, randint"
      ],
      "execution_count": 2,
      "outputs": [
        {
          "output_type": "stream",
          "text": [
            "/usr/local/lib/python3.7/dist-packages/sklearn/externals/six.py:31: FutureWarning: The module is deprecated in version 0.21 and will be removed in version 0.23 since we've dropped support for Python 2.7. Please rely on the official version of six (https://pypi.org/project/six/).\n",
            "  \"(https://pypi.org/project/six/).\", FutureWarning)\n",
            "/usr/local/lib/python3.7/dist-packages/sklearn/utils/deprecation.py:144: FutureWarning: The sklearn.neighbors.base module is  deprecated in version 0.22 and will be removed in version 0.24. The corresponding classes / functions should instead be imported from sklearn.neighbors. Anything that cannot be imported from sklearn.neighbors is now part of the private API.\n",
            "  warnings.warn(message, FutureWarning)\n"
          ],
          "name": "stderr"
        }
      ]
    },
    {
      "cell_type": "code",
      "metadata": {
        "id": "MALEm2tRC58r"
      },
      "source": [
        "Data = pd.read_csv(\"https://raw.githubusercontent.com/napaphach/credit-scoring/main/credit-scoring.csv\")"
      ],
      "execution_count": 3,
      "outputs": []
    },
    {
      "cell_type": "code",
      "metadata": {
        "colab": {
          "base_uri": "https://localhost:8080/"
        },
        "id": "JIcMcxwJDE90",
        "outputId": "7f9dc480-c46f-4fc9-c0ba-61ca71a5481c"
      },
      "source": [
        "Data.info()"
      ],
      "execution_count": 5,
      "outputs": [
        {
          "output_type": "stream",
          "text": [
            "<class 'pandas.core.frame.DataFrame'>\n",
            "RangeIndex: 150000 entries, 0 to 149999\n",
            "Data columns (total 12 columns):\n",
            " #   Column                                Non-Null Count   Dtype  \n",
            "---  ------                                --------------   -----  \n",
            " 0   Unnamed: 0                            150000 non-null  int64  \n",
            " 1   SeriousDlqin2yrs                      150000 non-null  int64  \n",
            " 2   RevolvingUtilizationOfUnsecuredLines  150000 non-null  float64\n",
            " 3   age                                   150000 non-null  int64  \n",
            " 4   NumberOfTime30-59DaysPastDueNotWorse  150000 non-null  int64  \n",
            " 5   DebtRatio                             150000 non-null  float64\n",
            " 6   MonthlyIncome                         120269 non-null  float64\n",
            " 7   NumberOfOpenCreditLinesAndLoans       150000 non-null  int64  \n",
            " 8   NumberOfTimes90DaysLate               150000 non-null  int64  \n",
            " 9   NumberRealEstateLoansOrLines          150000 non-null  int64  \n",
            " 10  NumberOfTime60-89DaysPastDueNotWorse  150000 non-null  int64  \n",
            " 11  NumberOfDependents                    146076 non-null  float64\n",
            "dtypes: float64(4), int64(8)\n",
            "memory usage: 13.7 MB\n"
          ],
          "name": "stdout"
        }
      ]
    },
    {
      "cell_type": "markdown",
      "metadata": {
        "id": "cBTxeDn5DK0g"
      },
      "source": [
        "Here shows that variable MonthlyIncome and Number of Dependents have some missing value"
      ]
    },
    {
      "cell_type": "markdown",
      "metadata": {
        "id": "hrPQVxLvDlwZ"
      },
      "source": [
        "**Step 1:Data analysis**\r\n"
      ]
    },
    {
      "cell_type": "code",
      "metadata": {
        "id": "YKN8UGf4Dwak"
      },
      "source": [
        "df = Data.copy()"
      ],
      "execution_count": 4,
      "outputs": []
    },
    {
      "cell_type": "code",
      "metadata": {
        "colab": {
          "base_uri": "https://localhost:8080/",
          "height": 460
        },
        "id": "7Yb1HzFvEiaL",
        "outputId": "ff4cf90d-9429-480a-9475-046f9ec02b7c"
      },
      "source": [
        "# Discover imbalance classification\r\n",
        "fig, axes = plt.subplots(1,2,figsize=(12,6))\r\n",
        "df['SeriousDlqin2yrs'].value_counts().plot.pie(explode=[0,0.1],autopct='%1.1f%%',ax=axes[0])\r\n",
        "axes[0].set_title('SeriousDlqin2yrs')\r\n",
        "\r\n",
        "sns.countplot('SeriousDlqin2yrs',data=df,ax=axes[1])\r\n",
        "axes[1].set_title('SeriousDlqin2yrs')\r\n",
        "plt.show()\r\n"
      ],
      "execution_count": 5,
      "outputs": [
        {
          "output_type": "stream",
          "text": [
            "/usr/local/lib/python3.7/dist-packages/seaborn/_decorators.py:43: FutureWarning: Pass the following variable as a keyword arg: x. From version 0.12, the only valid positional argument will be `data`, and passing other arguments without an explicit keyword will result in an error or misinterpretation.\n",
            "  FutureWarning\n"
          ],
          "name": "stderr"
        },
        {
          "output_type": "display_data",
          "data": {
            "image/png": "[encoded data removed]",
            "text/plain": [
              "<Figure size 864x432 with 2 Axes>"
            ]
          },
          "metadata": {
            "tags": [],
            "needs_background": "light"
          }
        }
      ]
    },
    {
      "cell_type": "code",
      "metadata": {
        "colab": {
          "base_uri": "https://localhost:8080/",
          "height": 1000
        },
        "id": "LZsPn3hoF2Ax",
        "outputId": "0807ffaf-bada-4c83-c9cd-6715fae41c2f"
      },
      "source": [
        "#Discover outlier\r\n",
        "fig = plt.figure(figsize=[30,30])\r\n",
        "for col,i in zip(df.columns,range(1,13)):\r\n",
        "    axes = fig.add_subplot(7,2,i)\r\n",
        "    sns.regplot(df[col],df.SeriousDlqin2yrs,ax=axes)\r\n",
        "plt.show()"
      ],
      "execution_count": 6,
      "outputs": [
        {
          "output_type": "stream",
          "text": [
            "/usr/local/lib/python3.7/dist-packages/seaborn/_decorators.py:43: FutureWarning: Pass the following variables as keyword args: x, y. From version 0.12, the only valid positional argument will be `data`, and passing other arguments without an explicit keyword will result in an error or misinterpretation.\n",
            "  FutureWarning\n",
            "/usr/local/lib/python3.7/dist-packages/seaborn/_decorators.py:43: FutureWarning: Pass the following variables as keyword args: x, y. From version 0.12, the only valid positional argument will be `data`, and passing other arguments without an explicit keyword will result in an error or misinterpretation.\n",
            "  FutureWarning\n",
            "/usr/local/lib/python3.7/dist-packages/seaborn/_decorators.py:43: FutureWarning: Pass the following variables as keyword args: x, y. From version 0.12, the only valid positional argument will be `data`, and passing other arguments without an explicit keyword will result in an error or misinterpretation.\n",
            "  FutureWarning\n",
            "/usr/local/lib/python3.7/dist-packages/seaborn/_decorators.py:43: FutureWarning: Pass the following variables as keyword args: x, y. From version 0.12, the only valid positional argument will be `data`, and passing other arguments without an explicit keyword will result in an error or misinterpretation.\n",
            "  FutureWarning\n",
            "/usr/local/lib/python3.7/dist-packages/seaborn/_decorators.py:43: FutureWarning: Pass the following variables as keyword args: x, y. From version 0.12, the only valid positional argument will be `data`, and passing other arguments without an explicit keyword will result in an error or misinterpretation.\n",
            "  FutureWarning\n",
            "/usr/local/lib/python3.7/dist-packages/seaborn/_decorators.py:43: FutureWarning: Pass the following variables as keyword args: x, y. From version 0.12, the only valid positional argument will be `data`, and passing other arguments without an explicit keyword will result in an error or misinterpretation.\n",
            "  FutureWarning\n",
            "/usr/local/lib/python3.7/dist-packages/seaborn/_decorators.py:43: FutureWarning: Pass the following variables as keyword args: x, y. From version 0.12, the only valid positional argument will be `data`, and passing other arguments without an explicit keyword will result in an error or misinterpretation.\n",
            "  FutureWarning\n",
            "/usr/local/lib/python3.7/dist-packages/seaborn/_decorators.py:43: FutureWarning: Pass the following variables as keyword args: x, y. From version 0.12, the only valid positional argument will be `data`, and passing other arguments without an explicit keyword will result in an error or misinterpretation.\n",
            "  FutureWarning\n",
            "/usr/local/lib/python3.7/dist-packages/seaborn/_decorators.py:43: FutureWarning: Pass the following variables as keyword args: x, y. From version 0.12, the only valid positional argument will be `data`, and passing other arguments without an explicit keyword will result in an error or misinterpretation.\n",
            "  FutureWarning\n",
            "/usr/local/lib/python3.7/dist-packages/seaborn/_decorators.py:43: FutureWarning: Pass the following variables as keyword args: x, y. From version 0.12, the only valid positional argument will be `data`, and passing other arguments without an explicit keyword will result in an error or misinterpretation.\n",
            "  FutureWarning\n",
            "/usr/local/lib/python3.7/dist-packages/seaborn/_decorators.py:43: FutureWarning: Pass the following variables as keyword args: x, y. From version 0.12, the only valid positional argument will be `data`, and passing other arguments without an explicit keyword will result in an error or misinterpretation.\n",
            "  FutureWarning\n",
            "/usr/local/lib/python3.7/dist-packages/seaborn/_decorators.py:43: FutureWarning: Pass the following variables as keyword args: x, y. From version 0.12, the only valid positional argument will be `data`, and passing other arguments without an explicit keyword will result in an error or misinterpretation.\n",
            "  FutureWarning\n"
          ],
          "name": "stderr"
        },
        {
          "output_type": "display_data",
          "data": {
            "image/png": "[encoded data removed]",
            "text/plain": [
              "<Figure size 2160x2160 with 12 Axes>"
            ]
          },
          "metadata": {
            "tags": [],
            "needs_background": "light"
          }
        }
      ]
    },
    {
      "cell_type": "code",
      "metadata": {
        "colab": {
          "base_uri": "https://localhost:8080/",
          "height": 835
        },
        "id": "ijAQ0HlNqtka",
        "outputId": "0299a5e1-7b19-49a0-8769-0bffb4a6a34e"
      },
      "source": [
        "fig = plt.figure(figsize = [15,10])\r\n",
        "mask = np.zeros_like(df.corr(), dtype=np.bool)\r\n",
        "mask[np.triu_indices_from(mask)] = True\r\n",
        "sns.heatmap(df.corr(), cmap=sns.diverging_palette(150, 275, s=80, l=55, n=9), mask = mask, annot=True, center = 0)\r\n",
        "plt.title(\"Correlation Matrix (HeatMap)\", fontsize = 15)"
      ],
      "execution_count": 7,
      "outputs": [
        {
          "output_type": "execute_result",
          "data": {
            "text/plain": [
              "Text(0.5, 1.0, 'Correlation Matrix (HeatMap)')"
            ]
          },
          "metadata": {
            "tags": []
          },
          "execution_count": 7
        },
        {
          "output_type": "display_data",
          "data": {
            "image/png": "[encoded data removed]",
            "text/plain": [
              "<Figure size 1080x720 with 2 Axes>"
            ]
          },
          "metadata": {
            "tags": [],
            "needs_background": "light"
          }
        }
      ]
    },
    {
      "cell_type": "markdown",
      "metadata": {
        "id": "PTDwEnCF4LLJ"
      },
      "source": [
        "**Step 2: Data Preprocessing**"
      ]
    },
    {
      "cell_type": "markdown",
      "metadata": {
        "id": "Zcm7eph2HG18"
      },
      "source": [
        "**Ourlier Problem solving:**\r\n",
        "For **NumberOfTime30-59DaysPastDueNotWorse , NumberOfTime60-89DaysPastDueNotWorse and NumberOfTimes90DaysLate**"
      ]
    },
    {
      "cell_type": "code",
      "metadata": {
        "colab": {
          "base_uri": "https://localhost:8080/"
        },
        "id": "5duWvlUEHsGK",
        "outputId": "f65da249-013b-4408-bbe4-418f54efc662"
      },
      "source": [
        "# Checking potential outlier that may caused from value error\r\n",
        "print(\"Unique values in '30-59 Days' values that are more than or equal to 90:\",np.unique(df[df['NumberOfTime30-59DaysPastDueNotWorse']>=90]\r\n",
        "                                                                                          ['NumberOfTime30-59DaysPastDueNotWorse']))\r\n",
        "\r\n",
        "print(\"Unique values in '60-89 Days' when '30-59 Days' values are more than or equal to 90:\",np.unique(df[df['NumberOfTime30-59DaysPastDueNotWorse']>=90]\r\n",
        "                                                                                                       ['NumberOfTime60-89DaysPastDueNotWorse']))\r\n",
        "\r\n",
        "print(\"Unique values in '90 Days' when '30-59 Days' values are more than or equal to 90:\",np.unique(df[df['NumberOfTime30-59DaysPastDueNotWorse']>=90]\r\n",
        "                                                                                                    ['NumberOfTimes90DaysLate']))\r\n",
        "\r\n",
        "print(\"Unique values in '60-89 Days' when '30-59 Days' values are less than 90:\",np.unique(df[df['NumberOfTime30-59DaysPastDueNotWorse']<90]\r\n",
        "                                                                                           ['NumberOfTime30-59DaysPastDueNotWorse']))\r\n",
        "\r\n",
        "print(\"Unique values in '60-89 Days' when '30-59 Days' values are less than 90:\",np.unique(df[df['NumberOfTime30-59DaysPastDueNotWorse']<90]\r\n",
        "                                                                                           ['NumberOfTime60-89DaysPastDueNotWorse']))\r\n",
        "\r\n",
        "print(\"Unique values in '90 Days' when '30-59 Days' values are less than 90:\",np.unique(df[df['NumberOfTime30-59DaysPastDueNotWorse']<90]\r\n",
        "                                                                                        ['NumberOfTimes90DaysLate']))"
      ],
      "execution_count": 8,
      "outputs": [
        {
          "output_type": "stream",
          "text": [
            "Unique values in '30-59 Days' values that are more than or equal to 90: [96 98]\n",
            "Unique values in '60-89 Days' when '30-59 Days' values are more than or equal to 90: [96 98]\n",
            "Unique values in '90 Days' when '30-59 Days' values are more than or equal to 90: [96 98]\n",
            "Unique values in '60-89 Days' when '30-59 Days' values are less than 90: [ 0  1  2  3  4  5  6  7  8  9 10 11 12 13]\n",
            "Unique values in '60-89 Days' when '30-59 Days' values are less than 90: [ 0  1  2  3  4  5  6  7  8  9 11]\n",
            "Unique values in '90 Days' when '30-59 Days' values are less than 90: [ 0  1  2  3  4  5  6  7  8  9 10 11 12 13 14 15 17]\n"
          ],
          "name": "stdout"
        }
      ]
    },
    {
      "cell_type": "code",
      "metadata": {
        "id": "Da0_xsiWIPsS"
      },
      "source": [
        "# Replace all potential outlier by a reasonable value from the variables\r\n",
        "df.loc[df['NumberOfTime30-59DaysPastDueNotWorse'] >= 90, 'NumberOfTime30-59DaysPastDueNotWorse'] = 13\r\n",
        "df.loc[df['NumberOfTime60-89DaysPastDueNotWorse'] >= 90, 'NumberOfTime60-89DaysPastDueNotWorse'] = 11\r\n",
        "df.loc[df['NumberOfTimes90DaysLate'] >= 90, 'NumberOfTimes90DaysLate'] = 17"
      ],
      "execution_count": 9,
      "outputs": []
    },
    {
      "cell_type": "code",
      "metadata": {
        "colab": {
          "base_uri": "https://localhost:8080/"
        },
        "id": "_roZlqF7IZlx",
        "outputId": "927c2cc9-2634-4711-cdc7-2e130bddd5ad"
      },
      "source": [
        "print(\"Unique values in 30-59Days\", np.unique(df['NumberOfTime30-59DaysPastDueNotWorse']))\r\n",
        "print(\"Unique values in 60-89Days\", np.unique(df['NumberOfTime60-89DaysPastDueNotWorse']))\r\n",
        "print(\"Unique values in 90Days\", np.unique(df['NumberOfTimes90DaysLate']))"
      ],
      "execution_count": 10,
      "outputs": [
        {
          "output_type": "stream",
          "text": [
            "Unique values in 30-59Days [ 0  1  2  3  4  5  6  7  8  9 10 11 12 13]\n",
            "Unique values in 60-89Days [ 0  1  2  3  4  5  6  7  8  9 11]\n",
            "Unique values in 90Days [ 0  1  2  3  4  5  6  7  8  9 10 11 12 13 14 15 17]\n"
          ],
          "name": "stdout"
        }
      ]
    },
    {
      "cell_type": "markdown",
      "metadata": {
        "id": "t9c7UDFNJsSy"
      },
      "source": [
        "**For DebtRatio and RevolvingUtilizationOfUnsecuredLines variables**\r\n"
      ]
    },
    {
      "cell_type": "code",
      "metadata": {
        "colab": {
          "base_uri": "https://localhost:8080/"
        },
        "id": "XEOlWLGIJnu6",
        "outputId": "92df15ba-c541-47f2-832f-06e37c8d7c9a"
      },
      "source": [
        "#Check for potential error value\r\n",
        "print('Debt Ratio: \\n',df['DebtRatio'].describe())\r\n",
        "print('\\nRevolving Utilization of Unsecured Lines: \\n',df['RevolvingUtilizationOfUnsecuredLines'].describe())"
      ],
      "execution_count": 11,
      "outputs": [
        {
          "output_type": "stream",
          "text": [
            "Debt Ratio: \n",
            " count    150000.000000\n",
            "mean        353.005076\n",
            "std        2037.818523\n",
            "min           0.000000\n",
            "25%           0.175074\n",
            "50%           0.366508\n",
            "75%           0.868254\n",
            "max      329664.000000\n",
            "Name: DebtRatio, dtype: float64\n",
            "\n",
            "Revolving Utilization of Unsecured Lines: \n",
            " count    150000.000000\n",
            "mean          6.048438\n",
            "std         249.755371\n",
            "min           0.000000\n",
            "25%           0.029867\n",
            "50%           0.154181\n",
            "75%           0.559046\n",
            "max       50708.000000\n",
            "Name: RevolvingUtilizationOfUnsecuredLines, dtype: float64\n"
          ],
          "name": "stdout"
        }
      ]
    },
    {
      "cell_type": "markdown",
      "metadata": {
        "id": "Xw36Lzn9KUeA"
      },
      "source": [
        "Data shows a huge differecne between 75th Quantile and the max value of those variables"
      ]
    },
    {
      "cell_type": "code",
      "metadata": {
        "colab": {
          "base_uri": "https://localhost:8080/"
        },
        "id": "QSB1AkvoKYp9",
        "outputId": "45cd0884-4719-4653-c2eb-d4a783766ff8"
      },
      "source": [
        "quantiles = [0.75,0.8,0.81,0.85,0.9,0.95,0.975,0.99,1]\r\n",
        "\r\n",
        "for i in quantiles:\r\n",
        "    print(i*100,'% quantile of debt ratio is: ',df.DebtRatio.quantile(i))"
      ],
      "execution_count": 12,
      "outputs": [
        {
          "output_type": "stream",
          "text": [
            "75.0 % quantile of debt ratio is:  0.86825377325\n",
            "80.0 % quantile of debt ratio is:  4.0\n",
            "81.0 % quantile of debt ratio is:  14.0\n",
            "85.0 % quantile of debt ratio is:  269.1499999999942\n",
            "90.0 % quantile of debt ratio is:  1267.0\n",
            "95.0 % quantile of debt ratio is:  2449.0\n",
            "97.5 % quantile of debt ratio is:  3489.024999999994\n",
            "99.0 % quantile of debt ratio is:  4979.040000000037\n",
            "100 % quantile of debt ratio is:  329664.0\n"
          ],
          "name": "stdout"
        }
      ]
    },
    {
      "cell_type": "code",
      "metadata": {
        "colab": {
          "base_uri": "https://localhost:8080/",
          "height": 277
        },
        "id": "6gtjac4CKgna",
        "outputId": "b6002560-9296-490f-840b-2b502f6fc84b"
      },
      "source": [
        "df[df['DebtRatio'] >= df['DebtRatio'].quantile(0.90)][['SeriousDlqin2yrs','MonthlyIncome']].describe()"
      ],
      "execution_count": 13,
      "outputs": [
        {
          "output_type": "execute_result",
          "data": {
            "text/html": [
              "<div>\n",
              "<style scoped>\n",
              "    .dataframe tbody tr th:only-of-type {\n",
              "        vertical-align: middle;\n",
              "    }\n",
              "\n",
              "    .dataframe tbody tr th {\n",
              "        vertical-align: top;\n",
              "    }\n",
              "\n",
              "    .dataframe thead th {\n",
              "        text-align: right;\n",
              "    }\n",
              "</style>\n",
              "<table border=\"1\" class=\"dataframe\">\n",
              "  <thead>\n",
              "    <tr style=\"text-align: right;\">\n",
              "      <th></th>\n",
              "      <th>SeriousDlqin2yrs</th>\n",
              "      <th>MonthlyIncome</th>\n",
              "    </tr>\n",
              "  </thead>\n",
              "  <tbody>\n",
              "    <tr>\n",
              "      <th>count</th>\n",
              "      <td>15004.000000</td>\n",
              "      <td>850.000000</td>\n",
              "    </tr>\n",
              "    <tr>\n",
              "      <th>mean</th>\n",
              "      <td>0.049787</td>\n",
              "      <td>0.195294</td>\n",
              "    </tr>\n",
              "    <tr>\n",
              "      <th>std</th>\n",
              "      <td>0.217511</td>\n",
              "      <td>0.396660</td>\n",
              "    </tr>\n",
              "    <tr>\n",
              "      <th>min</th>\n",
              "      <td>0.000000</td>\n",
              "      <td>0.000000</td>\n",
              "    </tr>\n",
              "    <tr>\n",
              "      <th>25%</th>\n",
              "      <td>0.000000</td>\n",
              "      <td>0.000000</td>\n",
              "    </tr>\n",
              "    <tr>\n",
              "      <th>50%</th>\n",
              "      <td>0.000000</td>\n",
              "      <td>0.000000</td>\n",
              "    </tr>\n",
              "    <tr>\n",
              "      <th>75%</th>\n",
              "      <td>0.000000</td>\n",
              "      <td>0.000000</td>\n",
              "    </tr>\n",
              "    <tr>\n",
              "      <th>max</th>\n",
              "      <td>1.000000</td>\n",
              "      <td>1.000000</td>\n",
              "    </tr>\n",
              "  </tbody>\n",
              "</table>\n",
              "</div>"
            ],
            "text/plain": [
              "       SeriousDlqin2yrs  MonthlyIncome\n",
              "count      15004.000000     850.000000\n",
              "mean           0.049787       0.195294\n",
              "std            0.217511       0.396660\n",
              "min            0.000000       0.000000\n",
              "25%            0.000000       0.000000\n",
              "50%            0.000000       0.000000\n",
              "75%            0.000000       0.000000\n",
              "max            1.000000       1.000000"
            ]
          },
          "metadata": {
            "tags": []
          },
          "execution_count": 13
        }
      ]
    },
    {
      "cell_type": "markdown",
      "metadata": {
        "id": "XvzbLz6DKqZY"
      },
      "source": [
        "Here we can observe:\r\n",
        "\r\n",
        "Out of 15,004 customers who with debt ratio at greater than 90 quantile, only 850 customers shows monthly income record (the rest is assumed to be those has has missing value of income). Value of monthly income also range from 0 to 1 which assumed to be the reason that make debt ratio extremely high. "
      ]
    },
    {
      "cell_type": "code",
      "metadata": {
        "colab": {
          "base_uri": "https://localhost:8080/",
          "height": 409
        },
        "id": "JnyMU6Le68hs",
        "outputId": "ceb80806-cc23-48b8-98d0-a99ef1340832"
      },
      "source": [
        "df = df[-(df[\"DebtRatio\"] >= df[\"DebtRatio\"].quantile(0.90))]\r\n",
        "df"
      ],
      "execution_count": 14,
      "outputs": [
        {
          "output_type": "execute_result",
          "data": {
            "text/html": [
              "<div>\n",
              "<style scoped>\n",
              "    .dataframe tbody tr th:only-of-type {\n",
              "        vertical-align: middle;\n",
              "    }\n",
              "\n",
              "    .dataframe tbody tr th {\n",
              "        vertical-align: top;\n",
              "    }\n",
              "\n",
              "    .dataframe thead th {\n",
              "        text-align: right;\n",
              "    }\n",
              "</style>\n",
              "<table border=\"1\" class=\"dataframe\">\n",
              "  <thead>\n",
              "    <tr style=\"text-align: right;\">\n",
              "      <th></th>\n",
              "      <th>Unnamed: 0</th>\n",
              "      <th>SeriousDlqin2yrs</th>\n",
              "      <th>RevolvingUtilizationOfUnsecuredLines</th>\n",
              "      <th>age</th>\n",
              "      <th>NumberOfTime30-59DaysPastDueNotWorse</th>\n",
              "      <th>DebtRatio</th>\n",
              "      <th>MonthlyIncome</th>\n",
              "      <th>NumberOfOpenCreditLinesAndLoans</th>\n",
              "      <th>NumberOfTimes90DaysLate</th>\n",
              "      <th>NumberRealEstateLoansOrLines</th>\n",
              "      <th>NumberOfTime60-89DaysPastDueNotWorse</th>\n",
              "      <th>NumberOfDependents</th>\n",
              "    </tr>\n",
              "  </thead>\n",
              "  <tbody>\n",
              "    <tr>\n",
              "      <th>0</th>\n",
              "      <td>1</td>\n",
              "      <td>1</td>\n",
              "      <td>0.766127</td>\n",
              "      <td>45</td>\n",
              "      <td>2</td>\n",
              "      <td>0.802982</td>\n",
              "      <td>9120.0</td>\n",
              "      <td>13</td>\n",
              "      <td>0</td>\n",
              "      <td>6</td>\n",
              "      <td>0</td>\n",
              "      <td>2.0</td>\n",
              "    </tr>\n",
              "    <tr>\n",
              "      <th>1</th>\n",
              "      <td>2</td>\n",
              "      <td>0</td>\n",
              "      <td>0.957151</td>\n",
              "      <td>40</td>\n",
              "      <td>0</td>\n",
              "      <td>0.121876</td>\n",
              "      <td>2600.0</td>\n",
              "      <td>4</td>\n",
              "      <td>0</td>\n",
              "      <td>0</td>\n",
              "      <td>0</td>\n",
              "      <td>1.0</td>\n",
              "    </tr>\n",
              "    <tr>\n",
              "      <th>2</th>\n",
              "      <td>3</td>\n",
              "      <td>0</td>\n",
              "      <td>0.658180</td>\n",
              "      <td>38</td>\n",
              "      <td>1</td>\n",
              "      <td>0.085113</td>\n",
              "      <td>3042.0</td>\n",
              "      <td>2</td>\n",
              "      <td>1</td>\n",
              "      <td>0</td>\n",
              "      <td>0</td>\n",
              "      <td>0.0</td>\n",
              "    </tr>\n",
              "    <tr>\n",
              "      <th>3</th>\n",
              "      <td>4</td>\n",
              "      <td>0</td>\n",
              "      <td>0.233810</td>\n",
              "      <td>30</td>\n",
              "      <td>0</td>\n",
              "      <td>0.036050</td>\n",
              "      <td>3300.0</td>\n",
              "      <td>5</td>\n",
              "      <td>0</td>\n",
              "      <td>0</td>\n",
              "      <td>0</td>\n",
              "      <td>0.0</td>\n",
              "    </tr>\n",
              "    <tr>\n",
              "      <th>4</th>\n",
              "      <td>5</td>\n",
              "      <td>0</td>\n",
              "      <td>0.907239</td>\n",
              "      <td>49</td>\n",
              "      <td>1</td>\n",
              "      <td>0.024926</td>\n",
              "      <td>63588.0</td>\n",
              "      <td>7</td>\n",
              "      <td>0</td>\n",
              "      <td>1</td>\n",
              "      <td>0</td>\n",
              "      <td>0.0</td>\n",
              "    </tr>\n",
              "    <tr>\n",
              "      <th>...</th>\n",
              "      <td>...</td>\n",
              "      <td>...</td>\n",
              "      <td>...</td>\n",
              "      <td>...</td>\n",
              "      <td>...</td>\n",
              "      <td>...</td>\n",
              "      <td>...</td>\n",
              "      <td>...</td>\n",
              "      <td>...</td>\n",
              "      <td>...</td>\n",
              "      <td>...</td>\n",
              "      <td>...</td>\n",
              "    </tr>\n",
              "    <tr>\n",
              "      <th>149994</th>\n",
              "      <td>149995</td>\n",
              "      <td>0</td>\n",
              "      <td>0.385742</td>\n",
              "      <td>50</td>\n",
              "      <td>0</td>\n",
              "      <td>0.404293</td>\n",
              "      <td>3400.0</td>\n",
              "      <td>7</td>\n",
              "      <td>0</td>\n",
              "      <td>0</td>\n",
              "      <td>0</td>\n",
              "      <td>0.0</td>\n",
              "    </tr>\n",
              "    <tr>\n",
              "      <th>149995</th>\n",
              "      <td>149996</td>\n",
              "      <td>0</td>\n",
              "      <td>0.040674</td>\n",
              "      <td>74</td>\n",
              "      <td>0</td>\n",
              "      <td>0.225131</td>\n",
              "      <td>2100.0</td>\n",
              "      <td>4</td>\n",
              "      <td>0</td>\n",
              "      <td>1</td>\n",
              "      <td>0</td>\n",
              "      <td>0.0</td>\n",
              "    </tr>\n",
              "    <tr>\n",
              "      <th>149996</th>\n",
              "      <td>149997</td>\n",
              "      <td>0</td>\n",
              "      <td>0.299745</td>\n",
              "      <td>44</td>\n",
              "      <td>0</td>\n",
              "      <td>0.716562</td>\n",
              "      <td>5584.0</td>\n",
              "      <td>4</td>\n",
              "      <td>0</td>\n",
              "      <td>1</td>\n",
              "      <td>0</td>\n",
              "      <td>2.0</td>\n",
              "    </tr>\n",
              "    <tr>\n",
              "      <th>149998</th>\n",
              "      <td>149999</td>\n",
              "      <td>0</td>\n",
              "      <td>0.000000</td>\n",
              "      <td>30</td>\n",
              "      <td>0</td>\n",
              "      <td>0.000000</td>\n",
              "      <td>5716.0</td>\n",
              "      <td>4</td>\n",
              "      <td>0</td>\n",
              "      <td>0</td>\n",
              "      <td>0</td>\n",
              "      <td>0.0</td>\n",
              "    </tr>\n",
              "    <tr>\n",
              "      <th>149999</th>\n",
              "      <td>150000</td>\n",
              "      <td>0</td>\n",
              "      <td>0.850283</td>\n",
              "      <td>64</td>\n",
              "      <td>0</td>\n",
              "      <td>0.249908</td>\n",
              "      <td>8158.0</td>\n",
              "      <td>8</td>\n",
              "      <td>0</td>\n",
              "      <td>2</td>\n",
              "      <td>0</td>\n",
              "      <td>0.0</td>\n",
              "    </tr>\n",
              "  </tbody>\n",
              "</table>\n",
              "<p>134996 rows × 12 columns</p>\n",
              "</div>"
            ],
            "text/plain": [
              "        Unnamed: 0  ...  NumberOfDependents\n",
              "0                1  ...                 2.0\n",
              "1                2  ...                 1.0\n",
              "2                3  ...                 0.0\n",
              "3                4  ...                 0.0\n",
              "4                5  ...                 0.0\n",
              "...            ...  ...                 ...\n",
              "149994      149995  ...                 0.0\n",
              "149995      149996  ...                 0.0\n",
              "149996      149997  ...                 2.0\n",
              "149998      149999  ...                 0.0\n",
              "149999      150000  ...                 0.0\n",
              "\n",
              "[134996 rows x 12 columns]"
            ]
          },
          "metadata": {
            "tags": []
          },
          "execution_count": 14
        }
      ]
    },
    {
      "cell_type": "markdown",
      "metadata": {
        "id": "c00Nkw1uJn4G"
      },
      "source": [
        "Hence, those rows that having debt ratio at higher than 90 quantile are eliminated"
      ]
    },
    {
      "cell_type": "code",
      "metadata": {
        "colab": {
          "base_uri": "https://localhost:8080/"
        },
        "id": "b4s_dDMU7sdF",
        "outputId": "8f2d3583-9aa5-4aeb-a38d-3ab7168422e2"
      },
      "source": [
        "quantiles = [0.75,0.8,0.81,0.85,0.9,0.95,0.975,0.99,1]\r\n",
        "\r\n",
        "for i in quantiles:\r\n",
        "    print(i*100,'% quantile of RevolvingUtilizationOfUnsecuredLines is: ',df.RevolvingUtilizationOfUnsecuredLines.quantile(i))"
      ],
      "execution_count": 15,
      "outputs": [
        {
          "output_type": "stream",
          "text": [
            "75.0 % quantile of RevolvingUtilizationOfUnsecuredLines is:  0.571416225\n",
            "80.0 % quantile of RevolvingUtilizationOfUnsecuredLines is:  0.712657469\n",
            "81.0 % quantile of RevolvingUtilizationOfUnsecuredLines is:  0.7424545671\n",
            "85.0 % quantile of RevolvingUtilizationOfUnsecuredLines is:  0.86605134725\n",
            "90.0 % quantile of RevolvingUtilizationOfUnsecuredLines is:  0.9884857444999999\n",
            "95.0 % quantile of RevolvingUtilizationOfUnsecuredLines is:  0.9999998999999999\n",
            "97.5 % quantile of RevolvingUtilizationOfUnsecuredLines is:  0.9999998999999999\n",
            "99.0 % quantile of RevolvingUtilizationOfUnsecuredLines is:  1.0998020595999995\n",
            "100 % quantile of RevolvingUtilizationOfUnsecuredLines is:  50708.0\n"
          ],
          "name": "stdout"
        }
      ]
    },
    {
      "cell_type": "markdown",
      "metadata": {
        "id": "k7lj5ITLJ3zu"
      },
      "source": [
        "Next, check for variable revolving utilization of unsecured lines, data shows a huge gap between 99 quantile and maximum value"
      ]
    },
    {
      "cell_type": "code",
      "metadata": {
        "colab": {
          "base_uri": "https://localhost:8080/",
          "height": 294
        },
        "id": "rGqdNBcTKhtv",
        "outputId": "a0089cde-36ef-4f70-fe2e-03251cdd36d3"
      },
      "source": [
        "df[df['RevolvingUtilizationOfUnsecuredLines']>10].describe()"
      ],
      "execution_count": 16,
      "outputs": [
        {
          "output_type": "execute_result",
          "data": {
            "text/html": [
              "<div>\n",
              "<style scoped>\n",
              "    .dataframe tbody tr th:only-of-type {\n",
              "        vertical-align: middle;\n",
              "    }\n",
              "\n",
              "    .dataframe tbody tr th {\n",
              "        vertical-align: top;\n",
              "    }\n",
              "\n",
              "    .dataframe thead th {\n",
              "        text-align: right;\n",
              "    }\n",
              "</style>\n",
              "<table border=\"1\" class=\"dataframe\">\n",
              "  <thead>\n",
              "    <tr style=\"text-align: right;\">\n",
              "      <th></th>\n",
              "      <th>Unnamed: 0</th>\n",
              "      <th>SeriousDlqin2yrs</th>\n",
              "      <th>RevolvingUtilizationOfUnsecuredLines</th>\n",
              "      <th>age</th>\n",
              "      <th>NumberOfTime30-59DaysPastDueNotWorse</th>\n",
              "      <th>DebtRatio</th>\n",
              "      <th>MonthlyIncome</th>\n",
              "      <th>NumberOfOpenCreditLinesAndLoans</th>\n",
              "      <th>NumberOfTimes90DaysLate</th>\n",
              "      <th>NumberRealEstateLoansOrLines</th>\n",
              "      <th>NumberOfTime60-89DaysPastDueNotWorse</th>\n",
              "      <th>NumberOfDependents</th>\n",
              "    </tr>\n",
              "  </thead>\n",
              "  <tbody>\n",
              "    <tr>\n",
              "      <th>count</th>\n",
              "      <td>203.000000</td>\n",
              "      <td>203.000000</td>\n",
              "      <td>203.000000</td>\n",
              "      <td>203.000000</td>\n",
              "      <td>203.000000</td>\n",
              "      <td>203.000000</td>\n",
              "      <td>172.000000</td>\n",
              "      <td>203.000000</td>\n",
              "      <td>203.000000</td>\n",
              "      <td>203.000000</td>\n",
              "      <td>203.000000</td>\n",
              "      <td>195.000000</td>\n",
              "    </tr>\n",
              "    <tr>\n",
              "      <th>mean</th>\n",
              "      <td>76448.118227</td>\n",
              "      <td>0.073892</td>\n",
              "      <td>3488.732845</td>\n",
              "      <td>50.359606</td>\n",
              "      <td>0.197044</td>\n",
              "      <td>53.464991</td>\n",
              "      <td>8516.901163</td>\n",
              "      <td>5.807882</td>\n",
              "      <td>0.073892</td>\n",
              "      <td>1.133005</td>\n",
              "      <td>0.093596</td>\n",
              "      <td>0.779487</td>\n",
              "    </tr>\n",
              "    <tr>\n",
              "      <th>std</th>\n",
              "      <td>41006.854806</td>\n",
              "      <td>0.262241</td>\n",
              "      <td>5247.417895</td>\n",
              "      <td>14.544699</td>\n",
              "      <td>0.613859</td>\n",
              "      <td>186.984839</td>\n",
              "      <td>6551.123429</td>\n",
              "      <td>3.252956</td>\n",
              "      <td>0.596573</td>\n",
              "      <td>1.120044</td>\n",
              "      <td>0.602066</td>\n",
              "      <td>1.082946</td>\n",
              "    </tr>\n",
              "    <tr>\n",
              "      <th>min</th>\n",
              "      <td>294.000000</td>\n",
              "      <td>0.000000</td>\n",
              "      <td>11.385230</td>\n",
              "      <td>24.000000</td>\n",
              "      <td>0.000000</td>\n",
              "      <td>0.000800</td>\n",
              "      <td>0.000000</td>\n",
              "      <td>1.000000</td>\n",
              "      <td>0.000000</td>\n",
              "      <td>0.000000</td>\n",
              "      <td>0.000000</td>\n",
              "      <td>0.000000</td>\n",
              "    </tr>\n",
              "    <tr>\n",
              "      <th>25%</th>\n",
              "      <td>43784.500000</td>\n",
              "      <td>0.000000</td>\n",
              "      <td>860.500000</td>\n",
              "      <td>39.000000</td>\n",
              "      <td>0.000000</td>\n",
              "      <td>0.205505</td>\n",
              "      <td>4552.500000</td>\n",
              "      <td>4.000000</td>\n",
              "      <td>0.000000</td>\n",
              "      <td>0.000000</td>\n",
              "      <td>0.000000</td>\n",
              "      <td>0.000000</td>\n",
              "    </tr>\n",
              "    <tr>\n",
              "      <th>50%</th>\n",
              "      <td>75442.000000</td>\n",
              "      <td>0.000000</td>\n",
              "      <td>1917.000000</td>\n",
              "      <td>47.000000</td>\n",
              "      <td>0.000000</td>\n",
              "      <td>0.331641</td>\n",
              "      <td>7000.000000</td>\n",
              "      <td>5.000000</td>\n",
              "      <td>0.000000</td>\n",
              "      <td>1.000000</td>\n",
              "      <td>0.000000</td>\n",
              "      <td>0.000000</td>\n",
              "    </tr>\n",
              "    <tr>\n",
              "      <th>75%</th>\n",
              "      <td>108874.500000</td>\n",
              "      <td>0.000000</td>\n",
              "      <td>4074.000000</td>\n",
              "      <td>60.000000</td>\n",
              "      <td>0.000000</td>\n",
              "      <td>0.719163</td>\n",
              "      <td>10120.250000</td>\n",
              "      <td>7.000000</td>\n",
              "      <td>0.000000</td>\n",
              "      <td>2.000000</td>\n",
              "      <td>0.000000</td>\n",
              "      <td>1.000000</td>\n",
              "    </tr>\n",
              "    <tr>\n",
              "      <th>max</th>\n",
              "      <td>149280.000000</td>\n",
              "      <td>1.000000</td>\n",
              "      <td>50708.000000</td>\n",
              "      <td>87.000000</td>\n",
              "      <td>3.000000</td>\n",
              "      <td>1195.000000</td>\n",
              "      <td>44472.000000</td>\n",
              "      <td>21.000000</td>\n",
              "      <td>8.000000</td>\n",
              "      <td>9.000000</td>\n",
              "      <td>7.000000</td>\n",
              "      <td>4.000000</td>\n",
              "    </tr>\n",
              "  </tbody>\n",
              "</table>\n",
              "</div>"
            ],
            "text/plain": [
              "          Unnamed: 0  ...  NumberOfDependents\n",
              "count     203.000000  ...          195.000000\n",
              "mean    76448.118227  ...            0.779487\n",
              "std     41006.854806  ...            1.082946\n",
              "min       294.000000  ...            0.000000\n",
              "25%     43784.500000  ...            0.000000\n",
              "50%     75442.000000  ...            0.000000\n",
              "75%    108874.500000  ...            1.000000\n",
              "max    149280.000000  ...            4.000000\n",
              "\n",
              "[8 rows x 12 columns]"
            ]
          },
          "metadata": {
            "tags": []
          },
          "execution_count": 16
        }
      ]
    },
    {
      "cell_type": "code",
      "metadata": {
        "colab": {
          "base_uri": "https://localhost:8080/",
          "height": 442
        },
        "id": "ZAnep2o8-BAb",
        "outputId": "10723ff0-7472-4ca1-9d1b-7c596a01aef7"
      },
      "source": [
        "df[df[\"RevolvingUtilizationOfUnsecuredLines\"]>10] [(df['SeriousDlqin2yrs']==0)]"
      ],
      "execution_count": 17,
      "outputs": [
        {
          "output_type": "stream",
          "text": [
            "/usr/local/lib/python3.7/dist-packages/ipykernel_launcher.py:1: UserWarning: Boolean Series key will be reindexed to match DataFrame index.\n",
            "  \"\"\"Entry point for launching an IPython kernel.\n"
          ],
          "name": "stderr"
        },
        {
          "output_type": "execute_result",
          "data": {
            "text/html": [
              "<div>\n",
              "<style scoped>\n",
              "    .dataframe tbody tr th:only-of-type {\n",
              "        vertical-align: middle;\n",
              "    }\n",
              "\n",
              "    .dataframe tbody tr th {\n",
              "        vertical-align: top;\n",
              "    }\n",
              "\n",
              "    .dataframe thead th {\n",
              "        text-align: right;\n",
              "    }\n",
              "</style>\n",
              "<table border=\"1\" class=\"dataframe\">\n",
              "  <thead>\n",
              "    <tr style=\"text-align: right;\">\n",
              "      <th></th>\n",
              "      <th>Unnamed: 0</th>\n",
              "      <th>SeriousDlqin2yrs</th>\n",
              "      <th>RevolvingUtilizationOfUnsecuredLines</th>\n",
              "      <th>age</th>\n",
              "      <th>NumberOfTime30-59DaysPastDueNotWorse</th>\n",
              "      <th>DebtRatio</th>\n",
              "      <th>MonthlyIncome</th>\n",
              "      <th>NumberOfOpenCreditLinesAndLoans</th>\n",
              "      <th>NumberOfTimes90DaysLate</th>\n",
              "      <th>NumberRealEstateLoansOrLines</th>\n",
              "      <th>NumberOfTime60-89DaysPastDueNotWorse</th>\n",
              "      <th>NumberOfDependents</th>\n",
              "    </tr>\n",
              "  </thead>\n",
              "  <tbody>\n",
              "    <tr>\n",
              "      <th>293</th>\n",
              "      <td>294</td>\n",
              "      <td>0</td>\n",
              "      <td>2340.0</td>\n",
              "      <td>45</td>\n",
              "      <td>0</td>\n",
              "      <td>0.339333</td>\n",
              "      <td>8333.0</td>\n",
              "      <td>7</td>\n",
              "      <td>0</td>\n",
              "      <td>2</td>\n",
              "      <td>0</td>\n",
              "      <td>2.0</td>\n",
              "    </tr>\n",
              "    <tr>\n",
              "      <th>2331</th>\n",
              "      <td>2332</td>\n",
              "      <td>0</td>\n",
              "      <td>6324.0</td>\n",
              "      <td>59</td>\n",
              "      <td>0</td>\n",
              "      <td>0.136673</td>\n",
              "      <td>11318.0</td>\n",
              "      <td>4</td>\n",
              "      <td>0</td>\n",
              "      <td>1</td>\n",
              "      <td>0</td>\n",
              "      <td>1.0</td>\n",
              "    </tr>\n",
              "    <tr>\n",
              "      <th>4278</th>\n",
              "      <td>4279</td>\n",
              "      <td>0</td>\n",
              "      <td>1982.0</td>\n",
              "      <td>33</td>\n",
              "      <td>0</td>\n",
              "      <td>0.144982</td>\n",
              "      <td>8000.0</td>\n",
              "      <td>4</td>\n",
              "      <td>0</td>\n",
              "      <td>0</td>\n",
              "      <td>0</td>\n",
              "      <td>0.0</td>\n",
              "    </tr>\n",
              "    <tr>\n",
              "      <th>4793</th>\n",
              "      <td>4794</td>\n",
              "      <td>0</td>\n",
              "      <td>3746.0</td>\n",
              "      <td>52</td>\n",
              "      <td>2</td>\n",
              "      <td>0.481353</td>\n",
              "      <td>2600.0</td>\n",
              "      <td>5</td>\n",
              "      <td>0</td>\n",
              "      <td>1</td>\n",
              "      <td>0</td>\n",
              "      <td>3.0</td>\n",
              "    </tr>\n",
              "    <tr>\n",
              "      <th>6760</th>\n",
              "      <td>6761</td>\n",
              "      <td>0</td>\n",
              "      <td>941.0</td>\n",
              "      <td>37</td>\n",
              "      <td>0</td>\n",
              "      <td>0.085183</td>\n",
              "      <td>5000.0</td>\n",
              "      <td>6</td>\n",
              "      <td>0</td>\n",
              "      <td>0</td>\n",
              "      <td>0</td>\n",
              "      <td>1.0</td>\n",
              "    </tr>\n",
              "    <tr>\n",
              "      <th>...</th>\n",
              "      <td>...</td>\n",
              "      <td>...</td>\n",
              "      <td>...</td>\n",
              "      <td>...</td>\n",
              "      <td>...</td>\n",
              "      <td>...</td>\n",
              "      <td>...</td>\n",
              "      <td>...</td>\n",
              "      <td>...</td>\n",
              "      <td>...</td>\n",
              "      <td>...</td>\n",
              "      <td>...</td>\n",
              "    </tr>\n",
              "    <tr>\n",
              "      <th>145587</th>\n",
              "      <td>145588</td>\n",
              "      <td>0</td>\n",
              "      <td>7452.0</td>\n",
              "      <td>52</td>\n",
              "      <td>0</td>\n",
              "      <td>0.351365</td>\n",
              "      <td>10000.0</td>\n",
              "      <td>5</td>\n",
              "      <td>0</td>\n",
              "      <td>2</td>\n",
              "      <td>0</td>\n",
              "      <td>3.0</td>\n",
              "    </tr>\n",
              "    <tr>\n",
              "      <th>149102</th>\n",
              "      <td>149103</td>\n",
              "      <td>0</td>\n",
              "      <td>6109.0</td>\n",
              "      <td>43</td>\n",
              "      <td>0</td>\n",
              "      <td>0.229902</td>\n",
              "      <td>12500.0</td>\n",
              "      <td>9</td>\n",
              "      <td>0</td>\n",
              "      <td>2</td>\n",
              "      <td>0</td>\n",
              "      <td>0.0</td>\n",
              "    </tr>\n",
              "    <tr>\n",
              "      <th>149160</th>\n",
              "      <td>149161</td>\n",
              "      <td>0</td>\n",
              "      <td>22000.0</td>\n",
              "      <td>38</td>\n",
              "      <td>0</td>\n",
              "      <td>1.080020</td>\n",
              "      <td>3973.0</td>\n",
              "      <td>7</td>\n",
              "      <td>0</td>\n",
              "      <td>2</td>\n",
              "      <td>0</td>\n",
              "      <td>3.0</td>\n",
              "    </tr>\n",
              "    <tr>\n",
              "      <th>149245</th>\n",
              "      <td>149246</td>\n",
              "      <td>0</td>\n",
              "      <td>771.0</td>\n",
              "      <td>52</td>\n",
              "      <td>0</td>\n",
              "      <td>0.832021</td>\n",
              "      <td>8000.0</td>\n",
              "      <td>13</td>\n",
              "      <td>0</td>\n",
              "      <td>3</td>\n",
              "      <td>0</td>\n",
              "      <td>0.0</td>\n",
              "    </tr>\n",
              "    <tr>\n",
              "      <th>149279</th>\n",
              "      <td>149280</td>\n",
              "      <td>0</td>\n",
              "      <td>20514.0</td>\n",
              "      <td>42</td>\n",
              "      <td>0</td>\n",
              "      <td>0.062102</td>\n",
              "      <td>9902.0</td>\n",
              "      <td>1</td>\n",
              "      <td>1</td>\n",
              "      <td>0</td>\n",
              "      <td>0</td>\n",
              "      <td>2.0</td>\n",
              "    </tr>\n",
              "  </tbody>\n",
              "</table>\n",
              "<p>188 rows × 12 columns</p>\n",
              "</div>"
            ],
            "text/plain": [
              "        Unnamed: 0  ...  NumberOfDependents\n",
              "293            294  ...                 2.0\n",
              "2331          2332  ...                 1.0\n",
              "4278          4279  ...                 0.0\n",
              "4793          4794  ...                 3.0\n",
              "6760          6761  ...                 1.0\n",
              "...            ...  ...                 ...\n",
              "145587      145588  ...                 3.0\n",
              "149102      149103  ...                 0.0\n",
              "149160      149161  ...                 3.0\n",
              "149245      149246  ...                 0.0\n",
              "149279      149280  ...                 2.0\n",
              "\n",
              "[188 rows x 12 columns]"
            ]
          },
          "metadata": {
            "tags": []
          },
          "execution_count": 17
        }
      ]
    },
    {
      "cell_type": "markdown",
      "metadata": {
        "id": "rwxg38mX_rdl"
      },
      "source": [
        "This show that 188 customers of 203 customer who has 1000% of credit utilized but never been experined any 90 days past due delinquency or worse. These may bias the estimation, therefore, it will be eliminated. "
      ]
    },
    {
      "cell_type": "code",
      "metadata": {
        "colab": {
          "base_uri": "https://localhost:8080/",
          "height": 409
        },
        "id": "gcaD3vygAy18",
        "outputId": "af52db71-0e07-46a3-dc3a-251a0f889def"
      },
      "source": [
        "df = df[df['RevolvingUtilizationOfUnsecuredLines']<=10]\r\n",
        "df"
      ],
      "execution_count": 18,
      "outputs": [
        {
          "output_type": "execute_result",
          "data": {
            "text/html": [
              "<div>\n",
              "<style scoped>\n",
              "    .dataframe tbody tr th:only-of-type {\n",
              "        vertical-align: middle;\n",
              "    }\n",
              "\n",
              "    .dataframe tbody tr th {\n",
              "        vertical-align: top;\n",
              "    }\n",
              "\n",
              "    .dataframe thead th {\n",
              "        text-align: right;\n",
              "    }\n",
              "</style>\n",
              "<table border=\"1\" class=\"dataframe\">\n",
              "  <thead>\n",
              "    <tr style=\"text-align: right;\">\n",
              "      <th></th>\n",
              "      <th>Unnamed: 0</th>\n",
              "      <th>SeriousDlqin2yrs</th>\n",
              "      <th>RevolvingUtilizationOfUnsecuredLines</th>\n",
              "      <th>age</th>\n",
              "      <th>NumberOfTime30-59DaysPastDueNotWorse</th>\n",
              "      <th>DebtRatio</th>\n",
              "      <th>MonthlyIncome</th>\n",
              "      <th>NumberOfOpenCreditLinesAndLoans</th>\n",
              "      <th>NumberOfTimes90DaysLate</th>\n",
              "      <th>NumberRealEstateLoansOrLines</th>\n",
              "      <th>NumberOfTime60-89DaysPastDueNotWorse</th>\n",
              "      <th>NumberOfDependents</th>\n",
              "    </tr>\n",
              "  </thead>\n",
              "  <tbody>\n",
              "    <tr>\n",
              "      <th>0</th>\n",
              "      <td>1</td>\n",
              "      <td>1</td>\n",
              "      <td>0.766127</td>\n",
              "      <td>45</td>\n",
              "      <td>2</td>\n",
              "      <td>0.802982</td>\n",
              "      <td>9120.0</td>\n",
              "      <td>13</td>\n",
              "      <td>0</td>\n",
              "      <td>6</td>\n",
              "      <td>0</td>\n",
              "      <td>2.0</td>\n",
              "    </tr>\n",
              "    <tr>\n",
              "      <th>1</th>\n",
              "      <td>2</td>\n",
              "      <td>0</td>\n",
              "      <td>0.957151</td>\n",
              "      <td>40</td>\n",
              "      <td>0</td>\n",
              "      <td>0.121876</td>\n",
              "      <td>2600.0</td>\n",
              "      <td>4</td>\n",
              "      <td>0</td>\n",
              "      <td>0</td>\n",
              "      <td>0</td>\n",
              "      <td>1.0</td>\n",
              "    </tr>\n",
              "    <tr>\n",
              "      <th>2</th>\n",
              "      <td>3</td>\n",
              "      <td>0</td>\n",
              "      <td>0.658180</td>\n",
              "      <td>38</td>\n",
              "      <td>1</td>\n",
              "      <td>0.085113</td>\n",
              "      <td>3042.0</td>\n",
              "      <td>2</td>\n",
              "      <td>1</td>\n",
              "      <td>0</td>\n",
              "      <td>0</td>\n",
              "      <td>0.0</td>\n",
              "    </tr>\n",
              "    <tr>\n",
              "      <th>3</th>\n",
              "      <td>4</td>\n",
              "      <td>0</td>\n",
              "      <td>0.233810</td>\n",
              "      <td>30</td>\n",
              "      <td>0</td>\n",
              "      <td>0.036050</td>\n",
              "      <td>3300.0</td>\n",
              "      <td>5</td>\n",
              "      <td>0</td>\n",
              "      <td>0</td>\n",
              "      <td>0</td>\n",
              "      <td>0.0</td>\n",
              "    </tr>\n",
              "    <tr>\n",
              "      <th>4</th>\n",
              "      <td>5</td>\n",
              "      <td>0</td>\n",
              "      <td>0.907239</td>\n",
              "      <td>49</td>\n",
              "      <td>1</td>\n",
              "      <td>0.024926</td>\n",
              "      <td>63588.0</td>\n",
              "      <td>7</td>\n",
              "      <td>0</td>\n",
              "      <td>1</td>\n",
              "      <td>0</td>\n",
              "      <td>0.0</td>\n",
              "    </tr>\n",
              "    <tr>\n",
              "      <th>...</th>\n",
              "      <td>...</td>\n",
              "      <td>...</td>\n",
              "      <td>...</td>\n",
              "      <td>...</td>\n",
              "      <td>...</td>\n",
              "      <td>...</td>\n",
              "      <td>...</td>\n",
              "      <td>...</td>\n",
              "      <td>...</td>\n",
              "      <td>...</td>\n",
              "      <td>...</td>\n",
              "      <td>...</td>\n",
              "    </tr>\n",
              "    <tr>\n",
              "      <th>149994</th>\n",
              "      <td>149995</td>\n",
              "      <td>0</td>\n",
              "      <td>0.385742</td>\n",
              "      <td>50</td>\n",
              "      <td>0</td>\n",
              "      <td>0.404293</td>\n",
              "      <td>3400.0</td>\n",
              "      <td>7</td>\n",
              "      <td>0</td>\n",
              "      <td>0</td>\n",
              "      <td>0</td>\n",
              "      <td>0.0</td>\n",
              "    </tr>\n",
              "    <tr>\n",
              "      <th>149995</th>\n",
              "      <td>149996</td>\n",
              "      <td>0</td>\n",
              "      <td>0.040674</td>\n",
              "      <td>74</td>\n",
              "      <td>0</td>\n",
              "      <td>0.225131</td>\n",
              "      <td>2100.0</td>\n",
              "      <td>4</td>\n",
              "      <td>0</td>\n",
              "      <td>1</td>\n",
              "      <td>0</td>\n",
              "      <td>0.0</td>\n",
              "    </tr>\n",
              "    <tr>\n",
              "      <th>149996</th>\n",
              "      <td>149997</td>\n",
              "      <td>0</td>\n",
              "      <td>0.299745</td>\n",
              "      <td>44</td>\n",
              "      <td>0</td>\n",
              "      <td>0.716562</td>\n",
              "      <td>5584.0</td>\n",
              "      <td>4</td>\n",
              "      <td>0</td>\n",
              "      <td>1</td>\n",
              "      <td>0</td>\n",
              "      <td>2.0</td>\n",
              "    </tr>\n",
              "    <tr>\n",
              "      <th>149998</th>\n",
              "      <td>149999</td>\n",
              "      <td>0</td>\n",
              "      <td>0.000000</td>\n",
              "      <td>30</td>\n",
              "      <td>0</td>\n",
              "      <td>0.000000</td>\n",
              "      <td>5716.0</td>\n",
              "      <td>4</td>\n",
              "      <td>0</td>\n",
              "      <td>0</td>\n",
              "      <td>0</td>\n",
              "      <td>0.0</td>\n",
              "    </tr>\n",
              "    <tr>\n",
              "      <th>149999</th>\n",
              "      <td>150000</td>\n",
              "      <td>0</td>\n",
              "      <td>0.850283</td>\n",
              "      <td>64</td>\n",
              "      <td>0</td>\n",
              "      <td>0.249908</td>\n",
              "      <td>8158.0</td>\n",
              "      <td>8</td>\n",
              "      <td>0</td>\n",
              "      <td>2</td>\n",
              "      <td>0</td>\n",
              "      <td>0.0</td>\n",
              "    </tr>\n",
              "  </tbody>\n",
              "</table>\n",
              "<p>134793 rows × 12 columns</p>\n",
              "</div>"
            ],
            "text/plain": [
              "        Unnamed: 0  ...  NumberOfDependents\n",
              "0                1  ...                 2.0\n",
              "1                2  ...                 1.0\n",
              "2                3  ...                 0.0\n",
              "3                4  ...                 0.0\n",
              "4                5  ...                 0.0\n",
              "...            ...  ...                 ...\n",
              "149994      149995  ...                 0.0\n",
              "149995      149996  ...                 0.0\n",
              "149996      149997  ...                 2.0\n",
              "149998      149999  ...                 0.0\n",
              "149999      150000  ...                 0.0\n",
              "\n",
              "[134793 rows x 12 columns]"
            ]
          },
          "metadata": {
            "tags": []
          },
          "execution_count": 18
        }
      ]
    },
    {
      "cell_type": "markdown",
      "metadata": {
        "id": "fzw7gwNxLeN6"
      },
      "source": [
        "Now obtain training set with 134,793 rows with 12 features\r\n",
        "\r\n",
        "Next, checking for Revolving Utilization of Unsecured Lines. This field basically represents the ratio of the amount owed by the credit limit of a customer. A ratio higher than 1 is considered to be a serious defaulter. A Ratio of 10 functionally also seems possible, let's see how many of these customers have the Revolving Utilization of Unsecured Lines greater than 10."
      ]
    },
    {
      "cell_type": "markdown",
      "metadata": {
        "id": "Z4i2BmISMg7k"
      },
      "source": [
        "For variable **age, and MonthlyIncome**"
      ]
    },
    {
      "cell_type": "code",
      "metadata": {
        "colab": {
          "base_uri": "https://localhost:8080/",
          "height": 294
        },
        "id": "xi8N-qs7MmsB",
        "outputId": "03df0df0-27d1-41d4-f558-dbe790b391cc"
      },
      "source": [
        "# Another type of error is for example here as a person with age equal to zero\r\n",
        "df[df['age']==0].describe()"
      ],
      "execution_count": 19,
      "outputs": [
        {
          "output_type": "execute_result",
          "data": {
            "text/html": [
              "<div>\n",
              "<style scoped>\n",
              "    .dataframe tbody tr th:only-of-type {\n",
              "        vertical-align: middle;\n",
              "    }\n",
              "\n",
              "    .dataframe tbody tr th {\n",
              "        vertical-align: top;\n",
              "    }\n",
              "\n",
              "    .dataframe thead th {\n",
              "        text-align: right;\n",
              "    }\n",
              "</style>\n",
              "<table border=\"1\" class=\"dataframe\">\n",
              "  <thead>\n",
              "    <tr style=\"text-align: right;\">\n",
              "      <th></th>\n",
              "      <th>Unnamed: 0</th>\n",
              "      <th>SeriousDlqin2yrs</th>\n",
              "      <th>RevolvingUtilizationOfUnsecuredLines</th>\n",
              "      <th>age</th>\n",
              "      <th>NumberOfTime30-59DaysPastDueNotWorse</th>\n",
              "      <th>DebtRatio</th>\n",
              "      <th>MonthlyIncome</th>\n",
              "      <th>NumberOfOpenCreditLinesAndLoans</th>\n",
              "      <th>NumberOfTimes90DaysLate</th>\n",
              "      <th>NumberRealEstateLoansOrLines</th>\n",
              "      <th>NumberOfTime60-89DaysPastDueNotWorse</th>\n",
              "      <th>NumberOfDependents</th>\n",
              "    </tr>\n",
              "  </thead>\n",
              "  <tbody>\n",
              "    <tr>\n",
              "      <th>count</th>\n",
              "      <td>1.0</td>\n",
              "      <td>1.0</td>\n",
              "      <td>1.0</td>\n",
              "      <td>1.0</td>\n",
              "      <td>1.0</td>\n",
              "      <td>1.000000</td>\n",
              "      <td>1.0</td>\n",
              "      <td>1.0</td>\n",
              "      <td>1.0</td>\n",
              "      <td>1.0</td>\n",
              "      <td>1.0</td>\n",
              "      <td>1.0</td>\n",
              "    </tr>\n",
              "    <tr>\n",
              "      <th>mean</th>\n",
              "      <td>65696.0</td>\n",
              "      <td>0.0</td>\n",
              "      <td>1.0</td>\n",
              "      <td>0.0</td>\n",
              "      <td>1.0</td>\n",
              "      <td>0.436927</td>\n",
              "      <td>6000.0</td>\n",
              "      <td>6.0</td>\n",
              "      <td>0.0</td>\n",
              "      <td>2.0</td>\n",
              "      <td>0.0</td>\n",
              "      <td>2.0</td>\n",
              "    </tr>\n",
              "    <tr>\n",
              "      <th>std</th>\n",
              "      <td>NaN</td>\n",
              "      <td>NaN</td>\n",
              "      <td>NaN</td>\n",
              "      <td>NaN</td>\n",
              "      <td>NaN</td>\n",
              "      <td>NaN</td>\n",
              "      <td>NaN</td>\n",
              "      <td>NaN</td>\n",
              "      <td>NaN</td>\n",
              "      <td>NaN</td>\n",
              "      <td>NaN</td>\n",
              "      <td>NaN</td>\n",
              "    </tr>\n",
              "    <tr>\n",
              "      <th>min</th>\n",
              "      <td>65696.0</td>\n",
              "      <td>0.0</td>\n",
              "      <td>1.0</td>\n",
              "      <td>0.0</td>\n",
              "      <td>1.0</td>\n",
              "      <td>0.436927</td>\n",
              "      <td>6000.0</td>\n",
              "      <td>6.0</td>\n",
              "      <td>0.0</td>\n",
              "      <td>2.0</td>\n",
              "      <td>0.0</td>\n",
              "      <td>2.0</td>\n",
              "    </tr>\n",
              "    <tr>\n",
              "      <th>25%</th>\n",
              "      <td>65696.0</td>\n",
              "      <td>0.0</td>\n",
              "      <td>1.0</td>\n",
              "      <td>0.0</td>\n",
              "      <td>1.0</td>\n",
              "      <td>0.436927</td>\n",
              "      <td>6000.0</td>\n",
              "      <td>6.0</td>\n",
              "      <td>0.0</td>\n",
              "      <td>2.0</td>\n",
              "      <td>0.0</td>\n",
              "      <td>2.0</td>\n",
              "    </tr>\n",
              "    <tr>\n",
              "      <th>50%</th>\n",
              "      <td>65696.0</td>\n",
              "      <td>0.0</td>\n",
              "      <td>1.0</td>\n",
              "      <td>0.0</td>\n",
              "      <td>1.0</td>\n",
              "      <td>0.436927</td>\n",
              "      <td>6000.0</td>\n",
              "      <td>6.0</td>\n",
              "      <td>0.0</td>\n",
              "      <td>2.0</td>\n",
              "      <td>0.0</td>\n",
              "      <td>2.0</td>\n",
              "    </tr>\n",
              "    <tr>\n",
              "      <th>75%</th>\n",
              "      <td>65696.0</td>\n",
              "      <td>0.0</td>\n",
              "      <td>1.0</td>\n",
              "      <td>0.0</td>\n",
              "      <td>1.0</td>\n",
              "      <td>0.436927</td>\n",
              "      <td>6000.0</td>\n",
              "      <td>6.0</td>\n",
              "      <td>0.0</td>\n",
              "      <td>2.0</td>\n",
              "      <td>0.0</td>\n",
              "      <td>2.0</td>\n",
              "    </tr>\n",
              "    <tr>\n",
              "      <th>max</th>\n",
              "      <td>65696.0</td>\n",
              "      <td>0.0</td>\n",
              "      <td>1.0</td>\n",
              "      <td>0.0</td>\n",
              "      <td>1.0</td>\n",
              "      <td>0.436927</td>\n",
              "      <td>6000.0</td>\n",
              "      <td>6.0</td>\n",
              "      <td>0.0</td>\n",
              "      <td>2.0</td>\n",
              "      <td>0.0</td>\n",
              "      <td>2.0</td>\n",
              "    </tr>\n",
              "  </tbody>\n",
              "</table>\n",
              "</div>"
            ],
            "text/plain": [
              "       Unnamed: 0  ...  NumberOfDependents\n",
              "count         1.0  ...                 1.0\n",
              "mean      65696.0  ...                 2.0\n",
              "std           NaN  ...                 NaN\n",
              "min       65696.0  ...                 2.0\n",
              "25%       65696.0  ...                 2.0\n",
              "50%       65696.0  ...                 2.0\n",
              "75%       65696.0  ...                 2.0\n",
              "max       65696.0  ...                 2.0\n",
              "\n",
              "[8 rows x 12 columns]"
            ]
          },
          "metadata": {
            "tags": []
          },
          "execution_count": 19
        }
      ]
    },
    {
      "cell_type": "code",
      "metadata": {
        "colab": {
          "base_uri": "https://localhost:8080/",
          "height": 409
        },
        "id": "1GG2Fa5cMuwY",
        "outputId": "e9db28d9-5b9a-4aa5-c4a6-96836be1425e"
      },
      "source": [
        "#eliminate this row as it is only one observation\r\n",
        "df = df[df['age']>0]\r\n",
        "df"
      ],
      "execution_count": 20,
      "outputs": [
        {
          "output_type": "execute_result",
          "data": {
            "text/html": [
              "<div>\n",
              "<style scoped>\n",
              "    .dataframe tbody tr th:only-of-type {\n",
              "        vertical-align: middle;\n",
              "    }\n",
              "\n",
              "    .dataframe tbody tr th {\n",
              "        vertical-align: top;\n",
              "    }\n",
              "\n",
              "    .dataframe thead th {\n",
              "        text-align: right;\n",
              "    }\n",
              "</style>\n",
              "<table border=\"1\" class=\"dataframe\">\n",
              "  <thead>\n",
              "    <tr style=\"text-align: right;\">\n",
              "      <th></th>\n",
              "      <th>Unnamed: 0</th>\n",
              "      <th>SeriousDlqin2yrs</th>\n",
              "      <th>RevolvingUtilizationOfUnsecuredLines</th>\n",
              "      <th>age</th>\n",
              "      <th>NumberOfTime30-59DaysPastDueNotWorse</th>\n",
              "      <th>DebtRatio</th>\n",
              "      <th>MonthlyIncome</th>\n",
              "      <th>NumberOfOpenCreditLinesAndLoans</th>\n",
              "      <th>NumberOfTimes90DaysLate</th>\n",
              "      <th>NumberRealEstateLoansOrLines</th>\n",
              "      <th>NumberOfTime60-89DaysPastDueNotWorse</th>\n",
              "      <th>NumberOfDependents</th>\n",
              "    </tr>\n",
              "  </thead>\n",
              "  <tbody>\n",
              "    <tr>\n",
              "      <th>0</th>\n",
              "      <td>1</td>\n",
              "      <td>1</td>\n",
              "      <td>0.766127</td>\n",
              "      <td>45</td>\n",
              "      <td>2</td>\n",
              "      <td>0.802982</td>\n",
              "      <td>9120.0</td>\n",
              "      <td>13</td>\n",
              "      <td>0</td>\n",
              "      <td>6</td>\n",
              "      <td>0</td>\n",
              "      <td>2.0</td>\n",
              "    </tr>\n",
              "    <tr>\n",
              "      <th>1</th>\n",
              "      <td>2</td>\n",
              "      <td>0</td>\n",
              "      <td>0.957151</td>\n",
              "      <td>40</td>\n",
              "      <td>0</td>\n",
              "      <td>0.121876</td>\n",
              "      <td>2600.0</td>\n",
              "      <td>4</td>\n",
              "      <td>0</td>\n",
              "      <td>0</td>\n",
              "      <td>0</td>\n",
              "      <td>1.0</td>\n",
              "    </tr>\n",
              "    <tr>\n",
              "      <th>2</th>\n",
              "      <td>3</td>\n",
              "      <td>0</td>\n",
              "      <td>0.658180</td>\n",
              "      <td>38</td>\n",
              "      <td>1</td>\n",
              "      <td>0.085113</td>\n",
              "      <td>3042.0</td>\n",
              "      <td>2</td>\n",
              "      <td>1</td>\n",
              "      <td>0</td>\n",
              "      <td>0</td>\n",
              "      <td>0.0</td>\n",
              "    </tr>\n",
              "    <tr>\n",
              "      <th>3</th>\n",
              "      <td>4</td>\n",
              "      <td>0</td>\n",
              "      <td>0.233810</td>\n",
              "      <td>30</td>\n",
              "      <td>0</td>\n",
              "      <td>0.036050</td>\n",
              "      <td>3300.0</td>\n",
              "      <td>5</td>\n",
              "      <td>0</td>\n",
              "      <td>0</td>\n",
              "      <td>0</td>\n",
              "      <td>0.0</td>\n",
              "    </tr>\n",
              "    <tr>\n",
              "      <th>4</th>\n",
              "      <td>5</td>\n",
              "      <td>0</td>\n",
              "      <td>0.907239</td>\n",
              "      <td>49</td>\n",
              "      <td>1</td>\n",
              "      <td>0.024926</td>\n",
              "      <td>63588.0</td>\n",
              "      <td>7</td>\n",
              "      <td>0</td>\n",
              "      <td>1</td>\n",
              "      <td>0</td>\n",
              "      <td>0.0</td>\n",
              "    </tr>\n",
              "    <tr>\n",
              "      <th>...</th>\n",
              "      <td>...</td>\n",
              "      <td>...</td>\n",
              "      <td>...</td>\n",
              "      <td>...</td>\n",
              "      <td>...</td>\n",
              "      <td>...</td>\n",
              "      <td>...</td>\n",
              "      <td>...</td>\n",
              "      <td>...</td>\n",
              "      <td>...</td>\n",
              "      <td>...</td>\n",
              "      <td>...</td>\n",
              "    </tr>\n",
              "    <tr>\n",
              "      <th>149994</th>\n",
              "      <td>149995</td>\n",
              "      <td>0</td>\n",
              "      <td>0.385742</td>\n",
              "      <td>50</td>\n",
              "      <td>0</td>\n",
              "      <td>0.404293</td>\n",
              "      <td>3400.0</td>\n",
              "      <td>7</td>\n",
              "      <td>0</td>\n",
              "      <td>0</td>\n",
              "      <td>0</td>\n",
              "      <td>0.0</td>\n",
              "    </tr>\n",
              "    <tr>\n",
              "      <th>149995</th>\n",
              "      <td>149996</td>\n",
              "      <td>0</td>\n",
              "      <td>0.040674</td>\n",
              "      <td>74</td>\n",
              "      <td>0</td>\n",
              "      <td>0.225131</td>\n",
              "      <td>2100.0</td>\n",
              "      <td>4</td>\n",
              "      <td>0</td>\n",
              "      <td>1</td>\n",
              "      <td>0</td>\n",
              "      <td>0.0</td>\n",
              "    </tr>\n",
              "    <tr>\n",
              "      <th>149996</th>\n",
              "      <td>149997</td>\n",
              "      <td>0</td>\n",
              "      <td>0.299745</td>\n",
              "      <td>44</td>\n",
              "      <td>0</td>\n",
              "      <td>0.716562</td>\n",
              "      <td>5584.0</td>\n",
              "      <td>4</td>\n",
              "      <td>0</td>\n",
              "      <td>1</td>\n",
              "      <td>0</td>\n",
              "      <td>2.0</td>\n",
              "    </tr>\n",
              "    <tr>\n",
              "      <th>149998</th>\n",
              "      <td>149999</td>\n",
              "      <td>0</td>\n",
              "      <td>0.000000</td>\n",
              "      <td>30</td>\n",
              "      <td>0</td>\n",
              "      <td>0.000000</td>\n",
              "      <td>5716.0</td>\n",
              "      <td>4</td>\n",
              "      <td>0</td>\n",
              "      <td>0</td>\n",
              "      <td>0</td>\n",
              "      <td>0.0</td>\n",
              "    </tr>\n",
              "    <tr>\n",
              "      <th>149999</th>\n",
              "      <td>150000</td>\n",
              "      <td>0</td>\n",
              "      <td>0.850283</td>\n",
              "      <td>64</td>\n",
              "      <td>0</td>\n",
              "      <td>0.249908</td>\n",
              "      <td>8158.0</td>\n",
              "      <td>8</td>\n",
              "      <td>0</td>\n",
              "      <td>2</td>\n",
              "      <td>0</td>\n",
              "      <td>0.0</td>\n",
              "    </tr>\n",
              "  </tbody>\n",
              "</table>\n",
              "<p>134792 rows × 12 columns</p>\n",
              "</div>"
            ],
            "text/plain": [
              "        Unnamed: 0  ...  NumberOfDependents\n",
              "0                1  ...                 2.0\n",
              "1                2  ...                 1.0\n",
              "2                3  ...                 0.0\n",
              "3                4  ...                 0.0\n",
              "4                5  ...                 0.0\n",
              "...            ...  ...                 ...\n",
              "149994      149995  ...                 0.0\n",
              "149995      149996  ...                 0.0\n",
              "149996      149997  ...                 2.0\n",
              "149998      149999  ...                 0.0\n",
              "149999      150000  ...                 0.0\n",
              "\n",
              "[134792 rows x 12 columns]"
            ]
          },
          "metadata": {
            "tags": []
          },
          "execution_count": 20
        }
      ]
    },
    {
      "cell_type": "markdown",
      "metadata": {
        "id": "thL6QewuOzAF"
      },
      "source": [
        "**Dealing with missing value as seen in the begining**"
      ]
    },
    {
      "cell_type": "code",
      "metadata": {
        "colab": {
          "base_uri": "https://localhost:8080/",
          "height": 104
        },
        "id": "YRcoyuf4O3qe",
        "outputId": "2096c892-e363-44f4-9191-a3be1b0f1be7"
      },
      "source": [
        "def MissingHandler(df):\r\n",
        "    DataMissing = df.isnull().sum()*100/len(df)\r\n",
        "    DataMissingByColumn = pd.DataFrame({'Percentage Nulls':DataMissing})\r\n",
        "    DataMissingByColumn.sort_values(by='Percentage Nulls',ascending=False,inplace=True)\r\n",
        "    return DataMissingByColumn[DataMissingByColumn['Percentage Nulls']>0]\r\n",
        "\r\n",
        "MissingHandler(df)"
      ],
      "execution_count": 21,
      "outputs": [
        {
          "output_type": "execute_result",
          "data": {
            "text/html": [
              "<div>\n",
              "<style scoped>\n",
              "    .dataframe tbody tr th:only-of-type {\n",
              "        vertical-align: middle;\n",
              "    }\n",
              "\n",
              "    .dataframe tbody tr th {\n",
              "        vertical-align: top;\n",
              "    }\n",
              "\n",
              "    .dataframe thead th {\n",
              "        text-align: right;\n",
              "    }\n",
              "</style>\n",
              "<table border=\"1\" class=\"dataframe\">\n",
              "  <thead>\n",
              "    <tr style=\"text-align: right;\">\n",
              "      <th></th>\n",
              "      <th>Percentage Nulls</th>\n",
              "    </tr>\n",
              "  </thead>\n",
              "  <tbody>\n",
              "    <tr>\n",
              "      <th>MonthlyIncome</th>\n",
              "      <td>11.533325</td>\n",
              "    </tr>\n",
              "    <tr>\n",
              "      <th>NumberOfDependents</th>\n",
              "      <td>2.028310</td>\n",
              "    </tr>\n",
              "  </tbody>\n",
              "</table>\n",
              "</div>"
            ],
            "text/plain": [
              "                    Percentage Nulls\n",
              "MonthlyIncome              11.533325\n",
              "NumberOfDependents          2.028310"
            ]
          },
          "metadata": {
            "tags": []
          },
          "execution_count": 21
        }
      ]
    },
    {
      "cell_type": "markdown",
      "metadata": {
        "id": "OxyJCIPbO_wW"
      },
      "source": [
        "There are 11.53% and 2.02% Nulls for MonthlyIncome and NumberOfDependents respectively."
      ]
    },
    {
      "cell_type": "code",
      "metadata": {
        "colab": {
          "base_uri": "https://localhost:8080/"
        },
        "id": "K5_0jhccPVoR",
        "outputId": "e761a07c-7e91-4d7f-97e6-00df86258168"
      },
      "source": [
        "df['MonthlyIncome'].fillna(df['MonthlyIncome'].median(), inplace=True)\r\n",
        "df['NumberOfDependents'].fillna(0, inplace = True)"
      ],
      "execution_count": 22,
      "outputs": [
        {
          "output_type": "stream",
          "text": [
            "/usr/local/lib/python3.7/dist-packages/pandas/core/series.py:4536: SettingWithCopyWarning: \n",
            "A value is trying to be set on a copy of a slice from a DataFrame\n",
            "\n",
            "See the caveats in the documentation: https://pandas.pydata.org/pandas-docs/stable/user_guide/indexing.html#returning-a-view-versus-a-copy\n",
            "  downcast=downcast,\n"
          ],
          "name": "stderr"
        }
      ]
    },
    {
      "cell_type": "code",
      "metadata": {
        "colab": {
          "base_uri": "https://localhost:8080/",
          "height": 46
        },
        "id": "5qoFQUgiPa7z",
        "outputId": "89a7618f-1508-486a-e737-7757947b161c"
      },
      "source": [
        "#checking for missing data\r\n",
        "MissingHandler(df)"
      ],
      "execution_count": 23,
      "outputs": [
        {
          "output_type": "execute_result",
          "data": {
            "text/html": [
              "<div>\n",
              "<style scoped>\n",
              "    .dataframe tbody tr th:only-of-type {\n",
              "        vertical-align: middle;\n",
              "    }\n",
              "\n",
              "    .dataframe tbody tr th {\n",
              "        vertical-align: top;\n",
              "    }\n",
              "\n",
              "    .dataframe thead th {\n",
              "        text-align: right;\n",
              "    }\n",
              "</style>\n",
              "<table border=\"1\" class=\"dataframe\">\n",
              "  <thead>\n",
              "    <tr style=\"text-align: right;\">\n",
              "      <th></th>\n",
              "      <th>Percentage Nulls</th>\n",
              "    </tr>\n",
              "  </thead>\n",
              "  <tbody>\n",
              "  </tbody>\n",
              "</table>\n",
              "</div>"
            ],
            "text/plain": [
              "Empty DataFrame\n",
              "Columns: [Percentage Nulls]\n",
              "Index: []"
            ]
          },
          "metadata": {
            "tags": []
          },
          "execution_count": 23
        }
      ]
    },
    {
      "cell_type": "code",
      "metadata": {
        "colab": {
          "base_uri": "https://localhost:8080/"
        },
        "id": "AC1UM0siPhbp",
        "outputId": "d70962fb-20ba-4abe-a371-135fd08f7a94"
      },
      "source": [
        "print(df.shape)"
      ],
      "execution_count": 24,
      "outputs": [
        {
          "output_type": "stream",
          "text": [
            "(134792, 12)\n"
          ],
          "name": "stdout"
        }
      ]
    },
    {
      "cell_type": "markdown",
      "metadata": {
        "id": "50cv1UrgQGmZ"
      },
      "source": [
        "**Step 3: Feature Engineering**"
      ]
    },
    {
      "cell_type": "code",
      "metadata": {
        "colab": {
          "base_uri": "https://localhost:8080/"
        },
        "id": "R1DFsVwjZIII",
        "outputId": "5b765c34-3dc7-4ad4-cf8a-d286adeec2b3"
      },
      "source": [
        "SeriousDlqIn2Yrs = df['SeriousDlqin2yrs']\r\n",
        "CustomerID = df['Unnamed: 0']\r\n",
        "df.drop(['SeriousDlqin2yrs','Unnamed: 0'], axis = 1 , inplace = True)"
      ],
      "execution_count": 25,
      "outputs": [
        {
          "output_type": "stream",
          "text": [
            "/usr/local/lib/python3.7/dist-packages/pandas/core/frame.py:4174: SettingWithCopyWarning: \n",
            "A value is trying to be set on a copy of a slice from a DataFrame\n",
            "\n",
            "See the caveats in the documentation: https://pandas.pydata.org/pandas-docs/stable/user_guide/indexing.html#returning-a-view-versus-a-copy\n",
            "  errors=errors,\n"
          ],
          "name": "stderr"
        }
      ]
    },
    {
      "cell_type": "code",
      "metadata": {
        "colab": {
          "base_uri": "https://localhost:8080/"
        },
        "id": "S-72tSq5ZOXR",
        "outputId": "4caf6029-4c8d-4230-a1c7-34df66f6f0ee"
      },
      "source": [
        "df.info()"
      ],
      "execution_count": 26,
      "outputs": [
        {
          "output_type": "stream",
          "text": [
            "<class 'pandas.core.frame.DataFrame'>\n",
            "Int64Index: 134792 entries, 0 to 149999\n",
            "Data columns (total 10 columns):\n",
            " #   Column                                Non-Null Count   Dtype  \n",
            "---  ------                                --------------   -----  \n",
            " 0   RevolvingUtilizationOfUnsecuredLines  134792 non-null  float64\n",
            " 1   age                                   134792 non-null  int64  \n",
            " 2   NumberOfTime30-59DaysPastDueNotWorse  134792 non-null  int64  \n",
            " 3   DebtRatio                             134792 non-null  float64\n",
            " 4   MonthlyIncome                         134792 non-null  float64\n",
            " 5   NumberOfOpenCreditLinesAndLoans       134792 non-null  int64  \n",
            " 6   NumberOfTimes90DaysLate               134792 non-null  int64  \n",
            " 7   NumberRealEstateLoansOrLines          134792 non-null  int64  \n",
            " 8   NumberOfTime60-89DaysPastDueNotWorse  134792 non-null  int64  \n",
            " 9   NumberOfDependents                    134792 non-null  float64\n",
            "dtypes: float64(4), int64(6)\n",
            "memory usage: 11.3 MB\n"
          ],
          "name": "stdout"
        }
      ]
    },
    {
      "cell_type": "markdown",
      "metadata": {
        "id": "bkpP3Rvva9Bq"
      },
      "source": [
        "Now the dataset contains 134792 entries and without missing value "
      ]
    },
    {
      "cell_type": "markdown",
      "metadata": {
        "id": "2albklqLbwIG"
      },
      "source": [
        "**Adding some new features:**\r\n",
        "1. MonthlyDebt: Monthly Income multiplied by the Debt Ratio\r\n",
        "2. Retired: Person whose monthly income is 0 and age is greater than 65 (Assumed Retirement Age)\r\n",
        "3. MultipleRealEstates: If the Number of Real Estates is greater than 2\r\n",
        "4. Revolving lines : shows how manythe left over credit lines haven't been used\r\n",
        "5. has revolving lines is a dummy variable, 1 if some open credit lines haven't been used and 0 otherwise. "
      ]
    },
    {
      "cell_type": "code",
      "metadata": {
        "colab": {
          "base_uri": "https://localhost:8080/"
        },
        "id": "GPgGoIoEbUKl",
        "outputId": "a1381c74-7b15-4b25-93bb-db6d54b51381"
      },
      "source": [
        "df['MonthlyDebt'] = df['MonthlyIncome']*df['DebtRatio']\r\n",
        "df['MonthlyDebt'].fillna(df['DebtRatio'],inplace=True)\r\n",
        "df['MonthlyDebt'] = np.where(df['MonthlyDebt']==0, df['DebtRatio'],df['MonthlyDebt'])\r\n",
        "\r\n",
        "df['Retired'] = np.where((df['age'] > 65), 1, 0)\r\n",
        "\r\n",
        "df['hasMultipleRealEstates'] = np.where((df['NumberRealEstateLoansOrLines']>=2),1,0)\r\n",
        "\r\n",
        "df['RevolvingLines'] = df['NumberOfOpenCreditLinesAndLoans']-df['NumberRealEstateLoansOrLines']\r\n",
        "df['hasRevolvingLines']=np.where((df['RevolvingLines']>0),1,0)\r\n"
      ],
      "execution_count": 27,
      "outputs": [
        {
          "output_type": "stream",
          "text": [
            "/usr/local/lib/python3.7/dist-packages/ipykernel_launcher.py:1: SettingWithCopyWarning: \n",
            "A value is trying to be set on a copy of a slice from a DataFrame.\n",
            "Try using .loc[row_indexer,col_indexer] = value instead\n",
            "\n",
            "See the caveats in the documentation: https://pandas.pydata.org/pandas-docs/stable/user_guide/indexing.html#returning-a-view-versus-a-copy\n",
            "  \"\"\"Entry point for launching an IPython kernel.\n",
            "/usr/local/lib/python3.7/dist-packages/pandas/core/series.py:4536: SettingWithCopyWarning: \n",
            "A value is trying to be set on a copy of a slice from a DataFrame\n",
            "\n",
            "See the caveats in the documentation: https://pandas.pydata.org/pandas-docs/stable/user_guide/indexing.html#returning-a-view-versus-a-copy\n",
            "  downcast=downcast,\n",
            "/usr/local/lib/python3.7/dist-packages/ipykernel_launcher.py:3: SettingWithCopyWarning: \n",
            "A value is trying to be set on a copy of a slice from a DataFrame.\n",
            "Try using .loc[row_indexer,col_indexer] = value instead\n",
            "\n",
            "See the caveats in the documentation: https://pandas.pydata.org/pandas-docs/stable/user_guide/indexing.html#returning-a-view-versus-a-copy\n",
            "  This is separate from the ipykernel package so we can avoid doing imports until\n",
            "/usr/local/lib/python3.7/dist-packages/ipykernel_launcher.py:5: SettingWithCopyWarning: \n",
            "A value is trying to be set on a copy of a slice from a DataFrame.\n",
            "Try using .loc[row_indexer,col_indexer] = value instead\n",
            "\n",
            "See the caveats in the documentation: https://pandas.pydata.org/pandas-docs/stable/user_guide/indexing.html#returning-a-view-versus-a-copy\n",
            "  \"\"\"\n",
            "/usr/local/lib/python3.7/dist-packages/ipykernel_launcher.py:7: SettingWithCopyWarning: \n",
            "A value is trying to be set on a copy of a slice from a DataFrame.\n",
            "Try using .loc[row_indexer,col_indexer] = value instead\n",
            "\n",
            "See the caveats in the documentation: https://pandas.pydata.org/pandas-docs/stable/user_guide/indexing.html#returning-a-view-versus-a-copy\n",
            "  import sys\n",
            "/usr/local/lib/python3.7/dist-packages/ipykernel_launcher.py:9: SettingWithCopyWarning: \n",
            "A value is trying to be set on a copy of a slice from a DataFrame.\n",
            "Try using .loc[row_indexer,col_indexer] = value instead\n",
            "\n",
            "See the caveats in the documentation: https://pandas.pydata.org/pandas-docs/stable/user_guide/indexing.html#returning-a-view-versus-a-copy\n",
            "  if __name__ == '__main__':\n",
            "/usr/local/lib/python3.7/dist-packages/ipykernel_launcher.py:10: SettingWithCopyWarning: \n",
            "A value is trying to be set on a copy of a slice from a DataFrame.\n",
            "Try using .loc[row_indexer,col_indexer] = value instead\n",
            "\n",
            "See the caveats in the documentation: https://pandas.pydata.org/pandas-docs/stable/user_guide/indexing.html#returning-a-view-versus-a-copy\n",
            "  # Remove the CWD from sys.path while we load stuff.\n"
          ],
          "name": "stderr"
        }
      ]
    },
    {
      "cell_type": "code",
      "metadata": {
        "colab": {
          "base_uri": "https://localhost:8080/"
        },
        "id": "K9vFg9YEjfhx",
        "outputId": "6862ba8d-051d-4301-9790-aa55c8616246"
      },
      "source": [
        "df.info()"
      ],
      "execution_count": 28,
      "outputs": [
        {
          "output_type": "stream",
          "text": [
            "<class 'pandas.core.frame.DataFrame'>\n",
            "Int64Index: 134792 entries, 0 to 149999\n",
            "Data columns (total 15 columns):\n",
            " #   Column                                Non-Null Count   Dtype  \n",
            "---  ------                                --------------   -----  \n",
            " 0   RevolvingUtilizationOfUnsecuredLines  134792 non-null  float64\n",
            " 1   age                                   134792 non-null  int64  \n",
            " 2   NumberOfTime30-59DaysPastDueNotWorse  134792 non-null  int64  \n",
            " 3   DebtRatio                             134792 non-null  float64\n",
            " 4   MonthlyIncome                         134792 non-null  float64\n",
            " 5   NumberOfOpenCreditLinesAndLoans       134792 non-null  int64  \n",
            " 6   NumberOfTimes90DaysLate               134792 non-null  int64  \n",
            " 7   NumberRealEstateLoansOrLines          134792 non-null  int64  \n",
            " 8   NumberOfTime60-89DaysPastDueNotWorse  134792 non-null  int64  \n",
            " 9   NumberOfDependents                    134792 non-null  float64\n",
            " 10  MonthlyDebt                           134792 non-null  float64\n",
            " 11  Retired                               134792 non-null  int64  \n",
            " 12  hasMultipleRealEstates                134792 non-null  int64  \n",
            " 13  RevolvingLines                        134792 non-null  int64  \n",
            " 14  hasRevolvingLines                     134792 non-null  int64  \n",
            "dtypes: float64(5), int64(10)\n",
            "memory usage: 16.5 MB\n"
          ],
          "name": "stdout"
        }
      ]
    },
    {
      "cell_type": "code",
      "metadata": {
        "colab": {
          "base_uri": "https://localhost:8080/"
        },
        "id": "YxUB8KRMNlDP",
        "outputId": "ad5f304d-2658-404d-cdc8-dce63d9835d7"
      },
      "source": [
        "df.shape"
      ],
      "execution_count": 29,
      "outputs": [
        {
          "output_type": "execute_result",
          "data": {
            "text/plain": [
              "(134792, 15)"
            ]
          },
          "metadata": {
            "tags": []
          },
          "execution_count": 29
        }
      ]
    },
    {
      "cell_type": "code",
      "metadata": {
        "colab": {
          "base_uri": "https://localhost:8080/"
        },
        "id": "jprTqcc0gaar",
        "outputId": "b2db63fc-1d8f-4a7e-91be-a5fcd1e9f640"
      },
      "source": [
        "SeriousDlqIn2Yrs.value_counts()"
      ],
      "execution_count": 30,
      "outputs": [
        {
          "output_type": "execute_result",
          "data": {
            "text/plain": [
              "0    125528\n",
              "1      9264\n",
              "Name: SeriousDlqin2yrs, dtype: int64"
            ]
          },
          "metadata": {
            "tags": []
          },
          "execution_count": 30
        }
      ]
    },
    {
      "cell_type": "code",
      "metadata": {
        "colab": {
          "base_uri": "https://localhost:8080/",
          "height": 46
        },
        "id": "NnwdH1GOd50D",
        "outputId": "be24ea28-2fce-49b1-a3b9-a633e9d4fe02"
      },
      "source": [
        "MissingHandler(df)"
      ],
      "execution_count": 31,
      "outputs": [
        {
          "output_type": "execute_result",
          "data": {
            "text/html": [
              "<div>\n",
              "<style scoped>\n",
              "    .dataframe tbody tr th:only-of-type {\n",
              "        vertical-align: middle;\n",
              "    }\n",
              "\n",
              "    .dataframe tbody tr th {\n",
              "        vertical-align: top;\n",
              "    }\n",
              "\n",
              "    .dataframe thead th {\n",
              "        text-align: right;\n",
              "    }\n",
              "</style>\n",
              "<table border=\"1\" class=\"dataframe\">\n",
              "  <thead>\n",
              "    <tr style=\"text-align: right;\">\n",
              "      <th></th>\n",
              "      <th>Percentage Nulls</th>\n",
              "    </tr>\n",
              "  </thead>\n",
              "  <tbody>\n",
              "  </tbody>\n",
              "</table>\n",
              "</div>"
            ],
            "text/plain": [
              "Empty DataFrame\n",
              "Columns: [Percentage Nulls]\n",
              "Index: []"
            ]
          },
          "metadata": {
            "tags": []
          },
          "execution_count": 31
        }
      ]
    },
    {
      "cell_type": "code",
      "metadata": {
        "colab": {
          "base_uri": "https://localhost:8080/"
        },
        "id": "XajYvW0hXLPZ",
        "outputId": "022ca0c4-bfe6-40b3-b43a-2968094730c2"
      },
      "source": [
        "X = df\r\n",
        "y = SeriousDlqIn2Yrs\r\n",
        "X.shape, y.shape"
      ],
      "execution_count": 32,
      "outputs": [
        {
          "output_type": "execute_result",
          "data": {
            "text/plain": [
              "((134792, 15), (134792,))"
            ]
          },
          "metadata": {
            "tags": []
          },
          "execution_count": 32
        }
      ]
    },
    {
      "cell_type": "markdown",
      "metadata": {
        "id": "dwQ-QF1vfMcK"
      },
      "source": [
        "**Step 4: Model Training**\r\n",
        "\r\n"
      ]
    },
    {
      "cell_type": "markdown",
      "metadata": {
        "id": "dPTLkwHTjlwf"
      },
      "source": [
        "**4.1 Logistic regression**"
      ]
    },
    {
      "cell_type": "code",
      "metadata": {
        "id": "nQShKOZXsEzg"
      },
      "source": [
        "X_train, X_test, y_train, y_test = train_test_split(X, y, test_size=0.30, shuffle=True, random_state=11, stratify=y)\r\n",
        "logit = LogisticRegression(random_state=11, solver=\"saga\", penalty=\"l1\", class_weight=\"balanced\", C=1.0, max_iter=500)\r\n",
        "scaler = StandardScaler().fit(X_train)\r\n",
        "\r\n"
      ],
      "execution_count": 33,
      "outputs": []
    },
    {
      "cell_type": "code",
      "metadata": {
        "id": "yjeacB7Ys7Rj"
      },
      "source": [
        "X_train_scaled = scaler.transform(X_train) #scaling features!\r\n",
        "X_test_scaled = scaler.transform(X_test)"
      ],
      "execution_count": 34,
      "outputs": []
    },
    {
      "cell_type": "code",
      "metadata": {
        "id": "jB5fh9EntERU"
      },
      "source": [
        "logit.fit(X_train_scaled, y_train)\r\n",
        "logit_scores_proba = logit.predict_proba(X_train_scaled)\r\n",
        "logit_scores = logit_scores_proba[:,1]"
      ],
      "execution_count": 63,
      "outputs": []
    },
    {
      "cell_type": "code",
      "metadata": {
        "id": "exWiLFoJlhm2"
      },
      "source": [
        "yPredlogit = logit.predict(X_test)"
      ],
      "execution_count": 64,
      "outputs": []
    },
    {
      "cell_type": "code",
      "metadata": {
        "colab": {
          "base_uri": "https://localhost:8080/"
        },
        "id": "7xmD3AAUuucf",
        "outputId": "c7fdccc7-1982-4953-a37c-e41b88807732"
      },
      "source": [
        "cv = cross_validate(estimator=logit, X=X_train_scaled, y=y_train, scoring=[\"f1\", \"recall\", \"precision\", \"accuracy\"], cv=10, n_jobs=-1, return_train_score=True, verbose=1)"
      ],
      "execution_count": 37,
      "outputs": [
        {
          "output_type": "stream",
          "text": [
            "[Parallel(n_jobs=-1)]: Using backend LokyBackend with 2 concurrent workers.\n",
            "[Parallel(n_jobs=-1)]: Done  10 out of  10 | elapsed:  1.0min finished\n"
          ],
          "name": "stderr"
        }
      ]
    },
    {
      "cell_type": "code",
      "metadata": {
        "colab": {
          "base_uri": "https://localhost:8080/"
        },
        "id": "Wo5zHXRSwIUz",
        "outputId": "18efaafd-275b-4860-bdb5-b488213a6541"
      },
      "source": [
        "cv"
      ],
      "execution_count": 37,
      "outputs": [
        {
          "output_type": "execute_result",
          "data": {
            "text/plain": [
              "{'fit_time': array([10.41679001,  2.66970515,  7.90941858,  9.18067622,  7.90405655,\n",
              "         8.13906741,  9.18207288,  8.81432724,  8.1338284 ,  5.80878568]),\n",
              " 'score_time': array([0.02410078, 0.02354097, 0.02234817, 0.0230484 , 0.02255392,\n",
              "        0.0241518 , 0.02208614, 0.02177429, 0.02373052, 0.01276183]),\n",
              " 'test_accuracy': array([0.79429843, 0.79302671, 0.79493429, 0.79133107, 0.79554849,\n",
              "        0.79311076, 0.79226285, 0.79692634, 0.79321675, 0.79745628]),\n",
              " 'test_f1': array([0.33459033, 0.32492223, 0.33573635, 0.33049983, 0.33505688,\n",
              "        0.33150685, 0.32413793, 0.33472222, 0.32607945, 0.32970887]),\n",
              " 'test_precision': array([0.21516755, 0.20944742, 0.2159894 , 0.21204188, 0.21571238,\n",
              "        0.21302817, 0.20870337, 0.21594982, 0.21005785, 0.21344233]),\n",
              " 'test_recall': array([0.75192604, 0.72419106, 0.75346687, 0.74884438, 0.75      ,\n",
              "        0.74691358, 0.72530864, 0.74382716, 0.72839506, 0.72419106]),\n",
              " 'train_accuracy': array([0.79269413, 0.79549683, 0.79361266, 0.79446054, 0.79300274,\n",
              "        0.79446296, 0.79479268, 0.79296742, 0.79568766, 0.79528727]),\n",
              " 'train_f1': array([0.32921811, 0.33284672, 0.32984093, 0.33085416, 0.32944228,\n",
              "        0.33105933, 0.33203005, 0.32925108, 0.33274364, 0.33225782]),\n",
              " 'train_precision': array([0.21168169, 0.21451916, 0.21229573, 0.21310747, 0.21190558,\n",
              "        0.2132313 , 0.21386598, 0.21178954, 0.21453013, 0.21413011]),\n",
              " 'train_recall': array([0.74023304, 0.74228924, 0.73903358, 0.73937629, 0.73976358,\n",
              "        0.7399349 , 0.74199075, 0.73924961, 0.74113414, 0.74108979])}"
            ]
          },
          "metadata": {
            "tags": []
          },
          "execution_count": 37
        }
      ]
    },
    {
      "cell_type": "code",
      "metadata": {
        "colab": {
          "base_uri": "https://localhost:8080/"
        },
        "id": "KY-mdKxjwNr2",
        "outputId": "2366bf4b-8ca0-43d7-b448-e5bf9651e7e2"
      },
      "source": [
        "print(f\"Accuracy (Tr/Te): {np.mean(cv['train_accuracy']) * 100:.2f}%/{np.mean(cv['test_accuracy']) * 100:.2f}%\")\r\n",
        "print(f\"Recall (Tr/Te): {np.mean(cv['train_recall']) * 100:.2f}%/{np.mean(cv['test_recall']) * 100:.2f}%\")\r\n",
        "print(f\"Precision (Tr/Te): {np.mean(cv['train_precision']) * 100:.2f}%/{np.mean(cv['test_precision']) * 100:.2f}%\")\r\n",
        "print(f\"F1 (Tr/Te): {np.mean(cv['train_f1']) * 100:.2f}%/{np.mean(cv['test_f1']) * 100:.2f}%\")"
      ],
      "execution_count": 38,
      "outputs": [
        {
          "output_type": "stream",
          "text": [
            "Accuracy (Tr/Te): 79.42%/79.42%\n",
            "Recall (Tr/Te): 74.04%/73.97%\n",
            "Precision (Tr/Te): 21.31%/21.30%\n",
            "F1 (Tr/Te): 33.10%/33.07%\n"
          ],
          "name": "stdout"
        }
      ]
    },
    {
      "cell_type": "code",
      "metadata": {
        "colab": {
          "base_uri": "https://localhost:8080/",
          "height": 292
        },
        "id": "AU2PkILCwl3R",
        "outputId": "a4fa9b88-2142-4637-a28c-21e25081a398"
      },
      "source": [
        "fig, ax = plt.subplots(1, 1)\r\n",
        "disp = plot_confusion_matrix(\r\n",
        "    logit, X_test, y_test,\r\n",
        "    normalize='true', \r\n",
        "    display_labels=['1', '0'], \r\n",
        "    values_format='.4f', \r\n",
        "    ax=ax)\r\n",
        "ax.set_title('Confusion matrix, normalized')\r\n",
        "ax.xaxis.tick_top()\r\n",
        "ax.xaxis.set_label_position('top')"
      ],
      "execution_count": 39,
      "outputs": [
        {
          "output_type": "display_data",
          "data": {
            "image/png": "[encoded data removed]",
            "text/plain": [
              "<Figure size 432x288 with 2 Axes>"
            ]
          },
          "metadata": {
            "tags": [],
            "needs_background": "light"
          }
        }
      ]
    },
    {
      "cell_type": "markdown",
      "metadata": {
        "id": "tsGjd4Fux4mW"
      },
      "source": [
        "**4.2 Random Forest**"
      ]
    },
    {
      "cell_type": "code",
      "metadata": {
        "id": "Qi-TVRk_4-Ee"
      },
      "source": [
        "X_trainFR, X_testFR, y_trainFR, y_testFR = train_test_split(X, y, test_size=0.30, shuffle=True, random_state=11, stratify=y)"
      ],
      "execution_count": 40,
      "outputs": []
    },
    {
      "cell_type": "code",
      "metadata": {
        "id": "Cz9NOyvrQ5yb",
        "colab": {
          "base_uri": "https://localhost:8080/"
        },
        "outputId": "e46fb14e-cc87-4fe4-b983-808c0fc70854"
      },
      "source": [
        "X_trainFR.shape, y_trainFR.shape"
      ],
      "execution_count": 41,
      "outputs": [
        {
          "output_type": "execute_result",
          "data": {
            "text/plain": [
              "((94354, 15), (94354,))"
            ]
          },
          "metadata": {
            "tags": []
          },
          "execution_count": 41
        }
      ]
    },
    {
      "cell_type": "code",
      "metadata": {
        "colab": {
          "base_uri": "https://localhost:8080/"
        },
        "id": "qxjDhFG3iYwc",
        "outputId": "cc5f35e1-2f23-4cbe-fcc9-4c9d1120ddc8"
      },
      "source": [
        "X_testFR.shape, y_testFR.shape"
      ],
      "execution_count": 42,
      "outputs": [
        {
          "output_type": "execute_result",
          "data": {
            "text/plain": [
              "((40438, 15), (40438,))"
            ]
          },
          "metadata": {
            "tags": []
          },
          "execution_count": 42
        }
      ]
    },
    {
      "cell_type": "code",
      "metadata": {
        "colab": {
          "base_uri": "https://localhost:8080/"
        },
        "id": "PFrsGhocOso4",
        "outputId": "bceb8bf5-9c69-47a5-af09-ed155ccb00c2"
      },
      "source": [
        "pipeline = make_pipeline(\r\n",
        "    make_column_transformer(\r\n",
        "        (make_pipeline(\r\n",
        "            MinMaxScaler(),\r\n",
        "        ), [\"RevolvingUtilizationOfUnsecuredLines\", \"age\",\t\"NumberOfTime30-59DaysPastDueNotWorse\",\t\"DebtRatio\",\r\n",
        "            \"MonthlyIncome\",\t\"NumberOfOpenCreditLinesAndLoans\",\t\"NumberOfTimes90DaysLate\",\t\"NumberRealEstateLoansOrLines\",\t\r\n",
        "            \"NumberOfTime60-89DaysPastDueNotWorse\", \"NumberOfDependents\", \"MonthlyDebt\",\"RevolvingLines\"]),\r\n",
        "    remainder=\"passthrough\"),\r\n",
        "    #SMOTE(),\r\n",
        "    RandomUnderSampler(),\r\n",
        "    RandomForestClassifier(random_state=11, n_jobs=-1)\r\n",
        ")\r\n",
        "pipeline = pipeline.fit(X_trainFR, y_trainFR)"
      ],
      "execution_count": 43,
      "outputs": [
        {
          "output_type": "stream",
          "text": [
            "/usr/local/lib/python3.7/dist-packages/sklearn/utils/deprecation.py:87: FutureWarning: Function safe_indexing is deprecated; safe_indexing is deprecated in version 0.22 and will be removed in version 0.24.\n",
            "  warnings.warn(msg, category=FutureWarning)\n"
          ],
          "name": "stderr"
        }
      ]
    },
    {
      "cell_type": "code",
      "metadata": {
        "id": "IiuM1w4aPykd"
      },
      "source": [
        "cv = cross_validate(pipeline, X_trainFR, y_trainFR, cv=10, scoring=[\"f1\"], n_jobs=-1, return_train_score=True)"
      ],
      "execution_count": null,
      "outputs": []
    },
    {
      "cell_type": "code",
      "metadata": {
        "id": "5KAkM04il2Eq"
      },
      "source": [
        "cv"
      ],
      "execution_count": null,
      "outputs": []
    },
    {
      "cell_type": "code",
      "metadata": {
        "colab": {
          "base_uri": "https://localhost:8080/"
        },
        "id": "5oYddGOQoCrm",
        "outputId": "2bd46f1a-d719-4db9-c426-aac90c365926"
      },
      "source": [
        "#UnderSampler\r\n",
        "print(f\"F1 score on the training set: {cv['train_f1'].mean() * 100:.2f}%\")\r\n",
        "print(f\"F1 score on the test set: {cv['test_f1'].mean() * 100:.2f}%\")"
      ],
      "execution_count": null,
      "outputs": [
        {
          "output_type": "stream",
          "text": [
            "F1 score on the training set: 41.85%\n",
            "F1 score on the test set: 32.36%\n"
          ],
          "name": "stdout"
        }
      ]
    },
    {
      "cell_type": "code",
      "metadata": {
        "colab": {
          "base_uri": "https://localhost:8080/"
        },
        "id": "Bg7RflKlnKbB",
        "outputId": "cab57e03-ffa2-4fd6-e95a-dc0a7b930d9c"
      },
      "source": [
        "#With over sampler (SMOTE) \r\n",
        "print(f\"F1 score on the training set: {cv['train_f1'].mean() * 100:.2f}%\")\r\n",
        "print(f\"F1 score on the test set: {cv['test_f1'].mean() * 100:.2f}%\")"
      ],
      "execution_count": null,
      "outputs": [
        {
          "output_type": "stream",
          "text": [
            "F1 score on the training set: 98.31%\n",
            "F1 score on the test set: 37.00%\n"
          ],
          "name": "stdout"
        }
      ]
    },
    {
      "cell_type": "markdown",
      "metadata": {
        "id": "PBQ0nZgP4K9N"
      },
      "source": [
        "It is clear that that over sampler method induce overfitting of the model, therfore, parameter tuning will be based on model with undersampling"
      ]
    },
    {
      "cell_type": "code",
      "metadata": {
        "colab": {
          "base_uri": "https://localhost:8080/",
          "height": 293
        },
        "id": "Sr26TWEbolt3",
        "outputId": "6780e358-ab75-4e10-dee7-a6de8e0277ea"
      },
      "source": [
        "fig, ax = plt.subplots(1, 1)\r\n",
        "disp = plot_confusion_matrix(pipeline\r\n",
        "    , X_testFR, y_testFR,\r\n",
        "    normalize='true', \r\n",
        "    display_labels=['1', '0'], \r\n",
        "    values_format='.4f',\r\n",
        "    ax=ax)\r\n",
        "ax.set_title('Confusion matrix, normalized')\r\n",
        "ax.xaxis.tick_top()\r\n",
        "ax.xaxis.set_label_position('top')"
      ],
      "execution_count": null,
      "outputs": [
        {
          "output_type": "display_data",
          "data": {
            "image/png": "[encoded data removed]",
            "text/plain": [
              "<Figure size 432x288 with 2 Axes>"
            ]
          },
          "metadata": {
            "tags": [],
            "needs_background": "light"
          }
        }
      ]
    },
    {
      "cell_type": "markdown",
      "metadata": {
        "id": "7SpP1xjDocsH"
      },
      "source": [
        "**Random forest Hyperparameter tuning**"
      ]
    },
    {
      "cell_type": "code",
      "metadata": {
        "id": "EER26HKcmYSs"
      },
      "source": [
        "from scipy.stats import uniform, truncnorm, randint\r\n",
        "distributions = {\r\n",
        "    \"randomforestclassifier__n_estimators\": randint(low=100, high=500),\r\n",
        "    \"randomforestclassifier__max_depth\": randint(low=50, high=200),\r\n",
        "    \"randomforestclassifier__max_features\": truncnorm(a=0, b=1, loc=0.25, scale=0.1), \r\n",
        "    \"randomforestclassifier__min_samples_split\": uniform(0.01, 0.199),\r\n",
        "    \"randomforestclassifier__min_samples_leaf\" : randint(low=1, high=4)\r\n",
        "}"
      ],
      "execution_count": 44,
      "outputs": []
    },
    {
      "cell_type": "code",
      "metadata": {
        "colab": {
          "base_uri": "https://localhost:8080/"
        },
        "id": "pAE9L2dWmaR0",
        "outputId": "75dc56dc-7204-4b3a-c653-e947fd017bf6"
      },
      "source": [
        "model = RandomizedSearchCV(pipeline, distributions, n_iter=3, \r\n",
        "                           scoring=None, n_jobs=-1, random_state=11, cv=5, verbose=1,\r\n",
        "                           return_train_score=True, refit=True)\r\n",
        "model = model.fit(X_trainFR, y_trainFR)"
      ],
      "execution_count": 45,
      "outputs": [
        {
          "output_type": "stream",
          "text": [
            "Fitting 5 folds for each of 3 candidates, totalling 15 fits\n"
          ],
          "name": "stdout"
        },
        {
          "output_type": "stream",
          "text": [
            "[Parallel(n_jobs=-1)]: Using backend LokyBackend with 2 concurrent workers.\n",
            "[Parallel(n_jobs=-1)]: Done  15 out of  15 | elapsed:   40.1s finished\n",
            "/usr/local/lib/python3.7/dist-packages/sklearn/utils/deprecation.py:87: FutureWarning: Function safe_indexing is deprecated; safe_indexing is deprecated in version 0.22 and will be removed in version 0.24.\n",
            "  warnings.warn(msg, category=FutureWarning)\n"
          ],
          "name": "stderr"
        }
      ]
    },
    {
      "cell_type": "code",
      "metadata": {
        "colab": {
          "base_uri": "https://localhost:8080/"
        },
        "id": "JRGUt6uq36Ae",
        "outputId": "4e34a8dc-c4f9-48ce-c108-47c0c525c68a"
      },
      "source": [
        "print(f\"F1 score on the training set: {model.cv_results_['mean_train_score'][model.best_index_] * 100:.2f}%\")\r\n",
        "print(f\"F1 score on the test set: {model.cv_results_['mean_test_score'][model.best_index_] * 100:.2f}%\")"
      ],
      "execution_count": 46,
      "outputs": [
        {
          "output_type": "stream",
          "text": [
            "F1 score on the training set: 73.11%\n",
            "F1 score on the test set: 73.11%\n"
          ],
          "name": "stdout"
        }
      ]
    },
    {
      "cell_type": "code",
      "metadata": {
        "id": "RYEep_4141-J",
        "colab": {
          "base_uri": "https://localhost:8080/"
        },
        "outputId": "66983a0a-607d-4c1d-8b72-f21c1b51c847"
      },
      "source": [
        "model.best_params_"
      ],
      "execution_count": 47,
      "outputs": [
        {
          "output_type": "execute_result",
          "data": {
            "text/plain": [
              "{'randomforestclassifier__max_depth': 132,\n",
              " 'randomforestclassifier__max_features': 0.2694341746045786,\n",
              " 'randomforestclassifier__min_samples_leaf': 1,\n",
              " 'randomforestclassifier__min_samples_split': 0.10698694985665445,\n",
              " 'randomforestclassifier__n_estimators': 401}"
            ]
          },
          "metadata": {
            "tags": []
          },
          "execution_count": 47
        }
      ]
    },
    {
      "cell_type": "code",
      "metadata": {
        "id": "RSsMaLqq3F0B",
        "colab": {
          "base_uri": "https://localhost:8080/"
        },
        "outputId": "8a8e00c8-7862-479a-a771-d2e38bfd6125"
      },
      "source": [
        "model.cv_results_"
      ],
      "execution_count": 48,
      "outputs": [
        {
          "output_type": "execute_result",
          "data": {
            "text/plain": [
              "{'mean_fit_time': array([1.85748997, 4.9937736 , 1.69632077]),\n",
              " 'mean_score_time': array([0.4004437 , 0.94170828, 0.29485135]),\n",
              " 'mean_test_score': array([0.71734121, 0.73105536, 0.72404996]),\n",
              " 'mean_train_score': array([0.71804849, 0.73112958, 0.72447907]),\n",
              " 'param_randomforestclassifier__max_depth': masked_array(data=[130, 132, 175],\n",
              "              mask=[False, False, False],\n",
              "        fill_value='?',\n",
              "             dtype=object),\n",
              " 'param_randomforestclassifier__max_features': masked_array(data=[0.31034604392527976, 0.2694341746045786,\n",
              "                    0.31718786919090425],\n",
              "              mask=[False, False, False],\n",
              "        fill_value='?',\n",
              "             dtype=object),\n",
              " 'param_randomforestclassifier__min_samples_leaf': masked_array(data=[2, 1, 1],\n",
              "              mask=[False, False, False],\n",
              "        fill_value='?',\n",
              "             dtype=object),\n",
              " 'param_randomforestclassifier__min_samples_split': masked_array(data=[0.19433030910507232, 0.10698694985665445,\n",
              "                    0.11306180874919093],\n",
              "              mask=[False, False, False],\n",
              "        fill_value='?',\n",
              "             dtype=object),\n",
              " 'param_randomforestclassifier__n_estimators': masked_array(data=[171, 401, 137],\n",
              "              mask=[False, False, False],\n",
              "        fill_value='?',\n",
              "             dtype=object),\n",
              " 'params': [{'randomforestclassifier__max_depth': 130,\n",
              "   'randomforestclassifier__max_features': 0.31034604392527976,\n",
              "   'randomforestclassifier__min_samples_leaf': 2,\n",
              "   'randomforestclassifier__min_samples_split': 0.19433030910507232,\n",
              "   'randomforestclassifier__n_estimators': 171},\n",
              "  {'randomforestclassifier__max_depth': 132,\n",
              "   'randomforestclassifier__max_features': 0.2694341746045786,\n",
              "   'randomforestclassifier__min_samples_leaf': 1,\n",
              "   'randomforestclassifier__min_samples_split': 0.10698694985665445,\n",
              "   'randomforestclassifier__n_estimators': 401},\n",
              "  {'randomforestclassifier__max_depth': 175,\n",
              "   'randomforestclassifier__max_features': 0.31718786919090425,\n",
              "   'randomforestclassifier__min_samples_leaf': 1,\n",
              "   'randomforestclassifier__min_samples_split': 0.11306180874919093,\n",
              "   'randomforestclassifier__n_estimators': 137}],\n",
              " 'rank_test_score': array([3, 1, 2], dtype=int32),\n",
              " 'split0_test_score': array([0.70420222, 0.74701924, 0.72735944]),\n",
              " 'split0_train_score': array([0.70442351, 0.74701588, 0.72783276]),\n",
              " 'split1_test_score': array([0.71994065, 0.72470987, 0.72386201]),\n",
              " 'split1_train_score': array([0.72090404, 0.72603103, 0.72445451]),\n",
              " 'split2_test_score': array([0.7220603 , 0.73112183, 0.71872185]),\n",
              " 'split2_train_score': array([0.72413656, 0.7335824 , 0.72123525]),\n",
              " 'split3_test_score': array([0.71034921, 0.72370304, 0.71601929]),\n",
              " 'split3_train_score': array([0.71017315, 0.72097028, 0.7158698 ]),\n",
              " 'split4_test_score': array([0.73015368, 0.72872284, 0.73428723]),\n",
              " 'split4_train_score': array([0.73060516, 0.72804833, 0.73300302]),\n",
              " 'std_fit_time': array([0.03542676, 0.13497492, 0.02297759]),\n",
              " 'std_score_time': array([0.04401841, 0.04363256, 0.04162621]),\n",
              " 'std_test_score': array([0.00910722, 0.00842155, 0.00646019]),\n",
              " 'std_train_score': array([0.00949263, 0.0089117 , 0.00580599])}"
            ]
          },
          "metadata": {
            "tags": []
          },
          "execution_count": 48
        }
      ]
    },
    {
      "cell_type": "code",
      "metadata": {
        "id": "e77h8BkE5d-q"
      },
      "source": [
        "y_predFR =model.predict(X_testFR)"
      ],
      "execution_count": 49,
      "outputs": []
    },
    {
      "cell_type": "code",
      "metadata": {
        "colab": {
          "base_uri": "https://localhost:8080/"
        },
        "id": "K3Aec8EI5n2B",
        "outputId": "e03caacd-9f6e-4e2d-a2cb-6b522f8e17f8"
      },
      "source": [
        "y_predFR"
      ],
      "execution_count": 51,
      "outputs": [
        {
          "output_type": "execute_result",
          "data": {
            "text/plain": [
              "array([1, 1, 1, ..., 0, 0, 0])"
            ]
          },
          "metadata": {
            "tags": []
          },
          "execution_count": 51
        }
      ]
    },
    {
      "cell_type": "code",
      "metadata": {
        "colab": {
          "base_uri": "https://localhost:8080/",
          "height": 34
        },
        "id": "wYYIrh7A5uTX",
        "outputId": "cf25fb94-bf6c-4f77-baaf-e913c46c14df"
      },
      "source": [
        "f\"F1 score on final test set: {f1_score(y_testFR, y_predFR) *100:.2f}%\""
      ],
      "execution_count": 50,
      "outputs": [
        {
          "output_type": "execute_result",
          "data": {
            "application/vnd.google.colaboratory.intrinsic+json": {
              "type": "string"
            },
            "text/plain": [
              "'F1 score on final test set: 30.11%'"
            ]
          },
          "metadata": {
            "tags": []
          },
          "execution_count": 50
        }
      ]
    },
    {
      "cell_type": "code",
      "metadata": {
        "colab": {
          "base_uri": "https://localhost:8080/",
          "height": 292
        },
        "id": "H8GmnIuEANZb",
        "outputId": "8200a0e2-bff4-4f1a-826e-63d3e502950e"
      },
      "source": [
        "fig, ax = plt.subplots(1, 1)\r\n",
        "disp = plot_confusion_matrix(\r\n",
        "    model, X_testFR, y_testFR,\r\n",
        "    normalize='true', \r\n",
        "    display_labels=['1', '0'], \r\n",
        "    values_format='.4f',\r\n",
        "    ax=ax)\r\n",
        "ax.set_title('Confusion matrix, normalized')\r\n",
        "ax.xaxis.tick_top()\r\n",
        "ax.xaxis.set_label_position('top')"
      ],
      "execution_count": 53,
      "outputs": [
        {
          "output_type": "display_data",
          "data": {
            "image/png": "[encoded data removed]",
            "text/plain": [
              "<Figure size 432x288 with 2 Axes>"
            ]
          },
          "metadata": {
            "tags": [],
            "needs_background": "light"
          }
        }
      ]
    },
    {
      "cell_type": "markdown",
      "metadata": {
        "id": "_DtmAoBQxL9F"
      },
      "source": [
        "**4.3 LightGBM**"
      ]
    },
    {
      "cell_type": "code",
      "metadata": {
        "id": "CoKImm8G7_-M"
      },
      "source": [
        "X_trainLG, X_testLG, y_trainLG, y_testLG = train_test_split(X, y, test_size=0.30, shuffle=True, random_state=11, stratify=y)\r\n",
        "logit = LogisticRegression(random_state=11, solver=\"saga\", penalty=\"l1\", class_weight=\"balanced\", C=1.0, max_iter=500)\r\n",
        "scaler = StandardScaler().fit(X_trainLG)"
      ],
      "execution_count": 51,
      "outputs": []
    },
    {
      "cell_type": "code",
      "metadata": {
        "colab": {
          "base_uri": "https://localhost:8080/"
        },
        "id": "cvRbBR4xy7OW",
        "outputId": "73d2edd9-907d-40f6-dea6-351889ac62f2"
      },
      "source": [
        "X_trainLG.shape, y_trainLG.shape"
      ],
      "execution_count": 52,
      "outputs": [
        {
          "output_type": "execute_result",
          "data": {
            "text/plain": [
              "((94354, 15), (94354,))"
            ]
          },
          "metadata": {
            "tags": []
          },
          "execution_count": 52
        }
      ]
    },
    {
      "cell_type": "code",
      "metadata": {
        "colab": {
          "base_uri": "https://localhost:8080/"
        },
        "id": "Hyy2P8UjzRxK",
        "outputId": "60ad4a1c-2a3d-487b-ccf0-c2b285ce74f2"
      },
      "source": [
        "X_testLG.shape, y_testLG.shape"
      ],
      "execution_count": 53,
      "outputs": [
        {
          "output_type": "execute_result",
          "data": {
            "text/plain": [
              "((40438, 15), (40438,))"
            ]
          },
          "metadata": {
            "tags": []
          },
          "execution_count": 53
        }
      ]
    },
    {
      "cell_type": "code",
      "metadata": {
        "colab": {
          "base_uri": "https://localhost:8080/"
        },
        "id": "nN3ippsEqaIe",
        "outputId": "5bcd1cba-c9ec-4e05-f9fd-0fe9d69239d1"
      },
      "source": [
        "from scipy.stats import uniform, truncnorm, randint\r\n",
        "lgbAttributes = lgb.LGBMClassifier(objective='binary', n_jobs=-1, random_state=11, importance_type='gain')\r\n",
        "lgbParameters = {\r\n",
        "    'n_estimators' :randint(low=100, high=900),\r\n",
        "    'max_depth' : randint(low=2, high=10),\r\n",
        "    'learning_rate': uniform(0.01, 0.15),\r\n",
        "    'colsample_bytree' : uniform(0.2, 1),  \r\n",
        "    'min_split_gain' : uniform(0.15, 0.35),\r\n",
        "    'subsample': uniform(0.5, 1),\r\n",
        "    'min_child_weight':  randint(low=6, high=10),\r\n",
        "    'scale_pos_weight': randint(low=10, high=20),\r\n",
        "    'min_data_in_leaf' : randint(low=100, high=900),\r\n",
        "    'num_leaves' : randint(low=20, high=80),\r\n",
        "}\r\n",
        "\r\n",
        "lgbModel = model_selection.RandomizedSearchCV(lgbAttributes, param_distributions = lgbParameters, cv = 5, random_state=11)\r\n",
        "\r\n",
        "lgbModel.fit(X_trainLG, y_trainLG,feature_name=df.columns.to_list())"
      ],
      "execution_count": 54,
      "outputs": [
        {
          "output_type": "stream",
          "text": [
            "/usr/local/lib/python3.7/dist-packages/sklearn/model_selection/_validation.py:536: FitFailedWarning: Estimator fit failed. The score on this train-test partition for these parameters will be set to nan. Details: \n",
            "lightgbm.basic.LightGBMError: Check failed: bagging_fraction <=1.0 at /__w/1/s/python-package/compile/src/io/config_auto.cpp, line 295 .\n",
            "\n",
            "\n",
            "  FitFailedWarning)\n",
            "/usr/local/lib/python3.7/dist-packages/sklearn/model_selection/_validation.py:536: FitFailedWarning: Estimator fit failed. The score on this train-test partition for these parameters will be set to nan. Details: \n",
            "lightgbm.basic.LightGBMError: Check failed: feature_fraction <=1.0 at /__w/1/s/python-package/compile/src/io/config_auto.cpp, line 303 .\n",
            "\n",
            "\n",
            "  FitFailedWarning)\n"
          ],
          "name": "stderr"
        },
        {
          "output_type": "execute_result",
          "data": {
            "text/plain": [
              "RandomizedSearchCV(cv=5, error_score=nan,\n",
              "                   estimator=LGBMClassifier(boosting_type='gbdt',\n",
              "                                            class_weight=None,\n",
              "                                            colsample_bytree=1.0,\n",
              "                                            importance_type='gain',\n",
              "                                            learning_rate=0.1, max_depth=-1,\n",
              "                                            min_child_samples=20,\n",
              "                                            min_child_weight=0.001,\n",
              "                                            min_split_gain=0.0,\n",
              "                                            n_estimators=100, n_jobs=-1,\n",
              "                                            num_leaves=31, objective='binary',\n",
              "                                            random_state=11, reg_alpha=0.0,\n",
              "                                            reg_lambda=0.0, sil...\n",
              "                                        'n_estimators': <scipy.stats._distn_infrastructure.rv_frozen object at 0x7fa5c4189c50>,\n",
              "                                        'num_leaves': <scipy.stats._distn_infrastructure.rv_frozen object at 0x7fa5c6a3f310>,\n",
              "                                        'scale_pos_weight': <scipy.stats._distn_infrastructure.rv_frozen object at 0x7fa5c6a0fe50>,\n",
              "                                        'subsample': <scipy.stats._distn_infrastructure.rv_frozen object at 0x7fa5c69e8590>},\n",
              "                   pre_dispatch='2*n_jobs', random_state=11, refit=True,\n",
              "                   return_train_score=False, scoring=None, verbose=0)"
            ]
          },
          "metadata": {
            "tags": []
          },
          "execution_count": 54
        }
      ]
    },
    {
      "cell_type": "code",
      "metadata": {
        "colab": {
          "base_uri": "https://localhost:8080/"
        },
        "id": "7aVEcOYs1vz3",
        "outputId": "6f758ded-731a-47e7-d074-66fb7ccb05c1"
      },
      "source": [
        "bestEstimatorLGB = lgbModel.best_estimator_\r\n",
        "bestEstimatorLGB"
      ],
      "execution_count": 55,
      "outputs": [
        {
          "output_type": "execute_result",
          "data": {
            "text/plain": [
              "LGBMClassifier(boosting_type='gbdt', class_weight=None,\n",
              "               colsample_bytree=0.3897027069240719, importance_type='gain',\n",
              "               learning_rate=0.040601406594732284, max_depth=3,\n",
              "               min_child_samples=20, min_child_weight=9, min_data_in_leaf=345,\n",
              "               min_split_gain=0.4211907149094357, n_estimators=539, n_jobs=-1,\n",
              "               num_leaves=35, objective='binary', random_state=11,\n",
              "               reg_alpha=0.0, reg_lambda=0.0, scale_pos_weight=10, silent=True,\n",
              "               subsample=0.9797972816594304, subsample_for_bin=200000,\n",
              "               subsample_freq=0)"
            ]
          },
          "metadata": {
            "tags": []
          },
          "execution_count": 55
        }
      ]
    },
    {
      "cell_type": "code",
      "metadata": {
        "id": "nb12QwU_13re"
      },
      "source": [
        "bestEstimatorLGB = lgb.LGBMClassifier(boosting_type='gbdt', class_weight=None,\r\n",
        "               colsample_bytree=0.3897027069240719, importance_type='gain',\r\n",
        "               learning_rate=0.040601406594732284, max_depth=3,\r\n",
        "               min_child_samples=20, min_child_weight=9, min_data_in_leaf=345,\r\n",
        "               min_split_gain=0.4211907149094357, n_estimators=539, n_jobs=-1,\r\n",
        "               num_leaves=35, objective='binary', random_state=11,\r\n",
        "               reg_alpha=0.0, reg_lambda=0.0, scale_pos_weight=10, silent=True,\r\n",
        "               subsample=0.9797972816594304, subsample_for_bin=200000,\r\n",
        "               subsample_freq=0)"
      ],
      "execution_count": 56,
      "outputs": []
    },
    {
      "cell_type": "code",
      "metadata": {
        "id": "xAcILBJl2JW4"
      },
      "source": [
        "bestEstimatorLGB.fit(X_trainLG, y_trainLG,feature_name=df.columns.to_list())\r\n",
        "y_PredLGB = bestEstimatorLGB.predict(X_testLG)"
      ],
      "execution_count": 57,
      "outputs": []
    },
    {
      "cell_type": "code",
      "metadata": {
        "colab": {
          "base_uri": "https://localhost:8080/"
        },
        "id": "nB8n3FxrHxf4",
        "outputId": "9b0ebe19-937a-4d90-9a0a-aad3bada8c42"
      },
      "source": [
        "y_PredLGB"
      ],
      "execution_count": 58,
      "outputs": [
        {
          "output_type": "execute_result",
          "data": {
            "text/plain": [
              "array([1, 0, 0, ..., 0, 0, 0])"
            ]
          },
          "metadata": {
            "tags": []
          },
          "execution_count": 58
        }
      ]
    },
    {
      "cell_type": "code",
      "metadata": {
        "id": "GLbVdBmwG8cS"
      },
      "source": [
        ""
      ],
      "execution_count": null,
      "outputs": []
    },
    {
      "cell_type": "code",
      "metadata": {
        "colab": {
          "base_uri": "https://localhost:8080/",
          "height": 293
        },
        "id": "nM6tMb0W3kGt",
        "outputId": "697c0073-b6c1-4b59-b85e-12606882bf58"
      },
      "source": [
        "fig, ax = plt.subplots(1, 1)\r\n",
        "disp = plot_confusion_matrix(\r\n",
        "    bestEstimatorLGB, X_testLG, y_testLG,\r\n",
        "    normalize='true', \r\n",
        "    display_labels=['1', '0'], \r\n",
        "    values_format='.4f', \r\n",
        "    ax=ax)\r\n",
        "ax.set_title('Confusion matrix, normalized')\r\n",
        "ax.xaxis.tick_top()\r\n",
        "ax.xaxis.set_label_position('top')"
      ],
      "execution_count": 59,
      "outputs": [
        {
          "output_type": "display_data",
          "data": {
            "image/png": "[encoded data removed]",
            "text/plain": [
              "<Figure size 432x288 with 2 Axes>"
            ]
          },
          "metadata": {
            "tags": [],
            "needs_background": "light"
          }
        }
      ]
    },
    {
      "cell_type": "markdown",
      "metadata": {
        "id": "-SqlvSibnDPV"
      },
      "source": [
        "**5. Evaluation**"
      ]
    },
    {
      "cell_type": "markdown",
      "metadata": {
        "id": "q9ShseiwD_9W"
      },
      "source": [
        "**5.1 Metrics**"
      ]
    },
    {
      "cell_type": "code",
      "metadata": {
        "colab": {
          "base_uri": "https://localhost:8080/",
          "height": 80
        },
        "id": "QwjjBte-InJt",
        "outputId": "a8ff0bc1-df04-40f9-fa8d-874126344ccd"
      },
      "source": [
        "LGBMMetrics = pd.DataFrame({'Model': 'LightGBM',\r\n",
        "                            'MSE': round(metrics.mean_squared_error(y_testLG, y_PredLGB)*100,2), \r\n",
        "                            'RMSE' : round(np.sqrt(metrics.mean_squared_error(y_testLG, y_PredLGB)*100),2),\r\n",
        "                            'MAE' : round(metrics.mean_absolute_error(y_testLG, y_PredLGB)*100,2),\r\n",
        "                            'MSLE' : round(metrics.mean_squared_log_error(y_testLG, y_PredLGB)*100,2), \r\n",
        "                            'RMSLE' : round(np.sqrt(metrics.mean_squared_log_error(y_testLG, y_PredLGB)*100),2),\r\n",
        "                            'Accuracy Train' : round(bestEstimatorLGB.score(X_trainLG, y_trainLG) * 100,2),\r\n",
        "                            'Accuracy Test' : round(bestEstimatorLGB.score(X_testLG, y_testLG) * 100,2),\r\n",
        "                            'F-Beta Score (β=2)' : round(metrics.fbeta_score(y_testLG, y_PredLGB, beta=2)*100,2)},index=[1])\r\n",
        "\r\n",
        "LGBMMetrics"
      ],
      "execution_count": 60,
      "outputs": [
        {
          "output_type": "execute_result",
          "data": {
            "text/html": [
              "<div>\n",
              "<style scoped>\n",
              "    .dataframe tbody tr th:only-of-type {\n",
              "        vertical-align: middle;\n",
              "    }\n",
              "\n",
              "    .dataframe tbody tr th {\n",
              "        vertical-align: top;\n",
              "    }\n",
              "\n",
              "    .dataframe thead th {\n",
              "        text-align: right;\n",
              "    }\n",
              "</style>\n",
              "<table border=\"1\" class=\"dataframe\">\n",
              "  <thead>\n",
              "    <tr style=\"text-align: right;\">\n",
              "      <th></th>\n",
              "      <th>Model</th>\n",
              "      <th>MSE</th>\n",
              "      <th>RMSE</th>\n",
              "      <th>MAE</th>\n",
              "      <th>MSLE</th>\n",
              "      <th>RMSLE</th>\n",
              "      <th>Accuracy Train</th>\n",
              "      <th>Accuracy Test</th>\n",
              "      <th>F-Beta Score (β=2)</th>\n",
              "    </tr>\n",
              "  </thead>\n",
              "  <tbody>\n",
              "    <tr>\n",
              "      <th>1</th>\n",
              "      <td>LightGBM</td>\n",
              "      <td>15.7</td>\n",
              "      <td>3.96</td>\n",
              "      <td>15.7</td>\n",
              "      <td>7.54</td>\n",
              "      <td>2.75</td>\n",
              "      <td>84.41</td>\n",
              "      <td>84.3</td>\n",
              "      <td>53.45</td>\n",
              "    </tr>\n",
              "  </tbody>\n",
              "</table>\n",
              "</div>"
            ],
            "text/plain": [
              "      Model   MSE  RMSE  ...  Accuracy Train  Accuracy Test  F-Beta Score (β=2)\n",
              "1  LightGBM  15.7  3.96  ...           84.41           84.3               53.45\n",
              "\n",
              "[1 rows x 9 columns]"
            ]
          },
          "metadata": {
            "tags": []
          },
          "execution_count": 60
        }
      ]
    },
    {
      "cell_type": "code",
      "metadata": {
        "colab": {
          "base_uri": "https://localhost:8080/",
          "height": 80
        },
        "id": "Nb1NNmPv9IPn",
        "outputId": "35a73d2a-4551-4762-9180-19e1019b64fc"
      },
      "source": [
        "FRMetrics = pd.DataFrame({'Model': 'RandomForest', \r\n",
        "                             'MSE': round(metrics.mean_squared_error(y_testFR, y_predFR)*100,2),\r\n",
        "                            'RMSE' : round(np.sqrt(metrics.mean_squared_error(y_testFR, y_predFR)*100),2),\r\n",
        "                            'MAE' : round(metrics.mean_absolute_error(y_testFR, y_predFR)*100,2),\r\n",
        "                            'MSLE' : round(metrics.mean_squared_log_error(y_testFR, y_predFR)*100,2), \r\n",
        "                            'RMSLE' : round(np.sqrt(metrics.mean_squared_log_error(y_testFR, y_predFR)*100),2),\r\n",
        "                            'Accuracy Train' : round(model.score(X_trainFR, y_trainFR) * 100,2),\r\n",
        "                            'Accuracy Test' : round(model.score(X_testFR, y_testFR) * 100,2),\r\n",
        "                            'F-Beta Score (β=2)' : round(metrics.fbeta_score(y_testFR, y_predFR, beta=2)*100,2)},index=[1])\r\n",
        "\r\n",
        "FRMetrics"
      ],
      "execution_count": 61,
      "outputs": [
        {
          "output_type": "execute_result",
          "data": {
            "text/html": [
              "<div>\n",
              "<style scoped>\n",
              "    .dataframe tbody tr th:only-of-type {\n",
              "        vertical-align: middle;\n",
              "    }\n",
              "\n",
              "    .dataframe tbody tr th {\n",
              "        vertical-align: top;\n",
              "    }\n",
              "\n",
              "    .dataframe thead th {\n",
              "        text-align: right;\n",
              "    }\n",
              "</style>\n",
              "<table border=\"1\" class=\"dataframe\">\n",
              "  <thead>\n",
              "    <tr style=\"text-align: right;\">\n",
              "      <th></th>\n",
              "      <th>Model</th>\n",
              "      <th>MSE</th>\n",
              "      <th>RMSE</th>\n",
              "      <th>MAE</th>\n",
              "      <th>MSLE</th>\n",
              "      <th>RMSLE</th>\n",
              "      <th>Accuracy Train</th>\n",
              "      <th>Accuracy Test</th>\n",
              "      <th>F-Beta Score (β=2)</th>\n",
              "    </tr>\n",
              "  </thead>\n",
              "  <tbody>\n",
              "    <tr>\n",
              "      <th>1</th>\n",
              "      <td>RandomForest</td>\n",
              "      <td>26.49</td>\n",
              "      <td>5.15</td>\n",
              "      <td>26.49</td>\n",
              "      <td>12.73</td>\n",
              "      <td>3.57</td>\n",
              "      <td>73.61</td>\n",
              "      <td>73.51</td>\n",
              "      <td>48.75</td>\n",
              "    </tr>\n",
              "  </tbody>\n",
              "</table>\n",
              "</div>"
            ],
            "text/plain": [
              "          Model    MSE  RMSE  ...  Accuracy Train  Accuracy Test  F-Beta Score (β=2)\n",
              "1  RandomForest  26.49  5.15  ...           73.61          73.51               48.75\n",
              "\n",
              "[1 rows x 9 columns]"
            ]
          },
          "metadata": {
            "tags": []
          },
          "execution_count": 61
        }
      ]
    },
    {
      "cell_type": "code",
      "metadata": {
        "colab": {
          "base_uri": "https://localhost:8080/",
          "height": 80
        },
        "id": "Ca6QMs6yjgUB",
        "outputId": "c8eacd04-5fbb-4763-fa72-ba5d1dda90d7"
      },
      "source": [
        "LogitMetrics = pd.DataFrame({'Model': 'LogisticRegression', \r\n",
        "                            'MSE': round(metrics.mean_squared_error(y_test, yPredlogit)*100,2),\r\n",
        "                            'RMSE' : round(np.sqrt(metrics.mean_squared_error(y_test, yPredlogit)*100),2),\r\n",
        "                            'MAE' : round(metrics.mean_absolute_error(y_test, yPredlogit)*100,2),\r\n",
        "                            'MSLE' : round(metrics.mean_squared_log_error(y_test, yPredlogit)*100,2), \r\n",
        "                            'RMSLE' : round(np.sqrt(metrics.mean_squared_log_error(y_test, yPredlogit)*100),2),\r\n",
        "                            'Accuracy Train' : round(logit.score(X_train, y_train) * 100,2),\r\n",
        "                            'Accuracy Test' : round(logit.score(X_test, y_test) * 100,2),\r\n",
        "                            'F-Beta Score (β=2)' : round(metrics.fbeta_score(y_test, yPredlogit, beta=2)*100,2)},index=[1])\r\n",
        "\r\n",
        "LogitMetrics"
      ],
      "execution_count": 65,
      "outputs": [
        {
          "output_type": "execute_result",
          "data": {
            "text/html": [
              "<div>\n",
              "<style scoped>\n",
              "    .dataframe tbody tr th:only-of-type {\n",
              "        vertical-align: middle;\n",
              "    }\n",
              "\n",
              "    .dataframe tbody tr th {\n",
              "        vertical-align: top;\n",
              "    }\n",
              "\n",
              "    .dataframe thead th {\n",
              "        text-align: right;\n",
              "    }\n",
              "</style>\n",
              "<table border=\"1\" class=\"dataframe\">\n",
              "  <thead>\n",
              "    <tr style=\"text-align: right;\">\n",
              "      <th></th>\n",
              "      <th>Model</th>\n",
              "      <th>MSE</th>\n",
              "      <th>RMSE</th>\n",
              "      <th>MAE</th>\n",
              "      <th>MSLE</th>\n",
              "      <th>RMSLE</th>\n",
              "      <th>Accuracy Train</th>\n",
              "      <th>Accuracy Test</th>\n",
              "      <th>F-Beta Score (β=2)</th>\n",
              "    </tr>\n",
              "  </thead>\n",
              "  <tbody>\n",
              "    <tr>\n",
              "      <th>1</th>\n",
              "      <td>LogisticRegression</td>\n",
              "      <td>19.2</td>\n",
              "      <td>4.38</td>\n",
              "      <td>19.2</td>\n",
              "      <td>9.23</td>\n",
              "      <td>3.04</td>\n",
              "      <td>80.34</td>\n",
              "      <td>80.8</td>\n",
              "      <td>14.95</td>\n",
              "    </tr>\n",
              "  </tbody>\n",
              "</table>\n",
              "</div>"
            ],
            "text/plain": [
              "                Model   MSE  ...  Accuracy Test  F-Beta Score (β=2)\n",
              "1  LogisticRegression  19.2  ...           80.8               14.95\n",
              "\n",
              "[1 rows x 9 columns]"
            ]
          },
          "metadata": {
            "tags": []
          },
          "execution_count": 65
        }
      ]
    },
    {
      "cell_type": "code",
      "metadata": {
        "colab": {
          "base_uri": "https://localhost:8080/",
          "height": 328
        },
        "id": "6mHuYdLW90-F",
        "outputId": "7e0dbd53-1561-4963-a7a6-e51742b4513c"
      },
      "source": [
        "frames = [LGBMMetrics, RFMetrics, LogitMetrics]\r\n",
        "TrainingResult = pd.concat(frames)\r\n",
        "TrainingResult.T"
      ],
      "execution_count": 66,
      "outputs": [
        {
          "output_type": "execute_result",
          "data": {
            "text/html": [
              "<div>\n",
              "<style scoped>\n",
              "    .dataframe tbody tr th:only-of-type {\n",
              "        vertical-align: middle;\n",
              "    }\n",
              "\n",
              "    .dataframe tbody tr th {\n",
              "        vertical-align: top;\n",
              "    }\n",
              "\n",
              "    .dataframe thead th {\n",
              "        text-align: right;\n",
              "    }\n",
              "</style>\n",
              "<table border=\"1\" class=\"dataframe\">\n",
              "  <thead>\n",
              "    <tr style=\"text-align: right;\">\n",
              "      <th></th>\n",
              "      <th>1</th>\n",
              "      <th>1</th>\n",
              "      <th>1</th>\n",
              "    </tr>\n",
              "  </thead>\n",
              "  <tbody>\n",
              "    <tr>\n",
              "      <th>Model</th>\n",
              "      <td>LightGBM</td>\n",
              "      <td>RandomForest</td>\n",
              "      <td>LogisticRegression</td>\n",
              "    </tr>\n",
              "    <tr>\n",
              "      <th>MSE</th>\n",
              "      <td>15.7</td>\n",
              "      <td>26.49</td>\n",
              "      <td>19.2</td>\n",
              "    </tr>\n",
              "    <tr>\n",
              "      <th>RMSE</th>\n",
              "      <td>3.96</td>\n",
              "      <td>5.15</td>\n",
              "      <td>4.38</td>\n",
              "    </tr>\n",
              "    <tr>\n",
              "      <th>MAE</th>\n",
              "      <td>15.7</td>\n",
              "      <td>26.49</td>\n",
              "      <td>19.2</td>\n",
              "    </tr>\n",
              "    <tr>\n",
              "      <th>MSLE</th>\n",
              "      <td>7.54</td>\n",
              "      <td>12.73</td>\n",
              "      <td>9.23</td>\n",
              "    </tr>\n",
              "    <tr>\n",
              "      <th>RMSLE</th>\n",
              "      <td>2.75</td>\n",
              "      <td>3.57</td>\n",
              "      <td>3.04</td>\n",
              "    </tr>\n",
              "    <tr>\n",
              "      <th>Accuracy Train</th>\n",
              "      <td>84.41</td>\n",
              "      <td>73.61</td>\n",
              "      <td>80.34</td>\n",
              "    </tr>\n",
              "    <tr>\n",
              "      <th>Accuracy Test</th>\n",
              "      <td>84.3</td>\n",
              "      <td>73.51</td>\n",
              "      <td>80.8</td>\n",
              "    </tr>\n",
              "    <tr>\n",
              "      <th>F-Beta Score (β=2)</th>\n",
              "      <td>53.45</td>\n",
              "      <td>48.75</td>\n",
              "      <td>14.95</td>\n",
              "    </tr>\n",
              "  </tbody>\n",
              "</table>\n",
              "</div>"
            ],
            "text/plain": [
              "                           1             1                   1\n",
              "Model               LightGBM  RandomForest  LogisticRegression\n",
              "MSE                     15.7         26.49                19.2\n",
              "RMSE                    3.96          5.15                4.38\n",
              "MAE                     15.7         26.49                19.2\n",
              "MSLE                    7.54         12.73                9.23\n",
              "RMSLE                   2.75          3.57                3.04\n",
              "Accuracy Train         84.41         73.61               80.34\n",
              "Accuracy Test           84.3         73.51                80.8\n",
              "F-Beta Score (β=2)     53.45         48.75               14.95"
            ]
          },
          "metadata": {
            "tags": []
          },
          "execution_count": 66
        }
      ]
    },
    {
      "cell_type": "markdown",
      "metadata": {
        "id": "MlSM-rdjED3G"
      },
      "source": [
        "**5.2 Precision-Recall curve and F1 Score**"
      ]
    },
    {
      "cell_type": "code",
      "metadata": {
        "colab": {
          "base_uri": "https://localhost:8080/",
          "height": 330
        },
        "id": "eJtm6PZaErNw",
        "outputId": "71cdd863-60c9-480b-bb29-c060d7628002"
      },
      "source": [
        "# precision-recall curve and f1\r\n",
        "from sklearn.datasets import make_classification\r\n",
        "from sklearn.linear_model import LogisticRegression\r\n",
        "from sklearn.model_selection import train_test_split\r\n",
        "from sklearn.metrics import precision_recall_curve\r\n",
        "from sklearn.metrics import f1_score\r\n",
        "from sklearn.metrics import auc\r\n",
        "from matplotlib import pyplot\r\n",
        "\r\n",
        "# predict probabilities\r\n",
        "Logit_probs = logit.predict_proba(X_test)\r\n",
        "Fr_probs = model.predict_proba(X_testFR)\r\n",
        "Lgbm_probs = bestEstimatorLGB.predict_proba(X_testLG)\r\n",
        "\r\n",
        "# keep probabilities for the positive outcome only\r\n",
        "Logit_probs = Logit_probs[:, 1]\r\n",
        "Fr_probs = Fr_probs[:, 1]\r\n",
        "Lgbm_probs = Lgbm_probs[:, 1]\r\n",
        "\r\n",
        "# predict class values\r\n",
        "yPredlogit = logit.predict(X_test)\r\n",
        "Logit_precision, Logit_recall, _ = precision_recall_curve(y_test, Logit_probs)\r\n",
        "Logit_f1, Logit_auc = f1_score(y_test, yPredlogit), auc(Logit_recall, Logit_precision)\r\n",
        "\r\n",
        "y_predFR =model.predict(X_testFR)\r\n",
        "Fr_precision, Fr_recall, _ = precision_recall_curve(y_testFR, Fr_probs)\r\n",
        "Fr_f1, Fr_auc = f1_score(y_testFR, y_predFR), auc(Fr_recall, Fr_precision)\r\n",
        "\r\n",
        "y_PredLGB = bestEstimatorLGB.predict(X_testLG)\r\n",
        "Lgbm_precision, Lgbm_recall, _ = precision_recall_curve(y_testLG, Lgbm_probs)\r\n",
        "Lgbm_f1, Lgbm_auc = f1_score(y_testLG, y_PredLGB), auc(Lgbm_recall, Lgbm_precision)\r\n",
        "\r\n",
        "# summarize scores\r\n",
        "print('Logistic: f1=%.3f auc=%.3f' % (Logit_f1, Logit_auc))\r\n",
        "print('RandomForest: f1=%.3f auc=%.3f' % (Fr_f1, Fr_auc))\r\n",
        "print('LightGBM: f1=%.3f auc=%.3f' % (Lgbm_f1, Lgbm_auc))\r\n",
        "\r\n",
        "# plot the precision-recall curves\r\n",
        "pyplot.plot(Logit_recall, Logit_precision, marker='.', label='Logistic')\r\n",
        "pyplot.plot(Fr_recall, Fr_precision, marker='.', label='RandomForest')\r\n",
        "pyplot.plot(Lgbm_recall, Lgbm_precision, marker='.', label='LightGBM')\r\n",
        "\r\n",
        "# axis labels\r\n",
        "pyplot.xlabel('Recall')\r\n",
        "pyplot.ylabel('Precision')\r\n",
        "# show the legend\r\n",
        "pyplot.legend()\r\n",
        "# show the plot\r\n",
        "pyplot.show()\r\n"
      ],
      "execution_count": 75,
      "outputs": [
        {
          "output_type": "stream",
          "text": [
            "Logistic: f1=0.116 auc=0.164\n",
            "RandomForest: f1=0.301 auc=0.378\n",
            "LightGBM: f1=0.386 auc=0.401\n"
          ],
          "name": "stdout"
        },
        {
          "output_type": "display_data",
          "data": {
            "image/png": "[encoded data removed]",
            "text/plain": [
              "<Figure size 432x288 with 1 Axes>"
            ]
          },
          "metadata": {
            "tags": [],
            "needs_background": "light"
          }
        }
      ]
    },
    {
      "cell_type": "markdown",
      "metadata": {
        "id": "gcTkAFqhQsCC"
      },
      "source": [
        "**5.3 ROC and AUC score**"
      ]
    },
    {
      "cell_type": "code",
      "metadata": {
        "colab": {
          "base_uri": "https://localhost:8080/",
          "height": 330
        },
        "id": "d64qeJIsQpCR",
        "outputId": "5ac9c9a5-f5e2-4e90-adf5-3478339f3c85"
      },
      "source": [
        "# calculate scores\r\n",
        "RocLogit_auc = roc_auc_score(y_test, Logit_probs)\r\n",
        "RocFr_auc = roc_auc_score(y_testFR, Fr_probs)\r\n",
        "RocLg_auc = roc_auc_score(y_testLG, Lgbm_probs)\r\n",
        "# summarize scores\r\n",
        "print('Logistic: ROC AUC=%.3f' % (RocLogit_auc))\r\n",
        "print('RandomForest: ROC AUC=%.3f' % (RocFr_auc))\r\n",
        "print('LightGBM: ROC AUC=%.3f' % (RocLg_auc))\r\n",
        "# calculate roc curves\r\n",
        "logit_fpr, logit_tpr, _ = roc_curve(y_test, Logit_probs)\r\n",
        "fr_fpr, fr_tpr, _ = roc_curve(y_testFR, Fr_probs)\r\n",
        "lg_fpr, lg_tpr, _ = roc_curve(y_testLG, Lgbm_probs)\r\n",
        "# plot the roc curve for the model\r\n",
        "pyplot.plot(logit_fpr, logit_tpr, linestyle='-', label='Logistic')\r\n",
        "pyplot.plot(fr_fpr, fr_tpr, marker='.', label='RandomForest')\r\n",
        "pyplot.plot(lg_fpr, lg_tpr, marker='+', label='LightGBM')\r\n",
        "# axis labels\r\n",
        "pyplot.xlabel('False Positive Rate')\r\n",
        "pyplot.ylabel('True Positive Rate')\r\n",
        "# show the legend\r\n",
        "pyplot.legend()\r\n",
        "# show the plot\r\n",
        "pyplot.show()"
      ],
      "execution_count": 80,
      "outputs": [
        {
          "output_type": "stream",
          "text": [
            "Logistic: ROC AUC=0.582\n",
            "RandomForest: ROC AUC=0.861\n",
            "LightGBM: ROC AUC=0.870\n"
          ],
          "name": "stdout"
        },
        {
          "output_type": "display_data",
          "data": {
            "image/png": "[encoded data removed]",
            "text/plain": [
              "<Figure size 432x288 with 1 Axes>"
            ]
          },
          "metadata": {
            "tags": [],
            "needs_background": "light"
          }
        }
      ]
    },
    {
      "cell_type": "markdown",
      "metadata": {
        "id": "NbKF2bddmxSG"
      },
      "source": [
        "**6. Final prediction using LightGBM**"
      ]
    },
    {
      "cell_type": "code",
      "metadata": {
        "colab": {
          "base_uri": "https://localhost:8080/",
          "height": 419
        },
        "id": "68IfBD-7mwss",
        "outputId": "ada90665-a11a-4e7e-b07f-f13966c088fd"
      },
      "source": [
        "lgb_probs = bestEstimatorLGB.predict_proba(df)\r\n",
        "model_lgbm = pd.DataFrame({'ID': CustomerID, 'Probability': lgb_probs[:,1]})\r\n",
        "model_lgbm.to_csv('LGBMPredicted.csv', index=False)\r\n",
        "model_lgbm\r\n"
      ],
      "execution_count": 69,
      "outputs": [
        {
          "output_type": "execute_result",
          "data": {
            "text/html": [
              "<div>\n",
              "<style scoped>\n",
              "    .dataframe tbody tr th:only-of-type {\n",
              "        vertical-align: middle;\n",
              "    }\n",
              "\n",
              "    .dataframe tbody tr th {\n",
              "        vertical-align: top;\n",
              "    }\n",
              "\n",
              "    .dataframe thead th {\n",
              "        text-align: right;\n",
              "    }\n",
              "</style>\n",
              "<table border=\"1\" class=\"dataframe\">\n",
              "  <thead>\n",
              "    <tr style=\"text-align: right;\">\n",
              "      <th></th>\n",
              "      <th>ID</th>\n",
              "      <th>Probability</th>\n",
              "    </tr>\n",
              "  </thead>\n",
              "  <tbody>\n",
              "    <tr>\n",
              "      <th>0</th>\n",
              "      <td>1</td>\n",
              "      <td>0.865924</td>\n",
              "    </tr>\n",
              "    <tr>\n",
              "      <th>1</th>\n",
              "      <td>2</td>\n",
              "      <td>0.500361</td>\n",
              "    </tr>\n",
              "    <tr>\n",
              "      <th>2</th>\n",
              "      <td>3</td>\n",
              "      <td>0.811335</td>\n",
              "    </tr>\n",
              "    <tr>\n",
              "      <th>3</th>\n",
              "      <td>4</td>\n",
              "      <td>0.187656</td>\n",
              "    </tr>\n",
              "    <tr>\n",
              "      <th>4</th>\n",
              "      <td>5</td>\n",
              "      <td>0.567848</td>\n",
              "    </tr>\n",
              "    <tr>\n",
              "      <th>...</th>\n",
              "      <td>...</td>\n",
              "      <td>...</td>\n",
              "    </tr>\n",
              "    <tr>\n",
              "      <th>149994</th>\n",
              "      <td>149995</td>\n",
              "      <td>0.301281</td>\n",
              "    </tr>\n",
              "    <tr>\n",
              "      <th>149995</th>\n",
              "      <td>149996</td>\n",
              "      <td>0.057425</td>\n",
              "    </tr>\n",
              "    <tr>\n",
              "      <th>149996</th>\n",
              "      <td>149997</td>\n",
              "      <td>0.213161</td>\n",
              "    </tr>\n",
              "    <tr>\n",
              "      <th>149998</th>\n",
              "      <td>149999</td>\n",
              "      <td>0.113831</td>\n",
              "    </tr>\n",
              "    <tr>\n",
              "      <th>149999</th>\n",
              "      <td>150000</td>\n",
              "      <td>0.237258</td>\n",
              "    </tr>\n",
              "  </tbody>\n",
              "</table>\n",
              "<p>134792 rows × 2 columns</p>\n",
              "</div>"
            ],
            "text/plain": [
              "            ID  Probability\n",
              "0            1     0.865924\n",
              "1            2     0.500361\n",
              "2            3     0.811335\n",
              "3            4     0.187656\n",
              "4            5     0.567848\n",
              "...        ...          ...\n",
              "149994  149995     0.301281\n",
              "149995  149996     0.057425\n",
              "149996  149997     0.213161\n",
              "149998  149999     0.113831\n",
              "149999  150000     0.237258\n",
              "\n",
              "[134792 rows x 2 columns]"
            ]
          },
          "metadata": {
            "tags": []
          },
          "execution_count": 69
        }
      ]
    }
  ]
}