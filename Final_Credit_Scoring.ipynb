{
  "nbformat": 4,
  "nbformat_minor": 0,
  "metadata": {
    "colab": {
      "name": "Final_Credit_Scoring.ipynb",
      "provenance": [],
      "collapsed_sections": [],
      "authorship_tag": "ABX9TyPCqoVUT7XDzG4vhsxPmb1+",
      "include_colab_link": true
    },
    "kernelspec": {
      "name": "python3",
      "display_name": "Python 3"
    }
  },
  "cells": [
    {
      "cell_type": "markdown",
      "metadata": {
        "id": "view-in-github",
        "colab_type": "text"
      },
      "source": [
        "<a href=\"https://colab.research.google.com/github/napaphach/credit-scoring/blob/main/Final_Credit_Scoring.ipynb\" target=\"_parent\"><img src=\"https://colab.research.google.com/assets/colab-badge.svg\" alt=\"Open In Colab\"/></a>"
      ]
    },
    {
      "cell_type": "code",
      "metadata": {
        "id": "MALEm2tRC58r"
      },
      "source": [
        "import pandas as pd\r\n",
        "Data = pd.read_csv(\"https://raw.githubusercontent.com/napaphach/credit-scoring/main/credit-scoring.csv\")"
      ],
      "execution_count": 59,
      "outputs": []
    },
    {
      "cell_type": "code",
      "metadata": {
        "colab": {
          "base_uri": "https://localhost:8080/"
        },
        "id": "JIcMcxwJDE90",
        "outputId": "65ade230-7e89-4243-96de-2c38f5480713"
      },
      "source": [
        "Data.info()"
      ],
      "execution_count": 60,
      "outputs": [
        {
          "output_type": "stream",
          "text": [
            "<class 'pandas.core.frame.DataFrame'>\n",
            "RangeIndex: 150000 entries, 0 to 149999\n",
            "Data columns (total 12 columns):\n",
            " #   Column                                Non-Null Count   Dtype  \n",
            "---  ------                                --------------   -----  \n",
            " 0   Unnamed: 0                            150000 non-null  int64  \n",
            " 1   SeriousDlqin2yrs                      150000 non-null  int64  \n",
            " 2   RevolvingUtilizationOfUnsecuredLines  150000 non-null  float64\n",
            " 3   age                                   150000 non-null  int64  \n",
            " 4   NumberOfTime30-59DaysPastDueNotWorse  150000 non-null  int64  \n",
            " 5   DebtRatio                             150000 non-null  float64\n",
            " 6   MonthlyIncome                         120269 non-null  float64\n",
            " 7   NumberOfOpenCreditLinesAndLoans       150000 non-null  int64  \n",
            " 8   NumberOfTimes90DaysLate               150000 non-null  int64  \n",
            " 9   NumberRealEstateLoansOrLines          150000 non-null  int64  \n",
            " 10  NumberOfTime60-89DaysPastDueNotWorse  150000 non-null  int64  \n",
            " 11  NumberOfDependents                    146076 non-null  float64\n",
            "dtypes: float64(4), int64(8)\n",
            "memory usage: 13.7 MB\n"
          ],
          "name": "stdout"
        }
      ]
    },
    {
      "cell_type": "markdown",
      "metadata": {
        "id": "cBTxeDn5DK0g"
      },
      "source": [
        "Here shows that variable MonthlyIncome and Number of Dependents have some missing value"
      ]
    },
    {
      "cell_type": "code",
      "metadata": {
        "colab": {
          "base_uri": "https://localhost:8080/",
          "height": 207
        },
        "id": "KPfF9gnhE0D5",
        "outputId": "0273b2c1-52ea-4361-9f6b-bbbd7f43a230"
      },
      "source": [
        "Data.head()"
      ],
      "execution_count": 61,
      "outputs": [
        {
          "output_type": "execute_result",
          "data": {
            "text/html": [
              "<div>\n",
              "<style scoped>\n",
              "    .dataframe tbody tr th:only-of-type {\n",
              "        vertical-align: middle;\n",
              "    }\n",
              "\n",
              "    .dataframe tbody tr th {\n",
              "        vertical-align: top;\n",
              "    }\n",
              "\n",
              "    .dataframe thead th {\n",
              "        text-align: right;\n",
              "    }\n",
              "</style>\n",
              "<table border=\"1\" class=\"dataframe\">\n",
              "  <thead>\n",
              "    <tr style=\"text-align: right;\">\n",
              "      <th></th>\n",
              "      <th>Unnamed: 0</th>\n",
              "      <th>SeriousDlqin2yrs</th>\n",
              "      <th>RevolvingUtilizationOfUnsecuredLines</th>\n",
              "      <th>age</th>\n",
              "      <th>NumberOfTime30-59DaysPastDueNotWorse</th>\n",
              "      <th>DebtRatio</th>\n",
              "      <th>MonthlyIncome</th>\n",
              "      <th>NumberOfOpenCreditLinesAndLoans</th>\n",
              "      <th>NumberOfTimes90DaysLate</th>\n",
              "      <th>NumberRealEstateLoansOrLines</th>\n",
              "      <th>NumberOfTime60-89DaysPastDueNotWorse</th>\n",
              "      <th>NumberOfDependents</th>\n",
              "    </tr>\n",
              "  </thead>\n",
              "  <tbody>\n",
              "    <tr>\n",
              "      <th>0</th>\n",
              "      <td>1</td>\n",
              "      <td>1</td>\n",
              "      <td>0.766127</td>\n",
              "      <td>45</td>\n",
              "      <td>2</td>\n",
              "      <td>0.802982</td>\n",
              "      <td>9120.0</td>\n",
              "      <td>13</td>\n",
              "      <td>0</td>\n",
              "      <td>6</td>\n",
              "      <td>0</td>\n",
              "      <td>2.0</td>\n",
              "    </tr>\n",
              "    <tr>\n",
              "      <th>1</th>\n",
              "      <td>2</td>\n",
              "      <td>0</td>\n",
              "      <td>0.957151</td>\n",
              "      <td>40</td>\n",
              "      <td>0</td>\n",
              "      <td>0.121876</td>\n",
              "      <td>2600.0</td>\n",
              "      <td>4</td>\n",
              "      <td>0</td>\n",
              "      <td>0</td>\n",
              "      <td>0</td>\n",
              "      <td>1.0</td>\n",
              "    </tr>\n",
              "    <tr>\n",
              "      <th>2</th>\n",
              "      <td>3</td>\n",
              "      <td>0</td>\n",
              "      <td>0.658180</td>\n",
              "      <td>38</td>\n",
              "      <td>1</td>\n",
              "      <td>0.085113</td>\n",
              "      <td>3042.0</td>\n",
              "      <td>2</td>\n",
              "      <td>1</td>\n",
              "      <td>0</td>\n",
              "      <td>0</td>\n",
              "      <td>0.0</td>\n",
              "    </tr>\n",
              "    <tr>\n",
              "      <th>3</th>\n",
              "      <td>4</td>\n",
              "      <td>0</td>\n",
              "      <td>0.233810</td>\n",
              "      <td>30</td>\n",
              "      <td>0</td>\n",
              "      <td>0.036050</td>\n",
              "      <td>3300.0</td>\n",
              "      <td>5</td>\n",
              "      <td>0</td>\n",
              "      <td>0</td>\n",
              "      <td>0</td>\n",
              "      <td>0.0</td>\n",
              "    </tr>\n",
              "    <tr>\n",
              "      <th>4</th>\n",
              "      <td>5</td>\n",
              "      <td>0</td>\n",
              "      <td>0.907239</td>\n",
              "      <td>49</td>\n",
              "      <td>1</td>\n",
              "      <td>0.024926</td>\n",
              "      <td>63588.0</td>\n",
              "      <td>7</td>\n",
              "      <td>0</td>\n",
              "      <td>1</td>\n",
              "      <td>0</td>\n",
              "      <td>0.0</td>\n",
              "    </tr>\n",
              "  </tbody>\n",
              "</table>\n",
              "</div>"
            ],
            "text/plain": [
              "   Unnamed: 0  ...  NumberOfDependents\n",
              "0           1  ...                 2.0\n",
              "1           2  ...                 1.0\n",
              "2           3  ...                 0.0\n",
              "3           4  ...                 0.0\n",
              "4           5  ...                 0.0\n",
              "\n",
              "[5 rows x 12 columns]"
            ]
          },
          "metadata": {
            "tags": []
          },
          "execution_count": 61
        }
      ]
    },
    {
      "cell_type": "markdown",
      "metadata": {
        "id": "6gV93F8QEJHK"
      },
      "source": [
        "*********** Note ******** this step need to be consider ***bold text***\r\n",
        "\r\n",
        "---\r\n",
        "\r\n",
        "\r\n",
        "# To predict the probability of Delinquency in the test data, the additional column from it need to be first deleted\r\n",
        "df_test.drop('SeriousDlqin2yrs', axis=1, inplace = True)\r\n",
        "\r\n",
        "#The variable Unnamed:0 is also stored as seperated variable since it will not have any precitive power in the mmodel\r\n",
        "trainID = df_train ['Unnamed: 0']\r\n",
        "trainID = df_test ['Unnamed: 0']\r\n",
        "\r\n",
        "df_train.drop('Unnamed: 0', axis=1, inplace = True)\r\n",
        "df_test.drop('Unnamed: 0', axis=1, inplace = True)\r\n",
        "\r\n",
        "\r\n",
        "\r\n",
        "\r\n",
        "\r\n"
      ]
    },
    {
      "cell_type": "markdown",
      "metadata": {
        "id": "hrPQVxLvDlwZ"
      },
      "source": [
        "**Step 1:Data Preprocessing**\r\n"
      ]
    },
    {
      "cell_type": "code",
      "metadata": {
        "id": "YKN8UGf4Dwak"
      },
      "source": [
        "df = Data.copy()"
      ],
      "execution_count": 62,
      "outputs": []
    },
    {
      "cell_type": "code",
      "metadata": {
        "colab": {
          "base_uri": "https://localhost:8080/",
          "height": 458
        },
        "id": "7Yb1HzFvEiaL",
        "outputId": "4e7d7b20-8b7b-4571-d84f-614557599391"
      },
      "source": [
        "# Discover imbalance classification\r\n",
        "import matplotlib.pyplot as plt\r\n",
        "import seaborn as sns\r\n",
        "fig, axes = plt.subplots(1,2,figsize=(12,6))\r\n",
        "df['SeriousDlqin2yrs'].value_counts().plot.pie(explode=[0,0.1],autopct='%1.1f%%',ax=axes[0])\r\n",
        "axes[0].set_title('SeriousDlqin2yrs')\r\n",
        "\r\n",
        "sns.countplot('SeriousDlqin2yrs',data=df,ax=axes[1])\r\n",
        "axes[1].set_title('SeriousDlqin2yrs')\r\n",
        "plt.show()\r\n"
      ],
      "execution_count": 63,
      "outputs": [
        {
          "output_type": "stream",
          "text": [
            "/usr/local/lib/python3.7/dist-packages/seaborn/_decorators.py:43: FutureWarning: Pass the following variable as a keyword arg: x. From version 0.12, the only valid positional argument will be `data`, and passing other arguments without an explicit keyword will result in an error or misinterpretation.\n",
            "  FutureWarning\n"
          ],
          "name": "stderr"
        },
        {
          "output_type": "display_data",
          "data": {
            "image/png": "[encoded data removed]",
            "text/plain": [
              "<Figure size 864x432 with 2 Axes>"
            ]
          },
          "metadata": {
            "tags": [],
            "needs_background": "light"
          }
        }
      ]
    },
    {
      "cell_type": "code",
      "metadata": {
        "colab": {
          "base_uri": "https://localhost:8080/",
          "height": 1000
        },
        "id": "LZsPn3hoF2Ax",
        "outputId": "8383f6fe-0f51-4ca0-93f2-a694f76434c4"
      },
      "source": [
        "#Discover outlier\r\n",
        "fig = plt.figure(figsize=[30,30])\r\n",
        "for col,i in zip(df.columns,range(1,13)):\r\n",
        "    axes = fig.add_subplot(7,2,i)\r\n",
        "    sns.regplot(df[col],df.SeriousDlqin2yrs,ax=axes)\r\n",
        "plt.show()"
      ],
      "execution_count": null,
      "outputs": [
        {
          "output_type": "stream",
          "text": [
            "/usr/local/lib/python3.7/dist-packages/seaborn/_decorators.py:43: FutureWarning: Pass the following variables as keyword args: x, y. From version 0.12, the only valid positional argument will be `data`, and passing other arguments without an explicit keyword will result in an error or misinterpretation.\n",
            "  FutureWarning\n",
            "/usr/local/lib/python3.7/dist-packages/seaborn/_decorators.py:43: FutureWarning: Pass the following variables as keyword args: x, y. From version 0.12, the only valid positional argument will be `data`, and passing other arguments without an explicit keyword will result in an error or misinterpretation.\n",
            "  FutureWarning\n",
            "/usr/local/lib/python3.7/dist-packages/seaborn/_decorators.py:43: FutureWarning: Pass the following variables as keyword args: x, y. From version 0.12, the only valid positional argument will be `data`, and passing other arguments without an explicit keyword will result in an error or misinterpretation.\n",
            "  FutureWarning\n",
            "/usr/local/lib/python3.7/dist-packages/seaborn/_decorators.py:43: FutureWarning: Pass the following variables as keyword args: x, y. From version 0.12, the only valid positional argument will be `data`, and passing other arguments without an explicit keyword will result in an error or misinterpretation.\n",
            "  FutureWarning\n",
            "/usr/local/lib/python3.7/dist-packages/seaborn/_decorators.py:43: FutureWarning: Pass the following variables as keyword args: x, y. From version 0.12, the only valid positional argument will be `data`, and passing other arguments without an explicit keyword will result in an error or misinterpretation.\n",
            "  FutureWarning\n",
            "/usr/local/lib/python3.7/dist-packages/seaborn/_decorators.py:43: FutureWarning: Pass the following variables as keyword args: x, y. From version 0.12, the only valid positional argument will be `data`, and passing other arguments without an explicit keyword will result in an error or misinterpretation.\n",
            "  FutureWarning\n",
            "/usr/local/lib/python3.7/dist-packages/seaborn/_decorators.py:43: FutureWarning: Pass the following variables as keyword args: x, y. From version 0.12, the only valid positional argument will be `data`, and passing other arguments without an explicit keyword will result in an error or misinterpretation.\n",
            "  FutureWarning\n",
            "/usr/local/lib/python3.7/dist-packages/seaborn/_decorators.py:43: FutureWarning: Pass the following variables as keyword args: x, y. From version 0.12, the only valid positional argument will be `data`, and passing other arguments without an explicit keyword will result in an error or misinterpretation.\n",
            "  FutureWarning\n",
            "/usr/local/lib/python3.7/dist-packages/seaborn/_decorators.py:43: FutureWarning: Pass the following variables as keyword args: x, y. From version 0.12, the only valid positional argument will be `data`, and passing other arguments without an explicit keyword will result in an error or misinterpretation.\n",
            "  FutureWarning\n",
            "/usr/local/lib/python3.7/dist-packages/seaborn/_decorators.py:43: FutureWarning: Pass the following variables as keyword args: x, y. From version 0.12, the only valid positional argument will be `data`, and passing other arguments without an explicit keyword will result in an error or misinterpretation.\n",
            "  FutureWarning\n",
            "/usr/local/lib/python3.7/dist-packages/seaborn/_decorators.py:43: FutureWarning: Pass the following variables as keyword args: x, y. From version 0.12, the only valid positional argument will be `data`, and passing other arguments without an explicit keyword will result in an error or misinterpretation.\n",
            "  FutureWarning\n"
          ],
          "name": "stderr"
        },
        {
          "output_type": "display_data",
          "data": {
            "image/png": "[encoded data removed]",
            "text/plain": [
              "<Figure size 2160x2160 with 11 Axes>"
            ]
          },
          "metadata": {
            "tags": [],
            "needs_background": "light"
          }
        }
      ]
    },
    {
      "cell_type": "markdown",
      "metadata": {
        "id": "Zcm7eph2HG18"
      },
      "source": [
        "**Ourlier Problem solving:**\r\n",
        "For **NumberOfTime30-59DaysPastDueNotWorse , NumberOfTime60-89DaysPastDueNotWorse and NumberOfTimes90DaysLate**"
      ]
    },
    {
      "cell_type": "code",
      "metadata": {
        "colab": {
          "base_uri": "https://localhost:8080/"
        },
        "id": "5duWvlUEHsGK",
        "outputId": "e14c7140-f97d-4dbc-a0d5-7d59f3dd484d"
      },
      "source": [
        "# Checking potential outlier that may caused from value error\r\n",
        "import numpy as np\r\n",
        "print(\"Unique values in '30-59 Days' values that are more than or equal to 90:\",np.unique(df[df['NumberOfTime30-59DaysPastDueNotWorse']>=90]\r\n",
        "                                                                                          ['NumberOfTime30-59DaysPastDueNotWorse']))\r\n",
        "\r\n",
        "print(\"Unique values in '60-89 Days' when '30-59 Days' values are more than or equal to 90:\",np.unique(df[df['NumberOfTime30-59DaysPastDueNotWorse']>=90]\r\n",
        "                                                                                                       ['NumberOfTime60-89DaysPastDueNotWorse']))\r\n",
        "\r\n",
        "print(\"Unique values in '90 Days' when '30-59 Days' values are more than or equal to 90:\",np.unique(df[df['NumberOfTime30-59DaysPastDueNotWorse']>=90]\r\n",
        "                                                                                                    ['NumberOfTimes90DaysLate']))\r\n",
        "\r\n",
        "print(\"Unique values in '60-89 Days' when '30-59 Days' values are less than 90:\",np.unique(df[df['NumberOfTime30-59DaysPastDueNotWorse']<90]\r\n",
        "                                                                                           ['NumberOfTime30-59DaysPastDueNotWorse']))\r\n",
        "\r\n",
        "print(\"Unique values in '60-89 Days' when '30-59 Days' values are less than 90:\",np.unique(df[df['NumberOfTime30-59DaysPastDueNotWorse']<90]\r\n",
        "                                                                                           ['NumberOfTime60-89DaysPastDueNotWorse']))\r\n",
        "\r\n",
        "print(\"Unique values in '90 Days' when '30-59 Days' values are less than 90:\",np.unique(df[df['NumberOfTime30-59DaysPastDueNotWorse']<90]\r\n",
        "                                                                                        ['NumberOfTimes90DaysLate']))"
      ],
      "execution_count": 64,
      "outputs": [
        {
          "output_type": "stream",
          "text": [
            "Unique values in '30-59 Days' values that are more than or equal to 90: [96 98]\n",
            "Unique values in '60-89 Days' when '30-59 Days' values are more than or equal to 90: [96 98]\n",
            "Unique values in '90 Days' when '30-59 Days' values are more than or equal to 90: [96 98]\n",
            "Unique values in '60-89 Days' when '30-59 Days' values are less than 90: [ 0  1  2  3  4  5  6  7  8  9 10 11 12 13]\n",
            "Unique values in '60-89 Days' when '30-59 Days' values are less than 90: [ 0  1  2  3  4  5  6  7  8  9 11]\n",
            "Unique values in '90 Days' when '30-59 Days' values are less than 90: [ 0  1  2  3  4  5  6  7  8  9 10 11 12 13 14 15 17]\n"
          ],
          "name": "stdout"
        }
      ]
    },
    {
      "cell_type": "code",
      "metadata": {
        "id": "Da0_xsiWIPsS"
      },
      "source": [
        "# Replace all potential outlier by a reasonable value from the variables\r\n",
        "df.loc[df['NumberOfTime30-59DaysPastDueNotWorse'] >= 90, 'NumberOfTime30-59DaysPastDueNotWorse'] = 13\r\n",
        "df.loc[df['NumberOfTime60-89DaysPastDueNotWorse'] >= 90, 'NumberOfTime60-89DaysPastDueNotWorse'] = 11\r\n",
        "df.loc[df['NumberOfTimes90DaysLate'] >= 90, 'NumberOfTimes90DaysLate'] = 17"
      ],
      "execution_count": 66,
      "outputs": []
    },
    {
      "cell_type": "code",
      "metadata": {
        "colab": {
          "base_uri": "https://localhost:8080/"
        },
        "id": "_roZlqF7IZlx",
        "outputId": "63339dc2-d522-4270-dc8c-06ab2f57a81e"
      },
      "source": [
        "print(\"Unique values in 30-59Days\", np.unique(df['NumberOfTime30-59DaysPastDueNotWorse']))\r\n",
        "print(\"Unique values in 60-89Days\", np.unique(df['NumberOfTime60-89DaysPastDueNotWorse']))\r\n",
        "print(\"Unique values in 90Days\", np.unique(df['NumberOfTimes90DaysLate']))"
      ],
      "execution_count": 67,
      "outputs": [
        {
          "output_type": "stream",
          "text": [
            "Unique values in 30-59Days [ 0  1  2  3  4  5  6  7  8  9 10 11 12 13]\n",
            "Unique values in 60-89Days [ 0  1  2  3  4  5  6  7  8  9 11]\n",
            "Unique values in 90Days [ 0  1  2  3  4  5  6  7  8  9 10 11 12 13 14 15 17]\n"
          ],
          "name": "stdout"
        }
      ]
    },
    {
      "cell_type": "markdown",
      "metadata": {
        "id": "t9c7UDFNJsSy"
      },
      "source": [
        "**For DebtRatio and RevolvingUtilizationOfUnsecuredLines variables**\r\n"
      ]
    },
    {
      "cell_type": "code",
      "metadata": {
        "colab": {
          "base_uri": "https://localhost:8080/"
        },
        "id": "XEOlWLGIJnu6",
        "outputId": "ed90207e-a0c8-44ae-81cd-cbacfae05a73"
      },
      "source": [
        "#Check for potential error value\r\n",
        "print('Debt Ratio: \\n',df['DebtRatio'].describe())\r\n",
        "print('\\nRevolving Utilization of Unsecured Lines: \\n',df['RevolvingUtilizationOfUnsecuredLines'].describe())"
      ],
      "execution_count": 68,
      "outputs": [
        {
          "output_type": "stream",
          "text": [
            "Debt Ratio: \n",
            " count    150000.000000\n",
            "mean        353.005076\n",
            "std        2037.818523\n",
            "min           0.000000\n",
            "25%           0.175074\n",
            "50%           0.366508\n",
            "75%           0.868254\n",
            "max      329664.000000\n",
            "Name: DebtRatio, dtype: float64\n",
            "\n",
            "Revolving Utilization of Unsecured Lines: \n",
            " count    150000.000000\n",
            "mean          6.048438\n",
            "std         249.755371\n",
            "min           0.000000\n",
            "25%           0.029867\n",
            "50%           0.154181\n",
            "75%           0.559046\n",
            "max       50708.000000\n",
            "Name: RevolvingUtilizationOfUnsecuredLines, dtype: float64\n"
          ],
          "name": "stdout"
        }
      ]
    },
    {
      "cell_type": "markdown",
      "metadata": {
        "id": "Xw36Lzn9KUeA"
      },
      "source": [
        "Data shows a huge differecne between 75th Quantile and the max value of those variables"
      ]
    },
    {
      "cell_type": "code",
      "metadata": {
        "colab": {
          "base_uri": "https://localhost:8080/"
        },
        "id": "QSB1AkvoKYp9",
        "outputId": "471de98a-261e-4639-b00f-6a97c13b6fa4"
      },
      "source": [
        "quantiles = [0.75,0.8,0.81,0.85,0.9,0.95,0.975,0.99]\r\n",
        "\r\n",
        "for i in quantiles:\r\n",
        "    print(i*100,'% quantile of debt ratio is: ',df.DebtRatio.quantile(i))"
      ],
      "execution_count": 69,
      "outputs": [
        {
          "output_type": "stream",
          "text": [
            "75.0 % quantile of debt ratio is:  0.86825377325\n",
            "80.0 % quantile of debt ratio is:  4.0\n",
            "81.0 % quantile of debt ratio is:  14.0\n",
            "85.0 % quantile of debt ratio is:  269.1499999999942\n",
            "90.0 % quantile of debt ratio is:  1267.0\n",
            "95.0 % quantile of debt ratio is:  2449.0\n",
            "97.5 % quantile of debt ratio is:  3489.024999999994\n",
            "99.0 % quantile of debt ratio is:  4979.040000000037\n"
          ],
          "name": "stdout"
        }
      ]
    },
    {
      "cell_type": "code",
      "metadata": {
        "colab": {
          "base_uri": "https://localhost:8080/",
          "height": 277
        },
        "id": "6gtjac4CKgna",
        "outputId": "cf72f17d-68ec-44a5-d5a6-97c950bfa8dc"
      },
      "source": [
        "df[df['DebtRatio'] >= df['DebtRatio'].quantile(0.95)][['SeriousDlqin2yrs','MonthlyIncome']].describe()"
      ],
      "execution_count": 70,
      "outputs": [
        {
          "output_type": "execute_result",
          "data": {
            "text/html": [
              "<div>\n",
              "<style scoped>\n",
              "    .dataframe tbody tr th:only-of-type {\n",
              "        vertical-align: middle;\n",
              "    }\n",
              "\n",
              "    .dataframe tbody tr th {\n",
              "        vertical-align: top;\n",
              "    }\n",
              "\n",
              "    .dataframe thead th {\n",
              "        text-align: right;\n",
              "    }\n",
              "</style>\n",
              "<table border=\"1\" class=\"dataframe\">\n",
              "  <thead>\n",
              "    <tr style=\"text-align: right;\">\n",
              "      <th></th>\n",
              "      <th>SeriousDlqin2yrs</th>\n",
              "      <th>MonthlyIncome</th>\n",
              "    </tr>\n",
              "  </thead>\n",
              "  <tbody>\n",
              "    <tr>\n",
              "      <th>count</th>\n",
              "      <td>7501.000000</td>\n",
              "      <td>379.000000</td>\n",
              "    </tr>\n",
              "    <tr>\n",
              "      <th>mean</th>\n",
              "      <td>0.055193</td>\n",
              "      <td>0.084433</td>\n",
              "    </tr>\n",
              "    <tr>\n",
              "      <th>std</th>\n",
              "      <td>0.228371</td>\n",
              "      <td>0.278403</td>\n",
              "    </tr>\n",
              "    <tr>\n",
              "      <th>min</th>\n",
              "      <td>0.000000</td>\n",
              "      <td>0.000000</td>\n",
              "    </tr>\n",
              "    <tr>\n",
              "      <th>25%</th>\n",
              "      <td>0.000000</td>\n",
              "      <td>0.000000</td>\n",
              "    </tr>\n",
              "    <tr>\n",
              "      <th>50%</th>\n",
              "      <td>0.000000</td>\n",
              "      <td>0.000000</td>\n",
              "    </tr>\n",
              "    <tr>\n",
              "      <th>75%</th>\n",
              "      <td>0.000000</td>\n",
              "      <td>0.000000</td>\n",
              "    </tr>\n",
              "    <tr>\n",
              "      <th>max</th>\n",
              "      <td>1.000000</td>\n",
              "      <td>1.000000</td>\n",
              "    </tr>\n",
              "  </tbody>\n",
              "</table>\n",
              "</div>"
            ],
            "text/plain": [
              "       SeriousDlqin2yrs  MonthlyIncome\n",
              "count       7501.000000     379.000000\n",
              "mean           0.055193       0.084433\n",
              "std            0.228371       0.278403\n",
              "min            0.000000       0.000000\n",
              "25%            0.000000       0.000000\n",
              "50%            0.000000       0.000000\n",
              "75%            0.000000       0.000000\n",
              "max            1.000000       1.000000"
            ]
          },
          "metadata": {
            "tags": []
          },
          "execution_count": 70
        }
      ]
    },
    {
      "cell_type": "markdown",
      "metadata": {
        "id": "XvzbLz6DKqZY"
      },
      "source": [
        "Here we can observe:\r\n",
        "\r\n",
        "Out of 7501 customers who have debt ratio greater than 95% i.e. the number of times their debt is higher than their income, only 379 have Monthly Income values. The Max for Monthly Income is 1 and Min is 0 which makes us wonder that are data entry errors. Let's check whether the Serious Delinquency in 2 years and Monthly Income values are equal."
      ]
    },
    {
      "cell_type": "code",
      "metadata": {
        "colab": {
          "base_uri": "https://localhost:8080/",
          "height": 409
        },
        "id": "fBoZUyYtKzXG",
        "outputId": "835fc869-14fb-4260-aa6c-59af750dc6ae"
      },
      "source": [
        "df[(df[\"DebtRatio\"] > df[\"DebtRatio\"].quantile(0.95)) & (df['SeriousDlqin2yrs'] == df['MonthlyIncome'])]"
      ],
      "execution_count": 71,
      "outputs": [
        {
          "output_type": "execute_result",
          "data": {
            "text/html": [
              "<div>\n",
              "<style scoped>\n",
              "    .dataframe tbody tr th:only-of-type {\n",
              "        vertical-align: middle;\n",
              "    }\n",
              "\n",
              "    .dataframe tbody tr th {\n",
              "        vertical-align: top;\n",
              "    }\n",
              "\n",
              "    .dataframe thead th {\n",
              "        text-align: right;\n",
              "    }\n",
              "</style>\n",
              "<table border=\"1\" class=\"dataframe\">\n",
              "  <thead>\n",
              "    <tr style=\"text-align: right;\">\n",
              "      <th></th>\n",
              "      <th>Unnamed: 0</th>\n",
              "      <th>SeriousDlqin2yrs</th>\n",
              "      <th>RevolvingUtilizationOfUnsecuredLines</th>\n",
              "      <th>age</th>\n",
              "      <th>NumberOfTime30-59DaysPastDueNotWorse</th>\n",
              "      <th>DebtRatio</th>\n",
              "      <th>MonthlyIncome</th>\n",
              "      <th>NumberOfOpenCreditLinesAndLoans</th>\n",
              "      <th>NumberOfTimes90DaysLate</th>\n",
              "      <th>NumberRealEstateLoansOrLines</th>\n",
              "      <th>NumberOfTime60-89DaysPastDueNotWorse</th>\n",
              "      <th>NumberOfDependents</th>\n",
              "    </tr>\n",
              "  </thead>\n",
              "  <tbody>\n",
              "    <tr>\n",
              "      <th>50</th>\n",
              "      <td>51</td>\n",
              "      <td>0</td>\n",
              "      <td>0.818978</td>\n",
              "      <td>73</td>\n",
              "      <td>0</td>\n",
              "      <td>3095.0</td>\n",
              "      <td>0.0</td>\n",
              "      <td>9</td>\n",
              "      <td>0</td>\n",
              "      <td>1</td>\n",
              "      <td>1</td>\n",
              "      <td>0.0</td>\n",
              "    </tr>\n",
              "    <tr>\n",
              "      <th>73</th>\n",
              "      <td>74</td>\n",
              "      <td>0</td>\n",
              "      <td>0.059669</td>\n",
              "      <td>31</td>\n",
              "      <td>0</td>\n",
              "      <td>3162.0</td>\n",
              "      <td>0.0</td>\n",
              "      <td>11</td>\n",
              "      <td>0</td>\n",
              "      <td>2</td>\n",
              "      <td>0</td>\n",
              "      <td>1.0</td>\n",
              "    </tr>\n",
              "    <tr>\n",
              "      <th>90</th>\n",
              "      <td>91</td>\n",
              "      <td>0</td>\n",
              "      <td>0.039388</td>\n",
              "      <td>51</td>\n",
              "      <td>0</td>\n",
              "      <td>15466.0</td>\n",
              "      <td>0.0</td>\n",
              "      <td>7</td>\n",
              "      <td>0</td>\n",
              "      <td>0</td>\n",
              "      <td>0</td>\n",
              "      <td>0.0</td>\n",
              "    </tr>\n",
              "    <tr>\n",
              "      <th>326</th>\n",
              "      <td>327</td>\n",
              "      <td>0</td>\n",
              "      <td>0.013115</td>\n",
              "      <td>43</td>\n",
              "      <td>0</td>\n",
              "      <td>4211.0</td>\n",
              "      <td>0.0</td>\n",
              "      <td>21</td>\n",
              "      <td>0</td>\n",
              "      <td>2</td>\n",
              "      <td>0</td>\n",
              "      <td>2.0</td>\n",
              "    </tr>\n",
              "    <tr>\n",
              "      <th>508</th>\n",
              "      <td>509</td>\n",
              "      <td>0</td>\n",
              "      <td>1.000000</td>\n",
              "      <td>73</td>\n",
              "      <td>0</td>\n",
              "      <td>8500.0</td>\n",
              "      <td>0.0</td>\n",
              "      <td>2</td>\n",
              "      <td>0</td>\n",
              "      <td>0</td>\n",
              "      <td>0</td>\n",
              "      <td>0.0</td>\n",
              "    </tr>\n",
              "    <tr>\n",
              "      <th>...</th>\n",
              "      <td>...</td>\n",
              "      <td>...</td>\n",
              "      <td>...</td>\n",
              "      <td>...</td>\n",
              "      <td>...</td>\n",
              "      <td>...</td>\n",
              "      <td>...</td>\n",
              "      <td>...</td>\n",
              "      <td>...</td>\n",
              "      <td>...</td>\n",
              "      <td>...</td>\n",
              "      <td>...</td>\n",
              "    </tr>\n",
              "    <tr>\n",
              "      <th>147523</th>\n",
              "      <td>147524</td>\n",
              "      <td>0</td>\n",
              "      <td>0.666509</td>\n",
              "      <td>50</td>\n",
              "      <td>0</td>\n",
              "      <td>4351.0</td>\n",
              "      <td>0.0</td>\n",
              "      <td>12</td>\n",
              "      <td>0</td>\n",
              "      <td>2</td>\n",
              "      <td>0</td>\n",
              "      <td>2.0</td>\n",
              "    </tr>\n",
              "    <tr>\n",
              "      <th>148258</th>\n",
              "      <td>148259</td>\n",
              "      <td>0</td>\n",
              "      <td>0.211955</td>\n",
              "      <td>31</td>\n",
              "      <td>0</td>\n",
              "      <td>2734.0</td>\n",
              "      <td>0.0</td>\n",
              "      <td>9</td>\n",
              "      <td>0</td>\n",
              "      <td>1</td>\n",
              "      <td>0</td>\n",
              "      <td>1.0</td>\n",
              "    </tr>\n",
              "    <tr>\n",
              "      <th>148432</th>\n",
              "      <td>148433</td>\n",
              "      <td>0</td>\n",
              "      <td>0.091785</td>\n",
              "      <td>37</td>\n",
              "      <td>0</td>\n",
              "      <td>2752.0</td>\n",
              "      <td>0.0</td>\n",
              "      <td>7</td>\n",
              "      <td>0</td>\n",
              "      <td>2</td>\n",
              "      <td>0</td>\n",
              "      <td>3.0</td>\n",
              "    </tr>\n",
              "    <tr>\n",
              "      <th>149383</th>\n",
              "      <td>149384</td>\n",
              "      <td>0</td>\n",
              "      <td>0.239302</td>\n",
              "      <td>63</td>\n",
              "      <td>0</td>\n",
              "      <td>3153.0</td>\n",
              "      <td>0.0</td>\n",
              "      <td>29</td>\n",
              "      <td>0</td>\n",
              "      <td>1</td>\n",
              "      <td>0</td>\n",
              "      <td>0.0</td>\n",
              "    </tr>\n",
              "    <tr>\n",
              "      <th>149673</th>\n",
              "      <td>149674</td>\n",
              "      <td>0</td>\n",
              "      <td>0.132362</td>\n",
              "      <td>82</td>\n",
              "      <td>0</td>\n",
              "      <td>4123.0</td>\n",
              "      <td>0.0</td>\n",
              "      <td>14</td>\n",
              "      <td>0</td>\n",
              "      <td>2</td>\n",
              "      <td>0</td>\n",
              "      <td>0.0</td>\n",
              "    </tr>\n",
              "  </tbody>\n",
              "</table>\n",
              "<p>331 rows × 12 columns</p>\n",
              "</div>"
            ],
            "text/plain": [
              "        Unnamed: 0  ...  NumberOfDependents\n",
              "50              51  ...                 0.0\n",
              "73              74  ...                 1.0\n",
              "90              91  ...                 0.0\n",
              "326            327  ...                 2.0\n",
              "508            509  ...                 0.0\n",
              "...            ...  ...                 ...\n",
              "147523      147524  ...                 2.0\n",
              "148258      148259  ...                 1.0\n",
              "148432      148433  ...                 3.0\n",
              "149383      149384  ...                 0.0\n",
              "149673      149674  ...                 0.0\n",
              "\n",
              "[331 rows x 12 columns]"
            ]
          },
          "metadata": {
            "tags": []
          },
          "execution_count": 71
        }
      ]
    },
    {
      "cell_type": "markdown",
      "metadata": {
        "id": "KohwMt_sK90p"
      },
      "source": [
        "Hence, our suspects are true and there are 331 out of 379 rows where Monthly Income is equal to the Serious Delinquencies in 2 years. Hence we will remove these 331 outliers from our analysis as their current values aren't useful for our predictive modelling and will add to the bias and variance.\r\n",
        "\r\n",
        "The reason behind this, is we have 331 rows where the debt ratio is massive compared to the customer's income and they arent't scrutinized for defaulting which is nothing but a data entry error."
      ]
    },
    {
      "cell_type": "code",
      "metadata": {
        "colab": {
          "base_uri": "https://localhost:8080/",
          "height": 409
        },
        "id": "8ot359WfLJ0Z",
        "outputId": "38966c6d-b408-4579-da2e-39623b1bdab1"
      },
      "source": [
        "df = df[-((df[\"DebtRatio\"] > df[\"DebtRatio\"].quantile(0.95)) & (df['SeriousDlqin2yrs'] == df['MonthlyIncome']))]\r\n",
        "df"
      ],
      "execution_count": 72,
      "outputs": [
        {
          "output_type": "execute_result",
          "data": {
            "text/html": [
              "<div>\n",
              "<style scoped>\n",
              "    .dataframe tbody tr th:only-of-type {\n",
              "        vertical-align: middle;\n",
              "    }\n",
              "\n",
              "    .dataframe tbody tr th {\n",
              "        vertical-align: top;\n",
              "    }\n",
              "\n",
              "    .dataframe thead th {\n",
              "        text-align: right;\n",
              "    }\n",
              "</style>\n",
              "<table border=\"1\" class=\"dataframe\">\n",
              "  <thead>\n",
              "    <tr style=\"text-align: right;\">\n",
              "      <th></th>\n",
              "      <th>Unnamed: 0</th>\n",
              "      <th>SeriousDlqin2yrs</th>\n",
              "      <th>RevolvingUtilizationOfUnsecuredLines</th>\n",
              "      <th>age</th>\n",
              "      <th>NumberOfTime30-59DaysPastDueNotWorse</th>\n",
              "      <th>DebtRatio</th>\n",
              "      <th>MonthlyIncome</th>\n",
              "      <th>NumberOfOpenCreditLinesAndLoans</th>\n",
              "      <th>NumberOfTimes90DaysLate</th>\n",
              "      <th>NumberRealEstateLoansOrLines</th>\n",
              "      <th>NumberOfTime60-89DaysPastDueNotWorse</th>\n",
              "      <th>NumberOfDependents</th>\n",
              "    </tr>\n",
              "  </thead>\n",
              "  <tbody>\n",
              "    <tr>\n",
              "      <th>0</th>\n",
              "      <td>1</td>\n",
              "      <td>1</td>\n",
              "      <td>0.766127</td>\n",
              "      <td>45</td>\n",
              "      <td>2</td>\n",
              "      <td>0.802982</td>\n",
              "      <td>9120.0</td>\n",
              "      <td>13</td>\n",
              "      <td>0</td>\n",
              "      <td>6</td>\n",
              "      <td>0</td>\n",
              "      <td>2.0</td>\n",
              "    </tr>\n",
              "    <tr>\n",
              "      <th>1</th>\n",
              "      <td>2</td>\n",
              "      <td>0</td>\n",
              "      <td>0.957151</td>\n",
              "      <td>40</td>\n",
              "      <td>0</td>\n",
              "      <td>0.121876</td>\n",
              "      <td>2600.0</td>\n",
              "      <td>4</td>\n",
              "      <td>0</td>\n",
              "      <td>0</td>\n",
              "      <td>0</td>\n",
              "      <td>1.0</td>\n",
              "    </tr>\n",
              "    <tr>\n",
              "      <th>2</th>\n",
              "      <td>3</td>\n",
              "      <td>0</td>\n",
              "      <td>0.658180</td>\n",
              "      <td>38</td>\n",
              "      <td>1</td>\n",
              "      <td>0.085113</td>\n",
              "      <td>3042.0</td>\n",
              "      <td>2</td>\n",
              "      <td>1</td>\n",
              "      <td>0</td>\n",
              "      <td>0</td>\n",
              "      <td>0.0</td>\n",
              "    </tr>\n",
              "    <tr>\n",
              "      <th>3</th>\n",
              "      <td>4</td>\n",
              "      <td>0</td>\n",
              "      <td>0.233810</td>\n",
              "      <td>30</td>\n",
              "      <td>0</td>\n",
              "      <td>0.036050</td>\n",
              "      <td>3300.0</td>\n",
              "      <td>5</td>\n",
              "      <td>0</td>\n",
              "      <td>0</td>\n",
              "      <td>0</td>\n",
              "      <td>0.0</td>\n",
              "    </tr>\n",
              "    <tr>\n",
              "      <th>4</th>\n",
              "      <td>5</td>\n",
              "      <td>0</td>\n",
              "      <td>0.907239</td>\n",
              "      <td>49</td>\n",
              "      <td>1</td>\n",
              "      <td>0.024926</td>\n",
              "      <td>63588.0</td>\n",
              "      <td>7</td>\n",
              "      <td>0</td>\n",
              "      <td>1</td>\n",
              "      <td>0</td>\n",
              "      <td>0.0</td>\n",
              "    </tr>\n",
              "    <tr>\n",
              "      <th>...</th>\n",
              "      <td>...</td>\n",
              "      <td>...</td>\n",
              "      <td>...</td>\n",
              "      <td>...</td>\n",
              "      <td>...</td>\n",
              "      <td>...</td>\n",
              "      <td>...</td>\n",
              "      <td>...</td>\n",
              "      <td>...</td>\n",
              "      <td>...</td>\n",
              "      <td>...</td>\n",
              "      <td>...</td>\n",
              "    </tr>\n",
              "    <tr>\n",
              "      <th>149995</th>\n",
              "      <td>149996</td>\n",
              "      <td>0</td>\n",
              "      <td>0.040674</td>\n",
              "      <td>74</td>\n",
              "      <td>0</td>\n",
              "      <td>0.225131</td>\n",
              "      <td>2100.0</td>\n",
              "      <td>4</td>\n",
              "      <td>0</td>\n",
              "      <td>1</td>\n",
              "      <td>0</td>\n",
              "      <td>0.0</td>\n",
              "    </tr>\n",
              "    <tr>\n",
              "      <th>149996</th>\n",
              "      <td>149997</td>\n",
              "      <td>0</td>\n",
              "      <td>0.299745</td>\n",
              "      <td>44</td>\n",
              "      <td>0</td>\n",
              "      <td>0.716562</td>\n",
              "      <td>5584.0</td>\n",
              "      <td>4</td>\n",
              "      <td>0</td>\n",
              "      <td>1</td>\n",
              "      <td>0</td>\n",
              "      <td>2.0</td>\n",
              "    </tr>\n",
              "    <tr>\n",
              "      <th>149997</th>\n",
              "      <td>149998</td>\n",
              "      <td>0</td>\n",
              "      <td>0.246044</td>\n",
              "      <td>58</td>\n",
              "      <td>0</td>\n",
              "      <td>3870.000000</td>\n",
              "      <td>NaN</td>\n",
              "      <td>18</td>\n",
              "      <td>0</td>\n",
              "      <td>1</td>\n",
              "      <td>0</td>\n",
              "      <td>0.0</td>\n",
              "    </tr>\n",
              "    <tr>\n",
              "      <th>149998</th>\n",
              "      <td>149999</td>\n",
              "      <td>0</td>\n",
              "      <td>0.000000</td>\n",
              "      <td>30</td>\n",
              "      <td>0</td>\n",
              "      <td>0.000000</td>\n",
              "      <td>5716.0</td>\n",
              "      <td>4</td>\n",
              "      <td>0</td>\n",
              "      <td>0</td>\n",
              "      <td>0</td>\n",
              "      <td>0.0</td>\n",
              "    </tr>\n",
              "    <tr>\n",
              "      <th>149999</th>\n",
              "      <td>150000</td>\n",
              "      <td>0</td>\n",
              "      <td>0.850283</td>\n",
              "      <td>64</td>\n",
              "      <td>0</td>\n",
              "      <td>0.249908</td>\n",
              "      <td>8158.0</td>\n",
              "      <td>8</td>\n",
              "      <td>0</td>\n",
              "      <td>2</td>\n",
              "      <td>0</td>\n",
              "      <td>0.0</td>\n",
              "    </tr>\n",
              "  </tbody>\n",
              "</table>\n",
              "<p>149669 rows × 12 columns</p>\n",
              "</div>"
            ],
            "text/plain": [
              "        Unnamed: 0  ...  NumberOfDependents\n",
              "0                1  ...                 2.0\n",
              "1                2  ...                 1.0\n",
              "2                3  ...                 0.0\n",
              "3                4  ...                 0.0\n",
              "4                5  ...                 0.0\n",
              "...            ...  ...                 ...\n",
              "149995      149996  ...                 0.0\n",
              "149996      149997  ...                 2.0\n",
              "149997      149998  ...                 0.0\n",
              "149998      149999  ...                 0.0\n",
              "149999      150000  ...                 0.0\n",
              "\n",
              "[149669 rows x 12 columns]"
            ]
          },
          "metadata": {
            "tags": []
          },
          "execution_count": 72
        }
      ]
    },
    {
      "cell_type": "markdown",
      "metadata": {
        "id": "fzw7gwNxLeN6"
      },
      "source": [
        "Now obtain training set with 149,669 rows with 12 features\r\n",
        "\r\n",
        "Next, checking for Revolving Utilization of Unsecured Lines. This field basically represents the ratio of the amount owed by the credit limit of a customer. A ratio higher than 1 is considered to be a serious defaulter. A Ratio of 10 functionally also seems possible, let's see how many of these customers have the Revolving Utilization of Unsecured Lines greater than 10."
      ]
    },
    {
      "cell_type": "code",
      "metadata": {
        "colab": {
          "base_uri": "https://localhost:8080/",
          "height": 294
        },
        "id": "Vykc7ZoDLoFp",
        "outputId": "6a9b9a79-c563-47cf-a0fa-068d6f0822a1"
      },
      "source": [
        "df[df['RevolvingUtilizationOfUnsecuredLines']>10].describe()"
      ],
      "execution_count": 73,
      "outputs": [
        {
          "output_type": "execute_result",
          "data": {
            "text/html": [
              "<div>\n",
              "<style scoped>\n",
              "    .dataframe tbody tr th:only-of-type {\n",
              "        vertical-align: middle;\n",
              "    }\n",
              "\n",
              "    .dataframe tbody tr th {\n",
              "        vertical-align: top;\n",
              "    }\n",
              "\n",
              "    .dataframe thead th {\n",
              "        text-align: right;\n",
              "    }\n",
              "</style>\n",
              "<table border=\"1\" class=\"dataframe\">\n",
              "  <thead>\n",
              "    <tr style=\"text-align: right;\">\n",
              "      <th></th>\n",
              "      <th>Unnamed: 0</th>\n",
              "      <th>SeriousDlqin2yrs</th>\n",
              "      <th>RevolvingUtilizationOfUnsecuredLines</th>\n",
              "      <th>age</th>\n",
              "      <th>NumberOfTime30-59DaysPastDueNotWorse</th>\n",
              "      <th>DebtRatio</th>\n",
              "      <th>MonthlyIncome</th>\n",
              "      <th>NumberOfOpenCreditLinesAndLoans</th>\n",
              "      <th>NumberOfTimes90DaysLate</th>\n",
              "      <th>NumberRealEstateLoansOrLines</th>\n",
              "      <th>NumberOfTime60-89DaysPastDueNotWorse</th>\n",
              "      <th>NumberOfDependents</th>\n",
              "    </tr>\n",
              "  </thead>\n",
              "  <tbody>\n",
              "    <tr>\n",
              "      <th>count</th>\n",
              "      <td>241.000000</td>\n",
              "      <td>241.000000</td>\n",
              "      <td>241.000000</td>\n",
              "      <td>241.000000</td>\n",
              "      <td>241.000000</td>\n",
              "      <td>241.000000</td>\n",
              "      <td>173.00000</td>\n",
              "      <td>241.000000</td>\n",
              "      <td>241.000000</td>\n",
              "      <td>241.000000</td>\n",
              "      <td>241.000000</td>\n",
              "      <td>228.000000</td>\n",
              "    </tr>\n",
              "    <tr>\n",
              "      <th>mean</th>\n",
              "      <td>77655.004149</td>\n",
              "      <td>0.070539</td>\n",
              "      <td>3564.023932</td>\n",
              "      <td>50.630705</td>\n",
              "      <td>0.186722</td>\n",
              "      <td>571.918644</td>\n",
              "      <td>8467.67052</td>\n",
              "      <td>5.763485</td>\n",
              "      <td>0.074689</td>\n",
              "      <td>1.186722</td>\n",
              "      <td>0.087137</td>\n",
              "      <td>0.688596</td>\n",
              "    </tr>\n",
              "    <tr>\n",
              "      <th>std</th>\n",
              "      <td>41010.846073</td>\n",
              "      <td>0.256587</td>\n",
              "      <td>5123.802683</td>\n",
              "      <td>14.565389</td>\n",
              "      <td>0.579502</td>\n",
              "      <td>1772.948412</td>\n",
              "      <td>6564.06825</td>\n",
              "      <td>3.114160</td>\n",
              "      <td>0.579711</td>\n",
              "      <td>1.065750</td>\n",
              "      <td>0.559651</td>\n",
              "      <td>1.038659</td>\n",
              "    </tr>\n",
              "    <tr>\n",
              "      <th>min</th>\n",
              "      <td>294.000000</td>\n",
              "      <td>0.000000</td>\n",
              "      <td>11.385230</td>\n",
              "      <td>24.000000</td>\n",
              "      <td>0.000000</td>\n",
              "      <td>0.000800</td>\n",
              "      <td>0.00000</td>\n",
              "      <td>1.000000</td>\n",
              "      <td>0.000000</td>\n",
              "      <td>0.000000</td>\n",
              "      <td>0.000000</td>\n",
              "      <td>0.000000</td>\n",
              "    </tr>\n",
              "    <tr>\n",
              "      <th>25%</th>\n",
              "      <td>44564.000000</td>\n",
              "      <td>0.000000</td>\n",
              "      <td>941.000000</td>\n",
              "      <td>39.000000</td>\n",
              "      <td>0.000000</td>\n",
              "      <td>0.217813</td>\n",
              "      <td>4500.00000</td>\n",
              "      <td>4.000000</td>\n",
              "      <td>0.000000</td>\n",
              "      <td>0.000000</td>\n",
              "      <td>0.000000</td>\n",
              "      <td>0.000000</td>\n",
              "    </tr>\n",
              "    <tr>\n",
              "      <th>50%</th>\n",
              "      <td>80200.000000</td>\n",
              "      <td>0.000000</td>\n",
              "      <td>2012.000000</td>\n",
              "      <td>48.000000</td>\n",
              "      <td>0.000000</td>\n",
              "      <td>0.402560</td>\n",
              "      <td>7000.00000</td>\n",
              "      <td>5.000000</td>\n",
              "      <td>0.000000</td>\n",
              "      <td>1.000000</td>\n",
              "      <td>0.000000</td>\n",
              "      <td>0.000000</td>\n",
              "    </tr>\n",
              "    <tr>\n",
              "      <th>75%</th>\n",
              "      <td>111663.000000</td>\n",
              "      <td>0.000000</td>\n",
              "      <td>4116.000000</td>\n",
              "      <td>62.000000</td>\n",
              "      <td>0.000000</td>\n",
              "      <td>59.000000</td>\n",
              "      <td>10091.00000</td>\n",
              "      <td>7.000000</td>\n",
              "      <td>0.000000</td>\n",
              "      <td>2.000000</td>\n",
              "      <td>0.000000</td>\n",
              "      <td>1.000000</td>\n",
              "    </tr>\n",
              "    <tr>\n",
              "      <th>max</th>\n",
              "      <td>149280.000000</td>\n",
              "      <td>1.000000</td>\n",
              "      <td>50708.000000</td>\n",
              "      <td>87.000000</td>\n",
              "      <td>3.000000</td>\n",
              "      <td>21395.000000</td>\n",
              "      <td>44472.00000</td>\n",
              "      <td>21.000000</td>\n",
              "      <td>8.000000</td>\n",
              "      <td>9.000000</td>\n",
              "      <td>7.000000</td>\n",
              "      <td>4.000000</td>\n",
              "    </tr>\n",
              "  </tbody>\n",
              "</table>\n",
              "</div>"
            ],
            "text/plain": [
              "          Unnamed: 0  ...  NumberOfDependents\n",
              "count     241.000000  ...          228.000000\n",
              "mean    77655.004149  ...            0.688596\n",
              "std     41010.846073  ...            1.038659\n",
              "min       294.000000  ...            0.000000\n",
              "25%     44564.000000  ...            0.000000\n",
              "50%     80200.000000  ...            0.000000\n",
              "75%    111663.000000  ...            1.000000\n",
              "max    149280.000000  ...            4.000000\n",
              "\n",
              "[8 rows x 12 columns]"
            ]
          },
          "metadata": {
            "tags": []
          },
          "execution_count": 73
        }
      ]
    },
    {
      "cell_type": "markdown",
      "metadata": {
        "id": "4rfwHh0-LwYh"
      },
      "source": [
        "Here the difference between the 50th and 75 quantile for Revolving Utilization of Unsecured Lines, you'll observe that there is a massive increase from 13 to 1891.25. Since 13 seems like a reasonable ratio too (but way too high), let's check how many of these counts lie above 13."
      ]
    },
    {
      "cell_type": "code",
      "metadata": {
        "colab": {
          "base_uri": "https://localhost:8080/",
          "height": 294
        },
        "id": "c5Qq8G2GLkml",
        "outputId": "8fc07abc-bb4b-4e63-bf67-e54cb4552356"
      },
      "source": [
        "df[df['RevolvingUtilizationOfUnsecuredLines']>13].describe()"
      ],
      "execution_count": 74,
      "outputs": [
        {
          "output_type": "execute_result",
          "data": {
            "text/html": [
              "<div>\n",
              "<style scoped>\n",
              "    .dataframe tbody tr th:only-of-type {\n",
              "        vertical-align: middle;\n",
              "    }\n",
              "\n",
              "    .dataframe tbody tr th {\n",
              "        vertical-align: top;\n",
              "    }\n",
              "\n",
              "    .dataframe thead th {\n",
              "        text-align: right;\n",
              "    }\n",
              "</style>\n",
              "<table border=\"1\" class=\"dataframe\">\n",
              "  <thead>\n",
              "    <tr style=\"text-align: right;\">\n",
              "      <th></th>\n",
              "      <th>Unnamed: 0</th>\n",
              "      <th>SeriousDlqin2yrs</th>\n",
              "      <th>RevolvingUtilizationOfUnsecuredLines</th>\n",
              "      <th>age</th>\n",
              "      <th>NumberOfTime30-59DaysPastDueNotWorse</th>\n",
              "      <th>DebtRatio</th>\n",
              "      <th>MonthlyIncome</th>\n",
              "      <th>NumberOfOpenCreditLinesAndLoans</th>\n",
              "      <th>NumberOfTimes90DaysLate</th>\n",
              "      <th>NumberRealEstateLoansOrLines</th>\n",
              "      <th>NumberOfTime60-89DaysPastDueNotWorse</th>\n",
              "      <th>NumberOfDependents</th>\n",
              "    </tr>\n",
              "  </thead>\n",
              "  <tbody>\n",
              "    <tr>\n",
              "      <th>count</th>\n",
              "      <td>238.000000</td>\n",
              "      <td>238.000000</td>\n",
              "      <td>238.000000</td>\n",
              "      <td>238.000000</td>\n",
              "      <td>238.000000</td>\n",
              "      <td>238.000000</td>\n",
              "      <td>170.000000</td>\n",
              "      <td>238.000000</td>\n",
              "      <td>238.000000</td>\n",
              "      <td>238.000000</td>\n",
              "      <td>238.000000</td>\n",
              "      <td>225.000000</td>\n",
              "    </tr>\n",
              "    <tr>\n",
              "      <th>mean</th>\n",
              "      <td>77950.247899</td>\n",
              "      <td>0.058824</td>\n",
              "      <td>3608.797826</td>\n",
              "      <td>50.634454</td>\n",
              "      <td>0.163866</td>\n",
              "      <td>579.117900</td>\n",
              "      <td>8520.041176</td>\n",
              "      <td>5.689076</td>\n",
              "      <td>0.071429</td>\n",
              "      <td>1.176471</td>\n",
              "      <td>0.071429</td>\n",
              "      <td>0.693333</td>\n",
              "    </tr>\n",
              "    <tr>\n",
              "      <th>std</th>\n",
              "      <td>41142.971117</td>\n",
              "      <td>0.235790</td>\n",
              "      <td>5140.423232</td>\n",
              "      <td>14.617658</td>\n",
              "      <td>0.522123</td>\n",
              "      <td>1782.962163</td>\n",
              "      <td>6606.889618</td>\n",
              "      <td>3.032170</td>\n",
              "      <td>0.580214</td>\n",
              "      <td>1.064558</td>\n",
              "      <td>0.542637</td>\n",
              "      <td>1.043346</td>\n",
              "    </tr>\n",
              "    <tr>\n",
              "      <th>min</th>\n",
              "      <td>294.000000</td>\n",
              "      <td>0.000000</td>\n",
              "      <td>14.000000</td>\n",
              "      <td>24.000000</td>\n",
              "      <td>0.000000</td>\n",
              "      <td>0.000800</td>\n",
              "      <td>0.000000</td>\n",
              "      <td>1.000000</td>\n",
              "      <td>0.000000</td>\n",
              "      <td>0.000000</td>\n",
              "      <td>0.000000</td>\n",
              "      <td>0.000000</td>\n",
              "    </tr>\n",
              "    <tr>\n",
              "      <th>25%</th>\n",
              "      <td>44574.250000</td>\n",
              "      <td>0.000000</td>\n",
              "      <td>951.000000</td>\n",
              "      <td>39.000000</td>\n",
              "      <td>0.000000</td>\n",
              "      <td>0.216587</td>\n",
              "      <td>4608.000000</td>\n",
              "      <td>4.000000</td>\n",
              "      <td>0.000000</td>\n",
              "      <td>0.000000</td>\n",
              "      <td>0.000000</td>\n",
              "      <td>0.000000</td>\n",
              "    </tr>\n",
              "    <tr>\n",
              "      <th>50%</th>\n",
              "      <td>82507.500000</td>\n",
              "      <td>0.000000</td>\n",
              "      <td>2023.500000</td>\n",
              "      <td>48.000000</td>\n",
              "      <td>0.000000</td>\n",
              "      <td>0.391176</td>\n",
              "      <td>7000.000000</td>\n",
              "      <td>5.000000</td>\n",
              "      <td>0.000000</td>\n",
              "      <td>1.000000</td>\n",
              "      <td>0.000000</td>\n",
              "      <td>0.000000</td>\n",
              "    </tr>\n",
              "    <tr>\n",
              "      <th>75%</th>\n",
              "      <td>112796.250000</td>\n",
              "      <td>0.000000</td>\n",
              "      <td>4128.750000</td>\n",
              "      <td>62.000000</td>\n",
              "      <td>0.000000</td>\n",
              "      <td>82.250000</td>\n",
              "      <td>10178.750000</td>\n",
              "      <td>7.000000</td>\n",
              "      <td>0.000000</td>\n",
              "      <td>2.000000</td>\n",
              "      <td>0.000000</td>\n",
              "      <td>1.000000</td>\n",
              "    </tr>\n",
              "    <tr>\n",
              "      <th>max</th>\n",
              "      <td>149280.000000</td>\n",
              "      <td>1.000000</td>\n",
              "      <td>50708.000000</td>\n",
              "      <td>87.000000</td>\n",
              "      <td>3.000000</td>\n",
              "      <td>21395.000000</td>\n",
              "      <td>44472.000000</td>\n",
              "      <td>21.000000</td>\n",
              "      <td>8.000000</td>\n",
              "      <td>9.000000</td>\n",
              "      <td>7.000000</td>\n",
              "      <td>4.000000</td>\n",
              "    </tr>\n",
              "  </tbody>\n",
              "</table>\n",
              "</div>"
            ],
            "text/plain": [
              "          Unnamed: 0  ...  NumberOfDependents\n",
              "count     238.000000  ...          225.000000\n",
              "mean    77950.247899  ...            0.693333\n",
              "std     41142.971117  ...            1.043346\n",
              "min       294.000000  ...            0.000000\n",
              "25%     44574.250000  ...            0.000000\n",
              "50%     82507.500000  ...            0.000000\n",
              "75%    112796.250000  ...            1.000000\n",
              "max    149280.000000  ...            4.000000\n",
              "\n",
              "[8 rows x 12 columns]"
            ]
          },
          "metadata": {
            "tags": []
          },
          "execution_count": 74
        }
      ]
    },
    {
      "cell_type": "markdown",
      "metadata": {
        "id": "6prE0v4tMH9p"
      },
      "source": [
        "Despite owing thousands, these 238 people do not show any default which means this might be another error. Even if it is not an error, these numbers will add huge bias and variance to our final predictions. Therefore, the best decision is to remove these values."
      ]
    },
    {
      "cell_type": "code",
      "metadata": {
        "colab": {
          "base_uri": "https://localhost:8080/",
          "height": 409
        },
        "id": "9saHtGFnMMs2",
        "outputId": "a7b4bcd4-ed0f-454d-aae8-6fcd8b6bb5b4"
      },
      "source": [
        "df = df[df['RevolvingUtilizationOfUnsecuredLines']<=13]\r\n",
        "df"
      ],
      "execution_count": 75,
      "outputs": [
        {
          "output_type": "execute_result",
          "data": {
            "text/html": [
              "<div>\n",
              "<style scoped>\n",
              "    .dataframe tbody tr th:only-of-type {\n",
              "        vertical-align: middle;\n",
              "    }\n",
              "\n",
              "    .dataframe tbody tr th {\n",
              "        vertical-align: top;\n",
              "    }\n",
              "\n",
              "    .dataframe thead th {\n",
              "        text-align: right;\n",
              "    }\n",
              "</style>\n",
              "<table border=\"1\" class=\"dataframe\">\n",
              "  <thead>\n",
              "    <tr style=\"text-align: right;\">\n",
              "      <th></th>\n",
              "      <th>Unnamed: 0</th>\n",
              "      <th>SeriousDlqin2yrs</th>\n",
              "      <th>RevolvingUtilizationOfUnsecuredLines</th>\n",
              "      <th>age</th>\n",
              "      <th>NumberOfTime30-59DaysPastDueNotWorse</th>\n",
              "      <th>DebtRatio</th>\n",
              "      <th>MonthlyIncome</th>\n",
              "      <th>NumberOfOpenCreditLinesAndLoans</th>\n",
              "      <th>NumberOfTimes90DaysLate</th>\n",
              "      <th>NumberRealEstateLoansOrLines</th>\n",
              "      <th>NumberOfTime60-89DaysPastDueNotWorse</th>\n",
              "      <th>NumberOfDependents</th>\n",
              "    </tr>\n",
              "  </thead>\n",
              "  <tbody>\n",
              "    <tr>\n",
              "      <th>0</th>\n",
              "      <td>1</td>\n",
              "      <td>1</td>\n",
              "      <td>0.766127</td>\n",
              "      <td>45</td>\n",
              "      <td>2</td>\n",
              "      <td>0.802982</td>\n",
              "      <td>9120.0</td>\n",
              "      <td>13</td>\n",
              "      <td>0</td>\n",
              "      <td>6</td>\n",
              "      <td>0</td>\n",
              "      <td>2.0</td>\n",
              "    </tr>\n",
              "    <tr>\n",
              "      <th>1</th>\n",
              "      <td>2</td>\n",
              "      <td>0</td>\n",
              "      <td>0.957151</td>\n",
              "      <td>40</td>\n",
              "      <td>0</td>\n",
              "      <td>0.121876</td>\n",
              "      <td>2600.0</td>\n",
              "      <td>4</td>\n",
              "      <td>0</td>\n",
              "      <td>0</td>\n",
              "      <td>0</td>\n",
              "      <td>1.0</td>\n",
              "    </tr>\n",
              "    <tr>\n",
              "      <th>2</th>\n",
              "      <td>3</td>\n",
              "      <td>0</td>\n",
              "      <td>0.658180</td>\n",
              "      <td>38</td>\n",
              "      <td>1</td>\n",
              "      <td>0.085113</td>\n",
              "      <td>3042.0</td>\n",
              "      <td>2</td>\n",
              "      <td>1</td>\n",
              "      <td>0</td>\n",
              "      <td>0</td>\n",
              "      <td>0.0</td>\n",
              "    </tr>\n",
              "    <tr>\n",
              "      <th>3</th>\n",
              "      <td>4</td>\n",
              "      <td>0</td>\n",
              "      <td>0.233810</td>\n",
              "      <td>30</td>\n",
              "      <td>0</td>\n",
              "      <td>0.036050</td>\n",
              "      <td>3300.0</td>\n",
              "      <td>5</td>\n",
              "      <td>0</td>\n",
              "      <td>0</td>\n",
              "      <td>0</td>\n",
              "      <td>0.0</td>\n",
              "    </tr>\n",
              "    <tr>\n",
              "      <th>4</th>\n",
              "      <td>5</td>\n",
              "      <td>0</td>\n",
              "      <td>0.907239</td>\n",
              "      <td>49</td>\n",
              "      <td>1</td>\n",
              "      <td>0.024926</td>\n",
              "      <td>63588.0</td>\n",
              "      <td>7</td>\n",
              "      <td>0</td>\n",
              "      <td>1</td>\n",
              "      <td>0</td>\n",
              "      <td>0.0</td>\n",
              "    </tr>\n",
              "    <tr>\n",
              "      <th>...</th>\n",
              "      <td>...</td>\n",
              "      <td>...</td>\n",
              "      <td>...</td>\n",
              "      <td>...</td>\n",
              "      <td>...</td>\n",
              "      <td>...</td>\n",
              "      <td>...</td>\n",
              "      <td>...</td>\n",
              "      <td>...</td>\n",
              "      <td>...</td>\n",
              "      <td>...</td>\n",
              "      <td>...</td>\n",
              "    </tr>\n",
              "    <tr>\n",
              "      <th>149995</th>\n",
              "      <td>149996</td>\n",
              "      <td>0</td>\n",
              "      <td>0.040674</td>\n",
              "      <td>74</td>\n",
              "      <td>0</td>\n",
              "      <td>0.225131</td>\n",
              "      <td>2100.0</td>\n",
              "      <td>4</td>\n",
              "      <td>0</td>\n",
              "      <td>1</td>\n",
              "      <td>0</td>\n",
              "      <td>0.0</td>\n",
              "    </tr>\n",
              "    <tr>\n",
              "      <th>149996</th>\n",
              "      <td>149997</td>\n",
              "      <td>0</td>\n",
              "      <td>0.299745</td>\n",
              "      <td>44</td>\n",
              "      <td>0</td>\n",
              "      <td>0.716562</td>\n",
              "      <td>5584.0</td>\n",
              "      <td>4</td>\n",
              "      <td>0</td>\n",
              "      <td>1</td>\n",
              "      <td>0</td>\n",
              "      <td>2.0</td>\n",
              "    </tr>\n",
              "    <tr>\n",
              "      <th>149997</th>\n",
              "      <td>149998</td>\n",
              "      <td>0</td>\n",
              "      <td>0.246044</td>\n",
              "      <td>58</td>\n",
              "      <td>0</td>\n",
              "      <td>3870.000000</td>\n",
              "      <td>NaN</td>\n",
              "      <td>18</td>\n",
              "      <td>0</td>\n",
              "      <td>1</td>\n",
              "      <td>0</td>\n",
              "      <td>0.0</td>\n",
              "    </tr>\n",
              "    <tr>\n",
              "      <th>149998</th>\n",
              "      <td>149999</td>\n",
              "      <td>0</td>\n",
              "      <td>0.000000</td>\n",
              "      <td>30</td>\n",
              "      <td>0</td>\n",
              "      <td>0.000000</td>\n",
              "      <td>5716.0</td>\n",
              "      <td>4</td>\n",
              "      <td>0</td>\n",
              "      <td>0</td>\n",
              "      <td>0</td>\n",
              "      <td>0.0</td>\n",
              "    </tr>\n",
              "    <tr>\n",
              "      <th>149999</th>\n",
              "      <td>150000</td>\n",
              "      <td>0</td>\n",
              "      <td>0.850283</td>\n",
              "      <td>64</td>\n",
              "      <td>0</td>\n",
              "      <td>0.249908</td>\n",
              "      <td>8158.0</td>\n",
              "      <td>8</td>\n",
              "      <td>0</td>\n",
              "      <td>2</td>\n",
              "      <td>0</td>\n",
              "      <td>0.0</td>\n",
              "    </tr>\n",
              "  </tbody>\n",
              "</table>\n",
              "<p>149431 rows × 12 columns</p>\n",
              "</div>"
            ],
            "text/plain": [
              "        Unnamed: 0  ...  NumberOfDependents\n",
              "0                1  ...                 2.0\n",
              "1                2  ...                 1.0\n",
              "2                3  ...                 0.0\n",
              "3                4  ...                 0.0\n",
              "4                5  ...                 0.0\n",
              "...            ...  ...                 ...\n",
              "149995      149996  ...                 0.0\n",
              "149996      149997  ...                 2.0\n",
              "149997      149998  ...                 0.0\n",
              "149998      149999  ...                 0.0\n",
              "149999      150000  ...                 0.0\n",
              "\n",
              "[149431 rows x 12 columns]"
            ]
          },
          "metadata": {
            "tags": []
          },
          "execution_count": 75
        }
      ]
    },
    {
      "cell_type": "code",
      "metadata": {
        "colab": {
          "base_uri": "https://localhost:8080/"
        },
        "id": "MrukX8cWNDuq",
        "outputId": "e1a3aec1-681a-4c78-c0bc-ab80fa467f4f"
      },
      "source": [
        "df.shape"
      ],
      "execution_count": 76,
      "outputs": [
        {
          "output_type": "execute_result",
          "data": {
            "text/plain": [
              "(149431, 12)"
            ]
          },
          "metadata": {
            "tags": []
          },
          "execution_count": 76
        }
      ]
    },
    {
      "cell_type": "markdown",
      "metadata": {
        "id": "xjdj3u5zNCFl"
      },
      "source": [
        ""
      ]
    },
    {
      "cell_type": "markdown",
      "metadata": {
        "id": "Z4i2BmISMg7k"
      },
      "source": [
        "For variable **age, and MonthlyIncome**"
      ]
    },
    {
      "cell_type": "code",
      "metadata": {
        "colab": {
          "base_uri": "https://localhost:8080/",
          "height": 294
        },
        "id": "xi8N-qs7MmsB",
        "outputId": "477343c9-e9d7-4373-9ae3-fb2b13e880e6"
      },
      "source": [
        "# Another type of error is for example here as a person with age equal to zero\r\n",
        "df[df['age']==0].describe()"
      ],
      "execution_count": 77,
      "outputs": [
        {
          "output_type": "execute_result",
          "data": {
            "text/html": [
              "<div>\n",
              "<style scoped>\n",
              "    .dataframe tbody tr th:only-of-type {\n",
              "        vertical-align: middle;\n",
              "    }\n",
              "\n",
              "    .dataframe tbody tr th {\n",
              "        vertical-align: top;\n",
              "    }\n",
              "\n",
              "    .dataframe thead th {\n",
              "        text-align: right;\n",
              "    }\n",
              "</style>\n",
              "<table border=\"1\" class=\"dataframe\">\n",
              "  <thead>\n",
              "    <tr style=\"text-align: right;\">\n",
              "      <th></th>\n",
              "      <th>Unnamed: 0</th>\n",
              "      <th>SeriousDlqin2yrs</th>\n",
              "      <th>RevolvingUtilizationOfUnsecuredLines</th>\n",
              "      <th>age</th>\n",
              "      <th>NumberOfTime30-59DaysPastDueNotWorse</th>\n",
              "      <th>DebtRatio</th>\n",
              "      <th>MonthlyIncome</th>\n",
              "      <th>NumberOfOpenCreditLinesAndLoans</th>\n",
              "      <th>NumberOfTimes90DaysLate</th>\n",
              "      <th>NumberRealEstateLoansOrLines</th>\n",
              "      <th>NumberOfTime60-89DaysPastDueNotWorse</th>\n",
              "      <th>NumberOfDependents</th>\n",
              "    </tr>\n",
              "  </thead>\n",
              "  <tbody>\n",
              "    <tr>\n",
              "      <th>count</th>\n",
              "      <td>1.0</td>\n",
              "      <td>1.0</td>\n",
              "      <td>1.0</td>\n",
              "      <td>1.0</td>\n",
              "      <td>1.0</td>\n",
              "      <td>1.000000</td>\n",
              "      <td>1.0</td>\n",
              "      <td>1.0</td>\n",
              "      <td>1.0</td>\n",
              "      <td>1.0</td>\n",
              "      <td>1.0</td>\n",
              "      <td>1.0</td>\n",
              "    </tr>\n",
              "    <tr>\n",
              "      <th>mean</th>\n",
              "      <td>65696.0</td>\n",
              "      <td>0.0</td>\n",
              "      <td>1.0</td>\n",
              "      <td>0.0</td>\n",
              "      <td>1.0</td>\n",
              "      <td>0.436927</td>\n",
              "      <td>6000.0</td>\n",
              "      <td>6.0</td>\n",
              "      <td>0.0</td>\n",
              "      <td>2.0</td>\n",
              "      <td>0.0</td>\n",
              "      <td>2.0</td>\n",
              "    </tr>\n",
              "    <tr>\n",
              "      <th>std</th>\n",
              "      <td>NaN</td>\n",
              "      <td>NaN</td>\n",
              "      <td>NaN</td>\n",
              "      <td>NaN</td>\n",
              "      <td>NaN</td>\n",
              "      <td>NaN</td>\n",
              "      <td>NaN</td>\n",
              "      <td>NaN</td>\n",
              "      <td>NaN</td>\n",
              "      <td>NaN</td>\n",
              "      <td>NaN</td>\n",
              "      <td>NaN</td>\n",
              "    </tr>\n",
              "    <tr>\n",
              "      <th>min</th>\n",
              "      <td>65696.0</td>\n",
              "      <td>0.0</td>\n",
              "      <td>1.0</td>\n",
              "      <td>0.0</td>\n",
              "      <td>1.0</td>\n",
              "      <td>0.436927</td>\n",
              "      <td>6000.0</td>\n",
              "      <td>6.0</td>\n",
              "      <td>0.0</td>\n",
              "      <td>2.0</td>\n",
              "      <td>0.0</td>\n",
              "      <td>2.0</td>\n",
              "    </tr>\n",
              "    <tr>\n",
              "      <th>25%</th>\n",
              "      <td>65696.0</td>\n",
              "      <td>0.0</td>\n",
              "      <td>1.0</td>\n",
              "      <td>0.0</td>\n",
              "      <td>1.0</td>\n",
              "      <td>0.436927</td>\n",
              "      <td>6000.0</td>\n",
              "      <td>6.0</td>\n",
              "      <td>0.0</td>\n",
              "      <td>2.0</td>\n",
              "      <td>0.0</td>\n",
              "      <td>2.0</td>\n",
              "    </tr>\n",
              "    <tr>\n",
              "      <th>50%</th>\n",
              "      <td>65696.0</td>\n",
              "      <td>0.0</td>\n",
              "      <td>1.0</td>\n",
              "      <td>0.0</td>\n",
              "      <td>1.0</td>\n",
              "      <td>0.436927</td>\n",
              "      <td>6000.0</td>\n",
              "      <td>6.0</td>\n",
              "      <td>0.0</td>\n",
              "      <td>2.0</td>\n",
              "      <td>0.0</td>\n",
              "      <td>2.0</td>\n",
              "    </tr>\n",
              "    <tr>\n",
              "      <th>75%</th>\n",
              "      <td>65696.0</td>\n",
              "      <td>0.0</td>\n",
              "      <td>1.0</td>\n",
              "      <td>0.0</td>\n",
              "      <td>1.0</td>\n",
              "      <td>0.436927</td>\n",
              "      <td>6000.0</td>\n",
              "      <td>6.0</td>\n",
              "      <td>0.0</td>\n",
              "      <td>2.0</td>\n",
              "      <td>0.0</td>\n",
              "      <td>2.0</td>\n",
              "    </tr>\n",
              "    <tr>\n",
              "      <th>max</th>\n",
              "      <td>65696.0</td>\n",
              "      <td>0.0</td>\n",
              "      <td>1.0</td>\n",
              "      <td>0.0</td>\n",
              "      <td>1.0</td>\n",
              "      <td>0.436927</td>\n",
              "      <td>6000.0</td>\n",
              "      <td>6.0</td>\n",
              "      <td>0.0</td>\n",
              "      <td>2.0</td>\n",
              "      <td>0.0</td>\n",
              "      <td>2.0</td>\n",
              "    </tr>\n",
              "  </tbody>\n",
              "</table>\n",
              "</div>"
            ],
            "text/plain": [
              "       Unnamed: 0  ...  NumberOfDependents\n",
              "count         1.0  ...                 1.0\n",
              "mean      65696.0  ...                 2.0\n",
              "std           NaN  ...                 NaN\n",
              "min       65696.0  ...                 2.0\n",
              "25%       65696.0  ...                 2.0\n",
              "50%       65696.0  ...                 2.0\n",
              "75%       65696.0  ...                 2.0\n",
              "max       65696.0  ...                 2.0\n",
              "\n",
              "[8 rows x 12 columns]"
            ]
          },
          "metadata": {
            "tags": []
          },
          "execution_count": 77
        }
      ]
    },
    {
      "cell_type": "code",
      "metadata": {
        "colab": {
          "base_uri": "https://localhost:8080/",
          "height": 409
        },
        "id": "1GG2Fa5cMuwY",
        "outputId": "bbfb2891-ffb8-4f58-d3c9-d67dc2d0b010"
      },
      "source": [
        "#eliminate this row as it is only one observation\r\n",
        "df = df[df['age']>0]\r\n",
        "df"
      ],
      "execution_count": 78,
      "outputs": [
        {
          "output_type": "execute_result",
          "data": {
            "text/html": [
              "<div>\n",
              "<style scoped>\n",
              "    .dataframe tbody tr th:only-of-type {\n",
              "        vertical-align: middle;\n",
              "    }\n",
              "\n",
              "    .dataframe tbody tr th {\n",
              "        vertical-align: top;\n",
              "    }\n",
              "\n",
              "    .dataframe thead th {\n",
              "        text-align: right;\n",
              "    }\n",
              "</style>\n",
              "<table border=\"1\" class=\"dataframe\">\n",
              "  <thead>\n",
              "    <tr style=\"text-align: right;\">\n",
              "      <th></th>\n",
              "      <th>Unnamed: 0</th>\n",
              "      <th>SeriousDlqin2yrs</th>\n",
              "      <th>RevolvingUtilizationOfUnsecuredLines</th>\n",
              "      <th>age</th>\n",
              "      <th>NumberOfTime30-59DaysPastDueNotWorse</th>\n",
              "      <th>DebtRatio</th>\n",
              "      <th>MonthlyIncome</th>\n",
              "      <th>NumberOfOpenCreditLinesAndLoans</th>\n",
              "      <th>NumberOfTimes90DaysLate</th>\n",
              "      <th>NumberRealEstateLoansOrLines</th>\n",
              "      <th>NumberOfTime60-89DaysPastDueNotWorse</th>\n",
              "      <th>NumberOfDependents</th>\n",
              "    </tr>\n",
              "  </thead>\n",
              "  <tbody>\n",
              "    <tr>\n",
              "      <th>0</th>\n",
              "      <td>1</td>\n",
              "      <td>1</td>\n",
              "      <td>0.766127</td>\n",
              "      <td>45</td>\n",
              "      <td>2</td>\n",
              "      <td>0.802982</td>\n",
              "      <td>9120.0</td>\n",
              "      <td>13</td>\n",
              "      <td>0</td>\n",
              "      <td>6</td>\n",
              "      <td>0</td>\n",
              "      <td>2.0</td>\n",
              "    </tr>\n",
              "    <tr>\n",
              "      <th>1</th>\n",
              "      <td>2</td>\n",
              "      <td>0</td>\n",
              "      <td>0.957151</td>\n",
              "      <td>40</td>\n",
              "      <td>0</td>\n",
              "      <td>0.121876</td>\n",
              "      <td>2600.0</td>\n",
              "      <td>4</td>\n",
              "      <td>0</td>\n",
              "      <td>0</td>\n",
              "      <td>0</td>\n",
              "      <td>1.0</td>\n",
              "    </tr>\n",
              "    <tr>\n",
              "      <th>2</th>\n",
              "      <td>3</td>\n",
              "      <td>0</td>\n",
              "      <td>0.658180</td>\n",
              "      <td>38</td>\n",
              "      <td>1</td>\n",
              "      <td>0.085113</td>\n",
              "      <td>3042.0</td>\n",
              "      <td>2</td>\n",
              "      <td>1</td>\n",
              "      <td>0</td>\n",
              "      <td>0</td>\n",
              "      <td>0.0</td>\n",
              "    </tr>\n",
              "    <tr>\n",
              "      <th>3</th>\n",
              "      <td>4</td>\n",
              "      <td>0</td>\n",
              "      <td>0.233810</td>\n",
              "      <td>30</td>\n",
              "      <td>0</td>\n",
              "      <td>0.036050</td>\n",
              "      <td>3300.0</td>\n",
              "      <td>5</td>\n",
              "      <td>0</td>\n",
              "      <td>0</td>\n",
              "      <td>0</td>\n",
              "      <td>0.0</td>\n",
              "    </tr>\n",
              "    <tr>\n",
              "      <th>4</th>\n",
              "      <td>5</td>\n",
              "      <td>0</td>\n",
              "      <td>0.907239</td>\n",
              "      <td>49</td>\n",
              "      <td>1</td>\n",
              "      <td>0.024926</td>\n",
              "      <td>63588.0</td>\n",
              "      <td>7</td>\n",
              "      <td>0</td>\n",
              "      <td>1</td>\n",
              "      <td>0</td>\n",
              "      <td>0.0</td>\n",
              "    </tr>\n",
              "    <tr>\n",
              "      <th>...</th>\n",
              "      <td>...</td>\n",
              "      <td>...</td>\n",
              "      <td>...</td>\n",
              "      <td>...</td>\n",
              "      <td>...</td>\n",
              "      <td>...</td>\n",
              "      <td>...</td>\n",
              "      <td>...</td>\n",
              "      <td>...</td>\n",
              "      <td>...</td>\n",
              "      <td>...</td>\n",
              "      <td>...</td>\n",
              "    </tr>\n",
              "    <tr>\n",
              "      <th>149995</th>\n",
              "      <td>149996</td>\n",
              "      <td>0</td>\n",
              "      <td>0.040674</td>\n",
              "      <td>74</td>\n",
              "      <td>0</td>\n",
              "      <td>0.225131</td>\n",
              "      <td>2100.0</td>\n",
              "      <td>4</td>\n",
              "      <td>0</td>\n",
              "      <td>1</td>\n",
              "      <td>0</td>\n",
              "      <td>0.0</td>\n",
              "    </tr>\n",
              "    <tr>\n",
              "      <th>149996</th>\n",
              "      <td>149997</td>\n",
              "      <td>0</td>\n",
              "      <td>0.299745</td>\n",
              "      <td>44</td>\n",
              "      <td>0</td>\n",
              "      <td>0.716562</td>\n",
              "      <td>5584.0</td>\n",
              "      <td>4</td>\n",
              "      <td>0</td>\n",
              "      <td>1</td>\n",
              "      <td>0</td>\n",
              "      <td>2.0</td>\n",
              "    </tr>\n",
              "    <tr>\n",
              "      <th>149997</th>\n",
              "      <td>149998</td>\n",
              "      <td>0</td>\n",
              "      <td>0.246044</td>\n",
              "      <td>58</td>\n",
              "      <td>0</td>\n",
              "      <td>3870.000000</td>\n",
              "      <td>NaN</td>\n",
              "      <td>18</td>\n",
              "      <td>0</td>\n",
              "      <td>1</td>\n",
              "      <td>0</td>\n",
              "      <td>0.0</td>\n",
              "    </tr>\n",
              "    <tr>\n",
              "      <th>149998</th>\n",
              "      <td>149999</td>\n",
              "      <td>0</td>\n",
              "      <td>0.000000</td>\n",
              "      <td>30</td>\n",
              "      <td>0</td>\n",
              "      <td>0.000000</td>\n",
              "      <td>5716.0</td>\n",
              "      <td>4</td>\n",
              "      <td>0</td>\n",
              "      <td>0</td>\n",
              "      <td>0</td>\n",
              "      <td>0.0</td>\n",
              "    </tr>\n",
              "    <tr>\n",
              "      <th>149999</th>\n",
              "      <td>150000</td>\n",
              "      <td>0</td>\n",
              "      <td>0.850283</td>\n",
              "      <td>64</td>\n",
              "      <td>0</td>\n",
              "      <td>0.249908</td>\n",
              "      <td>8158.0</td>\n",
              "      <td>8</td>\n",
              "      <td>0</td>\n",
              "      <td>2</td>\n",
              "      <td>0</td>\n",
              "      <td>0.0</td>\n",
              "    </tr>\n",
              "  </tbody>\n",
              "</table>\n",
              "<p>149430 rows × 12 columns</p>\n",
              "</div>"
            ],
            "text/plain": [
              "        Unnamed: 0  ...  NumberOfDependents\n",
              "0                1  ...                 2.0\n",
              "1                2  ...                 1.0\n",
              "2                3  ...                 0.0\n",
              "3                4  ...                 0.0\n",
              "4                5  ...                 0.0\n",
              "...            ...  ...                 ...\n",
              "149995      149996  ...                 0.0\n",
              "149996      149997  ...                 2.0\n",
              "149997      149998  ...                 0.0\n",
              "149998      149999  ...                 0.0\n",
              "149999      150000  ...                 0.0\n",
              "\n",
              "[149430 rows x 12 columns]"
            ]
          },
          "metadata": {
            "tags": []
          },
          "execution_count": 78
        }
      ]
    },
    {
      "cell_type": "markdown",
      "metadata": {
        "id": "tu3vJOR1MSur"
      },
      "source": [
        "Now a bit cleaner dataset contains 149430 rows × 11 columns"
      ]
    },
    {
      "cell_type": "code",
      "metadata": {
        "colab": {
          "base_uri": "https://localhost:8080/"
        },
        "id": "gMiAoZkDOZqN",
        "outputId": "8730b263-2d57-4611-a711-05affb67d04b"
      },
      "source": [
        "df.shape"
      ],
      "execution_count": 79,
      "outputs": [
        {
          "output_type": "execute_result",
          "data": {
            "text/plain": [
              "(149430, 12)"
            ]
          },
          "metadata": {
            "tags": []
          },
          "execution_count": 79
        }
      ]
    },
    {
      "cell_type": "markdown",
      "metadata": {
        "id": "thL6QewuOzAF"
      },
      "source": [
        "**Dealing with missing value as seen in the begining**"
      ]
    },
    {
      "cell_type": "code",
      "metadata": {
        "colab": {
          "base_uri": "https://localhost:8080/",
          "height": 104
        },
        "id": "YRcoyuf4O3qe",
        "outputId": "7a94de0d-583f-4e79-db4e-1c79b845b370"
      },
      "source": [
        "def MissingHandler(df):\r\n",
        "    DataMissing = df.isnull().sum()*100/len(df)\r\n",
        "    DataMissingByColumn = pd.DataFrame({'Percentage Nulls':DataMissing})\r\n",
        "    DataMissingByColumn.sort_values(by='Percentage Nulls',ascending=False,inplace=True)\r\n",
        "    return DataMissingByColumn[DataMissingByColumn['Percentage Nulls']>0]\r\n",
        "\r\n",
        "MissingHandler(df)"
      ],
      "execution_count": 80,
      "outputs": [
        {
          "output_type": "execute_result",
          "data": {
            "text/html": [
              "<div>\n",
              "<style scoped>\n",
              "    .dataframe tbody tr th:only-of-type {\n",
              "        vertical-align: middle;\n",
              "    }\n",
              "\n",
              "    .dataframe tbody tr th {\n",
              "        vertical-align: top;\n",
              "    }\n",
              "\n",
              "    .dataframe thead th {\n",
              "        text-align: right;\n",
              "    }\n",
              "</style>\n",
              "<table border=\"1\" class=\"dataframe\">\n",
              "  <thead>\n",
              "    <tr style=\"text-align: right;\">\n",
              "      <th></th>\n",
              "      <th>Percentage Nulls</th>\n",
              "    </tr>\n",
              "  </thead>\n",
              "  <tbody>\n",
              "    <tr>\n",
              "      <th>MonthlyIncome</th>\n",
              "      <td>19.850766</td>\n",
              "    </tr>\n",
              "    <tr>\n",
              "      <th>NumberOfDependents</th>\n",
              "      <td>2.617279</td>\n",
              "    </tr>\n",
              "  </tbody>\n",
              "</table>\n",
              "</div>"
            ],
            "text/plain": [
              "                    Percentage Nulls\n",
              "MonthlyIncome              19.850766\n",
              "NumberOfDependents          2.617279"
            ]
          },
          "metadata": {
            "tags": []
          },
          "execution_count": 80
        }
      ]
    },
    {
      "cell_type": "markdown",
      "metadata": {
        "id": "OxyJCIPbO_wW"
      },
      "source": [
        "There are 19.85% and 2.62% Nulls for MonthlyIncome and NumberOfDependents respectively."
      ]
    },
    {
      "cell_type": "code",
      "metadata": {
        "colab": {
          "base_uri": "https://localhost:8080/"
        },
        "id": "K5_0jhccPVoR",
        "outputId": "216a4702-7d25-4d1c-9ea6-c86208ec8596"
      },
      "source": [
        "df['MonthlyIncome'].fillna(df['MonthlyIncome'].median(), inplace=True)\r\n",
        "df['NumberOfDependents'].fillna(0, inplace = True)"
      ],
      "execution_count": 81,
      "outputs": [
        {
          "output_type": "stream",
          "text": [
            "/usr/local/lib/python3.7/dist-packages/pandas/core/series.py:4536: SettingWithCopyWarning: \n",
            "A value is trying to be set on a copy of a slice from a DataFrame\n",
            "\n",
            "See the caveats in the documentation: https://pandas.pydata.org/pandas-docs/stable/user_guide/indexing.html#returning-a-view-versus-a-copy\n",
            "  downcast=downcast,\n"
          ],
          "name": "stderr"
        }
      ]
    },
    {
      "cell_type": "code",
      "metadata": {
        "colab": {
          "base_uri": "https://localhost:8080/",
          "height": 46
        },
        "id": "5qoFQUgiPa7z",
        "outputId": "e0c9b01e-cd6d-4e83-e34f-ef298c84e925"
      },
      "source": [
        "#checking for missing data\r\n",
        "MissingHandler(df)"
      ],
      "execution_count": 82,
      "outputs": [
        {
          "output_type": "execute_result",
          "data": {
            "text/html": [
              "<div>\n",
              "<style scoped>\n",
              "    .dataframe tbody tr th:only-of-type {\n",
              "        vertical-align: middle;\n",
              "    }\n",
              "\n",
              "    .dataframe tbody tr th {\n",
              "        vertical-align: top;\n",
              "    }\n",
              "\n",
              "    .dataframe thead th {\n",
              "        text-align: right;\n",
              "    }\n",
              "</style>\n",
              "<table border=\"1\" class=\"dataframe\">\n",
              "  <thead>\n",
              "    <tr style=\"text-align: right;\">\n",
              "      <th></th>\n",
              "      <th>Percentage Nulls</th>\n",
              "    </tr>\n",
              "  </thead>\n",
              "  <tbody>\n",
              "  </tbody>\n",
              "</table>\n",
              "</div>"
            ],
            "text/plain": [
              "Empty DataFrame\n",
              "Columns: [Percentage Nulls]\n",
              "Index: []"
            ]
          },
          "metadata": {
            "tags": []
          },
          "execution_count": 82
        }
      ]
    },
    {
      "cell_type": "code",
      "metadata": {
        "colab": {
          "base_uri": "https://localhost:8080/"
        },
        "id": "AC1UM0siPhbp",
        "outputId": "a73746fd-d467-46ab-8c7c-b0643883938e"
      },
      "source": [
        "print(df.shape)"
      ],
      "execution_count": 83,
      "outputs": [
        {
          "output_type": "stream",
          "text": [
            "(149430, 12)\n"
          ],
          "name": "stdout"
        }
      ]
    },
    {
      "cell_type": "markdown",
      "metadata": {
        "id": "zQE6KZqCPm0K"
      },
      "source": [
        "**Step 2: Staistical Describtive**"
      ]
    },
    {
      "cell_type": "code",
      "metadata": {
        "colab": {
          "base_uri": "https://localhost:8080/",
          "height": 835
        },
        "id": "RN1DRoNkP38h",
        "outputId": "1e3df422-6787-46ff-b69f-92b4d0e5b704"
      },
      "source": [
        "fig = plt.figure(figsize = [15,10])\r\n",
        "mask = np.zeros_like(df.corr(), dtype=np.bool)\r\n",
        "mask[np.triu_indices_from(mask)] = True\r\n",
        "sns.heatmap(df.corr(), cmap=sns.diverging_palette(150, 275, s=80, l=55, n=9), mask = mask, annot=True, center = 0)\r\n",
        "plt.title(\"Correlation Matrix (HeatMap)\", fontsize = 15)"
      ],
      "execution_count": 84,
      "outputs": [
        {
          "output_type": "execute_result",
          "data": {
            "text/plain": [
              "Text(0.5, 1.0, 'Correlation Matrix (HeatMap)')"
            ]
          },
          "metadata": {
            "tags": []
          },
          "execution_count": 84
        },
        {
          "output_type": "display_data",
          "data": {
            "image/png": "[encoded data removed]",
            "text/plain": [
              "<Figure size 1080x720 with 2 Axes>"
            ]
          },
          "metadata": {
            "tags": [],
            "needs_background": "light"
          }
        }
      ]
    },
    {
      "cell_type": "markdown",
      "metadata": {
        "id": "OqX-Bt8jP-ZR"
      },
      "source": [
        "From the correlation heatmap above, we can see the most correlated values to SeriousDlqin2yrs are NumberOfTime30-59DaysPastDueNotWorse , NumberOfTime60-89DaysPastDueNotWorse and NumberOfTimes90DaysLate."
      ]
    },
    {
      "cell_type": "markdown",
      "metadata": {
        "id": "50cv1UrgQGmZ"
      },
      "source": [
        "**Step 3: Feature Engineering**"
      ]
    },
    {
      "cell_type": "code",
      "metadata": {
        "colab": {
          "base_uri": "https://localhost:8080/",
          "height": 294
        },
        "id": "xVWKgteWRsFU",
        "outputId": "35672f2e-84b8-43a7-b5d2-a8abea8b0c17"
      },
      "source": [
        "df.describe()"
      ],
      "execution_count": 85,
      "outputs": [
        {
          "output_type": "execute_result",
          "data": {
            "text/html": [
              "<div>\n",
              "<style scoped>\n",
              "    .dataframe tbody tr th:only-of-type {\n",
              "        vertical-align: middle;\n",
              "    }\n",
              "\n",
              "    .dataframe tbody tr th {\n",
              "        vertical-align: top;\n",
              "    }\n",
              "\n",
              "    .dataframe thead th {\n",
              "        text-align: right;\n",
              "    }\n",
              "</style>\n",
              "<table border=\"1\" class=\"dataframe\">\n",
              "  <thead>\n",
              "    <tr style=\"text-align: right;\">\n",
              "      <th></th>\n",
              "      <th>Unnamed: 0</th>\n",
              "      <th>SeriousDlqin2yrs</th>\n",
              "      <th>RevolvingUtilizationOfUnsecuredLines</th>\n",
              "      <th>age</th>\n",
              "      <th>NumberOfTime30-59DaysPastDueNotWorse</th>\n",
              "      <th>DebtRatio</th>\n",
              "      <th>MonthlyIncome</th>\n",
              "      <th>NumberOfOpenCreditLinesAndLoans</th>\n",
              "      <th>NumberOfTimes90DaysLate</th>\n",
              "      <th>NumberRealEstateLoansOrLines</th>\n",
              "      <th>NumberOfTime60-89DaysPastDueNotWorse</th>\n",
              "      <th>NumberOfDependents</th>\n",
              "    </tr>\n",
              "  </thead>\n",
              "  <tbody>\n",
              "    <tr>\n",
              "      <th>count</th>\n",
              "      <td>149430.000000</td>\n",
              "      <td>149430.000000</td>\n",
              "      <td>149430.000000</td>\n",
              "      <td>149430.000000</td>\n",
              "      <td>149430.000000</td>\n",
              "      <td>149430.000000</td>\n",
              "      <td>1.494300e+05</td>\n",
              "      <td>149430.000000</td>\n",
              "      <td>149430.000000</td>\n",
              "      <td>149430.000000</td>\n",
              "      <td>149430.000000</td>\n",
              "      <td>149430.000000</td>\n",
              "    </tr>\n",
              "    <tr>\n",
              "      <th>mean</th>\n",
              "      <td>75005.875547</td>\n",
              "      <td>0.066981</td>\n",
              "      <td>0.322934</td>\n",
              "      <td>52.302891</td>\n",
              "      <td>0.268909</td>\n",
              "      <td>343.194528</td>\n",
              "      <td>6.430748e+03</td>\n",
              "      <td>8.453021</td>\n",
              "      <td>0.121080</td>\n",
              "      <td>1.016516</td>\n",
              "      <td>0.084541</td>\n",
              "      <td>0.736492</td>\n",
              "    </tr>\n",
              "    <tr>\n",
              "      <th>std</th>\n",
              "      <td>43305.390572</td>\n",
              "      <td>0.249990</td>\n",
              "      <td>0.370479</td>\n",
              "      <td>14.778205</td>\n",
              "      <td>0.882467</td>\n",
              "      <td>2017.963229</td>\n",
              "      <td>1.290929e+04</td>\n",
              "      <td>5.147064</td>\n",
              "      <td>0.865687</td>\n",
              "      <td>1.129874</td>\n",
              "      <td>0.568716</td>\n",
              "      <td>1.106125</td>\n",
              "    </tr>\n",
              "    <tr>\n",
              "      <th>min</th>\n",
              "      <td>1.000000</td>\n",
              "      <td>0.000000</td>\n",
              "      <td>0.000000</td>\n",
              "      <td>21.000000</td>\n",
              "      <td>0.000000</td>\n",
              "      <td>0.000000</td>\n",
              "      <td>0.000000e+00</td>\n",
              "      <td>0.000000</td>\n",
              "      <td>0.000000</td>\n",
              "      <td>0.000000</td>\n",
              "      <td>0.000000</td>\n",
              "      <td>0.000000</td>\n",
              "    </tr>\n",
              "    <tr>\n",
              "      <th>25%</th>\n",
              "      <td>37502.250000</td>\n",
              "      <td>0.000000</td>\n",
              "      <td>0.029746</td>\n",
              "      <td>41.000000</td>\n",
              "      <td>0.000000</td>\n",
              "      <td>0.174474</td>\n",
              "      <td>3.925000e+03</td>\n",
              "      <td>5.000000</td>\n",
              "      <td>0.000000</td>\n",
              "      <td>0.000000</td>\n",
              "      <td>0.000000</td>\n",
              "      <td>0.000000</td>\n",
              "    </tr>\n",
              "    <tr>\n",
              "      <th>50%</th>\n",
              "      <td>75009.500000</td>\n",
              "      <td>0.000000</td>\n",
              "      <td>0.153441</td>\n",
              "      <td>52.000000</td>\n",
              "      <td>0.000000</td>\n",
              "      <td>0.365473</td>\n",
              "      <td>5.400000e+03</td>\n",
              "      <td>8.000000</td>\n",
              "      <td>0.000000</td>\n",
              "      <td>1.000000</td>\n",
              "      <td>0.000000</td>\n",
              "      <td>0.000000</td>\n",
              "    </tr>\n",
              "    <tr>\n",
              "      <th>75%</th>\n",
              "      <td>112514.750000</td>\n",
              "      <td>0.000000</td>\n",
              "      <td>0.555937</td>\n",
              "      <td>63.000000</td>\n",
              "      <td>0.000000</td>\n",
              "      <td>0.856049</td>\n",
              "      <td>7.400000e+03</td>\n",
              "      <td>11.000000</td>\n",
              "      <td>0.000000</td>\n",
              "      <td>2.000000</td>\n",
              "      <td>0.000000</td>\n",
              "      <td>1.000000</td>\n",
              "    </tr>\n",
              "    <tr>\n",
              "      <th>max</th>\n",
              "      <td>150000.000000</td>\n",
              "      <td>1.000000</td>\n",
              "      <td>12.462747</td>\n",
              "      <td>109.000000</td>\n",
              "      <td>13.000000</td>\n",
              "      <td>329664.000000</td>\n",
              "      <td>3.008750e+06</td>\n",
              "      <td>58.000000</td>\n",
              "      <td>17.000000</td>\n",
              "      <td>54.000000</td>\n",
              "      <td>11.000000</td>\n",
              "      <td>20.000000</td>\n",
              "    </tr>\n",
              "  </tbody>\n",
              "</table>\n",
              "</div>"
            ],
            "text/plain": [
              "          Unnamed: 0  ...  NumberOfDependents\n",
              "count  149430.000000  ...       149430.000000\n",
              "mean    75005.875547  ...            0.736492\n",
              "std     43305.390572  ...            1.106125\n",
              "min         1.000000  ...            0.000000\n",
              "25%     37502.250000  ...            0.000000\n",
              "50%     75009.500000  ...            0.000000\n",
              "75%    112514.750000  ...            1.000000\n",
              "max    150000.000000  ...           20.000000\n",
              "\n",
              "[8 rows x 12 columns]"
            ]
          },
          "metadata": {
            "tags": []
          },
          "execution_count": 85
        }
      ]
    },
    {
      "cell_type": "code",
      "metadata": {
        "colab": {
          "base_uri": "https://localhost:8080/"
        },
        "id": "R1DFsVwjZIII",
        "outputId": "68322a8e-886d-4f02-f315-ffa58051f376"
      },
      "source": [
        "SeriousDlqIn2Yrs = df['SeriousDlqin2yrs']\r\n",
        "CustomerID = df['Unnamed: 0']\r\n",
        "df.drop(['SeriousDlqin2yrs','Unnamed: 0'], axis = 1 , inplace = True)"
      ],
      "execution_count": 86,
      "outputs": [
        {
          "output_type": "stream",
          "text": [
            "/usr/local/lib/python3.7/dist-packages/pandas/core/frame.py:4174: SettingWithCopyWarning: \n",
            "A value is trying to be set on a copy of a slice from a DataFrame\n",
            "\n",
            "See the caveats in the documentation: https://pandas.pydata.org/pandas-docs/stable/user_guide/indexing.html#returning-a-view-versus-a-copy\n",
            "  errors=errors,\n"
          ],
          "name": "stderr"
        }
      ]
    },
    {
      "cell_type": "code",
      "metadata": {
        "colab": {
          "base_uri": "https://localhost:8080/"
        },
        "id": "S-72tSq5ZOXR",
        "outputId": "2d5cb15d-5d78-442a-a077-2595f436cc71"
      },
      "source": [
        "df.info()"
      ],
      "execution_count": 87,
      "outputs": [
        {
          "output_type": "stream",
          "text": [
            "<class 'pandas.core.frame.DataFrame'>\n",
            "Int64Index: 149430 entries, 0 to 149999\n",
            "Data columns (total 10 columns):\n",
            " #   Column                                Non-Null Count   Dtype  \n",
            "---  ------                                --------------   -----  \n",
            " 0   RevolvingUtilizationOfUnsecuredLines  149430 non-null  float64\n",
            " 1   age                                   149430 non-null  int64  \n",
            " 2   NumberOfTime30-59DaysPastDueNotWorse  149430 non-null  int64  \n",
            " 3   DebtRatio                             149430 non-null  float64\n",
            " 4   MonthlyIncome                         149430 non-null  float64\n",
            " 5   NumberOfOpenCreditLinesAndLoans       149430 non-null  int64  \n",
            " 6   NumberOfTimes90DaysLate               149430 non-null  int64  \n",
            " 7   NumberRealEstateLoansOrLines          149430 non-null  int64  \n",
            " 8   NumberOfTime60-89DaysPastDueNotWorse  149430 non-null  int64  \n",
            " 9   NumberOfDependents                    149430 non-null  float64\n",
            "dtypes: float64(4), int64(6)\n",
            "memory usage: 12.5 MB\n"
          ],
          "name": "stdout"
        }
      ]
    },
    {
      "cell_type": "markdown",
      "metadata": {
        "id": "bkpP3Rvva9Bq"
      },
      "source": [
        "Now the dataset contains 149430 entries and without missing value "
      ]
    },
    {
      "cell_type": "markdown",
      "metadata": {
        "id": "2albklqLbwIG"
      },
      "source": [
        "**Adding some new features:**\r\n",
        "1. MonthlyDebt: Monthly Income multiplied by the Debt Ratio\r\n",
        "2. Retired: Person whose monthly income is 0 and age is greater than 65 (Assumed Retirement Age)\r\n",
        "3. MultipleRealEstates: If the Number of Real Estates is greater than 2"
      ]
    },
    {
      "cell_type": "code",
      "metadata": {
        "colab": {
          "base_uri": "https://localhost:8080/"
        },
        "id": "GPgGoIoEbUKl",
        "outputId": "b2582027-f95b-467e-8130-7226f77c6b21"
      },
      "source": [
        "df['MonthlyDebt'] = df['MonthlyIncome']*df['DebtRatio']\r\n",
        "df['MonthlyDebt'].fillna(df['DebtRatio'],inplace=True)\r\n",
        "df['MonthlyDebt'] = np.where(df['MonthlyDebt']==0, df['DebtRatio'],df['MonthlyDebt'])\r\n",
        "\r\n",
        "df['Retired'] = np.where((df['age'] > 65), 1, 0)\r\n",
        "\r\n",
        "df['hasMultipleRealEstates'] = np.where((df['NumberRealEstateLoansOrLines']>=2),1,0)\r\n"
      ],
      "execution_count": 88,
      "outputs": [
        {
          "output_type": "stream",
          "text": [
            "/usr/local/lib/python3.7/dist-packages/ipykernel_launcher.py:1: SettingWithCopyWarning: \n",
            "A value is trying to be set on a copy of a slice from a DataFrame.\n",
            "Try using .loc[row_indexer,col_indexer] = value instead\n",
            "\n",
            "See the caveats in the documentation: https://pandas.pydata.org/pandas-docs/stable/user_guide/indexing.html#returning-a-view-versus-a-copy\n",
            "  \"\"\"Entry point for launching an IPython kernel.\n",
            "/usr/local/lib/python3.7/dist-packages/pandas/core/series.py:4536: SettingWithCopyWarning: \n",
            "A value is trying to be set on a copy of a slice from a DataFrame\n",
            "\n",
            "See the caveats in the documentation: https://pandas.pydata.org/pandas-docs/stable/user_guide/indexing.html#returning-a-view-versus-a-copy\n",
            "  downcast=downcast,\n",
            "/usr/local/lib/python3.7/dist-packages/ipykernel_launcher.py:3: SettingWithCopyWarning: \n",
            "A value is trying to be set on a copy of a slice from a DataFrame.\n",
            "Try using .loc[row_indexer,col_indexer] = value instead\n",
            "\n",
            "See the caveats in the documentation: https://pandas.pydata.org/pandas-docs/stable/user_guide/indexing.html#returning-a-view-versus-a-copy\n",
            "  This is separate from the ipykernel package so we can avoid doing imports until\n",
            "/usr/local/lib/python3.7/dist-packages/ipykernel_launcher.py:5: SettingWithCopyWarning: \n",
            "A value is trying to be set on a copy of a slice from a DataFrame.\n",
            "Try using .loc[row_indexer,col_indexer] = value instead\n",
            "\n",
            "See the caveats in the documentation: https://pandas.pydata.org/pandas-docs/stable/user_guide/indexing.html#returning-a-view-versus-a-copy\n",
            "  \"\"\"\n",
            "/usr/local/lib/python3.7/dist-packages/ipykernel_launcher.py:7: SettingWithCopyWarning: \n",
            "A value is trying to be set on a copy of a slice from a DataFrame.\n",
            "Try using .loc[row_indexer,col_indexer] = value instead\n",
            "\n",
            "See the caveats in the documentation: https://pandas.pydata.org/pandas-docs/stable/user_guide/indexing.html#returning-a-view-versus-a-copy\n",
            "  import sys\n"
          ],
          "name": "stderr"
        }
      ]
    },
    {
      "cell_type": "code",
      "metadata": {
        "colab": {
          "base_uri": "https://localhost:8080/"
        },
        "id": "jprTqcc0gaar",
        "outputId": "df39ea1b-02a0-42ef-c2c0-39fc55616ca5"
      },
      "source": [
        "SeriousDlqIn2Yrs.value_counts()"
      ],
      "execution_count": 89,
      "outputs": [
        {
          "output_type": "execute_result",
          "data": {
            "text/plain": [
              "0    139421\n",
              "1     10009\n",
              "Name: SeriousDlqin2yrs, dtype: int64"
            ]
          },
          "metadata": {
            "tags": []
          },
          "execution_count": 89
        }
      ]
    },
    {
      "cell_type": "code",
      "metadata": {
        "colab": {
          "base_uri": "https://localhost:8080/"
        },
        "id": "nADjVVoOcq1-",
        "outputId": "d3b8637a-e7fc-42ad-b404-2f3fff077dca"
      },
      "source": [
        "df.shape"
      ],
      "execution_count": 90,
      "outputs": [
        {
          "output_type": "execute_result",
          "data": {
            "text/plain": [
              "(149430, 13)"
            ]
          },
          "metadata": {
            "tags": []
          },
          "execution_count": 90
        }
      ]
    },
    {
      "cell_type": "code",
      "metadata": {
        "colab": {
          "base_uri": "https://localhost:8080/",
          "height": 46
        },
        "id": "NnwdH1GOd50D",
        "outputId": "5ba7497c-9266-4ad2-b172-e95939ff76b8"
      },
      "source": [
        "MissingHandler(df)"
      ],
      "execution_count": 91,
      "outputs": [
        {
          "output_type": "execute_result",
          "data": {
            "text/html": [
              "<div>\n",
              "<style scoped>\n",
              "    .dataframe tbody tr th:only-of-type {\n",
              "        vertical-align: middle;\n",
              "    }\n",
              "\n",
              "    .dataframe tbody tr th {\n",
              "        vertical-align: top;\n",
              "    }\n",
              "\n",
              "    .dataframe thead th {\n",
              "        text-align: right;\n",
              "    }\n",
              "</style>\n",
              "<table border=\"1\" class=\"dataframe\">\n",
              "  <thead>\n",
              "    <tr style=\"text-align: right;\">\n",
              "      <th></th>\n",
              "      <th>Percentage Nulls</th>\n",
              "    </tr>\n",
              "  </thead>\n",
              "  <tbody>\n",
              "  </tbody>\n",
              "</table>\n",
              "</div>"
            ],
            "text/plain": [
              "Empty DataFrame\n",
              "Columns: [Percentage Nulls]\n",
              "Index: []"
            ]
          },
          "metadata": {
            "tags": []
          },
          "execution_count": 91
        }
      ]
    },
    {
      "cell_type": "markdown",
      "metadata": {
        "id": "dwQ-QF1vfMcK"
      },
      "source": [
        "**Step 4: Model Training**\r\n",
        "\r\n"
      ]
    },
    {
      "cell_type": "markdown",
      "metadata": {
        "id": "dPTLkwHTjlwf"
      },
      "source": [
        "**4.1 Logistic regression**"
      ]
    },
    {
      "cell_type": "code",
      "metadata": {
        "colab": {
          "base_uri": "https://localhost:8080/"
        },
        "id": "SDVDNrD4jwO3",
        "outputId": "2400372d-fcc2-4980-be6d-96c4c23c3cd3"
      },
      "source": [
        "X = df\r\n",
        "y = SeriousDlqIn2Yrs\r\n",
        "X.shape, y.shape"
      ],
      "execution_count": 92,
      "outputs": [
        {
          "output_type": "execute_result",
          "data": {
            "text/plain": [
              "((149430, 13), (149430,))"
            ]
          },
          "metadata": {
            "tags": []
          },
          "execution_count": 92
        }
      ]
    },
    {
      "cell_type": "code",
      "metadata": {
        "id": "nQShKOZXsEzg"
      },
      "source": [
        "from sklearn.linear_model import LogisticRegression\r\n",
        "from sklearn.metrics import roc_curve, roc_auc_score #AUC score\r\n",
        "from sklearn.preprocessing import StandardScaler\r\n",
        "from sklearn.model_selection import train_test_split, cross_validate, RandomizedSearchCV, GridSearchCV\r\n",
        "\r\n",
        "X_train, X_test, y_train, y_test = train_test_split(X, y, test_size=0.30, shuffle=True, random_state=11, stratify=y)\r\n",
        "logit = LogisticRegression(random_state=11, solver=\"saga\", penalty=\"l1\", class_weight=\"balanced\", C=1.0, max_iter=500)\r\n",
        "scaler = StandardScaler().fit(X_train)\r\n",
        "\r\n"
      ],
      "execution_count": 93,
      "outputs": []
    },
    {
      "cell_type": "code",
      "metadata": {
        "id": "yjeacB7Ys7Rj"
      },
      "source": [
        "X_train_scaled = scaler.transform(X_train) #scaling features!\r\n",
        "X_test_scaled = scaler.transform(X_test)"
      ],
      "execution_count": 94,
      "outputs": []
    },
    {
      "cell_type": "code",
      "metadata": {
        "colab": {
          "base_uri": "https://localhost:8080/"
        },
        "id": "jB5fh9EntERU",
        "outputId": "9834692d-d340-45c3-e058-8ab74d622954"
      },
      "source": [
        "logit.fit(X_train_scaled, y_train)\r\n",
        "logit_scores_proba = logit.predict_proba(X_train_scaled)\r\n",
        "logit_scores = logit_scores_proba[:,1]"
      ],
      "execution_count": 95,
      "outputs": [
        {
          "output_type": "stream",
          "text": [
            "/usr/local/lib/python3.7/dist-packages/sklearn/linear_model/_sag.py:330: ConvergenceWarning: The max_iter was reached which means the coef_ did not converge\n",
            "  \"the coef_ did not converge\", ConvergenceWarning)\n"
          ],
          "name": "stderr"
        }
      ]
    },
    {
      "cell_type": "code",
      "metadata": {
        "colab": {
          "base_uri": "https://localhost:8080/"
        },
        "id": "7xmD3AAUuucf",
        "outputId": "78a5bcdf-3920-46b2-a0ae-6ea4710b26aa"
      },
      "source": [
        "cv = cross_validate(estimator=logit, X=X_train_scaled, y=y_train, scoring=[\"f1\", \"recall\", \"precision\", \"accuracy\"], cv=10, n_jobs=-1, return_train_score=True, verbose=1)"
      ],
      "execution_count": 96,
      "outputs": [
        {
          "output_type": "stream",
          "text": [
            "[Parallel(n_jobs=-1)]: Using backend LokyBackend with 2 concurrent workers.\n",
            "[Parallel(n_jobs=-1)]: Done  10 out of  10 | elapsed:  3.1min finished\n"
          ],
          "name": "stderr"
        }
      ]
    },
    {
      "cell_type": "code",
      "metadata": {
        "colab": {
          "base_uri": "https://localhost:8080/"
        },
        "id": "Wo5zHXRSwIUz",
        "outputId": "adf7f44a-05da-4f8e-b9f7-dabcb0ff6e6f"
      },
      "source": [
        "cv"
      ],
      "execution_count": 97,
      "outputs": [
        {
          "output_type": "execute_result",
          "data": {
            "text/plain": [
              "{'fit_time': array([36.55856133, 36.75240278, 37.35187674, 37.22033095, 34.05679369,\n",
              "        36.58412433, 36.95001078, 30.58943534, 36.63033891, 35.8094573 ]),\n",
              " 'score_time': array([0.02521634, 0.02887106, 0.02318692, 0.02546692, 0.02715969,\n",
              "        0.02306867, 0.02322125, 0.0237093 , 0.02418232, 0.02131319]),\n",
              " 'test_accuracy': array([0.79954115, 0.79474187, 0.79722753, 0.78977055, 0.79330784,\n",
              "        0.79875717, 0.80468451, 0.80248566, 0.79732314, 0.79541109]),\n",
              " 'test_f1': array([0.33067348, 0.32121404, 0.33490122, 0.31686859, 0.32689913,\n",
              "        0.33617155, 0.34540211, 0.34119898, 0.31656995, 0.32449495]),\n",
              " 'test_precision': array([0.21299342, 0.20633631, 0.21463023, 0.2025417 , 0.20908005,\n",
              "        0.21578947, 0.22263527, 0.21962233, 0.20441299, 0.2082658 ]),\n",
              " 'test_recall': array([0.73894437, 0.72467903, 0.7617689 , 0.7275321 , 0.7489301 ,\n",
              "        0.76034237, 0.77      , 0.76428571, 0.70142857, 0.73428571]),\n",
              " 'train_accuracy': array([0.79819418, 0.79900362, 0.79648612, 0.79773956, 0.79602936,\n",
              "        0.79763334, 0.79664546, 0.79654986, 0.79855748, 0.79693226]),\n",
              " 'train_f1': array([0.33034896, 0.33185028, 0.32843773, 0.33060292, 0.32808454,\n",
              "        0.32897749, 0.32790338, 0.32803565, 0.33197126, 0.32925161]),\n",
              " 'train_precision': array([0.21237254, 0.21344538, 0.21080814, 0.21237579, 0.21047906,\n",
              "        0.21144616, 0.21056903, 0.21061405, 0.21338647, 0.21139896]),\n",
              " 'train_recall': array([0.74321967, 0.74528152, 0.74306106, 0.74575734, 0.74353688,\n",
              "        0.740682  , 0.74056454, 0.74135744, 0.74722487, 0.74405328])}"
            ]
          },
          "metadata": {
            "tags": []
          },
          "execution_count": 97
        }
      ]
    },
    {
      "cell_type": "code",
      "metadata": {
        "colab": {
          "base_uri": "https://localhost:8080/"
        },
        "id": "KY-mdKxjwNr2",
        "outputId": "8b4bb183-47f6-426c-f217-fc89d2ebc639"
      },
      "source": [
        "print(f\"Accuracy (Tr/Te): {np.mean(cv['train_accuracy']) * 100:.2f}%/{np.mean(cv['test_accuracy']) * 100:.2f}%\")\r\n",
        "print(f\"Recall (Tr/Te): {np.mean(cv['train_recall']) * 100:.2f}%/{np.mean(cv['test_recall']) * 100:.2f}%\")\r\n",
        "print(f\"Precision (Tr/Te): {np.mean(cv['train_precision']) * 100:.2f}%/{np.mean(cv['test_precision']) * 100:.2f}%\")\r\n",
        "print(f\"F1 (Tr/Te): {np.mean(cv['train_f1']) * 100:.2f}%/{np.mean(cv['test_f1']) * 100:.2f}%\")"
      ],
      "execution_count": 98,
      "outputs": [
        {
          "output_type": "stream",
          "text": [
            "Accuracy (Tr/Te): 79.74%/79.73%\n",
            "Recall (Tr/Te): 74.35%/74.32%\n",
            "Precision (Tr/Te): 21.17%/21.16%\n",
            "F1 (Tr/Te): 32.95%/32.94%\n"
          ],
          "name": "stdout"
        }
      ]
    },
    {
      "cell_type": "code",
      "metadata": {
        "colab": {
          "base_uri": "https://localhost:8080/"
        },
        "id": "tuS1OGJSwZQw",
        "outputId": "9521ec92-1b5a-4d69-b906-e5355fa25d21"
      },
      "source": [
        "from sklearn.metrics import classification_report, mean_squared_error, plot_confusion_matrix, plot_precision_recall_curve\r\n",
        "print(classification_report(y, logit.predict(X)))"
      ],
      "execution_count": 100,
      "outputs": [
        {
          "output_type": "stream",
          "text": [
            "              precision    recall  f1-score   support\n",
            "\n",
            "           0       0.93      0.81      0.87    139421\n",
            "           1       0.06      0.16      0.08     10009\n",
            "\n",
            "    accuracy                           0.77    149430\n",
            "   macro avg       0.49      0.49      0.48    149430\n",
            "weighted avg       0.87      0.77      0.82    149430\n",
            "\n"
          ],
          "name": "stdout"
        }
      ]
    },
    {
      "cell_type": "code",
      "metadata": {
        "colab": {
          "base_uri": "https://localhost:8080/",
          "height": 292
        },
        "id": "AU2PkILCwl3R",
        "outputId": "4c0a8af0-b373-42b8-8585-7ddd74984b1e"
      },
      "source": [
        "fig, ax = plt.subplots(1, 1)\r\n",
        "disp = plot_confusion_matrix(\r\n",
        "    logit, X, y,\r\n",
        "    normalize='true', \r\n",
        "    display_labels=['1', '0'], \r\n",
        "    values_format='.4f', \r\n",
        "    ax=ax)\r\n",
        "ax.set_title('Confusion matrix, normalized')\r\n",
        "ax.xaxis.tick_top()\r\n",
        "ax.xaxis.set_label_position('top')"
      ],
      "execution_count": 101,
      "outputs": [
        {
          "output_type": "display_data",
          "data": {
            "image/png": "[encoded data removed]",
            "text/plain": [
              "<Figure size 432x288 with 2 Axes>"
            ]
          },
          "metadata": {
            "tags": [],
            "needs_background": "light"
          }
        }
      ]
    },
    {
      "cell_type": "markdown",
      "metadata": {
        "id": "bUhyQix6ZsTF"
      },
      "source": [
        "**Logistic regression with under sampling method**"
      ]
    },
    {
      "cell_type": "code",
      "metadata": {
        "colab": {
          "base_uri": "https://localhost:8080/"
        },
        "id": "renMuJ7oSoVl",
        "outputId": "aa21bc60-9478-4c5f-ff0d-e139729ee129"
      },
      "source": [
        "#Random Sampling\r\n",
        "from imblearn.under_sampling import RandomUnderSampler\r\n",
        "from collections import Counter\r\n",
        "print(\"Original dataset shape {}\".format(Counter(y)))"
      ],
      "execution_count": null,
      "outputs": [
        {
          "output_type": "stream",
          "text": [
            "Original dataset shape Counter({0: 139421, 1: 10009})\n"
          ],
          "name": "stdout"
        }
      ]
    },
    {
      "cell_type": "code",
      "metadata": {
        "colab": {
          "base_uri": "https://localhost:8080/"
        },
        "id": "QmyrqNGVXVp2",
        "outputId": "a36a2e5f-78dd-4bc3-bc46-081686569590"
      },
      "source": [
        "rus = RandomUnderSampler(random_state=11)\r\n",
        "X_resampled, y_resampled = rus.fit_sample(X,y)\r\n",
        "print(\"Resampled dataset shape {}\".format(Counter(y_resampled)))"
      ],
      "execution_count": null,
      "outputs": [
        {
          "output_type": "stream",
          "text": [
            "Resampled dataset shape Counter({0: 10009, 1: 10009})\n"
          ],
          "name": "stdout"
        },
        {
          "output_type": "stream",
          "text": [
            "/usr/local/lib/python3.7/dist-packages/sklearn/utils/deprecation.py:87: FutureWarning: Function safe_indexing is deprecated; safe_indexing is deprecated in version 0.22 and will be removed in version 0.24.\n",
            "  warnings.warn(msg, category=FutureWarning)\n"
          ],
          "name": "stderr"
        }
      ]
    },
    {
      "cell_type": "code",
      "metadata": {
        "colab": {
          "base_uri": "https://localhost:8080/"
        },
        "id": "W-RZeIQtXjPT",
        "outputId": "ce40f807-bcb5-4f9f-ddea-d0540861d50d"
      },
      "source": [
        "X_resampled.shape, y_resampled.shape"
      ],
      "execution_count": null,
      "outputs": [
        {
          "output_type": "execute_result",
          "data": {
            "text/plain": [
              "((20018, 13), (20018,))"
            ]
          },
          "metadata": {
            "tags": []
          },
          "execution_count": 44
        }
      ]
    },
    {
      "cell_type": "code",
      "metadata": {
        "colab": {
          "base_uri": "https://localhost:8080/"
        },
        "id": "ViP47ydcYEzk",
        "outputId": "0c92d40f-781c-4691-d155-e56d1a972a28"
      },
      "source": [
        "from sklearn.model_selection import train_test_split\r\n",
        "X_train_rus, X_test_rus, y_train_rus, y_test_rus = train_test_split(X_resampled, y_resampled, random_state=11)\r\n",
        "X_train_rus.shape, y_train_rus.shape"
      ],
      "execution_count": null,
      "outputs": [
        {
          "output_type": "execute_result",
          "data": {
            "text/plain": [
              "((15013, 13), (15013,))"
            ]
          },
          "metadata": {
            "tags": []
          },
          "execution_count": 49
        }
      ]
    },
    {
      "cell_type": "code",
      "metadata": {
        "id": "Liq_lq9fYOEG"
      },
      "source": [
        "scaler = StandardScaler().fit(X_train_rus)\r\n",
        "X_train_rus_scaled = scaler.transform(X_train_rus)\r\n",
        "X_test_rus_scaled = scaler.transform(X_test_rus)"
      ],
      "execution_count": null,
      "outputs": []
    },
    {
      "cell_type": "code",
      "metadata": {
        "id": "wUJX1O1ZYbBZ"
      },
      "source": [
        "logit_resampled = LogisticRegression(random_state=11, solver=\"saga\", penalty=\"l1\", C=1.0, max_iter=500)\r\n",
        "logit_resampled.fit(X_train_rus_scaled, y_train_rus)\r\n",
        "logit_resampled_proba_res = logit_resampled.predict_proba(X_train_rus_scaled)\r\n",
        "logit_resampled_scores = logit_resampled_proba_res[:,1]"
      ],
      "execution_count": null,
      "outputs": []
    },
    {
      "cell_type": "code",
      "metadata": {
        "colab": {
          "base_uri": "https://localhost:8080/"
        },
        "id": "PZiEd8zLZcX1",
        "outputId": "8c747fea-8039-45b2-c876-98f7fd1b9e65"
      },
      "source": [
        "cv = cross_validate(estimator=logit_resampled, X=X_train_rus_scaled, y=y_train_rus, scoring=[\"f1\", \"recall\", \"precision\", \"accuracy\"], cv=10, n_jobs=-1, return_train_score=True, verbose=1)"
      ],
      "execution_count": null,
      "outputs": [
        {
          "output_type": "stream",
          "text": [
            "[Parallel(n_jobs=-1)]: Using backend LokyBackend with 2 concurrent workers.\n",
            "[Parallel(n_jobs=-1)]: Done  10 out of  10 | elapsed:    8.8s finished\n"
          ],
          "name": "stderr"
        }
      ]
    },
    {
      "cell_type": "code",
      "metadata": {
        "colab": {
          "base_uri": "https://localhost:8080/"
        },
        "id": "zJsj-ZCNaGjM",
        "outputId": "a82483ba-0ec2-46e8-c5f8-33f43676fcec"
      },
      "source": [
        "cv"
      ],
      "execution_count": null,
      "outputs": [
        {
          "output_type": "execute_result",
          "data": {
            "text/plain": [
              "{'fit_time': array([1.25628257, 1.71068883, 1.80094624, 1.33529234, 1.46811438,\n",
              "        1.71549511, 1.70304155, 1.2378242 , 1.39002657, 1.3524332 ]),\n",
              " 'score_time': array([0.00736475, 0.00939631, 0.00722075, 0.00673723, 0.0067904 ,\n",
              "        0.00669479, 0.00746441, 0.00762963, 0.00734496, 0.00460434]),\n",
              " 'test_accuracy': array([0.77030626, 0.78229028, 0.76764314, 0.78081279, 0.76482345,\n",
              "        0.76149234, 0.77148568, 0.77481679, 0.75483011, 0.78014657]),\n",
              " 'test_f1': array([0.75958188, 0.77709611, 0.75881133, 0.77231834, 0.75772135,\n",
              "        0.75242047, 0.76197085, 0.76817558, 0.74794521, 0.77303989]),\n",
              " 'test_precision': array([0.79215116, 0.79166667, 0.78428571, 0.79828326, 0.77637131,\n",
              "        0.77714286, 0.79106628, 0.78762307, 0.7657784 , 0.79490806]),\n",
              " 'test_recall': array([0.72958501, 0.76305221, 0.73493976, 0.74798928, 0.73994638,\n",
              "        0.72922252, 0.73493976, 0.74966533, 0.73092369, 0.7523427 ]),\n",
              " 'train_accuracy': array([0.77233365, 0.77048331, 0.77277774, 0.77183245, 0.77272054,\n",
              "        0.77257253, 0.77220249, 0.77131439, 0.77427472, 0.77109236]),\n",
              " 'train_f1': array([0.76479584, 0.76253924, 0.76511094, 0.76351921, 0.76458413,\n",
              "        0.76457519, 0.76424632, 0.76325467, 0.76649824, 0.76282494]),\n",
              " 'train_precision': array([0.7865681 , 0.78545512, 0.78740157, 0.78799873, 0.78858318,\n",
              "        0.78806064, 0.7874053 , 0.78663929, 0.7893409 , 0.78690081]),\n",
              " 'train_recall': array([0.74419643, 0.74092262, 0.74404762, 0.7405148 , 0.74200268,\n",
              "        0.74244904, 0.74241071, 0.74122024, 0.74494048, 0.74017857])}"
            ]
          },
          "metadata": {
            "tags": []
          },
          "execution_count": 56
        }
      ]
    },
    {
      "cell_type": "code",
      "metadata": {
        "colab": {
          "base_uri": "https://localhost:8080/"
        },
        "id": "kVcKvEUoaIcd",
        "outputId": "73a49cf2-8870-4860-c36e-fe0f63ea9862"
      },
      "source": [
        "print(f\"Accuracy (Tr/Te): {np.mean(cv['train_accuracy']) * 100:.2f}%/{np.mean(cv['test_accuracy']) * 100:.2f}%\")\r\n",
        "print(f\"Recall (Tr/Te): {np.mean(cv['train_recall']) * 100:.2f}%/{np.mean(cv['test_recall']) * 100:.2f}%\")\r\n",
        "print(f\"Precision (Tr/Te): {np.mean(cv['train_precision']) * 100:.2f}%/{np.mean(cv['test_precision']) * 100:.2f}%\")\r\n",
        "print(f\"F1 (Tr/Te): {np.mean(cv['train_f1']) * 100:.2f}%/{np.mean(cv['test_f1']) * 100:.2f}%\")"
      ],
      "execution_count": null,
      "outputs": [
        {
          "output_type": "stream",
          "text": [
            "Accuracy (Tr/Te): 77.22%/77.09%\n",
            "Recall (Tr/Te): 74.23%/74.13%\n",
            "Precision (Tr/Te): 78.74%/78.59%\n",
            "F1 (Tr/Te): 76.42%/76.29%\n"
          ],
          "name": "stdout"
        }
      ]
    },
    {
      "cell_type": "code",
      "metadata": {
        "colab": {
          "base_uri": "https://localhost:8080/"
        },
        "id": "YCDvtxT8arAY",
        "outputId": "ea2193a0-3370-4796-bc48-b3af7e52c5e4"
      },
      "source": [
        "from sklearn.metrics import classification_report, mean_squared_error, plot_confusion_matrix, plot_precision_recall_curve\r\n",
        "print(classification_report(y, logit_resampled.predict(X)))"
      ],
      "execution_count": null,
      "outputs": [
        {
          "output_type": "stream",
          "text": [
            "              precision    recall  f1-score   support\n",
            "\n",
            "           0       0.93      1.00      0.97    139421\n",
            "           1       0.20      0.00      0.00     10009\n",
            "\n",
            "    accuracy                           0.93    149430\n",
            "   macro avg       0.57      0.50      0.48    149430\n",
            "weighted avg       0.88      0.93      0.90    149430\n",
            "\n"
          ],
          "name": "stdout"
        }
      ]
    },
    {
      "cell_type": "code",
      "metadata": {
        "colab": {
          "base_uri": "https://localhost:8080/",
          "height": 292
        },
        "id": "FvlzwTnHhQ6W",
        "outputId": "0dda88db-8489-4023-dc18-f0cf95e1edde"
      },
      "source": [
        "fig, ax = plt.subplots(1, 1)\r\n",
        "disp = plot_confusion_matrix(\r\n",
        "    logit_resampled, X, y,\r\n",
        "    normalize='true', \r\n",
        "    display_labels=['1', '0'], \r\n",
        "    values_format='.4f', \r\n",
        "    ax=ax)\r\n",
        "ax.set_title('Confusion matrix, normalized')\r\n",
        "ax.xaxis.tick_top()\r\n",
        "ax.xaxis.set_label_position('top')"
      ],
      "execution_count": null,
      "outputs": [
        {
          "output_type": "display_data",
          "data": {
            "image/png": "[encoded data removed]",
            "text/plain": [
              "<Figure size 432x288 with 2 Axes>"
            ]
          },
          "metadata": {
            "tags": [],
            "needs_background": "light"
          }
        }
      ]
    },
    {
      "cell_type": "markdown",
      "metadata": {
        "id": "HzGfHszPZGp6"
      },
      "source": [
        "Using under sampling method to get a balance dataset did not help improve predicted model."
      ]
    },
    {
      "cell_type": "markdown",
      "metadata": {
        "id": "h_IeLMw5b5wv"
      },
      "source": [
        "**Logistic regression with Over sampling method**"
      ]
    },
    {
      "cell_type": "code",
      "metadata": {
        "colab": {
          "base_uri": "https://localhost:8080/"
        },
        "id": "3n7flA-0cGfG",
        "outputId": "8848d435-fcf8-40ba-c307-1ce17fc070f2"
      },
      "source": [
        "from imblearn.over_sampling import SMOTE\r\n",
        "from collections import Counter\r\n",
        "print(\"Original dataset shape {}\".format(Counter(y)))"
      ],
      "execution_count": null,
      "outputs": [
        {
          "output_type": "stream",
          "text": [
            "Original dataset shape Counter({0: 139421, 1: 10009})\n"
          ],
          "name": "stdout"
        }
      ]
    },
    {
      "cell_type": "code",
      "metadata": {
        "colab": {
          "base_uri": "https://localhost:8080/"
        },
        "id": "fTQNWpNpcTWN",
        "outputId": "2a1f33c0-8118-4517-db9c-8732ce5199d3"
      },
      "source": [
        "ros = SMOTE()\r\n",
        "X_oversampled, y_oversampled = ros.fit_resample(X, y)\r\n",
        "print(\"Resampled dataset shape {}\".format(Counter(y_oversampled)))"
      ],
      "execution_count": null,
      "outputs": [
        {
          "output_type": "stream",
          "text": [
            "/usr/local/lib/python3.7/dist-packages/sklearn/utils/deprecation.py:87: FutureWarning: Function safe_indexing is deprecated; safe_indexing is deprecated in version 0.22 and will be removed in version 0.24.\n",
            "  warnings.warn(msg, category=FutureWarning)\n"
          ],
          "name": "stderr"
        },
        {
          "output_type": "stream",
          "text": [
            "Resampled dataset shape Counter({1: 139421, 0: 139421})\n"
          ],
          "name": "stdout"
        }
      ]
    },
    {
      "cell_type": "code",
      "metadata": {
        "colab": {
          "base_uri": "https://localhost:8080/"
        },
        "id": "X7kN8pGdeLzW",
        "outputId": "5b741e7a-3ca6-4ff5-d2d7-2ca8add9b223"
      },
      "source": [
        "X_oversampled.shape, y_oversampled.shape"
      ],
      "execution_count": null,
      "outputs": [
        {
          "output_type": "execute_result",
          "data": {
            "text/plain": [
              "((278842, 13), (278842,))"
            ]
          },
          "metadata": {
            "tags": []
          },
          "execution_count": 74
        }
      ]
    },
    {
      "cell_type": "code",
      "metadata": {
        "colab": {
          "base_uri": "https://localhost:8080/"
        },
        "id": "fU-KB0Giem6h",
        "outputId": "eae23ea7-cabd-4c33-f114-274b17e8951d"
      },
      "source": [
        "from sklearn.model_selection import train_test_split\r\n",
        "X_train_ros, X_test_ros, y_train_ros, y_test_ros = train_test_split(X_oversampled, y_oversampled, random_state=11)\r\n",
        "X_train_ros.shape, y_train_ros.shape"
      ],
      "execution_count": null,
      "outputs": [
        {
          "output_type": "execute_result",
          "data": {
            "text/plain": [
              "((209131, 13), (209131,))"
            ]
          },
          "metadata": {
            "tags": []
          },
          "execution_count": 75
        }
      ]
    },
    {
      "cell_type": "code",
      "metadata": {
        "id": "DgHd4qcue_lN"
      },
      "source": [
        "scaler = StandardScaler().fit(X_train_ros)\r\n",
        "X_train_ros_scaled = scaler.transform(X_train_ros)\r\n",
        "X_test_ros_scaled = scaler.transform(X_test_ros)"
      ],
      "execution_count": null,
      "outputs": []
    },
    {
      "cell_type": "code",
      "metadata": {
        "id": "ubVNbvtJfMot"
      },
      "source": [
        "logit_oversampled = LogisticRegression(random_state=11, solver=\"saga\", penalty=\"l1\", C=1.0, max_iter=500)\r\n",
        "logit_oversampled.fit(X_train_ros_scaled, y_train_ros)\r\n",
        "logit_oversampled_proba_res = logit_oversampled.predict_proba(X_train_ros_scaled)\r\n",
        "logit_resampled_scores = logit_oversampled_proba_res[:,1]"
      ],
      "execution_count": null,
      "outputs": []
    },
    {
      "cell_type": "code",
      "metadata": {
        "colab": {
          "base_uri": "https://localhost:8080/"
        },
        "id": "z1wS3CM5fq50",
        "outputId": "d0f931f0-3aba-4313-ed6b-6a68b5d527b7"
      },
      "source": [
        "cv = cross_validate(estimator=logit_oversampled, X=X_train_ros_scaled, y=y_train_ros, scoring=[\"f1\", \"recall\", \"precision\", \"accuracy\"], cv=10, n_jobs=-1, return_train_score=True, verbose=1)"
      ],
      "execution_count": null,
      "outputs": [
        {
          "output_type": "stream",
          "text": [
            "[Parallel(n_jobs=-1)]: Using backend LokyBackend with 2 concurrent workers.\n",
            "[Parallel(n_jobs=-1)]: Done  10 out of  10 | elapsed:  3.6min finished\n"
          ],
          "name": "stderr"
        }
      ]
    },
    {
      "cell_type": "code",
      "metadata": {
        "colab": {
          "base_uri": "https://localhost:8080/"
        },
        "id": "m7KfBnopf4LW",
        "outputId": "9502586a-0fd3-4bc1-a780-65cae1f1e576"
      },
      "source": [
        "cv"
      ],
      "execution_count": null,
      "outputs": [
        {
          "output_type": "execute_result",
          "data": {
            "text/plain": [
              "{'fit_time': array([37.81048179, 70.33939266, 40.32504511, 40.77908611, 31.4713335 ,\n",
              "        38.11288738, 37.88965106, 38.28693438, 34.3495512 , 31.92303753]),\n",
              " 'score_time': array([0.05132365, 0.05047011, 0.0507462 , 0.04943013, 0.05106688,\n",
              "        0.05057502, 0.05243897, 0.05058336, 0.05034304, 0.03433442]),\n",
              " 'test_accuracy': array([0.80601511, 0.7961555 , 0.80351934, 0.79696839, 0.80208483,\n",
              "        0.80289772, 0.80021996, 0.7989289 , 0.80108067, 0.8014632 ]),\n",
              " 'test_f1': array([0.80231935, 0.79122386, 0.79854881, 0.79198511, 0.7967791 ,\n",
              "        0.79871081, 0.7957168 , 0.79464765, 0.79659691, 0.79698807]),\n",
              " 'test_precision': array([0.81700903, 0.80990575, 0.81832797, 0.81097622, 0.8178611 ,\n",
              "        0.81519139, 0.81321207, 0.81108563, 0.81411153, 0.81451129]),\n",
              " 'test_recall': array([0.78814857, 0.77338439, 0.77970321, 0.77386309, 0.77675665,\n",
              "        0.7828834 , 0.77895845, 0.77886272, 0.77982003, 0.78020295]),\n",
              " 'train_accuracy': array([0.80095316, 0.80107641, 0.80039635, 0.80110829, 0.80118798,\n",
              "        0.80085858, 0.80130487, 0.80150676, 0.80086389, 0.80105516]),\n",
              " 'train_f1': array([0.79617419, 0.79664561, 0.79583286, 0.79665169, 0.79648886,\n",
              "        0.7963134 , 0.79667707, 0.79685274, 0.79633987, 0.79645806]),\n",
              " 'train_precision': array([0.81487421, 0.8139171 , 0.81357571, 0.81403404, 0.81488076,\n",
              "        0.81402558, 0.81478598, 0.81509539, 0.81396485, 0.81440927]),\n",
              " 'train_recall': array([0.77831318, 0.7800919 , 0.77884738, 0.77999617, 0.77890885,\n",
              "        0.77935561, 0.77935561, 0.77940879, 0.77946198, 0.77928115])}"
            ]
          },
          "metadata": {
            "tags": []
          },
          "execution_count": 82
        }
      ]
    },
    {
      "cell_type": "code",
      "metadata": {
        "colab": {
          "base_uri": "https://localhost:8080/"
        },
        "id": "Zej_xf5Lf37B",
        "outputId": "8d704e11-8ef9-4255-ac0c-8c076ee064e1"
      },
      "source": [
        "print(f\"Accuracy (Tr/Te): {np.mean(cv['train_accuracy']) * 100:.2f}%/{np.mean(cv['test_accuracy']) * 100:.2f}%\")\r\n",
        "print(f\"Recall (Tr/Te): {np.mean(cv['train_recall']) * 100:.2f}%/{np.mean(cv['test_recall']) * 100:.2f}%\")\r\n",
        "print(f\"Precision (Tr/Te): {np.mean(cv['train_precision']) * 100:.2f}%/{np.mean(cv['test_precision']) * 100:.2f}%\")\r\n",
        "print(f\"F1 (Tr/Te): {np.mean(cv['train_f1']) * 100:.2f}%/{np.mean(cv['test_f1']) * 100:.2f}%\")"
      ],
      "execution_count": null,
      "outputs": [
        {
          "output_type": "stream",
          "text": [
            "Accuracy (Tr/Te): 80.10%/80.09%\n",
            "Recall (Tr/Te): 77.93%/77.93%\n",
            "Precision (Tr/Te): 81.44%/81.42%\n",
            "F1 (Tr/Te): 79.64%/79.64%\n"
          ],
          "name": "stdout"
        }
      ]
    },
    {
      "cell_type": "code",
      "metadata": {
        "colab": {
          "base_uri": "https://localhost:8080/"
        },
        "id": "xCmOwwxaf8PT",
        "outputId": "1e143dd6-83ed-4187-9f8b-c7be1f966522"
      },
      "source": [
        "from sklearn.metrics import classification_report, mean_squared_error, plot_confusion_matrix, plot_precision_recall_curve\r\n",
        "print(classification_report(y, logit_oversampled.predict(X)))"
      ],
      "execution_count": null,
      "outputs": [
        {
          "output_type": "stream",
          "text": [
            "              precision    recall  f1-score   support\n",
            "\n",
            "           0       0.93      1.00      0.97    139421\n",
            "           1       0.18      0.00      0.00     10009\n",
            "\n",
            "    accuracy                           0.93    149430\n",
            "   macro avg       0.56      0.50      0.48    149430\n",
            "weighted avg       0.88      0.93      0.90    149430\n",
            "\n"
          ],
          "name": "stdout"
        }
      ]
    },
    {
      "cell_type": "code",
      "metadata": {
        "colab": {
          "base_uri": "https://localhost:8080/",
          "height": 292
        },
        "id": "xQ6Y4xoZg2vc",
        "outputId": "c70132df-5e2b-43b4-c32c-0b2ec659dcd8"
      },
      "source": [
        "fig, ax = plt.subplots(1, 1)\r\n",
        "disp = plot_confusion_matrix(\r\n",
        "    logit_oversampled, X, y,\r\n",
        "    normalize='true', \r\n",
        "    display_labels=['1', '0'], \r\n",
        "    values_format='.4f', \r\n",
        "    ax=ax)\r\n",
        "ax.set_title('Confusion matrix, normalized')\r\n",
        "ax.xaxis.tick_top()\r\n",
        "ax.xaxis.set_label_position('top')"
      ],
      "execution_count": null,
      "outputs": [
        {
          "output_type": "display_data",
          "data": {
            "image/png": "[encoded data removed]",
            "text/plain": [
              "<Figure size 432x288 with 2 Axes>"
            ]
          },
          "metadata": {
            "tags": [],
            "needs_background": "light"
          }
        }
      ]
    },
    {
      "cell_type": "markdown",
      "metadata": {
        "id": "tsGjd4Fux4mW"
      },
      "source": [
        "**4.2 Random Forest**"
      ]
    },
    {
      "cell_type": "code",
      "metadata": {
        "id": "Cz9NOyvrQ5yb"
      },
      "source": [
        "X_train"
      ],
      "execution_count": null,
      "outputs": []
    },
    {
      "cell_type": "code",
      "metadata": {
        "id": "j6ZDE4jtRB2j"
      },
      "source": [
        "y_train"
      ],
      "execution_count": null,
      "outputs": []
    },
    {
      "cell_type": "code",
      "metadata": {
        "colab": {
          "base_uri": "https://localhost:8080/"
        },
        "id": "9ukSvbovPgsF",
        "outputId": "24d6bb95-7789-4fbd-c257-7d7f4e032771"
      },
      "source": [
        "X_train.shape, y_train.shape"
      ],
      "execution_count": null,
      "outputs": [
        {
          "output_type": "execute_result",
          "data": {
            "text/plain": [
              "((104601, 13), (104601,))"
            ]
          },
          "metadata": {
            "tags": []
          },
          "execution_count": 89
        }
      ]
    },
    {
      "cell_type": "code",
      "metadata": {
        "colab": {
          "base_uri": "https://localhost:8080/"
        },
        "id": "qxjDhFG3iYwc",
        "outputId": "4247fff0-62d9-46f1-e1fb-c98dbac35f17"
      },
      "source": [
        "X_test.shape, y_test.shape"
      ],
      "execution_count": null,
      "outputs": [
        {
          "output_type": "execute_result",
          "data": {
            "text/plain": [
              "((44829, 13), (44829,))"
            ]
          },
          "metadata": {
            "tags": []
          },
          "execution_count": 90
        }
      ]
    },
    {
      "cell_type": "code",
      "metadata": {
        "colab": {
          "base_uri": "https://localhost:8080/",
          "height": 207
        },
        "id": "pMp3br2mjOc1",
        "outputId": "ee85011b-fc7e-4285-a219-7628a6371e64"
      },
      "source": [
        "X_train.head()"
      ],
      "execution_count": null,
      "outputs": [
        {
          "output_type": "execute_result",
          "data": {
            "text/html": [
              "<div>\n",
              "<style scoped>\n",
              "    .dataframe tbody tr th:only-of-type {\n",
              "        vertical-align: middle;\n",
              "    }\n",
              "\n",
              "    .dataframe tbody tr th {\n",
              "        vertical-align: top;\n",
              "    }\n",
              "\n",
              "    .dataframe thead th {\n",
              "        text-align: right;\n",
              "    }\n",
              "</style>\n",
              "<table border=\"1\" class=\"dataframe\">\n",
              "  <thead>\n",
              "    <tr style=\"text-align: right;\">\n",
              "      <th></th>\n",
              "      <th>RevolvingUtilizationOfUnsecuredLines</th>\n",
              "      <th>age</th>\n",
              "      <th>NumberOfTime30-59DaysPastDueNotWorse</th>\n",
              "      <th>DebtRatio</th>\n",
              "      <th>MonthlyIncome</th>\n",
              "      <th>NumberOfOpenCreditLinesAndLoans</th>\n",
              "      <th>NumberOfTimes90DaysLate</th>\n",
              "      <th>NumberRealEstateLoansOrLines</th>\n",
              "      <th>NumberOfTime60-89DaysPastDueNotWorse</th>\n",
              "      <th>NumberOfDependents</th>\n",
              "      <th>MonthlyDebt</th>\n",
              "      <th>Retired</th>\n",
              "      <th>hasMultipleRealEstates</th>\n",
              "    </tr>\n",
              "  </thead>\n",
              "  <tbody>\n",
              "    <tr>\n",
              "      <th>70192</th>\n",
              "      <td>0.105863</td>\n",
              "      <td>63</td>\n",
              "      <td>0</td>\n",
              "      <td>0.146550</td>\n",
              "      <td>4100.0</td>\n",
              "      <td>9</td>\n",
              "      <td>0</td>\n",
              "      <td>0</td>\n",
              "      <td>0</td>\n",
              "      <td>0.0</td>\n",
              "      <td>600.853450</td>\n",
              "      <td>0</td>\n",
              "      <td>0</td>\n",
              "    </tr>\n",
              "    <tr>\n",
              "      <th>49874</th>\n",
              "      <td>1.000000</td>\n",
              "      <td>28</td>\n",
              "      <td>0</td>\n",
              "      <td>0.000000</td>\n",
              "      <td>2583.0</td>\n",
              "      <td>1</td>\n",
              "      <td>0</td>\n",
              "      <td>0</td>\n",
              "      <td>0</td>\n",
              "      <td>0.0</td>\n",
              "      <td>0.000000</td>\n",
              "      <td>0</td>\n",
              "      <td>0</td>\n",
              "    </tr>\n",
              "    <tr>\n",
              "      <th>46075</th>\n",
              "      <td>0.178442</td>\n",
              "      <td>49</td>\n",
              "      <td>0</td>\n",
              "      <td>0.726903</td>\n",
              "      <td>6883.0</td>\n",
              "      <td>8</td>\n",
              "      <td>0</td>\n",
              "      <td>2</td>\n",
              "      <td>1</td>\n",
              "      <td>2.0</td>\n",
              "      <td>5003.273094</td>\n",
              "      <td>0</td>\n",
              "      <td>1</td>\n",
              "    </tr>\n",
              "    <tr>\n",
              "      <th>60130</th>\n",
              "      <td>0.027982</td>\n",
              "      <td>53</td>\n",
              "      <td>0</td>\n",
              "      <td>0.005087</td>\n",
              "      <td>5700.0</td>\n",
              "      <td>4</td>\n",
              "      <td>0</td>\n",
              "      <td>0</td>\n",
              "      <td>0</td>\n",
              "      <td>3.0</td>\n",
              "      <td>28.994914</td>\n",
              "      <td>0</td>\n",
              "      <td>0</td>\n",
              "    </tr>\n",
              "    <tr>\n",
              "      <th>9937</th>\n",
              "      <td>0.013144</td>\n",
              "      <td>42</td>\n",
              "      <td>0</td>\n",
              "      <td>0.267733</td>\n",
              "      <td>2875.0</td>\n",
              "      <td>7</td>\n",
              "      <td>0</td>\n",
              "      <td>1</td>\n",
              "      <td>0</td>\n",
              "      <td>0.0</td>\n",
              "      <td>769.732266</td>\n",
              "      <td>0</td>\n",
              "      <td>0</td>\n",
              "    </tr>\n",
              "  </tbody>\n",
              "</table>\n",
              "</div>"
            ],
            "text/plain": [
              "       RevolvingUtilizationOfUnsecuredLines  ...  hasMultipleRealEstates\n",
              "70192                              0.105863  ...                       0\n",
              "49874                              1.000000  ...                       0\n",
              "46075                              0.178442  ...                       1\n",
              "60130                              0.027982  ...                       0\n",
              "9937                               0.013144  ...                       0\n",
              "\n",
              "[5 rows x 13 columns]"
            ]
          },
          "metadata": {
            "tags": []
          },
          "execution_count": 100
        }
      ]
    },
    {
      "cell_type": "code",
      "metadata": {
        "id": "Szi2Bs2bjxaN"
      },
      "source": [
        "from sklearn.ensemble import RandomForestClassifier\r\n",
        "forest = RandomForestClassifier(random_state=11,n_estimators=100, max_depth=5, class_weight=\"balanced\")\r\n",
        "forest.fit(X_train,y_train) #Using the original dataset, not the resampled\r\n",
        "y_scores_proba = forest.predict_proba(X_train)\r\n",
        "y_scores = y_scores_proba[:,1]"
      ],
      "execution_count": 40,
      "outputs": []
    },
    {
      "cell_type": "code",
      "metadata": {
        "colab": {
          "base_uri": "https://localhost:8080/"
        },
        "id": "c8zpDrM7kAyP",
        "outputId": "10f66a0b-6f43-4648-a3e2-8e724c1ec277"
      },
      "source": [
        "cv = cross_validate(estimator=forest, X=X_train, y=y_train, scoring=[\"f1\", \"recall\", \"precision\", \"accuracy\"], cv=10, n_jobs=-1, return_train_score=True, verbose=1)"
      ],
      "execution_count": 41,
      "outputs": [
        {
          "output_type": "stream",
          "text": [
            "[Parallel(n_jobs=-1)]: Using backend LokyBackend with 2 concurrent workers.\n",
            "[Parallel(n_jobs=-1)]: Done  10 out of  10 | elapsed:  1.0min finished\n"
          ],
          "name": "stderr"
        }
      ]
    },
    {
      "cell_type": "code",
      "metadata": {
        "colab": {
          "base_uri": "https://localhost:8080/"
        },
        "id": "pvDriCwKkApU",
        "outputId": "431a2893-3a92-4e95-8433-23d5e002fc78"
      },
      "source": [
        "cv"
      ],
      "execution_count": 42,
      "outputs": [
        {
          "output_type": "execute_result",
          "data": {
            "text/plain": [
              "{'fit_time': array([10.50227714, 10.52668238, 10.57019711, 10.46454692, 10.51996398,\n",
              "        10.42518973, 10.53621244, 10.55638194, 10.57880187, 10.49264836]),\n",
              " 'score_time': array([0.14095283, 0.14298272, 0.15125632, 0.13833523, 0.14402413,\n",
              "        0.14459276, 0.14086676, 0.14226604, 0.14604449, 0.14295006]),\n",
              " 'test_accuracy': array([0.7696205 , 0.76558317, 0.76500956, 0.76405354, 0.7624283 ,\n",
              "        0.76940727, 0.76644359, 0.77284895, 0.76070746, 0.76309751]),\n",
              " 'test_f1': array([0.31103488, 0.30577576, 0.31071228, 0.30045351, 0.30991391,\n",
              "        0.31477273, 0.31892947, 0.32075472, 0.30064264, 0.30314961]),\n",
              " 'test_precision': array([0.1944941 , 0.19074532, 0.19336824, 0.18747789, 0.19241379,\n",
              "        0.19652359, 0.19812955, 0.20050036, 0.18687044, 0.18872549]),\n",
              " 'test_recall': array([0.77603424, 0.7703281 , 0.79029957, 0.75606277, 0.79600571,\n",
              "        0.79029957, 0.81714286, 0.80142857, 0.76857143, 0.77      ]),\n",
              " 'train_accuracy': array([0.77001275, 0.76868739, 0.76652043, 0.77091809, 0.76114552,\n",
              "        0.77110929, 0.76247331, 0.76592558, 0.76263265, 0.76842184]),\n",
              " 'train_f1': array([0.31425585, 0.31331988, 0.3117485 , 0.31701292, 0.30761177,\n",
              "        0.3149361 , 0.30777327, 0.31059942, 0.30894359, 0.31389457]),\n",
              " 'train_precision': array([0.19633529, 0.19553666, 0.19421794, 0.1980531 , 0.19086011,\n",
              "        0.1969462 , 0.19121437, 0.19346792, 0.19189397, 0.19580667]),\n",
              " 'train_recall': array([0.78683584, 0.78794607, 0.78953212, 0.79381443, 0.79222839,\n",
              "        0.78556701, 0.78829686, 0.78718681, 0.79210276, 0.79083413])}"
            ]
          },
          "metadata": {
            "tags": []
          },
          "execution_count": 42
        }
      ]
    },
    {
      "cell_type": "code",
      "metadata": {
        "colab": {
          "base_uri": "https://localhost:8080/"
        },
        "id": "GYBGYf3pkpMM",
        "outputId": "b2aafca0-b895-47ee-fe51-7385f3a150c5"
      },
      "source": [
        "print(f\"Accuracy (Tr/Te): {np.mean(cv['train_accuracy']) * 100:.2f}%/{np.mean(cv['test_accuracy']) * 100:.2f}%\")\r\n",
        "print(f\"Recall (Tr/Te): {np.mean(cv['train_recall']) * 100:.2f}%/{np.mean(cv['test_recall']) * 100:.2f}%\")\r\n",
        "print(f\"Precision (Tr/Te): {np.mean(cv['train_precision']) * 100:.2f}%/{np.mean(cv['test_precision']) * 100:.2f}%\")\r\n",
        "print(f\"F1 (Tr/Te): {np.mean(cv['train_f1']) * 100:.2f}%/{np.mean(cv['test_f1']) * 100:.2f}%\")"
      ],
      "execution_count": 43,
      "outputs": [
        {
          "output_type": "stream",
          "text": [
            "Accuracy (Tr/Te): 76.68%/76.59%\n",
            "Recall (Tr/Te): 78.94%/78.36%\n",
            "Precision (Tr/Te): 19.44%/19.29%\n",
            "F1 (Tr/Te): 31.20%/30.96%\n"
          ],
          "name": "stdout"
        }
      ]
    },
    {
      "cell_type": "code",
      "metadata": {
        "colab": {
          "base_uri": "https://localhost:8080/"
        },
        "id": "PFrsGhocOso4",
        "outputId": "9f65f965-ec93-44bf-fee6-670c15a4fb6b"
      },
      "source": [
        "from imblearn.pipeline import make_pipeline\r\n",
        "from imblearn.under_sampling import RandomUnderSampler\r\n",
        "from imblearn.over_sampling import RandomOverSampler, SMOTE\r\n",
        "from scipy.stats import randint\r\n",
        "from sklearn.decomposition import PCA\r\n",
        "from sklearn.metrics import make_scorer, f1_score\r\n",
        "from sklearn.ensemble import RandomForestClassifier\r\n",
        "from sklearn.compose import make_column_transformer\r\n",
        "from sklearn.model_selection import train_test_split, cross_validate, RandomizedSearchCV, GridSearchCV\r\n",
        "from sklearn.preprocessing import MinMaxScaler, StandardScaler, OrdinalEncoder, OneHotEncoder\r\n",
        "\r\n",
        "pipeline = make_pipeline(\r\n",
        "    make_column_transformer(\r\n",
        "        (make_pipeline(\r\n",
        "            MinMaxScaler(),\r\n",
        "        ), [\"RevolvingUtilizationOfUnsecuredLines\",\"DebtRatio\",\t\"MonthlyIncome\", \"MonthlyDebt\"]),\r\n",
        "    remainder=\"passthrough\"),\r\n",
        "    #SMOTE(),\r\n",
        "    RandomUnderSampler(),\r\n",
        "    RandomForestClassifier(random_state=11, n_jobs=-1)\r\n",
        ")\r\n",
        "pipeline = pipeline.fit(X_train, y_train)"
      ],
      "execution_count": 54,
      "outputs": [
        {
          "output_type": "stream",
          "text": [
            "/usr/local/lib/python3.7/dist-packages/sklearn/utils/deprecation.py:87: FutureWarning: Function safe_indexing is deprecated; safe_indexing is deprecated in version 0.22 and will be removed in version 0.24.\n",
            "  warnings.warn(msg, category=FutureWarning)\n"
          ],
          "name": "stderr"
        }
      ]
    },
    {
      "cell_type": "code",
      "metadata": {
        "id": "IiuM1w4aPykd"
      },
      "source": [
        "cv = cross_validate(pipeline, X_train, y_train, cv=10, scoring=[\"f1\"], n_jobs=-1, return_train_score=True)"
      ],
      "execution_count": 55,
      "outputs": []
    },
    {
      "cell_type": "code",
      "metadata": {
        "colab": {
          "base_uri": "https://localhost:8080/"
        },
        "id": "5KAkM04il2Eq",
        "outputId": "0f1716b1-ef7b-4101-f9d2-9697d812f51c"
      },
      "source": [
        "cv"
      ],
      "execution_count": 52,
      "outputs": [
        {
          "output_type": "execute_result",
          "data": {
            "text/plain": [
              "{'fit_time': array([60.15906215, 60.27445221, 60.69926548, 61.03900242, 60.09672689,\n",
              "        59.63180733, 60.0843184 , 59.57688308, 59.14772749, 60.27487779]),\n",
              " 'score_time': array([0.52210021, 0.52594352, 0.75297809, 0.63987827, 0.65588331,\n",
              "        0.64158249, 0.53595448, 0.65703011, 0.54584289, 0.63497543]),\n",
              " 'test_f1': array([0.36407767, 0.37037037, 0.38402458, 0.38219493, 0.34829721,\n",
              "        0.36935484, 0.35938759, 0.34511093, 0.33843674, 0.37821012]),\n",
              " 'train_f1': array([0.99009744, 0.98924221, 0.99041888, 0.99016965, 0.99026668,\n",
              "        0.99089542, 0.99280234, 0.98972819, 0.9911266 , 0.99017588])}"
            ]
          },
          "metadata": {
            "tags": []
          },
          "execution_count": 52
        }
      ]
    },
    {
      "cell_type": "code",
      "metadata": {
        "colab": {
          "base_uri": "https://localhost:8080/"
        },
        "id": "5oYddGOQoCrm",
        "outputId": "3d92d55d-a87f-4cb8-c77c-348091a199c5"
      },
      "source": [
        "#UnderSampler\r\n",
        "print(f\"F1 score on the training set: {cv['train_f1'].mean() * 100:.2f}%\")\r\n",
        "print(f\"F1 score on the test set: {cv['test_f1'].mean() * 100:.2f}%\")"
      ],
      "execution_count": 56,
      "outputs": [
        {
          "output_type": "stream",
          "text": [
            "F1 score on the training set: 41.97%\n",
            "F1 score on the test set: 32.32%\n"
          ],
          "name": "stdout"
        }
      ]
    },
    {
      "cell_type": "code",
      "metadata": {
        "colab": {
          "base_uri": "https://localhost:8080/"
        },
        "id": "Bg7RflKlnKbB",
        "outputId": "c663c6f8-d339-406f-e9eb-8c39ad82931b"
      },
      "source": [
        "#With over sampler (SMOTE) \r\n",
        "print(f\"F1 score on the training set: {cv['train_f1'].mean() * 100:.2f}%\")\r\n",
        "print(f\"F1 score on the test set: {cv['test_f1'].mean() * 100:.2f}%\")"
      ],
      "execution_count": 53,
      "outputs": [
        {
          "output_type": "stream",
          "text": [
            "F1 score on the training set: 99.05%\n",
            "F1 score on the test set: 36.39%\n"
          ],
          "name": "stdout"
        }
      ]
    },
    {
      "cell_type": "markdown",
      "metadata": {
        "id": "PBQ0nZgP4K9N"
      },
      "source": [
        "It is clear that that over sampler method induce overfitting of the model"
      ]
    },
    {
      "cell_type": "code",
      "metadata": {
        "colab": {
          "base_uri": "https://localhost:8080/",
          "height": 292
        },
        "id": "Sr26TWEbolt3",
        "outputId": "0f5c67ce-1a44-4f11-9c5f-16470b99e3d6"
      },
      "source": [
        "fig, ax = plt.subplots(1, 1)\r\n",
        "disp = plot_confusion_matrix(pipeline\r\n",
        "    , X, y,\r\n",
        "    normalize='true', \r\n",
        "    display_labels=['1', '0'], \r\n",
        "    values_format='.4f',\r\n",
        "    ax=ax)\r\n",
        "ax.set_title('Confusion matrix, normalized')\r\n",
        "ax.xaxis.tick_top()\r\n",
        "ax.xaxis.set_label_position('top')"
      ],
      "execution_count": 102,
      "outputs": [
        {
          "output_type": "display_data",
          "data": {
            "image/png": "[encoded data removed]",
            "text/plain": [
              "<Figure size 432x288 with 2 Axes>"
            ]
          },
          "metadata": {
            "tags": [],
            "needs_background": "light"
          }
        }
      ]
    },
    {
      "cell_type": "markdown",
      "metadata": {
        "id": "7SpP1xjDocsH"
      },
      "source": [
        "**Random forest Hyperparameter tuning**"
      ]
    },
    {
      "cell_type": "code",
      "metadata": {
        "id": "EER26HKcmYSs"
      },
      "source": [
        "distributions = {\r\n",
        "    # \"columntransformer__pipeline-2__pca__n_components\": randint(low=1, high=2),\r\n",
        "    \"randomforestclassifier__n_estimators\": randint(low=200, high=400),\r\n",
        "    \"randomforestclassifier__max_depth\": randint(low=75, high=125),\r\n",
        "    \"randomforestclassifier__max_features\": [\"auto\", \"sqrt\", \"log2\"]\r\n",
        "}"
      ],
      "execution_count": 103,
      "outputs": []
    },
    {
      "cell_type": "code",
      "metadata": {
        "colab": {
          "base_uri": "https://localhost:8080/"
        },
        "id": "pAE9L2dWmaR0",
        "outputId": "e9e11e19-d2d0-4548-c8dd-134332a07f08"
      },
      "source": [
        "model = RandomizedSearchCV(pipeline, distributions, n_iter=3, \r\n",
        "                           scoring=None, n_jobs=-1, random_state=11, cv=10, verbose=1,\r\n",
        "                           return_train_score=True, refit=True)\r\n",
        "model = model.fit(X_train, y_train)"
      ],
      "execution_count": 104,
      "outputs": [
        {
          "output_type": "stream",
          "text": [
            "Fitting 10 folds for each of 3 candidates, totalling 30 fits\n"
          ],
          "name": "stdout"
        },
        {
          "output_type": "stream",
          "text": [
            "[Parallel(n_jobs=-1)]: Using backend LokyBackend with 2 concurrent workers.\n",
            "[Parallel(n_jobs=-1)]: Done  30 out of  30 | elapsed:  3.9min finished\n",
            "/usr/local/lib/python3.7/dist-packages/sklearn/utils/deprecation.py:87: FutureWarning: Function safe_indexing is deprecated; safe_indexing is deprecated in version 0.22 and will be removed in version 0.24.\n",
            "  warnings.warn(msg, category=FutureWarning)\n"
          ],
          "name": "stderr"
        }
      ]
    },
    {
      "cell_type": "code",
      "metadata": {
        "colab": {
          "base_uri": "https://localhost:8080/"
        },
        "id": "JRGUt6uq36Ae",
        "outputId": "d8fa4d16-479a-412f-9b6c-7afcd0e90f65"
      },
      "source": [
        "print(f\"F1 score on the training set: {model.cv_results_['mean_train_score'][model.best_index_] * 100:.2f}%\")\r\n",
        "print(f\"F1 score on the test set: {model.cv_results_['mean_test_score'][model.best_index_] * 100:.2f}%\")"
      ],
      "execution_count": 105,
      "outputs": [
        {
          "output_type": "stream",
          "text": [
            "F1 score on the training set: 81.51%\n",
            "F1 score on the test set: 78.57%\n"
          ],
          "name": "stdout"
        }
      ]
    },
    {
      "cell_type": "code",
      "metadata": {
        "id": "RYEep_4141-J"
      },
      "source": [
        "model.best_params_"
      ],
      "execution_count": null,
      "outputs": []
    },
    {
      "cell_type": "code",
      "metadata": {
        "colab": {
          "base_uri": "https://localhost:8080/"
        },
        "id": "RSsMaLqq3F0B",
        "outputId": "20a1f8b9-2f22-480b-a1a0-3e940ec334f9"
      },
      "source": [
        "model.cv_results_"
      ],
      "execution_count": 106,
      "outputs": [
        {
          "output_type": "execute_result",
          "data": {
            "text/plain": [
              "{'mean_fit_time': array([8.95338647, 8.39384618, 6.81954603]),\n",
              " 'mean_score_time': array([0.96311924, 0.98429961, 0.81137481]),\n",
              " 'mean_test_score': array([0.78303262, 0.78566169, 0.78437102]),\n",
              " 'mean_train_score': array([0.81313967, 0.81509631, 0.81489874]),\n",
              " 'param_randomforestclassifier__max_depth': masked_array(data=[100, 92, 108],\n",
              "              mask=[False, False, False],\n",
              "        fill_value='?',\n",
              "             dtype=object),\n",
              " 'param_randomforestclassifier__max_features': masked_array(data=['auto', 'sqrt', 'log2'],\n",
              "              mask=[False, False, False],\n",
              "        fill_value='?',\n",
              "             dtype=object),\n",
              " 'param_randomforestclassifier__n_estimators': masked_array(data=[291, 276, 224],\n",
              "              mask=[False, False, False],\n",
              "        fill_value='?',\n",
              "             dtype=object),\n",
              " 'params': [{'randomforestclassifier__max_depth': 100,\n",
              "   'randomforestclassifier__max_features': 'auto',\n",
              "   'randomforestclassifier__n_estimators': 291},\n",
              "  {'randomforestclassifier__max_depth': 92,\n",
              "   'randomforestclassifier__max_features': 'sqrt',\n",
              "   'randomforestclassifier__n_estimators': 276},\n",
              "  {'randomforestclassifier__max_depth': 108,\n",
              "   'randomforestclassifier__max_features': 'log2',\n",
              "   'randomforestclassifier__n_estimators': 224}],\n",
              " 'rank_test_score': array([3, 1, 2], dtype=int32),\n",
              " 'split0_test_score': array([0.7876876 , 0.78701845, 0.79132014]),\n",
              " 'split0_train_score': array([0.81765456, 0.81617803, 0.82168048]),\n",
              " 'split1_test_score': array([0.783174  , 0.78900574, 0.7793499 ]),\n",
              " 'split1_train_score': array([0.81702977, 0.81835757, 0.81182482]),\n",
              " 'split2_test_score': array([0.77973231, 0.77734226, 0.78260038]),\n",
              " 'split2_train_score': array([0.81060324, 0.80648177, 0.8133863 ]),\n",
              " 'split3_test_score': array([0.78193117, 0.77963671, 0.78279159]),\n",
              " 'split3_train_score': array([0.8167111 , 0.81692355, 0.81928172]),\n",
              " 'split4_test_score': array([0.78097514, 0.78451243, 0.78413002]),\n",
              " 'split4_train_score': array([0.81320572, 0.81705102, 0.81557451]),\n",
              " 'split5_test_score': array([0.7834608 , 0.78546845, 0.77753346]),\n",
              " 'split5_train_score': array([0.8163287 , 0.81629683, 0.81434232]),\n",
              " 'split6_test_score': array([0.78393881, 0.7916826 , 0.78652008]),\n",
              " 'split6_train_score': array([0.8107732 , 0.81484157, 0.81139992]),\n",
              " 'split7_test_score': array([0.78594646, 0.79120459, 0.78795411]),\n",
              " 'split7_train_score': array([0.8098703 , 0.81457601, 0.81199477]),\n",
              " 'split8_test_score': array([0.78785851, 0.78288719, 0.78508604]),\n",
              " 'split8_train_score': array([0.81484157, 0.81203726, 0.81357751]),\n",
              " 'split9_test_score': array([0.77562141, 0.78785851, 0.78642447]),\n",
              " 'split9_train_score': array([0.80437854, 0.81821948, 0.81592505]),\n",
              " 'std_fit_time': array([0.15164576, 0.12928065, 0.1367132 ]),\n",
              " 'std_score_time': array([0.08221612, 0.05403481, 0.07419303]),\n",
              " 'std_test_score': array([0.00354595, 0.00446535, 0.00384873]),\n",
              " 'std_train_score': array([0.00401027, 0.00337735, 0.00318086])}"
            ]
          },
          "metadata": {
            "tags": []
          },
          "execution_count": 106
        }
      ]
    },
    {
      "cell_type": "code",
      "metadata": {
        "colab": {
          "base_uri": "https://localhost:8080/"
        },
        "id": "GaL-nLF33XGn",
        "outputId": "b23ed928-a7a6-4c4e-942b-7df2a88c4f3a"
      },
      "source": [
        "model.best_index_"
      ],
      "execution_count": 107,
      "outputs": [
        {
          "output_type": "execute_result",
          "data": {
            "text/plain": [
              "1"
            ]
          },
          "metadata": {
            "tags": []
          },
          "execution_count": 107
        }
      ]
    },
    {
      "cell_type": "code",
      "metadata": {
        "id": "e77h8BkE5d-q"
      },
      "source": [
        "y_pred =model.predict(X_test)"
      ],
      "execution_count": 108,
      "outputs": []
    },
    {
      "cell_type": "code",
      "metadata": {
        "colab": {
          "base_uri": "https://localhost:8080/"
        },
        "id": "K3Aec8EI5n2B",
        "outputId": "c5430bac-26d7-489f-e607-3a6a3cb2d639"
      },
      "source": [
        "y_pred"
      ],
      "execution_count": 109,
      "outputs": [
        {
          "output_type": "execute_result",
          "data": {
            "text/plain": [
              "array([0, 0, 0, ..., 0, 1, 0])"
            ]
          },
          "metadata": {
            "tags": []
          },
          "execution_count": 109
        }
      ]
    },
    {
      "cell_type": "code",
      "metadata": {
        "colab": {
          "base_uri": "https://localhost:8080/",
          "height": 34
        },
        "id": "wYYIrh7A5uTX",
        "outputId": "ce18a8d6-4a6b-4f88-b0ce-afb3c9efba5d"
      },
      "source": [
        "f\"F1 score on final test set: {f1_score(y_test, y_pred) *100:.2f}%\""
      ],
      "execution_count": 110,
      "outputs": [
        {
          "output_type": "execute_result",
          "data": {
            "application/vnd.google.colaboratory.intrinsic+json": {
              "type": "string"
            },
            "text/plain": [
              "'F1 score on final test set: 32.90%'"
            ]
          },
          "metadata": {
            "tags": []
          },
          "execution_count": 110
        }
      ]
    },
    {
      "cell_type": "code",
      "metadata": {
        "colab": {
          "base_uri": "https://localhost:8080/",
          "height": 292
        },
        "id": "H8GmnIuEANZb",
        "outputId": "9bc8708e-74aa-476c-bc84-baca6c34ad37"
      },
      "source": [
        "fig, ax = plt.subplots(1, 1)\r\n",
        "disp = plot_confusion_matrix(\r\n",
        "    model, X_test, y_test,\r\n",
        "    normalize='true', \r\n",
        "    display_labels=['1', '0'], \r\n",
        "    values_format='.4f', \r\n",
        "    ax=ax)\r\n",
        "ax.set_title('Confusion matrix, normalized')\r\n",
        "ax.xaxis.tick_top()\r\n",
        "ax.xaxis.set_label_position('top')"
      ],
      "execution_count": 111,
      "outputs": [
        {
          "output_type": "display_data",
          "data": {
            "image/png": "[encoded data removed]",
            "text/plain": [
              "<Figure size 432x288 with 2 Axes>"
            ]
          },
          "metadata": {
            "tags": [],
            "needs_background": "light"
          }
        }
      ]
    },
    {
      "cell_type": "code",
      "metadata": {
        "colab": {
          "base_uri": "https://localhost:8080/",
          "height": 292
        },
        "id": "I8GkjS-a9iow",
        "outputId": "a65e8baf-8680-4fa1-c9ba-9bd9272d6d19"
      },
      "source": [
        "fig, ax = plt.subplots(1, 1)\r\n",
        "disp = plot_confusion_matrix(\r\n",
        "    model, X_train, y_train,\r\n",
        "    normalize='true', \r\n",
        "    display_labels=['1', '0'], \r\n",
        "    values_format='.4f', \r\n",
        "    ax=ax)\r\n",
        "ax.set_title('Confusion matrix, normalized')\r\n",
        "ax.xaxis.tick_top()\r\n",
        "ax.xaxis.set_label_position('top')"
      ],
      "execution_count": 112,
      "outputs": [
        {
          "output_type": "display_data",
          "data": {
            "image/png": "[encoded data removed]",
            "text/plain": [
              "<Figure size 432x288 with 2 Axes>"
            ]
          },
          "metadata": {
            "tags": [],
            "needs_background": "light"
          }
        }
      ]
    },
    {
      "cell_type": "code",
      "metadata": {
        "id": "cV_IF54GzziN"
      },
      "source": [
        "model_probs = model.predict_proba(df)\r\n",
        "modelDF = pd.DataFrame({'ID': CustomerID, 'Probability': model_probs[:,1]})\r\n",
        "modelDF.to_csv('Predicted.csv', index=False)"
      ],
      "execution_count": 113,
      "outputs": []
    },
    {
      "cell_type": "code",
      "metadata": {
        "colab": {
          "base_uri": "https://localhost:8080/",
          "height": 392
        },
        "id": "RYKNN2K8_qmj",
        "outputId": "466b2413-495e-4fd7-f01f-e6cacd87460a"
      },
      "source": [
        "modelDF"
      ],
      "execution_count": 114,
      "outputs": [
        {
          "output_type": "execute_result",
          "data": {
            "text/html": [
              "<div>\n",
              "<style scoped>\n",
              "    .dataframe tbody tr th:only-of-type {\n",
              "        vertical-align: middle;\n",
              "    }\n",
              "\n",
              "    .dataframe tbody tr th {\n",
              "        vertical-align: top;\n",
              "    }\n",
              "\n",
              "    .dataframe thead th {\n",
              "        text-align: right;\n",
              "    }\n",
              "</style>\n",
              "<table border=\"1\" class=\"dataframe\">\n",
              "  <thead>\n",
              "    <tr style=\"text-align: right;\">\n",
              "      <th></th>\n",
              "      <th>ID</th>\n",
              "      <th>Probability</th>\n",
              "    </tr>\n",
              "  </thead>\n",
              "  <tbody>\n",
              "    <tr>\n",
              "      <th>0</th>\n",
              "      <td>1</td>\n",
              "      <td>0.681159</td>\n",
              "    </tr>\n",
              "    <tr>\n",
              "      <th>1</th>\n",
              "      <td>2</td>\n",
              "      <td>0.621551</td>\n",
              "    </tr>\n",
              "    <tr>\n",
              "      <th>2</th>\n",
              "      <td>3</td>\n",
              "      <td>0.839904</td>\n",
              "    </tr>\n",
              "    <tr>\n",
              "      <th>3</th>\n",
              "      <td>4</td>\n",
              "      <td>0.163705</td>\n",
              "    </tr>\n",
              "    <tr>\n",
              "      <th>4</th>\n",
              "      <td>5</td>\n",
              "      <td>0.702899</td>\n",
              "    </tr>\n",
              "    <tr>\n",
              "      <th>...</th>\n",
              "      <td>...</td>\n",
              "      <td>...</td>\n",
              "    </tr>\n",
              "    <tr>\n",
              "      <th>149995</th>\n",
              "      <td>149996</td>\n",
              "      <td>0.029940</td>\n",
              "    </tr>\n",
              "    <tr>\n",
              "      <th>149996</th>\n",
              "      <td>149997</td>\n",
              "      <td>0.120496</td>\n",
              "    </tr>\n",
              "    <tr>\n",
              "      <th>149997</th>\n",
              "      <td>149998</td>\n",
              "      <td>0.170290</td>\n",
              "    </tr>\n",
              "    <tr>\n",
              "      <th>149998</th>\n",
              "      <td>149999</td>\n",
              "      <td>0.118833</td>\n",
              "    </tr>\n",
              "    <tr>\n",
              "      <th>149999</th>\n",
              "      <td>150000</td>\n",
              "      <td>0.337811</td>\n",
              "    </tr>\n",
              "  </tbody>\n",
              "</table>\n",
              "<p>149430 rows × 2 columns</p>\n",
              "</div>"
            ],
            "text/plain": [
              "            ID  Probability\n",
              "0            1     0.681159\n",
              "1            2     0.621551\n",
              "2            3     0.839904\n",
              "3            4     0.163705\n",
              "4            5     0.702899\n",
              "...        ...          ...\n",
              "149995  149996     0.029940\n",
              "149996  149997     0.120496\n",
              "149997  149998     0.170290\n",
              "149998  149999     0.118833\n",
              "149999  150000     0.337811\n",
              "\n",
              "[149430 rows x 2 columns]"
            ]
          },
          "metadata": {
            "tags": []
          },
          "execution_count": 114
        }
      ]
    },
    {
      "cell_type": "code",
      "metadata": {
        "colab": {
          "base_uri": "https://localhost:8080/"
        },
        "id": "O_zltacnAdJy",
        "outputId": "433e64d9-af7a-4edd-8a2f-c5c3b17709cf"
      },
      "source": [
        "modelDF.to_csv ('modelDF.csv', index = False, header=True)\r\n",
        "\r\n",
        "print (modelDF)"
      ],
      "execution_count": 119,
      "outputs": [
        {
          "output_type": "stream",
          "text": [
            "            ID  Probability\n",
            "0            1     0.681159\n",
            "1            2     0.621551\n",
            "2            3     0.839904\n",
            "3            4     0.163705\n",
            "4            5     0.702899\n",
            "...        ...          ...\n",
            "149995  149996     0.029940\n",
            "149996  149997     0.120496\n",
            "149997  149998     0.170290\n",
            "149998  149999     0.118833\n",
            "149999  150000     0.337811\n",
            "\n",
            "[149430 rows x 2 columns]\n"
          ],
          "name": "stdout"
        }
      ]
    }
  ]
}